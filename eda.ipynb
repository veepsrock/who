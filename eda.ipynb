{
 "cells": [
  {
   "cell_type": "code",
   "execution_count": 0,
   "metadata": {
    "application/vnd.databricks.v1+cell": {
     "cellMetadata": {},
     "inputWidgets": {},
     "nuid": "228a9f15-277e-4154-bf83-30fe46589602",
     "showTitle": false,
     "title": ""
    }
   },
   "outputs": [],
   "source": [
    "import pandas as pd"
   ]
  },
  {
   "cell_type": "code",
   "execution_count": 0,
   "metadata": {
    "application/vnd.databricks.v1+cell": {
     "cellMetadata": {},
     "inputWidgets": {},
     "nuid": "556b0b60-24af-45ae-9d13-170fcc0cdd2d",
     "showTitle": false,
     "title": ""
    }
   },
   "outputs": [],
   "source": [
    "evidence = pd.read_csv(\"evidence.csv\")\n",
    "evidence.columns  = evidence.columns.str.replace('[#,@,&]', '')\n",
    "issues = pd.read_csv(\"issues.csv\")\n",
    "issues.columns  = issues.columns.str.replace('[#,@,&]', '')\n",
    "issues.rename(columns = {\"id\": \"issueIds\", \"nameTranslated.en\": \"issueName\"}, inplace = True)\n",
    "themes = pd.read_csv(\"themes.csv\")\n",
    "themes.columns  = themes.columns.str.replace('[#,@,&]', '')\n",
    "themes.rename(columns = {\"id\": \"themeIds\", \"nameTranslated.en\": \"themeName\"}, inplace = True)"
   ]
  },
  {
   "cell_type": "code",
   "execution_count": 0,
   "metadata": {
    "application/vnd.databricks.v1+cell": {
     "cellMetadata": {},
     "inputWidgets": {},
     "nuid": "dc7ed8f5-5443-46dc-a684-f6c7ffe21e74",
     "showTitle": false,
     "title": ""
    }
   },
   "outputs": [],
   "source": [
    "issues.head()"
   ]
  },
  {
   "cell_type": "code",
   "execution_count": 0,
   "metadata": {
    "application/vnd.databricks.v1+cell": {
     "cellMetadata": {},
     "inputWidgets": {},
     "nuid": "e502cbda-9d61-48b4-81a1-bc92f23e7ade",
     "showTitle": false,
     "title": ""
    }
   },
   "outputs": [],
   "source": [
    "evidence.head()"
   ]
  },
  {
   "cell_type": "code",
   "execution_count": 0,
   "metadata": {
    "application/vnd.databricks.v1+cell": {
     "cellMetadata": {},
     "inputWidgets": {},
     "nuid": "c33d95e7-f1b8-4900-ab50-f05f0258a18b",
     "showTitle": false,
     "title": ""
    }
   },
   "outputs": [],
   "source": [
    "pd = evidence.merge(issues[['issueName', 'issueIds']], how = \"left\", on = ['issueIds'])"
   ]
  },
  {
   "cell_type": "code",
   "execution_count": 0,
   "metadata": {
    "application/vnd.databricks.v1+cell": {
     "cellMetadata": {},
     "inputWidgets": {},
     "nuid": "c2975c08-b01f-4b6d-a3d0-fa3ef1d28206",
     "showTitle": false,
     "title": ""
    }
   },
   "outputs": [],
   "source": [
    "pd = pd.merge(themes[['themeName', 'themeIds']], how = \"left\", on = ['themeIds'])"
   ]
  },
  {
   "cell_type": "code",
   "execution_count": 0,
   "metadata": {
    "application/vnd.databricks.v1+cell": {
     "cellMetadata": {},
     "inputWidgets": {},
     "nuid": "03cc9cea-d9e7-4b6d-9b40-7a5171008090",
     "showTitle": false,
     "title": ""
    }
   },
   "outputs": [],
   "source": [
    "pd.head()"
   ]
  },
  {
   "cell_type": "code",
   "execution_count": 0,
   "metadata": {
    "application/vnd.databricks.v1+cell": {
     "cellMetadata": {},
     "inputWidgets": {},
     "nuid": "21886656-e8af-46da-9f58-dc5c34295db5",
     "showTitle": false,
     "title": ""
    }
   },
   "outputs": [],
   "source": []
  }
 ],
 "metadata": {
  "application/vnd.databricks.v1+notebook": {
   "dashboards": [],
   "language": "python",
   "notebookMetadata": {
    "pythonIndentUnit": 4
   },
   "notebookName": "eda",
   "widgets": {}
  },
  "kernelspec": {
   "display_name": "Python 3",
   "language": "python",
   "name": "python3"
  },
  "language_info": {
   "codemirror_mode": {
    "name": "ipython",
    "version": 3
   },
   "file_extension": ".py",
   "mimetype": "text/x-python",
   "name": "python",
   "nbconvert_exporter": "python",
   "pygments_lexer": "ipython3",
   "version": "3.8.8"
  }
 },
 "nbformat": 4,
 "nbformat_minor": 0
}
