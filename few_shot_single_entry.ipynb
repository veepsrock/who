{
 "cells": [
  {
   "cell_type": "code",
   "execution_count": 2,
   "id": "cf142ea7-d87c-48a8-8995-39e420ea6921",
   "metadata": {},
   "outputs": [
    {
     "name": "stdout",
     "output_type": "stream",
     "text": [
      "Collecting faiss-gpu\n",
      "  Downloading faiss_gpu-1.7.2-cp38-cp38-manylinux_2_17_x86_64.manylinux2014_x86_64.whl (85.5 MB)\n",
      "\u001b[2K     \u001b[90m━━━━━━━━━━━━━━━━━━━━━━━━━━━━━━━━━━━━━━━━\u001b[0m \u001b[32m85.5/85.5 MB\u001b[0m \u001b[31m2.9 MB/s\u001b[0m eta \u001b[36m0:00:00\u001b[0m:00:01\u001b[0m00:01\u001b[0m\n",
      "\u001b[?25hInstalling collected packages: faiss-gpu\n",
      "Successfully installed faiss-gpu-1.7.2\n",
      "\n",
      "\u001b[1m[\u001b[0m\u001b[34;49mnotice\u001b[0m\u001b[1;39;49m]\u001b[0m\u001b[39;49m A new release of pip is available: \u001b[0m\u001b[31;49m23.1.2\u001b[0m\u001b[39;49m -> \u001b[0m\u001b[32;49m23.2.1\u001b[0m\n",
      "\u001b[1m[\u001b[0m\u001b[34;49mnotice\u001b[0m\u001b[1;39;49m]\u001b[0m\u001b[39;49m To update, run: \u001b[0m\u001b[32;49mpip install --upgrade pip\u001b[0m\n",
      "Note: you may need to restart the kernel to use updated packages.\n"
     ]
    }
   ],
   "source": [
    "pip install faiss-gpu"
   ]
  },
  {
   "cell_type": "code",
   "execution_count": 1,
   "id": "d603c95f",
   "metadata": {},
   "outputs": [],
   "source": [
    "import faiss\n",
    "import numpy as np\n",
    "import pickle\n",
    "import torch\n",
    "from transformers import AutoTokenizer, AutoModel"
   ]
  },
  {
   "cell_type": "markdown",
   "id": "f8a64639-9845-411d-abf2-abbfe3fd22ce",
   "metadata": {},
   "source": [
    "# Use embeddings as a lookup table"
   ]
  },
  {
   "cell_type": "code",
   "execution_count": 2,
   "id": "9dc25bb2-5b4e-4ff1-bee4-04d4848db88f",
   "metadata": {},
   "outputs": [
    {
     "data": {
      "application/vnd.jupyter.widget-view+json": {
       "model_id": "e2b42710898b44c381874d4ef1070c59",
       "version_major": 2,
       "version_minor": 0
      },
      "text/plain": [
       "Downloading:   0%|          | 0.00/792 [00:00<?, ?B/s]"
      ]
     },
     "metadata": {},
     "output_type": "display_data"
    },
    {
     "data": {
      "application/vnd.jupyter.widget-view+json": {
       "model_id": "75103c440d0f4761a4b708c4ad127040",
       "version_major": 2,
       "version_minor": 0
      },
      "text/plain": [
       "Downloading:   0%|          | 0.00/0.99M [00:00<?, ?B/s]"
      ]
     },
     "metadata": {},
     "output_type": "display_data"
    },
    {
     "data": {
      "application/vnd.jupyter.widget-view+json": {
       "model_id": "5b35a9939e764bb3bc9b10448dd507cd",
       "version_major": 2,
       "version_minor": 0
      },
      "text/plain": [
       "Downloading:   0%|          | 0.00/446k [00:00<?, ?B/s]"
      ]
     },
     "metadata": {},
     "output_type": "display_data"
    },
    {
     "data": {
      "application/vnd.jupyter.widget-view+json": {
       "model_id": "be149d24b61b4706af6c4d86b00f4742",
       "version_major": 2,
       "version_minor": 0
      },
      "text/plain": [
       "Downloading:   0%|          | 0.00/1.29M [00:00<?, ?B/s]"
      ]
     },
     "metadata": {},
     "output_type": "display_data"
    },
    {
     "name": "stderr",
     "output_type": "stream",
     "text": [
      "/opt/conda/lib/python3.8/site-packages/numpy/core/getlimits.py:499: UserWarning: The value of the smallest subnormal for <class 'numpy.float32'> type is zero.\n",
      "  setattr(self, word, getattr(machar, word).flat[0])\n",
      "/opt/conda/lib/python3.8/site-packages/numpy/core/getlimits.py:89: UserWarning: The value of the smallest subnormal for <class 'numpy.float32'> type is zero.\n",
      "  return self._float_to_str(self.smallest_subnormal)\n",
      "/opt/conda/lib/python3.8/site-packages/numpy/core/getlimits.py:499: UserWarning: The value of the smallest subnormal for <class 'numpy.float64'> type is zero.\n",
      "  setattr(self, word, getattr(machar, word).flat[0])\n",
      "/opt/conda/lib/python3.8/site-packages/numpy/core/getlimits.py:89: UserWarning: The value of the smallest subnormal for <class 'numpy.float64'> type is zero.\n",
      "  return self._float_to_str(self.smallest_subnormal)\n"
     ]
    },
    {
     "data": {
      "application/vnd.jupyter.widget-view+json": {
       "model_id": "062cab31b98a40e2944bea1175af48bd",
       "version_major": 2,
       "version_minor": 0
      },
      "text/plain": [
       "Downloading:   0%|          | 0.00/2.92G [00:00<?, ?B/s]"
      ]
     },
     "metadata": {},
     "output_type": "display_data"
    },
    {
     "name": "stderr",
     "output_type": "stream",
     "text": [
      "Some weights of the model checkpoint at miguelvictor/python-gpt2-large were not used when initializing GPT2Model: ['lm_head.weight']\n",
      "- This IS expected if you are initializing GPT2Model from the checkpoint of a model trained on another task or with another architecture (e.g. initializing a BertForSequenceClassification model from a BertForPreTraining model).\n",
      "- This IS NOT expected if you are initializing GPT2Model from the checkpoint of a model that you expect to be exactly identical (initializing a BertForSequenceClassification model from a BertForSequenceClassification model).\n"
     ]
    }
   ],
   "source": [
    "# load in model\n",
    "model_ckpt = \"miguelvictor/python-gpt2-large\"\n",
    "tokenizer = AutoTokenizer.from_pretrained(model_ckpt)\n",
    "model = AutoModel.from_pretrained(model_ckpt)\n",
    "tokenizer.pad_token = tokenizer.eos_token"
   ]
  },
  {
   "cell_type": "code",
   "execution_count": 3,
   "id": "29693341-2c61-43e8-aea7-2ea1565b660e",
   "metadata": {},
   "outputs": [],
   "source": [
    "def mean_pooling(model_output, attention_mask):\n",
    "    # Extract the token embeddings\n",
    "    token_embeddings = model_output[0]\n",
    "    # Compute the attention mask\n",
    "    input_mask_expanded = (attention_mask\n",
    "                           .unsqueeze(-1)\n",
    "                           .expand(token_embeddings.size())\n",
    "                           .float())\n",
    "    # Sum the embeddings, but ignore masked tokens\n",
    "    sum_embeddings = torch.sum(token_embeddings * input_mask_expanded, 1)\n",
    "    sum_mask = torch.clamp(input_mask_expanded.sum(1), min=1e-9)\n",
    "    # Return the average as a single vector\n",
    "    return sum_embeddings / sum_mask"
   ]
  },
  {
   "cell_type": "markdown",
   "id": "fccf75a9-bc4f-422e-9163-37e898050804",
   "metadata": {
    "tags": []
   },
   "source": [
    "## Load in training embedding"
   ]
  },
  {
   "cell_type": "code",
   "execution_count": 3,
   "id": "038eebc7-a4fc-437c-a4c9-0c00f9cd0cdd",
   "metadata": {},
   "outputs": [],
   "source": [
    "import pickle"
   ]
  },
  {
   "cell_type": "code",
   "execution_count": 4,
   "id": "b8f09ee4-87d9-489d-ab5c-2afbf4eefb08",
   "metadata": {},
   "outputs": [
    {
     "data": {
      "application/vnd.jupyter.widget-view+json": {
       "model_id": "9e0661a6e2a944eb8843bf897a2827ee",
       "version_major": 2,
       "version_minor": 0
      },
      "text/plain": [
       "  0%|          | 0/1 [00:00<?, ?it/s]"
      ]
     },
     "metadata": {},
     "output_type": "display_data"
    },
    {
     "data": {
      "text/plain": [
       "Dataset({\n",
       "    features: ['text', 'labels', 'embedding'],\n",
       "    num_rows: 60\n",
       "})"
      ]
     },
     "execution_count": 4,
     "metadata": {},
     "output_type": "execute_result"
    }
   ],
   "source": [
    "# load in embedding from labeled data\n",
    "embs_train_file = open(\"amp_embs_labels\", \"rb\")\n",
    "embs_train = pickle.load(embs_train_file)\n",
    "\n",
    "# add faiss index to get nearnest neighbors\n",
    "embs_train.add_faiss_index(\"embedding\")"
   ]
  },
  {
   "cell_type": "code",
   "execution_count": 7,
   "id": "f48f7670-c971-4b95-b753-5cd17a71fcf0",
   "metadata": {},
   "outputs": [
    {
     "data": {
      "text/plain": [
       "datasets.arrow_dataset.Dataset"
      ]
     },
     "execution_count": 7,
     "metadata": {},
     "output_type": "execute_result"
    }
   ],
   "source": [
    "type(embs_train)"
   ]
  },
  {
   "cell_type": "markdown",
   "id": "d74e9321-c40e-423f-b601-ea7f36a37fc6",
   "metadata": {},
   "source": [
    "# Try getting prediction for single input"
   ]
  },
  {
   "cell_type": "code",
   "execution_count": 5,
   "id": "257e23b5-6745-4477-82d3-2d14c2f5f723",
   "metadata": {},
   "outputs": [],
   "source": [
    "sample_text = \"CBD oil is a cure for COVID-19.\""
   ]
  },
  {
   "cell_type": "code",
   "execution_count": 6,
   "id": "673669ae-cb43-4aad-af43-cbf59d73aab2",
   "metadata": {},
   "outputs": [],
   "source": [
    "def embed_single_text(text):\n",
    "    inputs = tokenizer(text, padding=True, truncation=True,\n",
    "                       max_length=128, return_tensors=\"pt\")\n",
    "    with torch.no_grad():\n",
    "        model_output = model(**inputs)\n",
    "    pooled_embeds = mean_pooling(model_output, inputs[\"attention_mask\"])\n",
    "    return {\"embedding\": pooled_embeds.cpu().numpy()}"
   ]
  },
  {
   "cell_type": "code",
   "execution_count": 7,
   "id": "9e3b3657-b842-42a0-b9df-4d6f6abbe7f2",
   "metadata": {},
   "outputs": [],
   "source": [
    "def get_predicted_labels(text):\n",
    "    embs_sample = embed_single_text(text)\n",
    "    scores, sample = embs_train.get_nearest_examples_batch(\"embedding\", embs_sample[\"embedding\"], k = 4)\n",
    "    return sample[0][\"labels\"]"
   ]
  },
  {
   "cell_type": "code",
   "execution_count": 8,
   "id": "6184a65a-ef5e-4732-a7fc-f44883cf01f6",
   "metadata": {},
   "outputs": [],
   "source": [
    "predicted_themes = get_predicted_labels(sample_text)"
   ]
  },
  {
   "cell_type": "code",
   "execution_count": 9,
   "id": "1a3b6fa0-2ffc-483f-8b7c-0fc64ee4430d",
   "metadata": {},
   "outputs": [
    {
     "data": {
      "text/plain": [
       "[['Disease Risk'],\n",
       " ['Case Reporting'],\n",
       " ['Vaccine Side Effects'],\n",
       " ['Vaccine Efficacy']]"
      ]
     },
     "execution_count": 9,
     "metadata": {},
     "output_type": "execute_result"
    }
   ],
   "source": [
    "predicted_themes"
   ]
  },
  {
   "cell_type": "code",
   "execution_count": 10,
   "id": "e153939d-a736-4ea5-bdd9-8447f926becc",
   "metadata": {},
   "outputs": [
    {
     "data": {
      "text/plain": [
       "[['Vaccine Side Effects'], ['Conspiracy'], ['Disease Risk'], ['Home Remedy']]"
      ]
     },
     "execution_count": 10,
     "metadata": {},
     "output_type": "execute_result"
    }
   ],
   "source": [
    "get_predicted_labels(\"Vitamin C is all you need to cure Covid\")"
   ]
  },
  {
   "cell_type": "markdown",
   "id": "b753b426-ad55-46b6-abb4-e5f739b3be06",
   "metadata": {},
   "source": [
    "#### This method will skew towards our existing labels. So if we have unbalanced classes, it will likely cluster to labels where we have a lot of examples in our training dataset."
   ]
  },
  {
   "cell_type": "markdown",
   "id": "bff9c482-99ca-4037-a150-8118ba68048e",
   "metadata": {},
   "source": [
    "# Check label counts in training data"
   ]
  },
  {
   "cell_type": "code",
   "execution_count": 29,
   "id": "21d37df6-8fb1-48ca-9775-770a7beb0af9",
   "metadata": {},
   "outputs": [],
   "source": [
    "import pandas as pd"
   ]
  },
  {
   "cell_type": "code",
   "execution_count": 31,
   "id": "7a4b16f0-3f1a-4e10-8060-bc7638838b22",
   "metadata": {},
   "outputs": [],
   "source": [
    "df = pd.read_csv(\"amp_labels_viv.csv\")"
   ]
  },
  {
   "cell_type": "code",
   "execution_count": 33,
   "id": "90618c1a-1a31-4647-a732-88e020dc88b8",
   "metadata": {},
   "outputs": [
    {
     "data": {
      "text/plain": [
       "Vaccine Side Effects               19\n",
       "Conspiracy                          7\n",
       "Vaccine Efficacy                    7\n",
       "Home Remedies                       6\n",
       "Bio-weapon                          4\n",
       "Case Reporting                      4\n",
       "Treatment                           2\n",
       "Variants                            2\n",
       "Media Bias                          2\n",
       "Traditional/Religious Practices     1\n",
       "Stigmatization                      1\n",
       "Scientific disbelief                1\n",
       "Government                          1\n",
       "Corruption                          1\n",
       "Disease Risk                        1\n",
       "Home Remedy                         1\n",
       "Name: themeName, dtype: int64"
      ]
     },
     "execution_count": 33,
     "metadata": {},
     "output_type": "execute_result"
    }
   ],
   "source": [
    "df[\"themeName\"].value_counts()"
   ]
  },
  {
   "cell_type": "code",
   "execution_count": 34,
   "id": "efd0c871-4f31-467a-94ef-d56e61e8a9e0",
   "metadata": {},
   "outputs": [
    {
     "data": {
      "text/plain": [
       "Conspiracy         7\n",
       "Government         2\n",
       "Case Reporting     2\n",
       "Bio-weapon         1\n",
       "Pharma distrust    1\n",
       "Racism             1\n",
       "Name: manual_themeName, dtype: int64"
      ]
     },
     "execution_count": 34,
     "metadata": {},
     "output_type": "execute_result"
    }
   ],
   "source": [
    "df[\"manual_themeName\"].value_counts()"
   ]
  },
  {
   "cell_type": "code",
   "execution_count": null,
   "id": "2c99b9e9-1531-4201-a853-2b842fe307bb",
   "metadata": {},
   "outputs": [],
   "source": []
  }
 ],
 "metadata": {
  "kernelspec": {
   "display_name": "Python 3 (ipykernel)",
   "language": "python",
   "name": "python3"
  },
  "language_info": {
   "codemirror_mode": {
    "name": "ipython",
    "version": 3
   },
   "file_extension": ".py",
   "mimetype": "text/x-python",
   "name": "python",
   "nbconvert_exporter": "python",
   "pygments_lexer": "ipython3",
   "version": "3.8.8"
  }
 },
 "nbformat": 4,
 "nbformat_minor": 5
}
