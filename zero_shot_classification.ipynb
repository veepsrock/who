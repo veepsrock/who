{
 "cells": [
  {
   "cell_type": "markdown",
   "metadata": {
    "application/vnd.databricks.v1+cell": {
     "cellMetadata": {},
     "inputWidgets": {},
     "nuid": "bf0e5a90-7b4f-4e85-a1e1-bc65f79412c8",
     "showTitle": false,
     "title": ""
    }
   },
   "source": [
    "# Zero shot classification\n",
    "\n",
    "## [DeBerta-v3-base-mnli-fever-anli](https://huggingface.co/MoritzLaurer/DeBERTa-v3-base-mnli-fever-anli?candidateLabels=covid-19%2C+vaccine+efficacy%2C+vaccine+side+effects%2C+measles%2C+cholera%2C+home+remedies%2C+conspiracy&multiClass=true&text=actor+jamie+foxx+reportedly+par+lyzed+and+bl+nd+due+to+covid+19+vaccine+american+actor+jamie+foxx+has+reportedly+s+ffered+partial+par+lysis+following+a+covid+19+vaccine+complication+the+vaccine+according+to+hollywood+journalist+a+j+benza+resulted+in+a+bl+d+clot+in+his+brain+that+led+to+him+being+partially+par+lyzed+and+bl+nd+in+addition+to+a+series+of+other+complications+benza+claims+the+news+was+confirmed+by+a+source+close+to+foxx+jamie+had+a+bl+d+clot+in+his+brain+after+he+got+the+sh+t+he+did+not+want+the+sh+t+but+the+movie+he+was+on+he+was+pressured+to+get+it+confessed+the+journalist+who+formally+worked+as+a+columnist+for+the+new+york+daily+news+during+an+appearance+on+dr+drew+pinsky+s+online+show+ask+dr+drew+the+bl+d+clot+in+the+brain+caused+him+at+that+point+to+be+partially+par+lyzed+and+bl+nd+benza+alleged+as+he+insisted+his+insider+was+someone+in+the+room+with+first+hand+knowledge+of+foxx+s+hospitalization+foxx+was+admitted+to+the+hospital+after+s+ffering+a+medical+complication+on+thursday+april+11+according+to+his+daughter+corinne+foxx+luckily+due+to+quick+action+and+great+care+he+is+already+on+his+way+to+recovery+we+know+how+beloved+he+is+and+appreciate+your+prayers+the+family+asks+for+privacy+during+this+time+she+said+the+55+year+old+s+medical+woes+began+while+filming+his+latest+movie+back+in+action+the+movie+also+starring+cameron+diaz+is+said+to+have+moved+forward+with+production+without+foxx+using+a+body+double+in+his+place)"
   ]
  },
  {
   "cell_type": "code",
   "execution_count": 0,
   "metadata": {
    "application/vnd.databricks.v1+cell": {
     "cellMetadata": {
      "byteLimit": 2048000,
      "rowLimit": 10000
     },
     "inputWidgets": {},
     "nuid": "5ac1aa69-ef93-48ee-b405-8c68c85ca50d",
     "showTitle": false,
     "title": ""
    }
   },
   "outputs": [],
   "source": [
    "import mlflow\n",
    "from mlflow.entities.run import Run\n",
    "from mlflow.tracking.client import MlflowClient, ModelVersion\n",
    "from mlflow.utils import mlflow_tags\n",
    "import pandas as pd\n",
    "import re\n",
    "import json\n",
    "import os\n",
    "import sys\n",
    "import numpy as np\n",
    "import matplotlib.pyplot as plt\n",
    "import pickle\n",
    "# load functions\n",
    "with open('project_config.json','r') as fp: \n",
    "    project_config = json.load(fp)\n",
    " \n",
    "module_path = os.path.join(project_config['project_module_relative_path'])\n",
    "sys.path.append(module_path)\n",
    " \n",
    "from data_processing import *\n",
    "\n",
    "pd.set_option(\"display.max_columns\" , 50)"
   ]
  },
  {
   "cell_type": "code",
   "execution_count": 0,
   "metadata": {
    "application/vnd.databricks.v1+cell": {
     "cellMetadata": {
      "byteLimit": 2048000,
      "rowLimit": 10000
     },
     "inputWidgets": {},
     "nuid": "2326e18c-0d2d-4e04-805e-fc263aa02344",
     "showTitle": false,
     "title": ""
    }
   },
   "outputs": [],
   "source": [
    "from transformers import pipeline\n",
    "classifier = pipeline(\"zero-shot-classification\", model=\"MoritzLaurer/DeBERTa-v3-base-mnli-fever-anli\")"
   ]
  },
  {
   "cell_type": "markdown",
   "metadata": {
    "application/vnd.databricks.v1+cell": {
     "cellMetadata": {},
     "inputWidgets": {},
     "nuid": "29062020-6b71-4505-8373-8216e741305b",
     "showTitle": false,
     "title": ""
    }
   },
   "source": [
    "### Example"
   ]
  },
  {
   "cell_type": "code",
   "execution_count": 0,
   "metadata": {
    "application/vnd.databricks.v1+cell": {
     "cellMetadata": {
      "byteLimit": 2048000,
      "rowLimit": 10000
     },
     "inputWidgets": {},
     "nuid": "3b19535c-5334-4956-92e5-19c351f3dd42",
     "showTitle": false,
     "title": ""
    }
   },
   "outputs": [],
   "source": [
    "sequence_to_classify = \"Angela Merkel is a politician in Germany and leader of the CDU\"\n",
    "candidate_labels = [\"hello kitty\", \"dog\", \"entertainment\", \"environment\"]\n",
    "output = classifier(sequence_to_classify, candidate_labels, multi_label=True)\n",
    "print(output)\n"
   ]
  },
  {
   "cell_type": "markdown",
   "metadata": {
    "application/vnd.databricks.v1+cell": {
     "cellMetadata": {},
     "inputWidgets": {},
     "nuid": "970586c7-1340-4262-9a62-ac022edae176",
     "showTitle": false,
     "title": ""
    }
   },
   "source": [
    "### Read in data"
   ]
  },
  {
   "cell_type": "code",
   "execution_count": 0,
   "metadata": {
    "application/vnd.databricks.v1+cell": {
     "cellMetadata": {
      "byteLimit": 2048000,
      "rowLimit": 10000
     },
     "inputWidgets": {},
     "nuid": "ec368de5-3a87-4491-b43b-6392c15b2620",
     "showTitle": false,
     "title": ""
    }
   },
   "outputs": [],
   "source": [
    "# read in data export\n",
    "df = pd.read_pickle(\"./model_training_data.pkl\")\n",
    "df=df[df[\"split\"]== \"labeled\"]\n",
    "df[\"text\"] = df[\"text\"].fillna(df[\"textTranslated.en\"])\n",
    "df.dropna(subset = \"text\", inplace = True)"
   ]
  },
  {
   "cell_type": "code",
   "execution_count": 0,
   "metadata": {
    "application/vnd.databricks.v1+cell": {
     "cellMetadata": {
      "byteLimit": 2048000,
      "rowLimit": 10000
     },
     "inputWidgets": {},
     "nuid": "0af734a0-9517-4616-9b5e-0488a1be109d",
     "showTitle": false,
     "title": ""
    }
   },
   "outputs": [],
   "source": [
    "# set labels for themes\n",
    "theme_labels = df['themeIdsParent'].explode().unique()"
   ]
  },
  {
   "cell_type": "code",
   "execution_count": 0,
   "metadata": {
    "application/vnd.databricks.v1+cell": {
     "cellMetadata": {
      "byteLimit": 2048000,
      "rowLimit": 10000
     },
     "inputWidgets": {},
     "nuid": "e9ef62e4-d509-4b90-ad2a-93da3fb0a6fe",
     "showTitle": false,
     "title": ""
    }
   },
   "outputs": [],
   "source": [
    "theme_labels"
   ]
  },
  {
   "cell_type": "markdown",
   "metadata": {
    "application/vnd.databricks.v1+cell": {
     "cellMetadata": {},
     "inputWidgets": {},
     "nuid": "35242810-e307-475d-9574-3e2b88688002",
     "showTitle": false,
     "title": ""
    }
   },
   "source": [
    "## Write function to classify text and return a df"
   ]
  },
  {
   "cell_type": "code",
   "execution_count": 0,
   "metadata": {
    "application/vnd.databricks.v1+cell": {
     "cellMetadata": {
      "byteLimit": 2048000,
      "rowLimit": 10000
     },
     "inputWidgets": {},
     "nuid": "b4491eee-1932-47db-b1d5-412ff4d7b231",
     "showTitle": false,
     "title": ""
    }
   },
   "outputs": [],
   "source": [
    "df.columns"
   ]
  },
  {
   "cell_type": "code",
   "execution_count": 0,
   "metadata": {
    "application/vnd.databricks.v1+cell": {
     "cellMetadata": {},
     "inputWidgets": {},
     "nuid": "c310c430-19e4-432a-8a7e-460539dfca10",
     "showTitle": false,
     "title": ""
    }
   },
   "outputs": [],
   "source": []
  },
  {
   "cell_type": "code",
   "execution_count": 0,
   "metadata": {
    "application/vnd.databricks.v1+cell": {
     "cellMetadata": {
      "byteLimit": 2048000,
      "rowLimit": 10000
     },
     "inputWidgets": {},
     "nuid": "c7e51564-b11d-4874-b979-2bbb97ce0a78",
     "showTitle": false,
     "title": ""
    }
   },
   "outputs": [],
   "source": [
    "def classify_themes(df, theme_labels):\n",
    "    result_list = []\n",
    "    for index, row in df.iterrows():\n",
    "        text_sequence = row['text']\n",
    "        result = classifier(text_sequence, theme_labels, multi_label = True)\n",
    "        result['themeIds'] = result['labels']\n",
    "        result['themeConfidence'] = result['scores']\n",
    "        result[\"id\"] = row[\"id\"]\n",
    "        result[\"text\"] = row[\"text\"]\n",
    "        result_list.append(result)\n",
    "    result_df = pd.DataFrame(result_list)[['id', 'text', 'themeIds', 'themeConfidence']]\n",
    "    result_df= pd.merge(result_df, df[[\"id\", \"themeIdsReviewedParent\"]], how = \"left\", on = \"id\")\n",
    "    return result_df"
   ]
  },
  {
   "cell_type": "code",
   "execution_count": 0,
   "metadata": {
    "application/vnd.databricks.v1+cell": {
     "cellMetadata": {
      "byteLimit": 2048000,
      "rowLimit": 10000
     },
     "inputWidgets": {},
     "nuid": "200e013a-91cd-4441-85c9-195d8e66737f",
     "showTitle": false,
     "title": ""
    }
   },
   "outputs": [],
   "source": [
    "def mlb_transform(df, theme_labels):\n",
    "    mlb = MultiLabelBinarizer()\n",
    "    mlb.fit([theme_labels])\n",
    "    \n",
    "\n",
    "    y_true = mlb.transform(df[\"themeIds\"])\n",
    "    y_pred = mlb.transform(df[\"themeIdsReviewed\"])\n",
    "\n",
    "    # get scores\n",
    "    macro_score = f1_score(y_true, y_pred, average='macro')\n",
    "    micro_score = f1_score(y_true, y_pred, average='micro')\n",
    "    precision = precision_score(y_true, y_pred, average='weighted')\n",
    "    recall = recall_score(y_true, y_pred, average='weighted')\n",
    "    class_names = mlb.classes_\n",
    "    jaccard_scores = jaccard_score(y_true,y_pred, average =None)\n",
    "\n",
    "    return macro_score, micro_score, precision, recall, class_names, jaccard_scores"
   ]
  },
  {
   "cell_type": "markdown",
   "metadata": {
    "application/vnd.databricks.v1+cell": {
     "cellMetadata": {},
     "inputWidgets": {},
     "nuid": "faa40786-5ba9-4a51-8294-e2fb27afabe0",
     "showTitle": false,
     "title": ""
    }
   },
   "source": [
    "# Write Experiment"
   ]
  },
  {
   "cell_type": "code",
   "execution_count": 0,
   "metadata": {
    "application/vnd.databricks.v1+cell": {
     "cellMetadata": {
      "byteLimit": 2048000,
      "rowLimit": 10000
     },
     "inputWidgets": {},
     "nuid": "68b95718-8971-4899-a021-711bbf326526",
     "showTitle": false,
     "title": ""
    }
   },
   "outputs": [],
   "source": [
    "def run_taxonomy_experiment(exp_type, theme_labels):\n",
    "    # set up experiment\n",
    "    mlflow_client = MlflowClient()\n",
    "    exp_name =\"/Users/vpeng@rockfound.org/taxonomy_experiment\"\n",
    "    exp = mlflow_client.get_experiment_by_name(exp_name)\n",
    "    mlflow.set_experiment(exp_name)\n",
    "    run_name = \"simplified_taxonomy_run\"\n",
    "    parent_run = mlflow.start_run(run_name = run_name, nested = True)\n",
    "\n",
    "    # get themes\n",
    "    themes_df = classify_themes(df, theme_labels)\n",
    "\n",
    "    # get scores\n",
    "    macro_score, micro_score, precision, recall, class_names, jaccard_scores = mlb_transform(theme_labels, \"themeIdsReviewedParent\", \"themeIds\", num_labels)\n",
    "    class_names = [class_names]\n",
    "    jaccard_dict = dict(zip(class_names, jaccard_scores))\n",
    "    true_values = df[\"themeIdsReviewedParent\"].explode().value_counts(normalize = True).to_dict()\n",
    "    true_dict = {key + \"-true\": value for key, value in true_values.items()}\n",
    "\n",
    "    # run experiment\n",
    "    metrics = {\"macro_f1\": macro_score, \"micro_f1\": micro_score, \"precision\": precision, \"recall\": recall}\n",
    "    metrics.update(jaccard_dict, **true_dict)\n",
    "    mlflow.log_params({\"experiment_type\": exp_type})\n",
    "    mlflow.log_metrics(metrics)    \n",
    "    \n",
    "    # end run\n",
    "    mlflow.end_run()"
   ]
  },
  {
   "cell_type": "code",
   "execution_count": 0,
   "metadata": {
    "application/vnd.databricks.v1+cell": {
     "cellMetadata": {
      "byteLimit": 2048000,
      "rowLimit": 10000
     },
     "inputWidgets": {},
     "nuid": "09613b77-e855-40b4-93da-99eb48c7e738",
     "showTitle": false,
     "title": ""
    }
   },
   "outputs": [],
   "source": [
    "mlflow.end_run()"
   ]
  },
  {
   "cell_type": "code",
   "execution_count": 0,
   "metadata": {
    "application/vnd.databricks.v1+cell": {
     "cellMetadata": {
      "byteLimit": 2048000,
      "rowLimit": 10000
     },
     "inputWidgets": {},
     "nuid": "99059277-25d8-4332-84c4-8a49aeacb30c",
     "showTitle": false,
     "title": ""
    }
   },
   "outputs": [],
   "source": [
    "theme_labels = df['themeIdsParent'].explode().unique()\n",
    "run_taxonomy_experiment(\"simplified\", theme_labels)"
   ]
  },
  {
   "cell_type": "markdown",
   "metadata": {
    "application/vnd.databricks.v1+cell": {
     "cellMetadata": {},
     "inputWidgets": {},
     "nuid": "623a93d0-c42b-478a-9f41-99b48e4d133d",
     "showTitle": false,
     "title": ""
    }
   },
   "source": [
    "# Run experiment with child themes"
   ]
  },
  {
   "cell_type": "code",
   "execution_count": 0,
   "metadata": {
    "application/vnd.databricks.v1+cell": {
     "cellMetadata": {},
     "inputWidgets": {},
     "nuid": "d847ea9a-c1b2-4067-a0bb-f96a426deb50",
     "showTitle": false,
     "title": ""
    }
   },
   "outputs": [],
   "source": [
    "child_labels = \"alternative cures religious practices, bioweapon conspiracy corruption media-bias medical-exploitation, stigmatization case-reporting symptoms-severity variants, public health capacity, prevention collective prevention individual treatment vaccine efficacy vaccine side effects\""
   ]
  }
 ],
 "metadata": {
  "application/vnd.databricks.v1+notebook": {
   "dashboards": [],
   "language": "python",
   "notebookMetadata": {
    "pythonIndentUnit": 4
   },
   "notebookName": "zero_shot_classification",
   "widgets": {}
  },
  "kernelspec": {
   "display_name": "Python 3 (ipykernel)",
   "language": "python",
   "name": "python3"
  },
  "language_info": {
   "codemirror_mode": {
    "name": "ipython",
    "version": 3
   },
   "file_extension": ".py",
   "mimetype": "text/x-python",
   "name": "python",
   "nbconvert_exporter": "python",
   "pygments_lexer": "ipython3",
   "version": "3.8.8"
  }
 },
 "nbformat": 4,
 "nbformat_minor": 0
}
