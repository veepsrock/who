{
 "cells": [
  {
   "cell_type": "markdown",
   "metadata": {
    "application/vnd.databricks.v1+cell": {
     "cellMetadata": {},
     "inputWidgets": {},
     "nuid": "bf0e5a90-7b4f-4e85-a1e1-bc65f79412c8",
     "showTitle": false,
     "title": ""
    }
   },
   "source": [
    "# Zero shot classification\n",
    "\n",
    "## [DeBerta-v3-base-mnli-fever-anli](https://huggingface.co/MoritzLaurer/DeBERTa-v3-base-mnli-fever-anli?candidateLabels=covid-19%2C+vaccine+efficacy%2C+vaccine+side+effects%2C+measles%2C+cholera%2C+home+remedies%2C+conspiracy&multiClass=true&text=actor+jamie+foxx+reportedly+par+lyzed+and+bl+nd+due+to+covid+19+vaccine+american+actor+jamie+foxx+has+reportedly+s+ffered+partial+par+lysis+following+a+covid+19+vaccine+complication+the+vaccine+according+to+hollywood+journalist+a+j+benza+resulted+in+a+bl+d+clot+in+his+brain+that+led+to+him+being+partially+par+lyzed+and+bl+nd+in+addition+to+a+series+of+other+complications+benza+claims+the+news+was+confirmed+by+a+source+close+to+foxx+jamie+had+a+bl+d+clot+in+his+brain+after+he+got+the+sh+t+he+did+not+want+the+sh+t+but+the+movie+he+was+on+he+was+pressured+to+get+it+confessed+the+journalist+who+formally+worked+as+a+columnist+for+the+new+york+daily+news+during+an+appearance+on+dr+drew+pinsky+s+online+show+ask+dr+drew+the+bl+d+clot+in+the+brain+caused+him+at+that+point+to+be+partially+par+lyzed+and+bl+nd+benza+alleged+as+he+insisted+his+insider+was+someone+in+the+room+with+first+hand+knowledge+of+foxx+s+hospitalization+foxx+was+admitted+to+the+hospital+after+s+ffering+a+medical+complication+on+thursday+april+11+according+to+his+daughter+corinne+foxx+luckily+due+to+quick+action+and+great+care+he+is+already+on+his+way+to+recovery+we+know+how+beloved+he+is+and+appreciate+your+prayers+the+family+asks+for+privacy+during+this+time+she+said+the+55+year+old+s+medical+woes+began+while+filming+his+latest+movie+back+in+action+the+movie+also+starring+cameron+diaz+is+said+to+have+moved+forward+with+production+without+foxx+using+a+body+double+in+his+place)"
   ]
  },
  {
   "cell_type": "code",
   "execution_count": 0,
   "metadata": {
    "application/vnd.databricks.v1+cell": {
     "cellMetadata": {
      "byteLimit": 2048000,
      "rowLimit": 10000
     },
     "inputWidgets": {},
     "nuid": "5ac1aa69-ef93-48ee-b405-8c68c85ca50d",
     "showTitle": false,
     "title": ""
    }
   },
   "outputs": [],
   "source": [
    "import mlflow\n",
    "from mlflow.entities.run import Run\n",
    "from mlflow.tracking.client import MlflowClient, ModelVersion\n",
    "from mlflow.utils import mlflow_tags\n",
    "import pandas as pd\n",
    "import re\n",
    "import json\n",
    "import os\n",
    "import sys\n",
    "import numpy as np\n",
    "import matplotlib.pyplot as plt\n",
    "import pickle\n",
    "from sklearn.preprocessing import MultiLabelBinarizer\n",
    "from sklearn.metrics import f1_score, precision_score, recall_score, jaccard_score\n",
    "from collections import defaultdict\n",
    "# load functions\n",
    "with open('project_config.json','r') as fp: \n",
    "    project_config = json.load(fp)\n",
    " \n",
    "module_path = os.path.join(project_config['project_module_relative_path'])\n",
    "sys.path.append(module_path)\n",
    " \n",
    "from data_processing import *\n",
    "\n",
    "pd.set_option(\"display.max_columns\" , 50)"
   ]
  },
  {
   "cell_type": "code",
   "execution_count": 0,
   "metadata": {
    "application/vnd.databricks.v1+cell": {
     "cellMetadata": {
      "byteLimit": 2048000,
      "rowLimit": 10000
     },
     "inputWidgets": {},
     "nuid": "2326e18c-0d2d-4e04-805e-fc263aa02344",
     "showTitle": false,
     "title": ""
    }
   },
   "outputs": [],
   "source": [
    "from transformers import pipeline\n",
    "classifier = pipeline(\"zero-shot-classification\", model=\"MoritzLaurer/DeBERTa-v3-base-mnli-fever-anli\")"
   ]
  },
  {
   "cell_type": "markdown",
   "metadata": {
    "application/vnd.databricks.v1+cell": {
     "cellMetadata": {},
     "inputWidgets": {},
     "nuid": "29062020-6b71-4505-8373-8216e741305b",
     "showTitle": false,
     "title": ""
    }
   },
   "source": [
    "### Example"
   ]
  },
  {
   "cell_type": "code",
   "execution_count": 0,
   "metadata": {
    "application/vnd.databricks.v1+cell": {
     "cellMetadata": {
      "byteLimit": 2048000,
      "rowLimit": 10000
     },
     "inputWidgets": {},
     "nuid": "3b19535c-5334-4956-92e5-19c351f3dd42",
     "showTitle": false,
     "title": ""
    }
   },
   "outputs": [],
   "source": [
    "sequence_to_classify = \"Angela Merkel is a politician in Germany and leader of the CDU\"\n",
    "candidate_labels = [\"hello kitty\", \"dog\", \"entertainment\", \"environment\"]\n",
    "output = classifier(sequence_to_classify, candidate_labels, multi_label=True)\n",
    "print(output)\n"
   ]
  },
  {
   "cell_type": "markdown",
   "metadata": {
    "application/vnd.databricks.v1+cell": {
     "cellMetadata": {},
     "inputWidgets": {},
     "nuid": "970586c7-1340-4262-9a62-ac022edae176",
     "showTitle": false,
     "title": ""
    }
   },
   "source": [
    "### Read in data"
   ]
  },
  {
   "cell_type": "code",
   "execution_count": 0,
   "metadata": {
    "application/vnd.databricks.v1+cell": {
     "cellMetadata": {
      "byteLimit": 2048000,
      "rowLimit": 10000
     },
     "inputWidgets": {},
     "nuid": "ec368de5-3a87-4491-b43b-6392c15b2620",
     "showTitle": false,
     "title": ""
    }
   },
   "outputs": [],
   "source": [
    "# read in data export\n",
    "df = pd.read_pickle(\"./model_training_data.pkl\")\n",
    "df=df[df[\"split\"]== \"labeled\"]\n",
    "df[\"text\"] = df[\"text\"].fillna(df[\"textTranslated.en\"])\n",
    "df.dropna(subset = \"text\", inplace = True)"
   ]
  },
  {
   "cell_type": "code",
   "execution_count": 0,
   "metadata": {
    "application/vnd.databricks.v1+cell": {
     "cellMetadata": {
      "byteLimit": 2048000,
      "rowLimit": 10000
     },
     "inputWidgets": {},
     "nuid": "0af734a0-9517-4616-9b5e-0488a1be109d",
     "showTitle": false,
     "title": ""
    }
   },
   "outputs": [],
   "source": [
    "# set labels for themes\n",
    "theme_labels = df['themeIdsParent'].explode().unique()"
   ]
  },
  {
   "cell_type": "code",
   "execution_count": 0,
   "metadata": {
    "application/vnd.databricks.v1+cell": {
     "cellMetadata": {
      "byteLimit": 2048000,
      "rowLimit": 10000
     },
     "inputWidgets": {},
     "nuid": "e9ef62e4-d509-4b90-ad2a-93da3fb0a6fe",
     "showTitle": false,
     "title": ""
    }
   },
   "outputs": [],
   "source": [
    "theme_labels"
   ]
  },
  {
   "cell_type": "code",
   "execution_count": 0,
   "metadata": {
    "application/vnd.databricks.v1+cell": {
     "cellMetadata": {
      "byteLimit": 2048000,
      "rowLimit": 10000
     },
     "inputWidgets": {},
     "nuid": "be8b9be7-7f2f-4be8-9f1c-62b9692e5757",
     "showTitle": false,
     "title": ""
    }
   },
   "outputs": [],
   "source": [
    "def map_themes(themes, theme_dict):\n",
    "    if isinstance(themes, list):\n",
    "        big_themes = []\n",
    "        for theme in themes:\n",
    "            if theme is not None:\n",
    "                for key, values in theme_dict.items():\n",
    "                    if theme in values:\n",
    "                        big_themes.append(key)\n",
    "                        break\n",
    "        return big_themes if big_themes else None\n",
    "    return None"
   ]
  },
  {
   "cell_type": "code",
   "execution_count": 0,
   "metadata": {
    "application/vnd.databricks.v1+cell": {
     "cellMetadata": {
      "byteLimit": 2048000,
      "rowLimit": 10000
     },
     "inputWidgets": {},
     "nuid": "a722e091-29c5-4ef8-bf49-619de17b40e8",
     "showTitle": false,
     "title": ""
    }
   },
   "outputs": [],
   "source": []
  },
  {
   "cell_type": "markdown",
   "metadata": {
    "application/vnd.databricks.v1+cell": {
     "cellMetadata": {},
     "inputWidgets": {},
     "nuid": "35242810-e307-475d-9574-3e2b88688002",
     "showTitle": false,
     "title": ""
    }
   },
   "source": [
    "## Write function to classify text and return a df"
   ]
  },
  {
   "cell_type": "code",
   "execution_count": 0,
   "metadata": {
    "application/vnd.databricks.v1+cell": {
     "cellMetadata": {
      "byteLimit": 2048000,
      "rowLimit": 10000
     },
     "inputWidgets": {},
     "nuid": "c7e51564-b11d-4874-b979-2bbb97ce0a78",
     "showTitle": false,
     "title": ""
    }
   },
   "outputs": [],
   "source": [
    "def classify_themes(df, theme_labels):\n",
    "    result_list = []\n",
    "    for index, row in df.iterrows():\n",
    "        text_sequence = row['text']\n",
    "        result = classifier(text_sequence, theme_labels, multi_label = True)\n",
    "        result['themeIds'] = result['labels']\n",
    "        result['themeConfidence'] = result['scores']\n",
    "        result[\"id\"] = row[\"id\"]\n",
    "        result[\"text\"] = row[\"text\"]\n",
    "        result_list.append(result)\n",
    "    result_df = pd.DataFrame(result_list)[['id', 'text', 'themeIds', 'themeConfidence']]\n",
    "    result_df= pd.merge(result_df, df[[\"id\", \"themeIdsReviewedParent\"]], how = \"left\", on = \"id\")\n",
    "    return result_df"
   ]
  },
  {
   "cell_type": "code",
   "execution_count": 0,
   "metadata": {
    "application/vnd.databricks.v1+cell": {
     "cellMetadata": {
      "byteLimit": 2048000,
      "rowLimit": 10000
     },
     "inputWidgets": {},
     "nuid": "0a377212-e406-4cc8-ae5c-6e8b2867f446",
     "showTitle": false,
     "title": ""
    }
   },
   "outputs": [],
   "source": [
    "theme_labels = df['themeIdsParent'].explode().unique().tolist()\n",
    "theme_labels = [x for x in theme_labels if x is not None]"
   ]
  },
  {
   "cell_type": "code",
   "execution_count": 0,
   "metadata": {
    "application/vnd.databricks.v1+cell": {
     "cellMetadata": {
      "byteLimit": 2048000,
      "rowLimit": 10000
     },
     "inputWidgets": {},
     "nuid": "200e013a-91cd-4441-85c9-195d8e66737f",
     "showTitle": false,
     "title": ""
    }
   },
   "outputs": [],
   "source": [
    "def mlb_transform(exp_type, df, theme_dict):\n",
    "    themes = ['prevention-treatment-approved', 'prevention-treatment-alternative', 'illness-cause', 'intervention-capacity', 'conspiracy-corruption']\n",
    "\n",
    "    mlb = MultiLabelBinarizer()\n",
    "    mlb.fit([themes])\n",
    "\n",
    "    if exp_type == \"child_labels\":\n",
    "        df[\"themeIds\"] = df[\"themeIds\"].apply(lambda x: map_themes(x, theme_dict))\n",
    "\n",
    "    df.dropna(subset=[\"themeIds\", \"themeIdsReviewedParent\"], inplace = True)\n",
    "\n",
    "    \n",
    "    y_true = mlb.transform(df[\"themeIds\"])\n",
    "    y_pred = mlb.transform(df[\"themeIdsReviewedParent\"])\n",
    "\n",
    "    # get scores\n",
    "    macro_score = f1_score(y_true, y_pred, average='macro')\n",
    "    micro_score = f1_score(y_true, y_pred, average='micro')\n",
    "    precision = precision_score(y_true, y_pred, average='weighted')\n",
    "    recall = recall_score(y_true, y_pred, average='weighted')\n",
    "    class_names = mlb.classes_\n",
    "    jaccard_scores = jaccard_score(y_true,y_pred, average =None)\n",
    "\n",
    "    return macro_score, micro_score, precision, recall, class_names, jaccard_scores"
   ]
  },
  {
   "cell_type": "markdown",
   "metadata": {
    "application/vnd.databricks.v1+cell": {
     "cellMetadata": {},
     "inputWidgets": {},
     "nuid": "faa40786-5ba9-4a51-8294-e2fb27afabe0",
     "showTitle": false,
     "title": ""
    }
   },
   "source": [
    "# Write Experiment"
   ]
  },
  {
   "cell_type": "code",
   "execution_count": 0,
   "metadata": {
    "application/vnd.databricks.v1+cell": {
     "cellMetadata": {
      "byteLimit": 2048000,
      "rowLimit": 10000
     },
     "inputWidgets": {},
     "nuid": "68b95718-8971-4899-a021-711bbf326526",
     "showTitle": false,
     "title": ""
    }
   },
   "outputs": [],
   "source": [
    "def run_taxonomy_experiment(exp_type, theme_labels, theme_dict):\n",
    "    # set up experiment\n",
    "    mlflow_client = MlflowClient()\n",
    "    exp_name =\"/Users/vpeng@rockfound.org/taxonomy_experiment\"\n",
    "    exp = mlflow_client.get_experiment_by_name(exp_name)\n",
    "    mlflow.set_experiment(exp_name)\n",
    "    run_name = \"simplified_taxonomy_run\"\n",
    "    parent_run = mlflow.start_run(run_name = run_name, nested = False)\n",
    "\n",
    "    # get themes\n",
    "    themes_df = classify_themes(df, theme_labels)\n",
    "\n",
    "    # filter themes\n",
    "    themes_df = filter_threshold(themes_df, 0.79)\n",
    "\n",
    "    # get scores\n",
    "    macro_score, micro_score, precision, recall, class_names, jaccard_scores = mlb_transform(exp_type, themes_df, theme_dict)\n",
    "    jaccard_dict = dict(zip(class_names, jaccard_scores))\n",
    "    true_values = themes_df[\"themeIdsReviewedParent\"].explode().value_counts(normalize = True).to_dict()\n",
    "    true_dict = {key + \"-true\": value for key, value in true_values.items()}\n",
    "\n",
    "    # run experiment\n",
    "    metrics = {\"macro_f1\": macro_score, \"micro_f1\": micro_score, \"precision\": precision, \"recall\": recall}\n",
    "    metrics.update(jaccard_dict, **true_dict)\n",
    "    mlflow.log_params({\"experiment_type\": exp_type})\n",
    "    mlflow.log_metrics(metrics)    \n",
    "    \n",
    "    # end run\n",
    "    mlflow.end_run()"
   ]
  },
  {
   "cell_type": "code",
   "execution_count": 0,
   "metadata": {
    "application/vnd.databricks.v1+cell": {
     "cellMetadata": {
      "byteLimit": 2048000,
      "rowLimit": 10000
     },
     "inputWidgets": {},
     "nuid": "09613b77-e855-40b4-93da-99eb48c7e738",
     "showTitle": false,
     "title": ""
    }
   },
   "outputs": [],
   "source": [
    "mlflow.end_run()"
   ]
  },
  {
   "cell_type": "code",
   "execution_count": 0,
   "metadata": {
    "application/vnd.databricks.v1+cell": {
     "cellMetadata": {
      "byteLimit": 2048000,
      "rowLimit": 10000
     },
     "inputWidgets": {},
     "nuid": "99059277-25d8-4332-84c4-8a49aeacb30c",
     "showTitle": false,
     "title": ""
    }
   },
   "outputs": [],
   "source": [
    "run_taxonomy_experiment(\"simplified\", theme_labels)"
   ]
  },
  {
   "cell_type": "markdown",
   "metadata": {
    "application/vnd.databricks.v1+cell": {
     "cellMetadata": {},
     "inputWidgets": {},
     "nuid": "623a93d0-c42b-478a-9f41-99b48e4d133d",
     "showTitle": false,
     "title": ""
    }
   },
   "source": [
    "# Run experiment with child themes"
   ]
  },
  {
   "cell_type": "code",
   "execution_count": 0,
   "metadata": {
    "application/vnd.databricks.v1+cell": {
     "cellMetadata": {
      "byteLimit": 2048000,
      "rowLimit": 10000
     },
     "inputWidgets": {},
     "nuid": "de59207a-a5fc-4aa0-9c3b-c0e2e3843305",
     "showTitle": false,
     "title": ""
    }
   },
   "outputs": [],
   "source": [
    "themes_df2 = classify_themes(df, theme_labels)"
   ]
  },
  {
   "cell_type": "code",
   "execution_count": 0,
   "metadata": {
    "application/vnd.databricks.v1+cell": {
     "cellMetadata": {
      "byteLimit": 2048000,
      "rowLimit": 10000
     },
     "inputWidgets": {},
     "nuid": "253660e9-4a35-42b2-a7c1-71de585be346",
     "showTitle": false,
     "title": ""
    }
   },
   "outputs": [],
   "source": [
    "themes_df2.head()"
   ]
  },
  {
   "cell_type": "code",
   "execution_count": 0,
   "metadata": {
    "application/vnd.databricks.v1+cell": {
     "cellMetadata": {
      "byteLimit": 2048000,
      "rowLimit": 10000
     },
     "inputWidgets": {},
     "nuid": "3746e1bf-40c3-4508-aa11-ee66a0e1ce0d",
     "showTitle": false,
     "title": ""
    }
   },
   "outputs": [],
   "source": [
    "pickle.dump(themes_df2, open(\"predicted_themes_parent.pkl\", \"wb\")) "
   ]
  },
  {
   "cell_type": "code",
   "execution_count": 0,
   "metadata": {
    "application/vnd.databricks.v1+cell": {
     "cellMetadata": {
      "byteLimit": 2048000,
      "rowLimit": 10000
     },
     "inputWidgets": {},
     "nuid": "3564e946-f9a1-49a2-8d50-8c94519fd0f4",
     "showTitle": false,
     "title": ""
    }
   },
   "outputs": [],
   "source": [
    "themes_df = pd.read_pickle(\"./predicted_themes_child.pkl\")"
   ]
  },
  {
   "cell_type": "code",
   "execution_count": 0,
   "metadata": {
    "application/vnd.databricks.v1+cell": {
     "cellMetadata": {
      "byteLimit": 2048000,
      "rowLimit": 10000
     },
     "inputWidgets": {},
     "nuid": "1d776fd4-760f-4517-aa7f-cb6f1c3cff77",
     "showTitle": false,
     "title": ""
    }
   },
   "outputs": [],
   "source": [
    "# get theme threshold\n",
    "def filter_threshold(df, threshold):\n",
    "    for index, row in df.iterrows():\n",
    "        confidences = row[\"themeConfidence\"]\n",
    "        theme_ids = row[\"themeIds\"]\n",
    "\n",
    "        # Ensure lengths are the same\n",
    "        min_len = min(len(confidences), len(theme_ids))\n",
    "        filtered_confidences = [confidences[i] if confidences[i] > threshold else None for i in range(min_len)]\n",
    "        filtered_theme_ids = [theme_ids[i] if confidences[i] > threshold else None for i in range(min_len)]\n",
    "        df.at[index, \"themeConfidence\"] = filtered_confidences\n",
    "        df.at[index, \"themeIds\"] = filtered_theme_ids\n",
    "\n",
    "    return df"
   ]
  },
  {
   "cell_type": "code",
   "execution_count": 0,
   "metadata": {
    "application/vnd.databricks.v1+cell": {
     "cellMetadata": {
      "byteLimit": 2048000,
      "rowLimit": 10000
     },
     "inputWidgets": {},
     "nuid": "b9a07f22-68f0-427b-b948-1dffe96b1ca8",
     "showTitle": false,
     "title": ""
    }
   },
   "outputs": [],
   "source": [
    "def filter_rows_with_empty_column(df, column_name):\n",
    "    filtered_df = df[df.apply(lambda row: len(row[column_name]) == 0, axis=1)]\n",
    "    return filtered_df"
   ]
  },
  {
   "cell_type": "code",
   "execution_count": 0,
   "metadata": {
    "application/vnd.databricks.v1+cell": {
     "cellMetadata": {
      "byteLimit": 2048000,
      "rowLimit": 10000
     },
     "inputWidgets": {},
     "nuid": "5614a0bd-8b21-45fc-9b31-b47cff8ca584",
     "showTitle": false,
     "title": ""
    }
   },
   "outputs": [],
   "source": [
    "theme_dict = {\n",
    "    \"conspiracy-corruption\": [\"bioweapon, conspiracy, corruption, media-bias, medical-exploitation\"],\n",
    "    \"illness-cause\": [\"stigmatization, case-reporting, symptoms-severity, variants\"],\n",
    "    \"intervention-capacity\":[\"public health capacity\"],\n",
    "    \"prevention-treatment-alternative\": [\"alternative cures, religious practices\"],\n",
    "    \"prevention-treatment-approved\": [\"prevention, collective prevention, individual treatment, vaccine efficacy, vaccine side effects\"]\n",
    "}"
   ]
  },
  {
   "cell_type": "code",
   "execution_count": 0,
   "metadata": {
    "application/vnd.databricks.v1+cell": {
     "cellMetadata": {
      "byteLimit": 2048000,
      "rowLimit": 10000
     },
     "inputWidgets": {},
     "nuid": "6c20ede9-0973-40b4-b241-b5d8ae18c8e3",
     "showTitle": false,
     "title": ""
    }
   },
   "outputs": [],
   "source": [
    "no_predictions = filter_rows_with_empty_column(test2, \"themeIds\")"
   ]
  },
  {
   "cell_type": "code",
   "execution_count": 0,
   "metadata": {
    "application/vnd.databricks.v1+cell": {
     "cellMetadata": {
      "byteLimit": 2048000,
      "rowLimit": 10000
     },
     "inputWidgets": {},
     "nuid": "d847ea9a-c1b2-4067-a0bb-f96a426deb50",
     "showTitle": false,
     "title": ""
    }
   },
   "outputs": [],
   "source": [
    "child_labels = [\"alternative cures, religious practices\", \"bioweapon, conspiracy, corruption, media-bias, medical-exploitation\", \"stigmatization, case-reporting, symptoms-severity, variants\", \"public health capacity\", \"prevention, collective prevention, individual treatment, vaccine efficacy, vaccine side effects\"]"
   ]
  },
  {
   "cell_type": "code",
   "execution_count": 0,
   "metadata": {
    "application/vnd.databricks.v1+cell": {
     "cellMetadata": {
      "byteLimit": 2048000,
      "rowLimit": 10000
     },
     "inputWidgets": {},
     "nuid": "b44ccaa6-19ba-4ac3-a808-0b067a1f0991",
     "showTitle": false,
     "title": ""
    }
   },
   "outputs": [],
   "source": [
    "mlflow.end_run()"
   ]
  },
  {
   "cell_type": "code",
   "execution_count": 0,
   "metadata": {
    "application/vnd.databricks.v1+cell": {
     "cellMetadata": {
      "byteLimit": 2048000,
      "rowLimit": 10000
     },
     "inputWidgets": {},
     "nuid": "104bd827-6ed6-42d7-9491-dcaef718c20f",
     "showTitle": false,
     "title": ""
    }
   },
   "outputs": [],
   "source": [
    "run_taxonomy_experiment(\"child_labels\", child_labels, theme_dict)"
   ]
  },
  {
   "cell_type": "markdown",
   "metadata": {
    "application/vnd.databricks.v1+cell": {
     "cellMetadata": {},
     "inputWidgets": {},
     "nuid": "f0f5ab47-e99e-4e3f-af53-4e776489fe10",
     "showTitle": false,
     "title": ""
    }
   },
   "source": [
    "# Run experiment with extra words"
   ]
  },
  {
   "cell_type": "code",
   "execution_count": 0,
   "metadata": {
    "application/vnd.databricks.v1+cell": {
     "cellMetadata": {
      "byteLimit": 2048000,
      "rowLimit": 10000
     },
     "inputWidgets": {},
     "nuid": "98706d95-31dd-4906-8651-ac361c20aabc",
     "showTitle": false,
     "title": ""
    }
   },
   "outputs": [],
   "source": [
    "extra_labels = [\"alternative cures herbal remedies home remedies healers and healing religious belief religious leader cultural practices\", \"biological weapon chemical agent nefarious plots economic exploitation profiteering extortion media slant and bias fake news medical exploitation experimental treatments expired medicine guinea pigs\", \"stigmatization case reporting symptoms severity disease variants disease genetic modifications\", \"capacity of public health system (hospitals, doctors, governments, aid)\", \"collective prevention lockdowns travel bans travel restrictions individual prevention non-pharmaceutical interventions quarantine face masks hand washing vaccine side effects vaccine efficacy vaccines\"]"
   ]
  },
  {
   "cell_type": "code",
   "execution_count": 0,
   "metadata": {
    "application/vnd.databricks.v1+cell": {
     "cellMetadata": {
      "byteLimit": 2048000,
      "rowLimit": 10000
     },
     "inputWidgets": {},
     "nuid": "3bf4ea77-e526-473e-b805-01c3d5f84803",
     "showTitle": false,
     "title": ""
    }
   },
   "outputs": [],
   "source": [
    "theme_dict_extra = {\n",
    "    \"conspiracy-corruption\": \"biological weapon chemical agent nefarious plots economic exploitation profiteering extortion media slant and bias fake news medical exploitation experimental treatments expired medicine guinea pigs\",\n",
    "    \"illness-cause\": \"stigmatization case reporting symptoms severity disease variants disease genetic modifications\",\n",
    "    \"intervention-capacity\":\"capacity of public health system (hospitals, doctors, governments, aid)\",\n",
    "    \"prevention-treatment-alternative\": \"alternative cures herbal remedies home remedies healers and healing religious belief religious leader cultural practices\",\n",
    "    \"prevention-treatment-approved\": \"collective prevention lockdowns travel bans travel restrictions individual prevention non-pharmaceutical interventions quarantine face masks hand washing vaccine side effects vaccine efficacy vaccines\"\n",
    "}"
   ]
  },
  {
   "cell_type": "code",
   "execution_count": 0,
   "metadata": {
    "application/vnd.databricks.v1+cell": {
     "cellMetadata": {
      "byteLimit": 2048000,
      "rowLimit": 10000
     },
     "inputWidgets": {},
     "nuid": "9abb2806-efbd-4100-99f6-328937c0e2aa",
     "showTitle": false,
     "title": ""
    }
   },
   "outputs": [],
   "source": [
    "themes_df = classify_themes(df, extra_labels)"
   ]
  },
  {
   "cell_type": "code",
   "execution_count": 0,
   "metadata": {
    "application/vnd.databricks.v1+cell": {
     "cellMetadata": {
      "byteLimit": 2048000,
      "rowLimit": 10000
     },
     "inputWidgets": {},
     "nuid": "3d71ff74-9c2f-45e3-9b2a-07d3f43ca8d7",
     "showTitle": false,
     "title": ""
    }
   },
   "outputs": [],
   "source": [
    "pickle.dump(themes_df, open(\"predicted_themes_extra.pkl\", \"wb\")) "
   ]
  },
  {
   "cell_type": "code",
   "execution_count": 0,
   "metadata": {
    "application/vnd.databricks.v1+cell": {
     "cellMetadata": {
      "byteLimit": 2048000,
      "rowLimit": 10000
     },
     "inputWidgets": {},
     "nuid": "c677141b-648c-4f75-800b-aa0f276f1fd5",
     "showTitle": false,
     "title": ""
    }
   },
   "outputs": [],
   "source": [
    "themes_df[\"themeIds\"].explode().value_counts()"
   ]
  },
  {
   "cell_type": "code",
   "execution_count": 0,
   "metadata": {
    "application/vnd.databricks.v1+cell": {
     "cellMetadata": {
      "byteLimit": 2048000,
      "rowLimit": 10000
     },
     "inputWidgets": {},
     "nuid": "61f88cfd-e4dd-4b4d-843f-70d106dc6d0e",
     "showTitle": false,
     "title": ""
    }
   },
   "outputs": [],
   "source": [
    "test = filter_threshold(themes_df, 0.79)"
   ]
  },
  {
   "cell_type": "code",
   "execution_count": 0,
   "metadata": {
    "application/vnd.databricks.v1+cell": {
     "cellMetadata": {
      "byteLimit": 2048000,
      "rowLimit": 10000
     },
     "inputWidgets": {},
     "nuid": "20789a7c-93e0-47df-976a-1a8e63c71d84",
     "showTitle": false,
     "title": ""
    }
   },
   "outputs": [],
   "source": [
    "test[\"predicted\"] = test[\"themeIds\"].apply(lambda x: map_themes(x, theme_dict_extra))"
   ]
  },
  {
   "cell_type": "code",
   "execution_count": 0,
   "metadata": {
    "application/vnd.databricks.v1+cell": {
     "cellMetadata": {
      "byteLimit": 2048000,
      "rowLimit": 10000
     },
     "inputWidgets": {},
     "nuid": "e896d187-4c05-4cdf-bbc6-269cc0d40cea",
     "showTitle": false,
     "title": ""
    }
   },
   "outputs": [],
   "source": [
    "test[\"predicted\"].explode().value_counts()"
   ]
  },
  {
   "cell_type": "code",
   "execution_count": 0,
   "metadata": {
    "application/vnd.databricks.v1+cell": {
     "cellMetadata": {},
     "inputWidgets": {},
     "nuid": "0ed4291b-81a7-4188-abe1-529f64cfa46b",
     "showTitle": false,
     "title": ""
    }
   },
   "outputs": [],
   "source": []
  }
 ],
 "metadata": {
  "application/vnd.databricks.v1+notebook": {
   "dashboards": [],
   "language": "python",
   "notebookMetadata": {
    "pythonIndentUnit": 4
   },
   "notebookName": "zero_shot_classification",
   "widgets": {}
  },
  "kernelspec": {
   "display_name": "Python 3 (ipykernel)",
   "language": "python",
   "name": "python3"
  },
  "language_info": {
   "codemirror_mode": {
    "name": "ipython",
    "version": 3
   },
   "file_extension": ".py",
   "mimetype": "text/x-python",
   "name": "python",
   "nbconvert_exporter": "python",
   "pygments_lexer": "ipython3",
   "version": "3.8.8"
  }
 },
 "nbformat": 4,
 "nbformat_minor": 0
}
