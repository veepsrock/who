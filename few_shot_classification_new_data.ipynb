{
 "cells": [
  {
   "cell_type": "code",
   "execution_count": 0,
   "metadata": {
    "application/vnd.databricks.v1+cell": {
     "cellMetadata": {},
     "inputWidgets": {},
     "nuid": "f9adeff0-ca5a-4cca-9175-402d9ac1eea7",
     "showTitle": false,
     "title": ""
    }
   },
   "outputs": [],
   "source": [
    "import pandas as pd\n",
    "import numpy as np\n",
    "import matplotlib.pyplot as plt\n",
    "pd.set_option(\"display.max_columns\" , 50)"
   ]
  },
  {
   "cell_type": "markdown",
   "metadata": {
    "application/vnd.databricks.v1+cell": {
     "cellMetadata": {},
     "inputWidgets": {},
     "nuid": "f05419b8-ee06-4a84-a440-d42eed4c4d0a",
     "showTitle": false,
     "title": ""
    }
   },
   "source": [
    "### Read in data"
   ]
  },
  {
   "cell_type": "code",
   "execution_count": 0,
   "metadata": {
    "application/vnd.databricks.v1+cell": {
     "cellMetadata": {},
     "inputWidgets": {},
     "nuid": "717368c7-446b-4165-8f08-7d7ddf7ddcb2",
     "showTitle": false,
     "title": ""
    }
   },
   "outputs": [],
   "source": [
    "df = pd.read_csv(\"amp_labels_viv.csv\")"
   ]
  },
  {
   "cell_type": "markdown",
   "metadata": {
    "application/vnd.databricks.v1+cell": {
     "cellMetadata": {},
     "inputWidgets": {},
     "nuid": "8683abd5-4ce0-4046-9b8e-abedc34d31ec",
     "showTitle": false,
     "title": ""
    }
   },
   "source": [
    "### read in covid_lies data"
   ]
  },
  {
   "cell_type": "code",
   "execution_count": 0,
   "metadata": {
    "application/vnd.databricks.v1+cell": {
     "cellMetadata": {},
     "inputWidgets": {},
     "nuid": "67c905ba-4a27-45bc-83be-96123b258a96",
     "showTitle": false,
     "title": ""
    }
   },
   "outputs": [],
   "source": [
    "cl = pd.read_csv(\"covid_lies_sample.csv\")"
   ]
  },
  {
   "cell_type": "code",
   "execution_count": 0,
   "metadata": {
    "application/vnd.databricks.v1+cell": {
     "cellMetadata": {},
     "inputWidgets": {},
     "nuid": "769b4692-048a-472d-8206-d7f1cbce8a83",
     "showTitle": false,
     "title": ""
    }
   },
   "outputs": [],
   "source": [
    "cl.rename(columns={\"misconception\": \"text\"}, inplace = True)"
   ]
  },
  {
   "cell_type": "code",
   "execution_count": 0,
   "metadata": {
    "application/vnd.databricks.v1+cell": {
     "cellMetadata": {},
     "inputWidgets": {},
     "nuid": "fbe9b5ac-8dea-44ad-bfaa-bd9e8143d479",
     "showTitle": false,
     "title": ""
    }
   },
   "outputs": [],
   "source": [
    "# combine with AMP data\n",
    "df = pd.concat([df, cl], ignore_index=True)"
   ]
  },
  {
   "cell_type": "code",
   "execution_count": 0,
   "metadata": {
    "application/vnd.databricks.v1+cell": {
     "cellMetadata": {},
     "inputWidgets": {},
     "nuid": "edea800c-e993-4cf6-95b0-9531ce0a1468",
     "showTitle": false,
     "title": ""
    }
   },
   "outputs": [],
   "source": [
    "def combine_non_na(row):\n",
    "    return [value for value in row if pd.notna(value)]"
   ]
  },
  {
   "cell_type": "code",
   "execution_count": 0,
   "metadata": {
    "application/vnd.databricks.v1+cell": {
     "cellMetadata": {},
     "inputWidgets": {},
     "nuid": "da5e1e3a-008e-41fb-9fef-42d7c443a30c",
     "showTitle": false,
     "title": ""
    }
   },
   "outputs": [],
   "source": [
    "# combine labels\n",
    "df[\"labels\"] = df[[\"themeName\", \"manual_themeName\", \"manual_themeName2\"]].apply(lambda row: combine_non_na(row), axis=1)"
   ]
  },
  {
   "cell_type": "markdown",
   "metadata": {
    "application/vnd.databricks.v1+cell": {
     "cellMetadata": {},
     "inputWidgets": {},
     "nuid": "d832acf1-c453-4953-918e-330d3fdf52c3",
     "showTitle": false,
     "title": ""
    }
   },
   "source": [
    "## Find which labels are most common"
   ]
  },
  {
   "cell_type": "code",
   "execution_count": 0,
   "metadata": {
    "application/vnd.databricks.v1+cell": {
     "cellMetadata": {},
     "inputWidgets": {},
     "nuid": "7618f05d-67ab-4f28-b82d-fbebd28e134d",
     "showTitle": false,
     "title": ""
    }
   },
   "outputs": [],
   "source": [
    "df_counts = df[\"labels\"].explode().value_counts()"
   ]
  },
  {
   "cell_type": "code",
   "execution_count": 0,
   "metadata": {
    "application/vnd.databricks.v1+cell": {
     "cellMetadata": {},
     "inputWidgets": {},
     "nuid": "35a0f930-c1b6-4614-bbfd-517d368e30ef",
     "showTitle": false,
     "title": ""
    }
   },
   "outputs": [],
   "source": [
    "df_counts.to_frame().head(8).T"
   ]
  },
  {
   "cell_type": "markdown",
   "metadata": {
    "application/vnd.databricks.v1+cell": {
     "cellMetadata": {},
     "inputWidgets": {},
     "nuid": "a706cdee-97f8-45ea-b822-913f1f179178",
     "showTitle": false,
     "title": ""
    }
   },
   "source": [
    "## create an identifier to split if row has label or not"
   ]
  },
  {
   "cell_type": "code",
   "execution_count": 0,
   "metadata": {
    "application/vnd.databricks.v1+cell": {
     "cellMetadata": {},
     "inputWidgets": {},
     "nuid": "3b2b3d2e-f962-47f6-8519-949e8e840752",
     "showTitle": false,
     "title": ""
    }
   },
   "outputs": [],
   "source": [
    "df[\"labels\"] = df[\"labels\"].fillna(\"\")"
   ]
  },
  {
   "cell_type": "code",
   "execution_count": 0,
   "metadata": {
    "application/vnd.databricks.v1+cell": {
     "cellMetadata": {},
     "inputWidgets": {},
     "nuid": "08109dff-4f65-4c24-9ff8-321b2e765604",
     "showTitle": false,
     "title": ""
    }
   },
   "outputs": [],
   "source": [
    "df[\"split\"] = \"unlabeled\"\n",
    "mask = df[\"labels\"].apply(lambda x: len(x)) > 0\n",
    "df.loc[mask, \"split\"] = \"labeled\""
   ]
  },
  {
   "cell_type": "code",
   "execution_count": 0,
   "metadata": {
    "application/vnd.databricks.v1+cell": {
     "cellMetadata": {},
     "inputWidgets": {},
     "nuid": "92275d60-644e-4117-a218-dee7b688f0f4",
     "showTitle": false,
     "title": ""
    }
   },
   "outputs": [],
   "source": [
    "df[\"split\"].value_counts()"
   ]
  },
  {
   "cell_type": "markdown",
   "metadata": {
    "application/vnd.databricks.v1+cell": {
     "cellMetadata": {},
     "inputWidgets": {},
     "nuid": "3fe54903-63eb-40a6-a2b9-174ed3f62fb6",
     "showTitle": false,
     "title": ""
    }
   },
   "source": [
    "### drop duplicates"
   ]
  },
  {
   "cell_type": "code",
   "execution_count": 0,
   "metadata": {
    "application/vnd.databricks.v1+cell": {
     "cellMetadata": {},
     "inputWidgets": {},
     "nuid": "27955a05-d3b5-4dd6-a775-caacecac7dc2",
     "showTitle": false,
     "title": ""
    }
   },
   "outputs": [],
   "source": [
    "len_before = len(df)\n",
    "df = df.drop_duplicates(subset = \"text\")\n",
    "print(f\"Removed {(len_before - len(df))/len_before:.2%} duplicates.\")"
   ]
  },
  {
   "cell_type": "markdown",
   "metadata": {
    "application/vnd.databricks.v1+cell": {
     "cellMetadata": {},
     "inputWidgets": {},
     "nuid": "2924f8ae-a14f-4aa7-a313-2aa78e6f3977",
     "showTitle": false,
     "title": ""
    }
   },
   "source": [
    "# Create training sets"
   ]
  },
  {
   "cell_type": "code",
   "execution_count": 0,
   "metadata": {
    "application/vnd.databricks.v1+cell": {
     "cellMetadata": {},
     "inputWidgets": {},
     "nuid": "263077c2-2416-4f89-b424-3906d8e02535",
     "showTitle": false,
     "title": ""
    }
   },
   "outputs": [],
   "source": [
    "from sklearn.preprocessing import MultiLabelBinarizer"
   ]
  },
  {
   "cell_type": "markdown",
   "metadata": {
    "application/vnd.databricks.v1+cell": {
     "cellMetadata": {},
     "inputWidgets": {},
     "nuid": "78e0cf9c-06d9-47be-9203-79d485599b43",
     "showTitle": false,
     "title": ""
    }
   },
   "source": [
    "MultiLabelBinarizer takes a list of label names and creates a vector with zeros for absent labels and ones for present labels. We can test this by fitting MultiLabelBinarizer on all_labels to learn the mapping from label name to ID"
   ]
  },
  {
   "cell_type": "code",
   "execution_count": 0,
   "metadata": {
    "application/vnd.databricks.v1+cell": {
     "cellMetadata": {},
     "inputWidgets": {},
     "nuid": "709ad764-a161-4772-ac2f-ee2f3746d803",
     "showTitle": false,
     "title": ""
    }
   },
   "outputs": [],
   "source": [
    "all_labels = list(df[\"themeName\"].unique())"
   ]
  },
  {
   "cell_type": "code",
   "execution_count": 0,
   "metadata": {
    "application/vnd.databricks.v1+cell": {
     "cellMetadata": {},
     "inputWidgets": {},
     "nuid": "bb49b835-9db3-43d1-9aee-f0be6d1b8dff",
     "showTitle": false,
     "title": ""
    }
   },
   "outputs": [],
   "source": [
    "for theme in list(df[\"manual_themeName\"].unique()):\n",
    "    if theme not in all_labels:\n",
    "        all_labels.append(theme)"
   ]
  },
  {
   "cell_type": "code",
   "execution_count": 0,
   "metadata": {
    "application/vnd.databricks.v1+cell": {
     "cellMetadata": {},
     "inputWidgets": {},
     "nuid": "985001ed-f1ca-49e2-a49e-40087e8af4cc",
     "showTitle": false,
     "title": ""
    }
   },
   "outputs": [],
   "source": [
    "all_labels = [x for x in all_labels if str(x) != 'nan']"
   ]
  },
  {
   "cell_type": "code",
   "execution_count": 0,
   "metadata": {
    "application/vnd.databricks.v1+cell": {
     "cellMetadata": {},
     "inputWidgets": {},
     "nuid": "c7a173fa-b35b-4202-bf98-40a9d8c18e66",
     "showTitle": false,
     "title": ""
    }
   },
   "outputs": [],
   "source": [
    "mlb = MultiLabelBinarizer()\n",
    "mlb.fit([all_labels])\n",
    "mlb.transform([[\"Bio-weapon\", \"Vaccine Side Effects\"], [\"Home Remedies\"]])"
   ]
  },
  {
   "cell_type": "markdown",
   "metadata": {
    "application/vnd.databricks.v1+cell": {
     "cellMetadata": {},
     "inputWidgets": {},
     "nuid": "0f0bcf6a-6da5-4aab-8da3-edf371de5851",
     "showTitle": false,
     "title": ""
    }
   },
   "source": [
    "### Create splits iteratively"
   ]
  },
  {
   "cell_type": "code",
   "execution_count": 0,
   "metadata": {
    "application/vnd.databricks.v1+cell": {
     "cellMetadata": {},
     "inputWidgets": {},
     "nuid": "1d910399-1346-425c-866f-f62a5936b19e",
     "showTitle": false,
     "title": ""
    }
   },
   "outputs": [],
   "source": [
    "df_clean = df[[\"text\", \"labels\", \"split\"]].reset_index(drop=True).copy()\n",
    "\n",
    "# unsupervised set\n",
    "df_unsup = df_clean.loc[df_clean[\"split\"] == \"unlabeled\", [\"text\", \"labels\"]]\n",
    "\n",
    "# supervised set\n",
    "df_sup = df_clean.loc[df_clean[\"split\"] == \"labeled\", [\"text\", \"labels\"]]"
   ]
  },
  {
   "cell_type": "markdown",
   "metadata": {
    "application/vnd.databricks.v1+cell": {
     "cellMetadata": {},
     "inputWidgets": {},
     "nuid": "9d3356f4-89bc-412e-adba-314d313d68bd",
     "showTitle": false,
     "title": ""
    }
   },
   "source": [
    "### Create a dataset so all these splits are in one"
   ]
  },
  {
   "cell_type": "code",
   "execution_count": 0,
   "metadata": {
    "application/vnd.databricks.v1+cell": {
     "cellMetadata": {},
     "inputWidgets": {},
     "nuid": "f10ae3de-ba31-4b7e-9989-32234a1dbf68",
     "showTitle": false,
     "title": ""
    }
   },
   "outputs": [],
   "source": [
    "from datasets import Dataset, DatasetDict\n",
    "\n",
    "ds = DatasetDict({\n",
    "    \"sup\": Dataset.from_pandas(df_sup.reset_index(drop=True)),\n",
    "    \"unsup\": Dataset.from_pandas(df_unsup.reset_index(drop=True))})\n"
   ]
  },
  {
   "cell_type": "code",
   "execution_count": 0,
   "metadata": {
    "application/vnd.databricks.v1+cell": {
     "cellMetadata": {},
     "inputWidgets": {},
     "nuid": "c71bf022-90dc-4609-aecf-9938b2d622cd",
     "showTitle": false,
     "title": ""
    }
   },
   "outputs": [],
   "source": [
    "ds"
   ]
  },
  {
   "cell_type": "markdown",
   "metadata": {
    "application/vnd.databricks.v1+cell": {
     "cellMetadata": {},
     "inputWidgets": {},
     "nuid": "1afdb062-a6f5-4761-a47c-9ec30d7e305c",
     "showTitle": false,
     "title": ""
    }
   },
   "source": [
    "### Create training slides to investigate what's the right balance of supervised to unsupervised data needed"
   ]
  },
  {
   "cell_type": "markdown",
   "metadata": {
    "application/vnd.databricks.v1+cell": {
     "cellMetadata": {},
     "inputWidgets": {},
     "nuid": "fff1c83f-b7b9-45c3-a6ff-318e01981f24",
     "showTitle": false,
     "title": ""
    }
   },
   "source": [
    "# Use embeddings as a lookup table"
   ]
  },
  {
   "cell_type": "code",
   "execution_count": 0,
   "metadata": {
    "application/vnd.databricks.v1+cell": {
     "cellMetadata": {},
     "inputWidgets": {},
     "nuid": "237e3f5b-a440-4523-a7b9-e181bcef79a5",
     "showTitle": false,
     "title": ""
    }
   },
   "outputs": [],
   "source": [
    "import torch\n",
    "from transformers import AutoTokenizer, AutoModel"
   ]
  },
  {
   "cell_type": "code",
   "execution_count": 0,
   "metadata": {
    "application/vnd.databricks.v1+cell": {
     "cellMetadata": {},
     "inputWidgets": {},
     "nuid": "2d18d9c6-4737-4507-af36-1b41be4286ae",
     "showTitle": false,
     "title": ""
    }
   },
   "outputs": [],
   "source": [
    "model_ckpt = \"miguelvictor/python-gpt2-large\"\n",
    "tokenizer = AutoTokenizer.from_pretrained(model_ckpt)\n",
    "model = AutoModel.from_pretrained(model_ckpt)\n",
    "\n",
    "def mean_pooling(model_output, attention_mask):\n",
    "    # Extract the token embeddings\n",
    "    token_embeddings = model_output[0]\n",
    "    # Compute the attention mask\n",
    "    input_mask_expanded = (attention_mask\n",
    "                           .unsqueeze(-1)\n",
    "                           .expand(token_embeddings.size())\n",
    "                           .float())\n",
    "    # Sum the embeddings, but ignore masked tokens\n",
    "    sum_embeddings = torch.sum(token_embeddings * input_mask_expanded, 1)\n",
    "    sum_mask = torch.clamp(input_mask_expanded.sum(1), min=1e-9)\n",
    "    # Return the average as a single vector\n",
    "    return sum_embeddings / sum_mask\n",
    "\n",
    "def embed_text(examples):\n",
    "    inputs = tokenizer(examples[\"text\"], padding=True, truncation=True,\n",
    "                       max_length=128, return_tensors=\"pt\")\n",
    "    with torch.no_grad():\n",
    "        model_output = model(**inputs)\n",
    "    pooled_embeds = mean_pooling(model_output, inputs[\"attention_mask\"])\n",
    "    return {\"embedding\": pooled_embeds.cpu().numpy()}"
   ]
  },
  {
   "cell_type": "markdown",
   "metadata": {
    "application/vnd.databricks.v1+cell": {
     "cellMetadata": {},
     "inputWidgets": {},
     "nuid": "694afa2a-5d24-4e28-b404-d1e2a1e7d2d4",
     "showTitle": false,
     "title": ""
    }
   },
   "source": [
    "## Figuring out the type for variables"
   ]
  },
  {
   "cell_type": "code",
   "execution_count": 0,
   "metadata": {
    "application/vnd.databricks.v1+cell": {
     "cellMetadata": {},
     "inputWidgets": {},
     "nuid": "8c5b89ad-3752-46ba-8e8a-62460490b1d7",
     "showTitle": false,
     "title": ""
    }
   },
   "outputs": [],
   "source": [
    "inputs = tokenizer(ds[\"sup\"][\"text\"], padding=True, truncation=True,\n",
    "                       max_length=128, return_tensors=\"pt\")"
   ]
  },
  {
   "cell_type": "code",
   "execution_count": 0,
   "metadata": {
    "application/vnd.databricks.v1+cell": {
     "cellMetadata": {},
     "inputWidgets": {},
     "nuid": "8dbbdc5b-5e1b-483b-b6c1-8152becd132d",
     "showTitle": false,
     "title": ""
    }
   },
   "outputs": [],
   "source": [
    "type(inputs[\"attention_mask\"])"
   ]
  },
  {
   "cell_type": "code",
   "execution_count": 0,
   "metadata": {
    "application/vnd.databricks.v1+cell": {
     "cellMetadata": {},
     "inputWidgets": {},
     "nuid": "ca5479ad-b93f-4e89-976c-626f28f5b345",
     "showTitle": false,
     "title": ""
    }
   },
   "outputs": [],
   "source": [
    "with torch.no_grad():\n",
    "    model_output = model(**inputs)"
   ]
  },
  {
   "cell_type": "code",
   "execution_count": 0,
   "metadata": {
    "application/vnd.databricks.v1+cell": {
     "cellMetadata": {},
     "inputWidgets": {},
     "nuid": "f68a44ba-ea99-4feb-bd56-e3a9adb2630f",
     "showTitle": false,
     "title": ""
    }
   },
   "outputs": [],
   "source": [
    "type(model_output[0])"
   ]
  },
  {
   "cell_type": "markdown",
   "metadata": {
    "application/vnd.databricks.v1+cell": {
     "cellMetadata": {},
     "inputWidgets": {},
     "nuid": "394fe30a-985a-409b-aca2-0108dc0065ff",
     "showTitle": false,
     "title": ""
    }
   },
   "source": [
    "### Get embedding for each split"
   ]
  },
  {
   "cell_type": "code",
   "execution_count": 0,
   "metadata": {
    "application/vnd.databricks.v1+cell": {
     "cellMetadata": {},
     "inputWidgets": {},
     "nuid": "2b4ad612-1160-4201-afa5-ab69cac65714",
     "showTitle": false,
     "title": ""
    }
   },
   "outputs": [],
   "source": [
    "tokenizer.pad_token = tokenizer.eos_token\n"
   ]
  },
  {
   "cell_type": "code",
   "execution_count": 0,
   "metadata": {
    "application/vnd.databricks.v1+cell": {
     "cellMetadata": {},
     "inputWidgets": {},
     "nuid": "82892385-0e8e-4429-b009-001b011c484e",
     "showTitle": false,
     "title": ""
    }
   },
   "outputs": [],
   "source": [
    "embs_train = ds[\"sup\"].map(embed_text, batched=True, batch_size=16)"
   ]
  },
  {
   "cell_type": "code",
   "execution_count": 0,
   "metadata": {
    "application/vnd.databricks.v1+cell": {
     "cellMetadata": {},
     "inputWidgets": {},
     "nuid": "ae5d997b-886f-4af4-b8cc-4dc9aa71d2a6",
     "showTitle": false,
     "title": ""
    }
   },
   "outputs": [],
   "source": [
    "embs_test = ds[\"unsup\"].map(embed_text, batched=True, batch_size=16)"
   ]
  },
  {
   "cell_type": "markdown",
   "metadata": {
    "application/vnd.databricks.v1+cell": {
     "cellMetadata": {},
     "inputWidgets": {},
     "nuid": "c5e6c83e-7370-45fe-8234-f5baf82125d0",
     "showTitle": false,
     "title": ""
    },
    "tags": []
   },
   "source": [
    "## Write to pickle to save"
   ]
  },
  {
   "cell_type": "code",
   "execution_count": 0,
   "metadata": {
    "application/vnd.databricks.v1+cell": {
     "cellMetadata": {},
     "inputWidgets": {},
     "nuid": "1e1fe0fe-609d-4c97-880c-3c23206edf5b",
     "showTitle": false,
     "title": ""
    }
   },
   "outputs": [],
   "source": [
    "import pickle"
   ]
  },
  {
   "cell_type": "code",
   "execution_count": 0,
   "metadata": {
    "application/vnd.databricks.v1+cell": {
     "cellMetadata": {},
     "inputWidgets": {},
     "nuid": "e3b37db7-c679-4b4f-a22f-4e827ab25b26",
     "showTitle": false,
     "title": ""
    }
   },
   "outputs": [],
   "source": [
    "embs_train_file = open(\"amp_embs_labels\", \"ab\")\n",
    "embs_test_file = open(\"amp_embs_test\", \"ab\")"
   ]
  },
  {
   "cell_type": "code",
   "execution_count": 0,
   "metadata": {
    "application/vnd.databricks.v1+cell": {
     "cellMetadata": {},
     "inputWidgets": {},
     "nuid": "b2677302-4db8-462e-8cc5-d40c19dd8532",
     "showTitle": false,
     "title": ""
    }
   },
   "outputs": [],
   "source": [
    "embs_train"
   ]
  },
  {
   "cell_type": "markdown",
   "metadata": {
    "application/vnd.databricks.v1+cell": {
     "cellMetadata": {},
     "inputWidgets": {},
     "nuid": "ddc425de-f27a-4c81-85b8-94fd94156446",
     "showTitle": false,
     "title": ""
    }
   },
   "source": [
    "### For when we want to load data back in"
   ]
  },
  {
   "cell_type": "code",
   "execution_count": 0,
   "metadata": {
    "application/vnd.databricks.v1+cell": {
     "cellMetadata": {},
     "inputWidgets": {},
     "nuid": "bd9f94fc-13ef-4982-95a9-265f9805d439",
     "showTitle": false,
     "title": ""
    }
   },
   "outputs": [],
   "source": [
    "embs_train_file = open(\"amp_embs_labels\", \"rb\")\n",
    "embs_test_file = open(\"amp_embs_test\", \"rb\")"
   ]
  },
  {
   "cell_type": "code",
   "execution_count": 0,
   "metadata": {
    "application/vnd.databricks.v1+cell": {
     "cellMetadata": {},
     "inputWidgets": {},
     "nuid": "bdcedddb-3615-47cd-a49c-8056d55a55d7",
     "showTitle": false,
     "title": ""
    }
   },
   "outputs": [],
   "source": [
    "embs_train = pickle.load(embs_train_file)\n",
    "embs_test = pickle.load(embs_test_file)"
   ]
  },
  {
   "cell_type": "markdown",
   "metadata": {
    "application/vnd.databricks.v1+cell": {
     "cellMetadata": {},
     "inputWidgets": {},
     "nuid": "decbbbb0-6b11-4591-ab82-ce2571cbd7e0",
     "showTitle": false,
     "title": ""
    }
   },
   "source": [
    "## Install Faiss"
   ]
  },
  {
   "cell_type": "code",
   "execution_count": 0,
   "metadata": {
    "application/vnd.databricks.v1+cell": {
     "cellMetadata": {},
     "inputWidgets": {},
     "nuid": "e0e6e1e1-5b55-4c8b-b215-ff12016a3b31",
     "showTitle": false,
     "title": ""
    },
    "tags": []
   },
   "outputs": [],
   "source": [
    "pip install faiss-gpu"
   ]
  },
  {
   "cell_type": "code",
   "execution_count": 0,
   "metadata": {
    "application/vnd.databricks.v1+cell": {
     "cellMetadata": {},
     "inputWidgets": {},
     "nuid": "fbd1835c-74fe-4464-bb87-d7a4040bd850",
     "showTitle": false,
     "title": ""
    },
    "tags": []
   },
   "outputs": [],
   "source": [
    "import faiss"
   ]
  },
  {
   "cell_type": "markdown",
   "metadata": {
    "application/vnd.databricks.v1+cell": {
     "cellMetadata": {},
     "inputWidgets": {},
     "nuid": "0b31be15-dd27-42b0-9913-3f62d5731578",
     "showTitle": false,
     "title": ""
    }
   },
   "source": [
    "## Remove the fiass embedding so we can compare to NB"
   ]
  },
  {
   "cell_type": "code",
   "execution_count": 0,
   "metadata": {
    "application/vnd.databricks.v1+cell": {
     "cellMetadata": {},
     "inputWidgets": {},
     "nuid": "bacf8b64-bb80-41e1-9244-1bd30c4e0276",
     "showTitle": false,
     "title": ""
    },
    "tags": []
   },
   "outputs": [],
   "source": [
    "test_queries = np.array(embs_test[\"embedding\"], dtype=np.float32)"
   ]
  },
  {
   "cell_type": "code",
   "execution_count": 0,
   "metadata": {
    "application/vnd.databricks.v1+cell": {
     "cellMetadata": {},
     "inputWidgets": {},
     "nuid": "c5679d38-b90e-4648-9aef-8d982c06a244",
     "showTitle": false,
     "title": ""
    }
   },
   "outputs": [],
   "source": [
    "embs_train.add_faiss_index(\"embedding\")"
   ]
  },
  {
   "cell_type": "code",
   "execution_count": 0,
   "metadata": {
    "application/vnd.databricks.v1+cell": {
     "cellMetadata": {},
     "inputWidgets": {},
     "nuid": "0c632f87-51cb-4ecb-9dc7-d9917242ad90",
     "showTitle": false,
     "title": ""
    }
   },
   "outputs": [],
   "source": [
    "_, samples = embs_train.get_nearest_examples_batch(\"embedding\", test_queries, k = 4)"
   ]
  },
  {
   "cell_type": "code",
   "execution_count": 0,
   "metadata": {
    "application/vnd.databricks.v1+cell": {
     "cellMetadata": {},
     "inputWidgets": {},
     "nuid": "f7166ec0-b3f5-4742-9648-e5b0e820df8f",
     "showTitle": false,
     "title": ""
    }
   },
   "outputs": [],
   "source": [
    "len(samples)"
   ]
  },
  {
   "cell_type": "code",
   "execution_count": 0,
   "metadata": {
    "application/vnd.databricks.v1+cell": {
     "cellMetadata": {},
     "inputWidgets": {},
     "nuid": "1bcdbe68-f806-45fd-b817-3c9e829cfa92",
     "showTitle": false,
     "title": ""
    }
   },
   "outputs": [],
   "source": [
    "len(y_pred)"
   ]
  },
  {
   "cell_type": "code",
   "execution_count": 0,
   "metadata": {
    "application/vnd.databricks.v1+cell": {
     "cellMetadata": {},
     "inputWidgets": {},
     "nuid": "82b9a609-fe92-4193-9967-db8c7c833755",
     "showTitle": false,
     "title": ""
    }
   },
   "outputs": [],
   "source": [
    "samples[0][\"text\"]"
   ]
  },
  {
   "cell_type": "code",
   "execution_count": 0,
   "metadata": {
    "application/vnd.databricks.v1+cell": {
     "cellMetadata": {},
     "inputWidgets": {},
     "nuid": "7d3153ef-664f-4c8d-8edf-dfced5645292",
     "showTitle": false,
     "title": ""
    }
   },
   "outputs": [],
   "source": [
    "samples[0][\"labels\"]"
   ]
  },
  {
   "cell_type": "code",
   "execution_count": 0,
   "metadata": {
    "application/vnd.databricks.v1+cell": {
     "cellMetadata": {},
     "inputWidgets": {},
     "nuid": "b8ff0ad8-4340-46b0-8817-894f24b5ce6e",
     "showTitle": false,
     "title": ""
    }
   },
   "outputs": [],
   "source": [
    "def get_sample_preds(sample):\n",
    "    return sample[\"labels\"][0:2]"
   ]
  },
  {
   "cell_type": "code",
   "execution_count": 0,
   "metadata": {
    "application/vnd.databricks.v1+cell": {
     "cellMetadata": {},
     "inputWidgets": {},
     "nuid": "c2862055-5c43-4418-a968-655cf20b8b1a",
     "showTitle": false,
     "title": ""
    }
   },
   "outputs": [],
   "source": [
    "y_pred = [get_sample_preds(s) for s in samples]"
   ]
  },
  {
   "cell_type": "code",
   "execution_count": 0,
   "metadata": {
    "application/vnd.databricks.v1+cell": {
     "cellMetadata": {},
     "inputWidgets": {},
     "nuid": "64802251-3233-4883-ae83-9aef7c7ff88f",
     "showTitle": false,
     "title": ""
    }
   },
   "outputs": [],
   "source": [
    "y_pred[64]"
   ]
  },
  {
   "cell_type": "code",
   "execution_count": 0,
   "metadata": {
    "application/vnd.databricks.v1+cell": {
     "cellMetadata": {},
     "inputWidgets": {},
     "nuid": "afbf4d4f-a691-45b0-b046-a2e5ecc98cd6",
     "showTitle": false,
     "title": ""
    }
   },
   "outputs": [],
   "source": [
    "predictions = pd.DataFrame({\"text\": embs_test[\"text\"],\n",
    "             \"themeName\": y_pred})"
   ]
  },
  {
   "cell_type": "code",
   "execution_count": 0,
   "metadata": {
    "application/vnd.databricks.v1+cell": {
     "cellMetadata": {},
     "inputWidgets": {},
     "nuid": "3b0d87cd-26f7-465e-a73c-8b2f24e14bed",
     "showTitle": false,
     "title": ""
    }
   },
   "outputs": [],
   "source": [
    "predictions"
   ]
  },
  {
   "cell_type": "code",
   "execution_count": 0,
   "metadata": {
    "application/vnd.databricks.v1+cell": {
     "cellMetadata": {},
     "inputWidgets": {},
     "nuid": "f8be6bc7-f170-4a54-9d18-652d16714f88",
     "showTitle": false,
     "title": ""
    }
   },
   "outputs": [],
   "source": [
    "predictions.to_csv(\"few_shot_predictions.csv\", index = False)"
   ]
  },
  {
   "cell_type": "markdown",
   "metadata": {
    "application/vnd.databricks.v1+cell": {
     "cellMetadata": {},
     "inputWidgets": {},
     "nuid": "fd37c727-a8a2-4bcb-a7cd-6267bfbccd78",
     "showTitle": false,
     "title": ""
    }
   },
   "source": [
    "# Try getting prediction for single input"
   ]
  },
  {
   "cell_type": "code",
   "execution_count": 0,
   "metadata": {
    "application/vnd.databricks.v1+cell": {
     "cellMetadata": {},
     "inputWidgets": {},
     "nuid": "4ac603de-030a-49c1-bc4a-618bb413d1f3",
     "showTitle": false,
     "title": ""
    }
   },
   "outputs": [],
   "source": [
    "sample_text = \"CBD oil is a cure for COVID-19.\""
   ]
  },
  {
   "cell_type": "code",
   "execution_count": 0,
   "metadata": {
    "application/vnd.databricks.v1+cell": {
     "cellMetadata": {},
     "inputWidgets": {},
     "nuid": "030a18fe-4140-49a1-9b45-cec52b276491",
     "showTitle": false,
     "title": ""
    }
   },
   "outputs": [],
   "source": [
    "def embed_single_text(text):\n",
    "    inputs = tokenizer(text, padding=True, truncation=True,\n",
    "                       max_length=128, return_tensors=\"pt\")\n",
    "    with torch.no_grad():\n",
    "        model_output = model(**inputs)\n",
    "    pooled_embeds = mean_pooling(model_output, inputs[\"attention_mask\"])\n",
    "    return {\"embedding\": pooled_embeds.cpu().numpy()}"
   ]
  },
  {
   "cell_type": "code",
   "execution_count": 0,
   "metadata": {
    "application/vnd.databricks.v1+cell": {
     "cellMetadata": {},
     "inputWidgets": {},
     "nuid": "13dfd777-3ab2-49d6-b1fc-0b0ad2bcff88",
     "showTitle": false,
     "title": ""
    }
   },
   "outputs": [],
   "source": [
    "embs_sample = embed_single_text(sample_text)"
   ]
  },
  {
   "cell_type": "code",
   "execution_count": 0,
   "metadata": {
    "application/vnd.databricks.v1+cell": {
     "cellMetadata": {},
     "inputWidgets": {},
     "nuid": "568885d0-3e02-489e-9801-88e5cd5ac3fd",
     "showTitle": false,
     "title": ""
    }
   },
   "outputs": [],
   "source": [
    "scores, sample = embs_train.get_nearest_examples_batch(\"embedding\", embs_sample[\"embedding\"], k = 4)"
   ]
  },
  {
   "cell_type": "code",
   "execution_count": 0,
   "metadata": {
    "application/vnd.databricks.v1+cell": {
     "cellMetadata": {},
     "inputWidgets": {},
     "nuid": "a6bc8959-8f5d-47d5-9465-35bfa19a8987",
     "showTitle": false,
     "title": ""
    }
   },
   "outputs": [],
   "source": [
    "sample[0][\"labels\"]"
   ]
  }
 ],
 "metadata": {
  "application/vnd.databricks.v1+notebook": {
   "dashboards": [],
   "language": "python",
   "notebookMetadata": {},
   "notebookName": "few_shot_classification_new_data",
   "widgets": {}
  },
  "kernelspec": {
   "display_name": "Python 3 (ipykernel)",
   "language": "python",
   "name": "python3"
  },
  "language_info": {
   "codemirror_mode": {
    "name": "ipython",
    "version": 3
   },
   "file_extension": ".py",
   "mimetype": "text/x-python",
   "name": "python",
   "nbconvert_exporter": "python",
   "pygments_lexer": "ipython3",
   "version": "3.8.8"
  }
 },
 "nbformat": 4,
 "nbformat_minor": 0
}
