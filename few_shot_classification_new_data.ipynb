{
 "cells": [
  {
   "cell_type": "code",
   "execution_count": 1,
   "id": "d603c95f",
   "metadata": {},
   "outputs": [],
   "source": [
    "import pandas as pd\n",
    "import numpy as np\n",
    "import matplotlib.pyplot as plt\n",
    "pd.set_option(\"display.max_columns\" , 50)"
   ]
  },
  {
   "cell_type": "markdown",
   "id": "02ba7e74-c7d5-4dd4-9a70-ff9ec25b515b",
   "metadata": {},
   "source": [
    "### Read in data"
   ]
  },
  {
   "cell_type": "code",
   "execution_count": 2,
   "id": "0b6572ca-7e63-4fe9-ab6f-db1bcdd673f7",
   "metadata": {},
   "outputs": [],
   "source": [
    "df = pd.read_csv(\"amp_labels_viv.csv\")"
   ]
  },
  {
   "cell_type": "markdown",
   "id": "5e09dad4-37be-4f35-ba26-151c4ce6634c",
   "metadata": {},
   "source": [
    "### read in covid_lies data"
   ]
  },
  {
   "cell_type": "code",
   "execution_count": 3,
   "id": "07110452-7e4f-4074-80da-ca34c10521fd",
   "metadata": {},
   "outputs": [],
   "source": [
    "cl = pd.read_csv(\"covid_lies_sample.csv\")"
   ]
  },
  {
   "cell_type": "code",
   "execution_count": 4,
   "id": "7d2be7c8-c692-4cc5-9a39-1686f92883d4",
   "metadata": {},
   "outputs": [],
   "source": [
    "cl.rename(columns={\"misconception\": \"text\"}, inplace = True)"
   ]
  },
  {
   "cell_type": "code",
   "execution_count": 5,
   "id": "bbdb14ad-8178-4c07-81c9-63a63414e7ac",
   "metadata": {},
   "outputs": [],
   "source": [
    "# combine with AMP data\n",
    "df = pd.concat([df, cl], ignore_index=True)"
   ]
  },
  {
   "cell_type": "code",
   "execution_count": 6,
   "id": "72e84be9-8e9c-4643-bcf7-2eacaecf50d6",
   "metadata": {},
   "outputs": [],
   "source": [
    "def combine_non_na(row):\n",
    "    return [value for value in row if pd.notna(value)]"
   ]
  },
  {
   "cell_type": "code",
   "execution_count": 7,
   "id": "337446a3-fa6d-4edb-995e-ac4f294177a6",
   "metadata": {},
   "outputs": [],
   "source": [
    "# combine labels\n",
    "df[\"labels\"] = df[[\"themeName\", \"manual_themeName\", \"manual_themeName2\"]].apply(lambda row: combine_non_na(row), axis=1)"
   ]
  },
  {
   "cell_type": "markdown",
   "id": "fc42d87a",
   "metadata": {},
   "source": [
    "## Find which labels are most common"
   ]
  },
  {
   "cell_type": "code",
   "execution_count": 8,
   "id": "2b511322",
   "metadata": {},
   "outputs": [],
   "source": [
    "df_counts = df[\"labels\"].explode().value_counts()"
   ]
  },
  {
   "cell_type": "code",
   "execution_count": 9,
   "id": "45185c69",
   "metadata": {},
   "outputs": [
    {
     "data": {
      "text/html": [
       "<div>\n",
       "<style scoped>\n",
       "    .dataframe tbody tr th:only-of-type {\n",
       "        vertical-align: middle;\n",
       "    }\n",
       "\n",
       "    .dataframe tbody tr th {\n",
       "        vertical-align: top;\n",
       "    }\n",
       "\n",
       "    .dataframe thead th {\n",
       "        text-align: right;\n",
       "    }\n",
       "</style>\n",
       "<table border=\"1\" class=\"dataframe\">\n",
       "  <thead>\n",
       "    <tr style=\"text-align: right;\">\n",
       "      <th></th>\n",
       "      <th>Vaccine Side Effects</th>\n",
       "      <th>Conspiracy</th>\n",
       "      <th>Vaccine Efficacy</th>\n",
       "      <th>Home Remedies</th>\n",
       "      <th>Case Reporting</th>\n",
       "      <th>Bio-weapon</th>\n",
       "      <th>Vaccine ingredients</th>\n",
       "      <th>Government</th>\n",
       "    </tr>\n",
       "  </thead>\n",
       "  <tbody>\n",
       "    <tr>\n",
       "      <th>labels</th>\n",
       "      <td>19</td>\n",
       "      <td>14</td>\n",
       "      <td>7</td>\n",
       "      <td>6</td>\n",
       "      <td>6</td>\n",
       "      <td>5</td>\n",
       "      <td>3</td>\n",
       "      <td>3</td>\n",
       "    </tr>\n",
       "  </tbody>\n",
       "</table>\n",
       "</div>"
      ],
      "text/plain": [
       "        Vaccine Side Effects  Conspiracy  Vaccine Efficacy  Home Remedies  \\\n",
       "labels                    19          14                 7              6   \n",
       "\n",
       "        Case Reporting  Bio-weapon  Vaccine ingredients  Government  \n",
       "labels               6           5                    3           3  "
      ]
     },
     "execution_count": 9,
     "metadata": {},
     "output_type": "execute_result"
    }
   ],
   "source": [
    "df_counts.to_frame().head(8).T"
   ]
  },
  {
   "cell_type": "markdown",
   "id": "f73b9ba2",
   "metadata": {},
   "source": [
    "## create an identifier to split if row has label or not"
   ]
  },
  {
   "cell_type": "code",
   "execution_count": 10,
   "id": "9f3fb899-28be-4ee0-b9c5-3305cff1aeb8",
   "metadata": {},
   "outputs": [],
   "source": [
    "df[\"labels\"] = df[\"labels\"].fillna(\"\")"
   ]
  },
  {
   "cell_type": "code",
   "execution_count": 11,
   "id": "727a89f0",
   "metadata": {},
   "outputs": [],
   "source": [
    "df[\"split\"] = \"unlabeled\"\n",
    "mask = df[\"labels\"].apply(lambda x: len(x)) > 0\n",
    "df.loc[mask, \"split\"] = \"labeled\""
   ]
  },
  {
   "cell_type": "code",
   "execution_count": 12,
   "id": "25fb86a9",
   "metadata": {},
   "outputs": [
    {
     "data": {
      "text/plain": [
       "unlabeled    65\n",
       "labeled      60\n",
       "Name: split, dtype: int64"
      ]
     },
     "execution_count": 12,
     "metadata": {},
     "output_type": "execute_result"
    }
   ],
   "source": [
    "df[\"split\"].value_counts()"
   ]
  },
  {
   "cell_type": "markdown",
   "id": "8df61265",
   "metadata": {},
   "source": [
    "### drop duplicates"
   ]
  },
  {
   "cell_type": "code",
   "execution_count": 13,
   "id": "4d197242",
   "metadata": {},
   "outputs": [
    {
     "name": "stdout",
     "output_type": "stream",
     "text": [
      "Removed 0.00% duplicates.\n"
     ]
    }
   ],
   "source": [
    "len_before = len(df)\n",
    "df = df.drop_duplicates(subset = \"text\")\n",
    "print(f\"Removed {(len_before - len(df))/len_before:.2%} duplicates.\")"
   ]
  },
  {
   "cell_type": "markdown",
   "id": "42a22f73",
   "metadata": {},
   "source": [
    "# Create training sets"
   ]
  },
  {
   "cell_type": "code",
   "execution_count": 14,
   "id": "51de7120",
   "metadata": {},
   "outputs": [],
   "source": [
    "from sklearn.preprocessing import MultiLabelBinarizer"
   ]
  },
  {
   "cell_type": "markdown",
   "id": "ba6c313c",
   "metadata": {},
   "source": [
    "MultiLabelBinarizer takes a list of label names and creates a vector with zeros for absent labels and ones for present labels. We can test this by fitting MultiLabelBinarizer on all_labels to learn the mapping from label name to ID"
   ]
  },
  {
   "cell_type": "code",
   "execution_count": 15,
   "id": "bdcece45-aa92-4541-8169-1fd0e78bb08b",
   "metadata": {},
   "outputs": [],
   "source": [
    "all_labels = list(df[\"themeName\"].unique())"
   ]
  },
  {
   "cell_type": "code",
   "execution_count": 16,
   "id": "b4e5d633-a9b9-4d9c-a975-5e4a0b9c5ca3",
   "metadata": {},
   "outputs": [],
   "source": [
    "for theme in list(df[\"manual_themeName\"].unique()):\n",
    "    if theme not in all_labels:\n",
    "        all_labels.append(theme)"
   ]
  },
  {
   "cell_type": "code",
   "execution_count": 17,
   "id": "9b8fd322",
   "metadata": {},
   "outputs": [],
   "source": [
    "all_labels = [x for x in all_labels if str(x) != 'nan']"
   ]
  },
  {
   "cell_type": "code",
   "execution_count": 18,
   "id": "957496cd",
   "metadata": {},
   "outputs": [
    {
     "data": {
      "text/plain": [
       "array([[1, 0, 0, 0, 0, 0, 0, 0, 0, 0, 0, 0, 0, 0, 0, 0, 1, 0],\n",
       "       [0, 0, 0, 0, 0, 0, 1, 0, 0, 0, 0, 0, 0, 0, 0, 0, 0, 0]])"
      ]
     },
     "execution_count": 18,
     "metadata": {},
     "output_type": "execute_result"
    }
   ],
   "source": [
    "mlb = MultiLabelBinarizer()\n",
    "mlb.fit([all_labels])\n",
    "mlb.transform([[\"Bio-weapon\", \"Vaccine Side Effects\"], [\"Home Remedies\"]])"
   ]
  },
  {
   "cell_type": "markdown",
   "id": "2bacab6b-80e2-48b4-9438-71fa062d38e6",
   "metadata": {},
   "source": [
    "### Create splits iteratively "
   ]
  },
  {
   "cell_type": "code",
   "execution_count": 19,
   "id": "2163d903-fe4d-4ce4-9bde-0c7f27401527",
   "metadata": {},
   "outputs": [],
   "source": [
    "df_clean = df[[\"text\", \"labels\", \"split\"]].reset_index(drop=True).copy()\n",
    "\n",
    "# unsupervised set\n",
    "df_unsup = df_clean.loc[df_clean[\"split\"] == \"unlabeled\", [\"text\", \"labels\"]]\n",
    "\n",
    "# supervised set\n",
    "df_sup = df_clean.loc[df_clean[\"split\"] == \"labeled\", [\"text\", \"labels\"]]"
   ]
  },
  {
   "cell_type": "markdown",
   "id": "477f4b87-9c05-4cd3-a913-0588ea1bd618",
   "metadata": {},
   "source": [
    "### Create a dataset so all these splits are in one"
   ]
  },
  {
   "cell_type": "code",
   "execution_count": 20,
   "id": "998db16c-101d-4db7-b0b9-bcadbacb8b50",
   "metadata": {},
   "outputs": [],
   "source": [
    "from datasets import Dataset, DatasetDict\n",
    "\n",
    "ds = DatasetDict({\n",
    "    \"sup\": Dataset.from_pandas(df_sup.reset_index(drop=True)),\n",
    "    \"unsup\": Dataset.from_pandas(df_unsup.reset_index(drop=True))})\n"
   ]
  },
  {
   "cell_type": "code",
   "execution_count": 21,
   "id": "b7306c74-9668-497c-bef8-1607b336443a",
   "metadata": {},
   "outputs": [
    {
     "data": {
      "text/plain": [
       "DatasetDict({\n",
       "    sup: Dataset({\n",
       "        features: ['text', 'labels'],\n",
       "        num_rows: 60\n",
       "    })\n",
       "    unsup: Dataset({\n",
       "        features: ['text', 'labels'],\n",
       "        num_rows: 65\n",
       "    })\n",
       "})"
      ]
     },
     "execution_count": 21,
     "metadata": {},
     "output_type": "execute_result"
    }
   ],
   "source": [
    "ds"
   ]
  },
  {
   "cell_type": "markdown",
   "id": "9077fd4a-f440-4098-82e9-300797821cf0",
   "metadata": {},
   "source": [
    "### Create training slides to investigate what's the right balance of supervised to unsupervised data needed"
   ]
  },
  {
   "cell_type": "markdown",
   "id": "f8a64639-9845-411d-abf2-abbfe3fd22ce",
   "metadata": {},
   "source": [
    "# Use embeddings as a lookup table"
   ]
  },
  {
   "cell_type": "code",
   "execution_count": 22,
   "id": "17bc47d7-f9d9-475f-b529-51ead5e53743",
   "metadata": {},
   "outputs": [],
   "source": [
    "import torch\n",
    "from transformers import AutoTokenizer, AutoModel"
   ]
  },
  {
   "cell_type": "code",
   "execution_count": 23,
   "id": "29693341-2c61-43e8-aea7-2ea1565b660e",
   "metadata": {},
   "outputs": [
    {
     "name": "stderr",
     "output_type": "stream",
     "text": [
      "Some weights of the model checkpoint at miguelvictor/python-gpt2-large were not used when initializing GPT2Model: ['lm_head.weight']\n",
      "- This IS expected if you are initializing GPT2Model from the checkpoint of a model trained on another task or with another architecture (e.g. initializing a BertForSequenceClassification model from a BertForPreTraining model).\n",
      "- This IS NOT expected if you are initializing GPT2Model from the checkpoint of a model that you expect to be exactly identical (initializing a BertForSequenceClassification model from a BertForSequenceClassification model).\n"
     ]
    }
   ],
   "source": [
    "model_ckpt = \"miguelvictor/python-gpt2-large\"\n",
    "tokenizer = AutoTokenizer.from_pretrained(model_ckpt)\n",
    "model = AutoModel.from_pretrained(model_ckpt)\n",
    "\n",
    "def mean_pooling(model_output, attention_mask):\n",
    "    # Extract the token embeddings\n",
    "    token_embeddings = model_output[0]\n",
    "    # Compute the attention mask\n",
    "    input_mask_expanded = (attention_mask\n",
    "                           .unsqueeze(-1)\n",
    "                           .expand(token_embeddings.size())\n",
    "                           .float())\n",
    "    # Sum the embeddings, but ignore masked tokens\n",
    "    sum_embeddings = torch.sum(token_embeddings * input_mask_expanded, 1)\n",
    "    sum_mask = torch.clamp(input_mask_expanded.sum(1), min=1e-9)\n",
    "    # Return the average as a single vector\n",
    "    return sum_embeddings / sum_mask\n",
    "\n",
    "def embed_text(examples):\n",
    "    inputs = tokenizer(examples[\"text\"], padding=True, truncation=True,\n",
    "                       max_length=128, return_tensors=\"pt\")\n",
    "    with torch.no_grad():\n",
    "        model_output = model(**inputs)\n",
    "    pooled_embeds = mean_pooling(model_output, inputs[\"attention_mask\"])\n",
    "    return {\"embedding\": pooled_embeds.cpu().numpy()}"
   ]
  },
  {
   "cell_type": "markdown",
   "id": "f1683d72-f2f1-4230-b49d-fe9a0eeba8d2",
   "metadata": {},
   "source": [
    "## Figuring out the type for variables"
   ]
  },
  {
   "cell_type": "code",
   "execution_count": 26,
   "id": "7f66244e-6968-4fa8-b09c-3bba6d4926e6",
   "metadata": {},
   "outputs": [],
   "source": [
    "inputs = tokenizer(ds[\"sup\"][\"text\"], padding=True, truncation=True,\n",
    "                       max_length=128, return_tensors=\"pt\")"
   ]
  },
  {
   "cell_type": "code",
   "execution_count": 30,
   "id": "e101b985-6b7e-4d23-a5dc-4d1c3e4c65cf",
   "metadata": {},
   "outputs": [
    {
     "data": {
      "text/plain": [
       "torch.Tensor"
      ]
     },
     "execution_count": 30,
     "metadata": {},
     "output_type": "execute_result"
    }
   ],
   "source": [
    "type(inputs[\"attention_mask\"])"
   ]
  },
  {
   "cell_type": "code",
   "execution_count": 27,
   "id": "72a7787e-4daf-4c56-b813-4e40ba9c8954",
   "metadata": {},
   "outputs": [],
   "source": [
    "with torch.no_grad():\n",
    "    model_output = model(**inputs)"
   ]
  },
  {
   "cell_type": "code",
   "execution_count": 28,
   "id": "30ae9387-aaa8-4ddf-808a-ac325af28d02",
   "metadata": {},
   "outputs": [
    {
     "data": {
      "text/plain": [
       "torch.Tensor"
      ]
     },
     "execution_count": 28,
     "metadata": {},
     "output_type": "execute_result"
    }
   ],
   "source": [
    "type(model_output[0])"
   ]
  },
  {
   "cell_type": "markdown",
   "id": "31e42be7-0369-4fc0-9594-45cc3a74a7e8",
   "metadata": {},
   "source": [
    "### Get embedding for each split"
   ]
  },
  {
   "cell_type": "code",
   "execution_count": 24,
   "id": "9bae81a0-4df5-4df1-92d4-c71adc544915",
   "metadata": {},
   "outputs": [],
   "source": [
    "tokenizer.pad_token = tokenizer.eos_token\n"
   ]
  },
  {
   "cell_type": "code",
   "execution_count": 134,
   "id": "970337ff-cc87-43c8-8ae0-3536ee648e4f",
   "metadata": {},
   "outputs": [
    {
     "data": {
      "application/vnd.jupyter.widget-view+json": {
       "model_id": "",
       "version_major": 2,
       "version_minor": 0
      },
      "text/plain": [
       "Map:   0%|          | 0/60 [00:00<?, ? examples/s]"
      ]
     },
     "metadata": {},
     "output_type": "display_data"
    }
   ],
   "source": [
    "embs_train = ds[\"sup\"].map(embed_text, batched=True, batch_size=16)"
   ]
  },
  {
   "cell_type": "code",
   "execution_count": 65,
   "id": "5ed7c10d-6551-4996-af9b-335ff05da573",
   "metadata": {},
   "outputs": [
    {
     "data": {
      "application/vnd.jupyter.widget-view+json": {
       "model_id": "",
       "version_major": 2,
       "version_minor": 0
      },
      "text/plain": [
       "Map:   0%|          | 0/65 [00:00<?, ? examples/s]"
      ]
     },
     "metadata": {},
     "output_type": "display_data"
    }
   ],
   "source": [
    "embs_test = ds[\"unsup\"].map(embed_text, batched=True, batch_size=16)"
   ]
  },
  {
   "cell_type": "markdown",
   "id": "fccf75a9-bc4f-422e-9163-37e898050804",
   "metadata": {
    "tags": []
   },
   "source": [
    "## Write to pickle to save"
   ]
  },
  {
   "cell_type": "code",
   "execution_count": 67,
   "id": "fe3e061b-6e8e-4d7a-bf22-1f53cbaf64ca",
   "metadata": {},
   "outputs": [],
   "source": [
    "import pickle"
   ]
  },
  {
   "cell_type": "code",
   "execution_count": 136,
   "id": "23a6e1e8-9254-48d9-93bf-0927659bd488",
   "metadata": {},
   "outputs": [],
   "source": [
    "embs_train_file = open(\"amp_embs_labels\", \"ab\")\n",
    "embs_test_file = open(\"amp_embs_test\", \"ab\")"
   ]
  },
  {
   "cell_type": "code",
   "execution_count": 139,
   "id": "ec3a7ab0-071c-48a8-8088-8d2974abccff",
   "metadata": {},
   "outputs": [
    {
     "data": {
      "text/plain": [
       "Dataset({\n",
       "    features: ['text', 'labels', 'embedding'],\n",
       "    num_rows: 60\n",
       "})"
      ]
     },
     "execution_count": 139,
     "metadata": {},
     "output_type": "execute_result"
    }
   ],
   "source": [
    "embs_train"
   ]
  },
  {
   "cell_type": "markdown",
   "id": "7212cc03-aeed-4532-b7d5-44ea319dcf1f",
   "metadata": {},
   "source": [
    "### For when we want to load data back in"
   ]
  },
  {
   "cell_type": "code",
   "execution_count": 3,
   "id": "b8f09ee4-87d9-489d-ab5c-2afbf4eefb08",
   "metadata": {},
   "outputs": [],
   "source": [
    "embs_train_file = open(\"amp_embs_labels\", \"rb\")\n",
    "embs_test_file = open(\"amp_embs_test\", \"rb\")"
   ]
  },
  {
   "cell_type": "code",
   "execution_count": 4,
   "id": "bb67f479-1b48-467e-8584-fdfd54fa6561",
   "metadata": {},
   "outputs": [],
   "source": [
    "embs_train = pickle.load(embs_train_file)\n",
    "embs_test = pickle.load(embs_test_file)"
   ]
  },
  {
   "cell_type": "markdown",
   "id": "bfbf764c-c718-421d-aa24-570ff70a4f03",
   "metadata": {},
   "source": [
    "## Install Faiss"
   ]
  },
  {
   "cell_type": "code",
   "execution_count": 44,
   "id": "4dbf326a-9414-449b-af52-550bb1f2b1c8",
   "metadata": {
    "tags": []
   },
   "outputs": [
    {
     "name": "stdout",
     "output_type": "stream",
     "text": [
      "huggingface/tokenizers: The current process just got forked, after parallelism has already been used. Disabling parallelism to avoid deadlocks...\n",
      "To disable this warning, you can either:\n",
      "\t- Avoid using `tokenizers` before the fork if possible\n",
      "\t- Explicitly set the environment variable TOKENIZERS_PARALLELISM=(true | false)\n",
      "Collecting faiss-gpu\n",
      "  Downloading faiss_gpu-1.7.2-cp38-cp38-manylinux_2_17_x86_64.manylinux2014_x86_64.whl (85.5 MB)\n",
      "\u001b[2K     \u001b[90m━━━━━━━━━━━━━━━━━━━━━━━━━━━━━━━━━━━━━━━━\u001b[0m \u001b[32m85.5/85.5 MB\u001b[0m \u001b[31m3.5 MB/s\u001b[0m eta \u001b[36m0:00:00\u001b[0m:00:01\u001b[0m00:01\u001b[0m\n",
      "\u001b[?25hInstalling collected packages: faiss-gpu\n",
      "Successfully installed faiss-gpu-1.7.2\n",
      "\n",
      "\u001b[1m[\u001b[0m\u001b[34;49mnotice\u001b[0m\u001b[1;39;49m]\u001b[0m\u001b[39;49m A new release of pip is available: \u001b[0m\u001b[31;49m23.1.2\u001b[0m\u001b[39;49m -> \u001b[0m\u001b[32;49m23.2.1\u001b[0m\n",
      "\u001b[1m[\u001b[0m\u001b[34;49mnotice\u001b[0m\u001b[1;39;49m]\u001b[0m\u001b[39;49m To update, run: \u001b[0m\u001b[32;49mpip install --upgrade pip\u001b[0m\n",
      "Note: you may need to restart the kernel to use updated packages.\n"
     ]
    }
   ],
   "source": [
    "pip install faiss-gpu"
   ]
  },
  {
   "cell_type": "code",
   "execution_count": 5,
   "id": "8d3ae814-e2b8-4ab6-8139-b0ca2a1aa03c",
   "metadata": {
    "tags": []
   },
   "outputs": [],
   "source": [
    "import faiss"
   ]
  },
  {
   "cell_type": "markdown",
   "id": "e4408d3a-5b00-490c-9bdf-354afd39c8e1",
   "metadata": {},
   "source": [
    "## Remove the fiass embedding so we can compare to NB"
   ]
  },
  {
   "cell_type": "code",
   "execution_count": 71,
   "id": "6bb7711b-f2f5-48fd-856c-59509d9f8aa6",
   "metadata": {
    "tags": []
   },
   "outputs": [],
   "source": [
    "test_queries = np.array(embs_test[\"embedding\"], dtype=np.float32)"
   ]
  },
  {
   "cell_type": "code",
   "execution_count": 135,
   "id": "19221b4e-c47f-4ade-bf56-50841de9a475",
   "metadata": {},
   "outputs": [
    {
     "data": {
      "application/vnd.jupyter.widget-view+json": {
       "model_id": "5fecabdd53fd4df3b04bb99bfead8c99",
       "version_major": 2,
       "version_minor": 0
      },
      "text/plain": [
       "  0%|          | 0/1 [00:00<?, ?it/s]"
      ]
     },
     "metadata": {},
     "output_type": "display_data"
    },
    {
     "data": {
      "text/plain": [
       "Dataset({\n",
       "    features: ['text', 'labels', 'embedding'],\n",
       "    num_rows: 60\n",
       "})"
      ]
     },
     "execution_count": 135,
     "metadata": {},
     "output_type": "execute_result"
    }
   ],
   "source": [
    "embs_train.add_faiss_index(\"embedding\")"
   ]
  },
  {
   "cell_type": "code",
   "execution_count": 72,
   "id": "07c0fd4b-81b4-4f4d-83d0-9b4d642c4182",
   "metadata": {},
   "outputs": [],
   "source": [
    "_, samples = embs_train.get_nearest_examples_batch(\"embedding\", test_queries, k = 4)"
   ]
  },
  {
   "cell_type": "code",
   "execution_count": 76,
   "id": "70d5c651-512b-473c-854f-36083d152458",
   "metadata": {},
   "outputs": [
    {
     "data": {
      "text/plain": [
       "65"
      ]
     },
     "execution_count": 76,
     "metadata": {},
     "output_type": "execute_result"
    }
   ],
   "source": [
    "len(samples)"
   ]
  },
  {
   "cell_type": "code",
   "execution_count": 79,
   "id": "6387aa61-b497-41e6-a541-9236426ed9d7",
   "metadata": {},
   "outputs": [
    {
     "data": {
      "text/plain": [
       "65"
      ]
     },
     "execution_count": 79,
     "metadata": {},
     "output_type": "execute_result"
    }
   ],
   "source": [
    "len(y_pred)"
   ]
  },
  {
   "cell_type": "code",
   "execution_count": 83,
   "id": "f2288b03-1dab-4d75-87e1-e7e470e74305",
   "metadata": {},
   "outputs": [
    {
     "data": {
      "text/plain": [
       "['rt djlange lisa_iannattone thats a misleading headline statistically healthy children have more chance of dying from a lightning strike than covid you must know this shame on you',\n",
       " 'hi alai im a practitioner at a certain govt hospital in kisumu please hide my identity over the past 3weeks i have diagonised dozen of patients with similar symptoms akin to that of covid 19 but has mutated to a new strain im sorry to say that covid 19 is back and the govt is silent',\n",
       " 'so they want to bring down museveni for opposing homosexuality in uganda one day one time russia and china will bring down america history is looming',\n",
       " 'the us now wants to finish him because he rejected the ushoga system god will protect museveni']"
      ]
     },
     "execution_count": 83,
     "metadata": {},
     "output_type": "execute_result"
    }
   ],
   "source": [
    "samples[0][\"text\"]"
   ]
  },
  {
   "cell_type": "code",
   "execution_count": 84,
   "id": "e5f91519-e98b-4cb0-af29-3d32e85d4b32",
   "metadata": {},
   "outputs": [
    {
     "data": {
      "text/plain": [
       "[['Disease Risk'],\n",
       " ['Variants', 'Case Reporting'],\n",
       " ['Bio-weapon'],\n",
       " ['Bio-weapon']]"
      ]
     },
     "execution_count": 84,
     "metadata": {},
     "output_type": "execute_result"
    }
   ],
   "source": [
    "samples[0][\"labels\"]"
   ]
  },
  {
   "cell_type": "code",
   "execution_count": 88,
   "id": "820e837c-7046-4597-9fa8-6a7b0fa41a58",
   "metadata": {},
   "outputs": [],
   "source": [
    "def get_sample_preds(sample):\n",
    "    return sample[\"labels\"][0:2]"
   ]
  },
  {
   "cell_type": "code",
   "execution_count": 89,
   "id": "ad0a8b32-6e0d-4997-82dc-e64a22afdaf5",
   "metadata": {},
   "outputs": [],
   "source": [
    "y_pred = [get_sample_preds(s) for s in samples]"
   ]
  },
  {
   "cell_type": "code",
   "execution_count": 90,
   "id": "4d40c6be-02fd-4680-8e25-2faa7ef7126d",
   "metadata": {},
   "outputs": [
    {
     "data": {
      "text/plain": [
       "[['Vaccine Efficacy'],\n",
       " ['Vaccine Side Effects', 'Conspiracy', 'Vaccine ingredient']]"
      ]
     },
     "execution_count": 90,
     "metadata": {},
     "output_type": "execute_result"
    }
   ],
   "source": [
    "y_pred[64]"
   ]
  },
  {
   "cell_type": "code",
   "execution_count": 97,
   "id": "a5d2f196-ec3a-4e87-9568-d0aa82f47dc1",
   "metadata": {},
   "outputs": [],
   "source": [
    "predictions = pd.DataFrame({\"text\": embs_test[\"text\"],\n",
    "             \"themeName\": y_pred})"
   ]
  },
  {
   "cell_type": "code",
   "execution_count": 98,
   "id": "d1fc7f22-4708-4867-a9ac-0ec6c51ebd5e",
   "metadata": {},
   "outputs": [
    {
     "data": {
      "text/html": [
       "<div>\n",
       "<style scoped>\n",
       "    .dataframe tbody tr th:only-of-type {\n",
       "        vertical-align: middle;\n",
       "    }\n",
       "\n",
       "    .dataframe tbody tr th {\n",
       "        vertical-align: top;\n",
       "    }\n",
       "\n",
       "    .dataframe thead th {\n",
       "        text-align: right;\n",
       "    }\n",
       "</style>\n",
       "<table border=\"1\" class=\"dataframe\">\n",
       "  <thead>\n",
       "    <tr style=\"text-align: right;\">\n",
       "      <th></th>\n",
       "      <th>text</th>\n",
       "      <th>themeName</th>\n",
       "    </tr>\n",
       "  </thead>\n",
       "  <tbody>\n",
       "    <tr>\n",
       "      <th>0</th>\n",
       "      <td>i agree with draseemmalhotra all should be rem...</td>\n",
       "      <td>[[Disease Risk], [Variants, Case Reporting]]</td>\n",
       "    </tr>\n",
       "    <tr>\n",
       "      <th>1</th>\n",
       "      <td>lhistoire du covid était une gigantesque opéra...</td>\n",
       "      <td>[[Conspiracy], [Vaccine Efficacy]]</td>\n",
       "    </tr>\n",
       "    <tr>\n",
       "      <th>2</th>\n",
       "      <td>Fennel tea cures coronavirus.</td>\n",
       "      <td>[[Vaccine Side Effects, Conspiracy, Vaccine in...</td>\n",
       "    </tr>\n",
       "    <tr>\n",
       "      <th>3</th>\n",
       "      <td>Actor Keith Lawrence Middlebrook has a cure fo...</td>\n",
       "      <td>[[Vaccine Side Effects, Conspiracy, Vaccine in...</td>\n",
       "    </tr>\n",
       "    <tr>\n",
       "      <th>4</th>\n",
       "      <td>A decade-old map published by the World Popula...</td>\n",
       "      <td>[[Conspiracy, Bio-weapon], [Case Reporting]]</td>\n",
       "    </tr>\n",
       "    <tr>\n",
       "      <th>...</th>\n",
       "      <td>...</td>\n",
       "      <td>...</td>\n",
       "    </tr>\n",
       "    <tr>\n",
       "      <th>60</th>\n",
       "      <td>Using namaste as a greeting prevents transmiss...</td>\n",
       "      <td>[[Conspiracy], [Disease Risk]]</td>\n",
       "    </tr>\n",
       "    <tr>\n",
       "      <th>61</th>\n",
       "      <td>Cocaine cures coronavirus.</td>\n",
       "      <td>[[Vaccine Efficacy], [Vaccine Side Effects, Co...</td>\n",
       "    </tr>\n",
       "    <tr>\n",
       "      <th>62</th>\n",
       "      <td>Africans are more resistant to coronavirus.</td>\n",
       "      <td>[[Conspiracy], [Case Reporting]]</td>\n",
       "    </tr>\n",
       "    <tr>\n",
       "      <th>63</th>\n",
       "      <td>Methanol consumption cures or protects against...</td>\n",
       "      <td>[[Case Reporting], [Vaccine Side Effects]]</td>\n",
       "    </tr>\n",
       "    <tr>\n",
       "      <th>64</th>\n",
       "      <td>Cocaine cures coronavirus</td>\n",
       "      <td>[[Vaccine Efficacy], [Vaccine Side Effects, Co...</td>\n",
       "    </tr>\n",
       "  </tbody>\n",
       "</table>\n",
       "<p>65 rows × 2 columns</p>\n",
       "</div>"
      ],
      "text/plain": [
       "                                                 text  \\\n",
       "0   i agree with draseemmalhotra all should be rem...   \n",
       "1   lhistoire du covid était une gigantesque opéra...   \n",
       "2                       Fennel tea cures coronavirus.   \n",
       "3   Actor Keith Lawrence Middlebrook has a cure fo...   \n",
       "4   A decade-old map published by the World Popula...   \n",
       "..                                                ...   \n",
       "60  Using namaste as a greeting prevents transmiss...   \n",
       "61                         Cocaine cures coronavirus.   \n",
       "62        Africans are more resistant to coronavirus.   \n",
       "63  Methanol consumption cures or protects against...   \n",
       "64                          Cocaine cures coronavirus   \n",
       "\n",
       "                                            themeName  \n",
       "0        [[Disease Risk], [Variants, Case Reporting]]  \n",
       "1                  [[Conspiracy], [Vaccine Efficacy]]  \n",
       "2   [[Vaccine Side Effects, Conspiracy, Vaccine in...  \n",
       "3   [[Vaccine Side Effects, Conspiracy, Vaccine in...  \n",
       "4        [[Conspiracy, Bio-weapon], [Case Reporting]]  \n",
       "..                                                ...  \n",
       "60                     [[Conspiracy], [Disease Risk]]  \n",
       "61  [[Vaccine Efficacy], [Vaccine Side Effects, Co...  \n",
       "62                   [[Conspiracy], [Case Reporting]]  \n",
       "63         [[Case Reporting], [Vaccine Side Effects]]  \n",
       "64  [[Vaccine Efficacy], [Vaccine Side Effects, Co...  \n",
       "\n",
       "[65 rows x 2 columns]"
      ]
     },
     "execution_count": 98,
     "metadata": {},
     "output_type": "execute_result"
    }
   ],
   "source": [
    "predictions"
   ]
  },
  {
   "cell_type": "code",
   "execution_count": 99,
   "id": "560e7896-dc48-4b95-8d55-b6c0bc2ceee4",
   "metadata": {},
   "outputs": [],
   "source": [
    "predictions.to_csv(\"few_shot_predictions.csv\", index = False)"
   ]
  },
  {
   "cell_type": "markdown",
   "id": "d74e9321-c40e-423f-b601-ea7f36a37fc6",
   "metadata": {},
   "source": [
    "# Try getting prediction for single input"
   ]
  },
  {
   "cell_type": "code",
   "execution_count": 100,
   "id": "257e23b5-6745-4477-82d3-2d14c2f5f723",
   "metadata": {},
   "outputs": [],
   "source": [
    "sample_text = \"CBD oil is a cure for COVID-19.\""
   ]
  },
  {
   "cell_type": "code",
   "execution_count": 107,
   "id": "673669ae-cb43-4aad-af43-cbf59d73aab2",
   "metadata": {},
   "outputs": [],
   "source": [
    "def embed_single_text(text):\n",
    "    inputs = tokenizer(text, padding=True, truncation=True,\n",
    "                       max_length=128, return_tensors=\"pt\")\n",
    "    with torch.no_grad():\n",
    "        model_output = model(**inputs)\n",
    "    pooled_embeds = mean_pooling(model_output, inputs[\"attention_mask\"])\n",
    "    return {\"embedding\": pooled_embeds.cpu().numpy()}"
   ]
  },
  {
   "cell_type": "code",
   "execution_count": 108,
   "id": "ca23994b-b2b9-4509-ae26-44f952c6db9f",
   "metadata": {},
   "outputs": [],
   "source": [
    "embs_sample = embed_single_text(sample_text)"
   ]
  },
  {
   "cell_type": "code",
   "execution_count": 132,
   "id": "66628753-36d4-42cf-9f32-62accc1ab1b8",
   "metadata": {},
   "outputs": [],
   "source": [
    "scores, sample = embs_train.get_nearest_examples_batch(\"embedding\", embs_sample[\"embedding\"], k = 4)"
   ]
  },
  {
   "cell_type": "code",
   "execution_count": 133,
   "id": "656e7c6a-ddbf-4533-8cff-2540de904701",
   "metadata": {},
   "outputs": [
    {
     "data": {
      "text/plain": [
       "[['Disease Risk'],\n",
       " ['Case Reporting'],\n",
       " ['Vaccine Side Effects'],\n",
       " ['Vaccine Efficacy']]"
      ]
     },
     "execution_count": 133,
     "metadata": {},
     "output_type": "execute_result"
    }
   ],
   "source": [
    "sample[0][\"labels\"]"
   ]
  }
 ],
 "metadata": {
  "kernelspec": {
   "display_name": "Python 3 (ipykernel)",
   "language": "python",
   "name": "python3"
  },
  "language_info": {
   "codemirror_mode": {
    "name": "ipython",
    "version": 3
   },
   "file_extension": ".py",
   "mimetype": "text/x-python",
   "name": "python",
   "nbconvert_exporter": "python",
   "pygments_lexer": "ipython3",
   "version": "3.8.8"
  }
 },
 "nbformat": 4,
 "nbformat_minor": 5
}
