{
 "cells": [
  {
   "cell_type": "code",
   "execution_count": 0,
   "metadata": {
    "application/vnd.databricks.v1+cell": {
     "cellMetadata": {},
     "inputWidgets": {},
     "nuid": "9632c256-3137-4427-896a-5bfd40c845be",
     "showTitle": false,
     "title": ""
    }
   },
   "outputs": [],
   "source": [
    "import pandas as pd\n",
    "import re"
   ]
  },
  {
   "cell_type": "markdown",
   "metadata": {
    "application/vnd.databricks.v1+cell": {
     "cellMetadata": {},
     "inputWidgets": {},
     "nuid": "79903424-e74e-48fc-a5bc-503e21319dde",
     "showTitle": false,
     "title": ""
    }
   },
   "source": [
    "### Read in files"
   ]
  },
  {
   "cell_type": "code",
   "execution_count": 0,
   "metadata": {
    "application/vnd.databricks.v1+cell": {
     "cellMetadata": {},
     "inputWidgets": {},
     "nuid": "8ae42337-0683-4705-b176-cead6e4245f0",
     "showTitle": false,
     "title": ""
    }
   },
   "outputs": [],
   "source": [
    "evidence = pd.read_csv(\"evidence.csv\")\n",
    "evidence.columns  = evidence.columns.str.replace('[#,@,&]', '')\n",
    "\n",
    "issues = pd.read_csv(\"issues.csv\")\n",
    "issues.columns  = issues.columns.str.replace('[#,@,&]', '')\n",
    "issues.rename(columns = {\"id\": \"issueIds\", \"nameTranslated.en\": \"issueName\"}, inplace = True)\n",
    "\n",
    "themes = pd.read_csv(\"themes.csv\")\n",
    "themes.columns  = themes.columns.str.replace('[#,@,&]', '')\n",
    "themes.rename(columns = {\"id\": \"themeIds\", \"nameTranslated.en\": \"themeName\"}, inplace = True)"
   ]
  },
  {
   "cell_type": "code",
   "execution_count": 0,
   "metadata": {
    "application/vnd.databricks.v1+cell": {
     "cellMetadata": {},
     "inputWidgets": {},
     "nuid": "4eb485e5-f349-4a18-bf29-e43708b68d11",
     "showTitle": false,
     "title": ""
    }
   },
   "outputs": [],
   "source": [
    "evidence.columns"
   ]
  },
  {
   "cell_type": "markdown",
   "metadata": {
    "application/vnd.databricks.v1+cell": {
     "cellMetadata": {},
     "inputWidgets": {},
     "nuid": "5f398412-eab6-47ad-b411-3817f6a685f4",
     "showTitle": false,
     "title": ""
    }
   },
   "source": [
    "### Merge files"
   ]
  },
  {
   "cell_type": "code",
   "execution_count": 0,
   "metadata": {
    "application/vnd.databricks.v1+cell": {
     "cellMetadata": {},
     "inputWidgets": {},
     "nuid": "b30627e4-9474-4450-8a7d-aa1c4ad90cbc",
     "showTitle": false,
     "title": ""
    }
   },
   "outputs": [],
   "source": [
    "df = evidence.merge(issues[['issueName', 'issueIds']], how = \"left\", on = ['issueIds'])"
   ]
  },
  {
   "cell_type": "code",
   "execution_count": 0,
   "metadata": {
    "application/vnd.databricks.v1+cell": {
     "cellMetadata": {},
     "inputWidgets": {},
     "nuid": "06e155d0-93e0-4612-a15c-63a9bda02584",
     "showTitle": false,
     "title": ""
    }
   },
   "outputs": [],
   "source": [
    "df = df.merge(themes[['themeName', 'themeIds']], how = \"left\", on = ['themeIds'])"
   ]
  },
  {
   "cell_type": "code",
   "execution_count": 0,
   "metadata": {
    "application/vnd.databricks.v1+cell": {
     "cellMetadata": {},
     "inputWidgets": {},
     "nuid": "0e040060-3f9c-4f7a-93fc-615ce25ff0dd",
     "showTitle": false,
     "title": ""
    }
   },
   "outputs": [],
   "source": [
    "# function to clean text\n",
    "def clean_text(df, text):\n",
    "    \"\"\"\n",
    "    Clean text column\n",
    "    df = dataframe\n",
    "    text (string) = column name containing text\n",
    "    \"\"\"\n",
    "    # lowercase text\n",
    "    df[text] = df[text].str.lower()\n",
    " \n",
    "    # remove URLs\n",
    "    df[text] = df[text].map(lambda x: re.sub('http[s]?:\\/\\/[^\\s]*', ' ', x))\n",
    " \n",
    "    # remove URL cutoffs\n",
    "    df[text] = df[text].map(lambda x: re.sub('\\\\[^\\s]*', ' ', x))\n",
    " \n",
    "    # remove spaces\n",
    "    df[text] = df[text].map(lambda x: re.sub('\\n', ' ', x))\n",
    " \n",
    "    # remove picture URLs\n",
    "    df[text] = df[text].map(lambda x: re.sub('pic.twitter.com\\/[^\\s]*', ' ', x))\n",
    " \n",
    "    # remove blog/map type\n",
    "    df[text] = df[text].map(lambda x: re.sub('blog\\/maps\\/info\\/[^\\s]*', ' ', x))\n",
    " \n",
    "    # remove hashtags =\n",
    "    df[text] = df[text].map(lambda x: re.sub(\"\\#[\\w]*\", \"\", x))\n",
    " \n",
    "    # remove and signs\n",
    "    df[text] = df[text].map(lambda x: re.sub(\"\\&amp;\", \"\", x))\n",
    " \n",
    "    # remove single quotations\n",
    "    df[text] = df[text].map(lambda x: re.sub(\"'\", \"\", x))\n",
    "    df[text] = df[text].map(lambda x: re.sub(\"'\", \"\", x))\n",
    " \n",
    "    # remove characters that are not word characters or digits\n",
    "    df[text] = df[text].map(lambda x: re.sub(\"[^\\w\\d]\", \" \", x))\n",
    " \n",
    "    # remove all characters that are not letters\n",
    "    #df[text] = df[text].map(lambda x: re.sub(\"[^a-zA-Z]\", \" \", x))\n",
    " \n",
    "    # remove multiple spaces\n",
    "    df[text] = df[text].map(lambda x: re.sub(\"\\s{2,6}\", \" \", x))\n",
    " \n",
    "    # drop duplicate rows\n",
    "    #df.drop_duplicates(subset='text', keep='first', inplace=True)\n",
    " \n",
    "    # remove multiple spaces\n",
    "    df[text] = df[text].map(lambda x: re.sub(\"\\s{3,20}\", \"\", x))\n",
    " \n",
    "    return df"
   ]
  },
  {
   "cell_type": "code",
   "execution_count": 0,
   "metadata": {
    "application/vnd.databricks.v1+cell": {
     "cellMetadata": {},
     "inputWidgets": {},
     "nuid": "19dc8d4c-40e5-4d82-b297-f6ac201a6b10",
     "showTitle": false,
     "title": ""
    }
   },
   "outputs": [],
   "source": [
    "df = clean_text(df, \"text\")"
   ]
  },
  {
   "cell_type": "code",
   "execution_count": 0,
   "metadata": {
    "application/vnd.databricks.v1+cell": {
     "cellMetadata": {},
     "inputWidgets": {},
     "nuid": "543e2034-4736-4783-bbdf-1474b0f7a5e2",
     "showTitle": false,
     "title": ""
    }
   },
   "outputs": [],
   "source": [
    "df.head()"
   ]
  },
  {
   "cell_type": "code",
   "execution_count": 0,
   "metadata": {
    "application/vnd.databricks.v1+cell": {
     "cellMetadata": {},
     "inputWidgets": {},
     "nuid": "d3a5bdcf-2c38-4d91-8e6a-67d44e201022",
     "showTitle": false,
     "title": ""
    }
   },
   "outputs": [],
   "source": [
    "pd['text'].isna().sum()"
   ]
  },
  {
   "cell_type": "code",
   "execution_count": 0,
   "metadata": {
    "application/vnd.databricks.v1+cell": {
     "cellMetadata": {},
     "inputWidgets": {},
     "nuid": "c0e54001-3bae-4ee6-9ad8-4ad9b7973898",
     "showTitle": false,
     "title": ""
    }
   },
   "outputs": [],
   "source": [
    "pd['text']"
   ]
  },
  {
   "cell_type": "code",
   "execution_count": 0,
   "metadata": {
    "application/vnd.databricks.v1+cell": {
     "cellMetadata": {},
     "inputWidgets": {},
     "nuid": "bf6f1d03-bf7c-4504-823b-4dd54bd50acd",
     "showTitle": false,
     "title": ""
    }
   },
   "outputs": [],
   "source": [
    "df.to_csv(\"amp.csv\", index = False)"
   ]
  },
  {
   "cell_type": "code",
   "execution_count": 0,
   "metadata": {
    "application/vnd.databricks.v1+cell": {
     "cellMetadata": {},
     "inputWidgets": {},
     "nuid": "0cf27500-20cf-486d-89bc-1a915859ff48",
     "showTitle": false,
     "title": ""
    }
   },
   "outputs": [],
   "source": [
    "cl = pd.read_csv(\"https://raw.githubusercontent.com/ucinlp/covid19-data/master/covid_lies.csv\")"
   ]
  }
 ],
 "metadata": {
  "application/vnd.databricks.v1+notebook": {
   "dashboards": [],
   "language": "python",
   "notebookMetadata": {
    "pythonIndentUnit": 4
   },
   "notebookName": "data_processing",
   "widgets": {}
  },
  "kernelspec": {
   "display_name": "Python 3 (ipykernel)",
   "language": "python",
   "name": "python3"
  },
  "language_info": {
   "codemirror_mode": {
    "name": "ipython",
    "version": 3
   },
   "file_extension": ".py",
   "mimetype": "text/x-python",
   "name": "python",
   "nbconvert_exporter": "python",
   "pygments_lexer": "ipython3",
   "version": "3.8.8"
  }
 },
 "nbformat": 4,
 "nbformat_minor": 0
}
