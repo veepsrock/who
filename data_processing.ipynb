{
 "cells": [
  {
   "cell_type": "code",
   "execution_count": 1,
   "id": "7547d997-c449-4811-b71b-75c879a9eacf",
   "metadata": {},
   "outputs": [],
   "source": [
    "import pandas as pd\n",
    "import re"
   ]
  },
  {
   "cell_type": "markdown",
   "id": "05f0ffec-9c9d-4c74-8852-21c0320a2809",
   "metadata": {},
   "source": [
    "### Read in files"
   ]
  },
  {
   "cell_type": "code",
   "execution_count": 2,
   "id": "761d3139-d525-42b3-b8fa-6030b9d4a4eb",
   "metadata": {},
   "outputs": [
    {
     "name": "stderr",
     "output_type": "stream",
     "text": [
      "/tmp/ipykernel_606/1176103894.py:2: FutureWarning: The default value of regex will change from True to False in a future version.\n",
      "  evidence.columns  = evidence.columns.str.replace('[#,@,&]', '')\n",
      "/tmp/ipykernel_606/1176103894.py:5: FutureWarning: The default value of regex will change from True to False in a future version.\n",
      "  issues.columns  = issues.columns.str.replace('[#,@,&]', '')\n",
      "/tmp/ipykernel_606/1176103894.py:9: FutureWarning: The default value of regex will change from True to False in a future version.\n",
      "  themes.columns  = themes.columns.str.replace('[#,@,&]', '')\n"
     ]
    }
   ],
   "source": [
    "evidence = pd.read_csv(\"evidence.csv\")\n",
    "evidence.columns  = evidence.columns.str.replace('[#,@,&]', '')\n",
    "\n",
    "issues = pd.read_csv(\"issues.csv\")\n",
    "issues.columns  = issues.columns.str.replace('[#,@,&]', '')\n",
    "issues.rename(columns = {\"id\": \"issueIds\", \"nameTranslated.en\": \"issueName\"}, inplace = True)\n",
    "\n",
    "themes = pd.read_csv(\"themes.csv\")\n",
    "themes.columns  = themes.columns.str.replace('[#,@,&]', '')\n",
    "themes.rename(columns = {\"id\": \"themeIds\", \"nameTranslated.en\": \"themeName\"}, inplace = True)"
   ]
  },
  {
   "cell_type": "code",
   "execution_count": 4,
   "id": "aa059fda",
   "metadata": {},
   "outputs": [
    {
     "data": {
      "text/plain": [
       "Index(['date', 'attachments', 'textTranslated', 'detectedLanguage',\n",
       "       'likeCount', 'countries', 'authorId', 'url', 'platform', 'commentCount',\n",
       "       'socialMediaPostType', 'shareCount', 'createdAt', 'submittedLanguage',\n",
       "       'themeIds', 'issueIds', 'text', 'updatedAt', 'id', 'index', 'type'],\n",
       "      dtype='object')"
      ]
     },
     "execution_count": 4,
     "metadata": {},
     "output_type": "execute_result"
    }
   ],
   "source": [
    "evidence.columns"
   ]
  },
  {
   "cell_type": "markdown",
   "id": "bab211e1-6693-4be8-a123-448eb4a58a1d",
   "metadata": {},
   "source": [
    "### Merge files"
   ]
  },
  {
   "cell_type": "code",
   "execution_count": 96,
   "id": "8a7674d7-f800-49e4-8a3b-730b01d04ffa",
   "metadata": {},
   "outputs": [],
   "source": [
    "df = evidence.merge(issues[['issueName', 'issueIds']], how = \"left\", on = ['issueIds'])"
   ]
  },
  {
   "cell_type": "code",
   "execution_count": 98,
   "id": "94a58f71-2553-4493-a3f9-fc3a9083fd32",
   "metadata": {},
   "outputs": [],
   "source": [
    "df = df.merge(themes[['themeName', 'themeIds']], how = \"left\", on = ['themeIds'])"
   ]
  },
  {
   "cell_type": "code",
   "execution_count": 99,
   "id": "f60912b2-ca80-48c1-b530-e32f0b961dd0",
   "metadata": {},
   "outputs": [],
   "source": [
    "# function to clean text\n",
    "def clean_text(df, text):\n",
    "    \"\"\"\n",
    "    Clean text column\n",
    "    df = dataframe\n",
    "    text (string) = column name containing text\n",
    "    \"\"\"\n",
    "    # lowercase text\n",
    "    df[text] = df[text].str.lower()\n",
    " \n",
    "    # remove URLs\n",
    "    df[text] = df[text].map(lambda x: re.sub('http[s]?:\\/\\/[^\\s]*', ' ', x))\n",
    " \n",
    "    # remove URL cutoffs\n",
    "    df[text] = df[text].map(lambda x: re.sub('\\\\[^\\s]*', ' ', x))\n",
    " \n",
    "    # remove spaces\n",
    "    df[text] = df[text].map(lambda x: re.sub('\\n', ' ', x))\n",
    " \n",
    "    # remove picture URLs\n",
    "    df[text] = df[text].map(lambda x: re.sub('pic.twitter.com\\/[^\\s]*', ' ', x))\n",
    " \n",
    "    # remove blog/map type\n",
    "    df[text] = df[text].map(lambda x: re.sub('blog\\/maps\\/info\\/[^\\s]*', ' ', x))\n",
    " \n",
    "    # remove hashtags =\n",
    "    df[text] = df[text].map(lambda x: re.sub(\"\\#[\\w]*\", \"\", x))\n",
    " \n",
    "    # remove and signs\n",
    "    df[text] = df[text].map(lambda x: re.sub(\"\\&amp;\", \"\", x))\n",
    " \n",
    "    # remove single quotations\n",
    "    df[text] = df[text].map(lambda x: re.sub(\"'\", \"\", x))\n",
    "    df[text] = df[text].map(lambda x: re.sub(\"'\", \"\", x))\n",
    " \n",
    "    # remove characters that are not word characters or digits\n",
    "    df[text] = df[text].map(lambda x: re.sub(\"[^\\w\\d]\", \" \", x))\n",
    " \n",
    "    # remove all characters that are not letters\n",
    "    #df[text] = df[text].map(lambda x: re.sub(\"[^a-zA-Z]\", \" \", x))\n",
    " \n",
    "    # remove multiple spaces\n",
    "    df[text] = df[text].map(lambda x: re.sub(\"\\s{2,6}\", \" \", x))\n",
    " \n",
    "    # drop duplicate rows\n",
    "    #df.drop_duplicates(subset='text', keep='first', inplace=True)\n",
    " \n",
    "    # remove multiple spaces\n",
    "    df[text] = df[text].map(lambda x: re.sub(\"\\s{3,20}\", \"\", x))\n",
    " \n",
    "    return df"
   ]
  },
  {
   "cell_type": "code",
   "execution_count": 102,
   "id": "c49b8c28-608e-465c-bebf-6a3cf39e843e",
   "metadata": {},
   "outputs": [],
   "source": [
    "df = clean_text(df, \"text\")"
   ]
  },
  {
   "cell_type": "code",
   "execution_count": 103,
   "id": "346294ce-44f5-49f5-912b-8060b1fced4d",
   "metadata": {},
   "outputs": [
    {
     "data": {
      "text/html": [
       "<div>\n",
       "<style scoped>\n",
       "    .dataframe tbody tr th:only-of-type {\n",
       "        vertical-align: middle;\n",
       "    }\n",
       "\n",
       "    .dataframe tbody tr th {\n",
       "        vertical-align: top;\n",
       "    }\n",
       "\n",
       "    .dataframe thead th {\n",
       "        text-align: right;\n",
       "    }\n",
       "</style>\n",
       "<table border=\"1\" class=\"dataframe\">\n",
       "  <thead>\n",
       "    <tr style=\"text-align: right;\">\n",
       "      <th></th>\n",
       "      <th>date</th>\n",
       "      <th>attachments</th>\n",
       "      <th>textTranslated</th>\n",
       "      <th>detectedLanguage</th>\n",
       "      <th>likeCount</th>\n",
       "      <th>countries</th>\n",
       "      <th>authorId</th>\n",
       "      <th>url</th>\n",
       "      <th>platform</th>\n",
       "      <th>commentCount</th>\n",
       "      <th>...</th>\n",
       "      <th>submittedLanguage</th>\n",
       "      <th>themeIds</th>\n",
       "      <th>issueIds</th>\n",
       "      <th>text</th>\n",
       "      <th>updatedAt</th>\n",
       "      <th>id</th>\n",
       "      <th>index</th>\n",
       "      <th>type</th>\n",
       "      <th>issueName</th>\n",
       "      <th>themeName</th>\n",
       "    </tr>\n",
       "  </thead>\n",
       "  <tbody>\n",
       "    <tr>\n",
       "      <th>0</th>\n",
       "      <td>2023-06-03</td>\n",
       "      <td>2023/06/08/evidence/749a5972-c537-4f93-80de-ad...</td>\n",
       "      <td>[object Object]</td>\n",
       "      <td>en</td>\n",
       "      <td>76.0</td>\n",
       "      <td>NG</td>\n",
       "      <td>rhysoneill@gmail.com</td>\n",
       "      <td>https://www.facebook.com/instablog9ja/posts/pf...</td>\n",
       "      <td>Facebook</td>\n",
       "      <td>9.0</td>\n",
       "      <td>...</td>\n",
       "      <td>en</td>\n",
       "      <td>e83rfYgBnMmOXZCbaYt2</td>\n",
       "      <td>g80Cf4gBnMmOXZCbX4tn</td>\n",
       "      <td>actor jamie foxx reportedly par lyzed and bl n...</td>\n",
       "      <td>2023-06-08T16:14:34.393Z</td>\n",
       "      <td>749a5972-c537-4f93-80de-adb0c73527a2</td>\n",
       "      <td>prod-evidence-v1</td>\n",
       "      <td>_doc</td>\n",
       "      <td>COVID-19</td>\n",
       "      <td>Vaccine Side Effects</td>\n",
       "    </tr>\n",
       "    <tr>\n",
       "      <th>1</th>\n",
       "      <td>2023-06-05</td>\n",
       "      <td>NaN</td>\n",
       "      <td>[object Object]</td>\n",
       "      <td>en</td>\n",
       "      <td>2.0</td>\n",
       "      <td>KE</td>\n",
       "      <td>rhysoneill@gmail.com</td>\n",
       "      <td>https://www.facebook.com/robertalai/posts/pfbi...</td>\n",
       "      <td>Facebook</td>\n",
       "      <td>NaN</td>\n",
       "      <td>...</td>\n",
       "      <td>en</td>\n",
       "      <td>fs31fogBnMmOXZCbnosl</td>\n",
       "      <td>g80Cf4gBnMmOXZCbX4tn</td>\n",
       "      <td>use alot of fresh ginger when it strikes your ...</td>\n",
       "      <td>2023-06-08T17:13:15.540Z</td>\n",
       "      <td>11b135fd-d34f-4bc5-9e51-b4ed28f22a22</td>\n",
       "      <td>prod-evidence-v1</td>\n",
       "      <td>_doc</td>\n",
       "      <td>COVID-19</td>\n",
       "      <td>Home Remedies</td>\n",
       "    </tr>\n",
       "    <tr>\n",
       "      <th>2</th>\n",
       "      <td>2023-06-07</td>\n",
       "      <td>NaN</td>\n",
       "      <td>[object Object]</td>\n",
       "      <td>en</td>\n",
       "      <td>1.0</td>\n",
       "      <td>ZA</td>\n",
       "      <td>rhysoneill@gmail.com</td>\n",
       "      <td>https://www.facebook.com/permalink.php?story_f...</td>\n",
       "      <td>Facebook</td>\n",
       "      <td>NaN</td>\n",
       "      <td>...</td>\n",
       "      <td>en</td>\n",
       "      <td>NaN</td>\n",
       "      <td>g80Cf4gBnMmOXZCbX4tn</td>\n",
       "      <td>vaccine kills government pushed a unapproved v...</td>\n",
       "      <td>2023-06-08T18:24:00.164Z</td>\n",
       "      <td>9f635c18-49c4-4d26-ada9-5d6ae2706f1c</td>\n",
       "      <td>prod-evidence-v1</td>\n",
       "      <td>_doc</td>\n",
       "      <td>COVID-19</td>\n",
       "      <td>NaN</td>\n",
       "    </tr>\n",
       "    <tr>\n",
       "      <th>3</th>\n",
       "      <td>2023-05-17</td>\n",
       "      <td>2023/06/08/evidence/af0d9542-930b-4101-a786-20...</td>\n",
       "      <td>[object Object]</td>\n",
       "      <td>en</td>\n",
       "      <td>NaN</td>\n",
       "      <td>ZA,Africa</td>\n",
       "      <td>rhysoneill@gmail.com</td>\n",
       "      <td>https://t.me/SAAwakened/138313</td>\n",
       "      <td>Telegram</td>\n",
       "      <td>NaN</td>\n",
       "      <td>...</td>\n",
       "      <td>en</td>\n",
       "      <td>es3rfYgBnMmOXZCbaYt2</td>\n",
       "      <td>g80Cf4gBnMmOXZCbX4tn</td>\n",
       "      <td>reminder  share share share  stop medical col...</td>\n",
       "      <td>2023-06-08T14:30:29.975Z</td>\n",
       "      <td>af0d9542-930b-4101-a786-202710a13f26</td>\n",
       "      <td>prod-evidence-v1</td>\n",
       "      <td>_doc</td>\n",
       "      <td>COVID-19</td>\n",
       "      <td>Corruption</td>\n",
       "    </tr>\n",
       "    <tr>\n",
       "      <th>4</th>\n",
       "      <td>2023-06-08</td>\n",
       "      <td>2023/06/08/evidence/085206d6-bbb6-460e-b96e-98...</td>\n",
       "      <td>[object Object]</td>\n",
       "      <td>en</td>\n",
       "      <td>NaN</td>\n",
       "      <td>ZA</td>\n",
       "      <td>rhysoneill@gmail.com</td>\n",
       "      <td>NaN</td>\n",
       "      <td>WhatsApp</td>\n",
       "      <td>NaN</td>\n",
       "      <td>...</td>\n",
       "      <td>en</td>\n",
       "      <td>e83rfYgBnMmOXZCbaYt2</td>\n",
       "      <td>NaN</td>\n",
       "      <td>the south african government has established a...</td>\n",
       "      <td>2023-06-08T14:19:09.429Z</td>\n",
       "      <td>ea9ee102-2d4f-48f3-b1f4-13b2cb4714ba</td>\n",
       "      <td>prod-evidence-v1</td>\n",
       "      <td>_doc</td>\n",
       "      <td>NaN</td>\n",
       "      <td>Vaccine Side Effects</td>\n",
       "    </tr>\n",
       "  </tbody>\n",
       "</table>\n",
       "<p>5 rows × 23 columns</p>\n",
       "</div>"
      ],
      "text/plain": [
       "         date                                        attachments  \\\n",
       "0  2023-06-03  2023/06/08/evidence/749a5972-c537-4f93-80de-ad...   \n",
       "1  2023-06-05                                                NaN   \n",
       "2  2023-06-07                                                NaN   \n",
       "3  2023-05-17  2023/06/08/evidence/af0d9542-930b-4101-a786-20...   \n",
       "4  2023-06-08  2023/06/08/evidence/085206d6-bbb6-460e-b96e-98...   \n",
       "\n",
       "    textTranslated detectedLanguage  likeCount  countries  \\\n",
       "0  [object Object]               en       76.0         NG   \n",
       "1  [object Object]               en        2.0         KE   \n",
       "2  [object Object]               en        1.0         ZA   \n",
       "3  [object Object]               en        NaN  ZA,Africa   \n",
       "4  [object Object]               en        NaN         ZA   \n",
       "\n",
       "               authorId                                                url  \\\n",
       "0  rhysoneill@gmail.com  https://www.facebook.com/instablog9ja/posts/pf...   \n",
       "1  rhysoneill@gmail.com  https://www.facebook.com/robertalai/posts/pfbi...   \n",
       "2  rhysoneill@gmail.com  https://www.facebook.com/permalink.php?story_f...   \n",
       "3  rhysoneill@gmail.com                     https://t.me/SAAwakened/138313   \n",
       "4  rhysoneill@gmail.com                                                NaN   \n",
       "\n",
       "   platform  commentCount  ... submittedLanguage              themeIds  \\\n",
       "0  Facebook           9.0  ...                en  e83rfYgBnMmOXZCbaYt2   \n",
       "1  Facebook           NaN  ...                en  fs31fogBnMmOXZCbnosl   \n",
       "2  Facebook           NaN  ...                en                   NaN   \n",
       "3  Telegram           NaN  ...                en  es3rfYgBnMmOXZCbaYt2   \n",
       "4  WhatsApp           NaN  ...                en  e83rfYgBnMmOXZCbaYt2   \n",
       "\n",
       "               issueIds                                               text  \\\n",
       "0  g80Cf4gBnMmOXZCbX4tn  actor jamie foxx reportedly par lyzed and bl n...   \n",
       "1  g80Cf4gBnMmOXZCbX4tn  use alot of fresh ginger when it strikes your ...   \n",
       "2  g80Cf4gBnMmOXZCbX4tn  vaccine kills government pushed a unapproved v...   \n",
       "3  g80Cf4gBnMmOXZCbX4tn   reminder  share share share  stop medical col...   \n",
       "4                   NaN  the south african government has established a...   \n",
       "\n",
       "                  updatedAt                                    id  \\\n",
       "0  2023-06-08T16:14:34.393Z  749a5972-c537-4f93-80de-adb0c73527a2   \n",
       "1  2023-06-08T17:13:15.540Z  11b135fd-d34f-4bc5-9e51-b4ed28f22a22   \n",
       "2  2023-06-08T18:24:00.164Z  9f635c18-49c4-4d26-ada9-5d6ae2706f1c   \n",
       "3  2023-06-08T14:30:29.975Z  af0d9542-930b-4101-a786-202710a13f26   \n",
       "4  2023-06-08T14:19:09.429Z  ea9ee102-2d4f-48f3-b1f4-13b2cb4714ba   \n",
       "\n",
       "              index  type issueName             themeName  \n",
       "0  prod-evidence-v1  _doc  COVID-19  Vaccine Side Effects  \n",
       "1  prod-evidence-v1  _doc  COVID-19         Home Remedies  \n",
       "2  prod-evidence-v1  _doc  COVID-19                   NaN  \n",
       "3  prod-evidence-v1  _doc  COVID-19            Corruption  \n",
       "4  prod-evidence-v1  _doc       NaN  Vaccine Side Effects  \n",
       "\n",
       "[5 rows x 23 columns]"
      ]
     },
     "execution_count": 103,
     "metadata": {},
     "output_type": "execute_result"
    }
   ],
   "source": [
    "df.head()"
   ]
  },
  {
   "cell_type": "code",
   "execution_count": 89,
   "id": "a09fe856-3462-44ba-acf0-ce75703b6992",
   "metadata": {},
   "outputs": [
    {
     "data": {
      "text/plain": [
       "0"
      ]
     },
     "execution_count": 89,
     "metadata": {},
     "output_type": "execute_result"
    }
   ],
   "source": [
    "pd['text'].isna().sum()"
   ]
  },
  {
   "cell_type": "code",
   "execution_count": 90,
   "id": "3340365b-5fee-4648-b2fe-6802cf51222d",
   "metadata": {},
   "outputs": [
    {
     "data": {
      "text/plain": [
       "0     Actor Jamie Foxx reportedly ‘par@lyzed and bl+...\n",
       "1     Use alot of fresh ginger,when it strikes your ...\n",
       "2     VACCINE KILLS!!\\nGOVERNMENT PUSHED A UNAPPROVE...\n",
       "3         💥REMINDER💥 \\n\\n   ‼️SHARE - SHARE - SHARE‼...\n",
       "4     The South African government has established a...\n",
       "                            ...                        \n",
       "57    I'll never ever forgive big pharma, the WHO, o...\n",
       "58    Oh give it up. Children are not at risk for CO...\n",
       "59    Before the introduction of its vaccine, measle...\n",
       "60    Thekeksociety: NOBEL PRIZE WINNER FOUND DEAD A...\n",
       "61    Twelve Infants Perish in Clinical Trial for RS...\n",
       "Name: text, Length: 62, dtype: object"
      ]
     },
     "execution_count": 90,
     "metadata": {},
     "output_type": "execute_result"
    }
   ],
   "source": [
    "pd['text']"
   ]
  },
  {
   "cell_type": "code",
   "execution_count": 104,
   "id": "08c1ac36-983e-47ce-aac9-e84c255df54b",
   "metadata": {},
   "outputs": [],
   "source": [
    "df.to_csv(\"amp.csv\", index = False)"
   ]
  },
  {
   "cell_type": "code",
   "execution_count": 2,
   "id": "23689c2b",
   "metadata": {},
   "outputs": [],
   "source": [
    "cl = pd.read_csv(\"https://raw.githubusercontent.com/ucinlp/covid19-data/master/covid_lies.csv\")"
   ]
  }
 ],
 "metadata": {
  "kernelspec": {
   "display_name": "Python 3 (ipykernel)",
   "language": "python",
   "name": "python3"
  },
  "language_info": {
   "codemirror_mode": {
    "name": "ipython",
    "version": 3
   },
   "file_extension": ".py",
   "mimetype": "text/x-python",
   "name": "python",
   "nbconvert_exporter": "python",
   "pygments_lexer": "ipython3",
   "version": "3.8.8"
  }
 },
 "nbformat": 4,
 "nbformat_minor": 5
}
