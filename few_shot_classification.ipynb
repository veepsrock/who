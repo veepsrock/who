{
 "cells": [
  {
   "cell_type": "code",
   "execution_count": 14,
   "id": "d603c95f",
   "metadata": {},
   "outputs": [],
   "source": [
    "import pandas as pd\n",
    "import numpy as np\n",
    "import matplotlib.pyplot as plt\n",
    "pd.set_option(\"display.max_columns\" , 50)"
   ]
  },
  {
   "cell_type": "markdown",
   "id": "02ba7e74-c7d5-4dd4-9a70-ff9ec25b515b",
   "metadata": {},
   "source": [
    "### Read in data"
   ]
  },
  {
   "cell_type": "code",
   "execution_count": 15,
   "id": "0b6572ca-7e63-4fe9-ab6f-db1bcdd673f7",
   "metadata": {},
   "outputs": [],
   "source": [
    "df = pd.read_csv(\"amp_labels_viv.csv\")"
   ]
  },
  {
   "cell_type": "markdown",
   "id": "5e09dad4-37be-4f35-ba26-151c4ce6634c",
   "metadata": {},
   "source": [
    "### read in covid_lies data"
   ]
  },
  {
   "cell_type": "code",
   "execution_count": 16,
   "id": "07110452-7e4f-4074-80da-ca34c10521fd",
   "metadata": {},
   "outputs": [],
   "source": [
    "cl = pd.read_csv(\"covid_lies_sample.csv\")"
   ]
  },
  {
   "cell_type": "code",
   "execution_count": 17,
   "id": "7d2be7c8-c692-4cc5-9a39-1686f92883d4",
   "metadata": {},
   "outputs": [],
   "source": [
    "cl.rename(columns={\"misconception\": \"text\"}, inplace = True)"
   ]
  },
  {
   "cell_type": "code",
   "execution_count": 18,
   "id": "bbdb14ad-8178-4c07-81c9-63a63414e7ac",
   "metadata": {},
   "outputs": [],
   "source": [
    "# combine with AMP data\n",
    "df = pd.concat([df, cl], ignore_index=True)"
   ]
  },
  {
   "cell_type": "code",
   "execution_count": 19,
   "id": "72e84be9-8e9c-4643-bcf7-2eacaecf50d6",
   "metadata": {},
   "outputs": [],
   "source": [
    "def combine_non_na(row):\n",
    "    return [value for value in row if pd.notna(value)]"
   ]
  },
  {
   "cell_type": "code",
   "execution_count": 20,
   "id": "337446a3-fa6d-4edb-995e-ac4f294177a6",
   "metadata": {},
   "outputs": [],
   "source": [
    "# combine labels\n",
    "df[\"labels\"] = df[[\"themeName\", \"manual_themeName\", \"manual_themeName2\"]].apply(lambda row: combine_non_na(row), axis=1)"
   ]
  },
  {
   "cell_type": "markdown",
   "id": "fc42d87a",
   "metadata": {},
   "source": [
    "## Find which labels are most common"
   ]
  },
  {
   "cell_type": "code",
   "execution_count": 21,
   "id": "2b511322",
   "metadata": {},
   "outputs": [],
   "source": [
    "df_counts = df[\"labels\"].explode().value_counts()"
   ]
  },
  {
   "cell_type": "code",
   "execution_count": 22,
   "id": "45185c69",
   "metadata": {},
   "outputs": [
    {
     "data": {
      "text/html": [
       "<div>\n",
       "<style scoped>\n",
       "    .dataframe tbody tr th:only-of-type {\n",
       "        vertical-align: middle;\n",
       "    }\n",
       "\n",
       "    .dataframe tbody tr th {\n",
       "        vertical-align: top;\n",
       "    }\n",
       "\n",
       "    .dataframe thead th {\n",
       "        text-align: right;\n",
       "    }\n",
       "</style>\n",
       "<table border=\"1\" class=\"dataframe\">\n",
       "  <thead>\n",
       "    <tr style=\"text-align: right;\">\n",
       "      <th></th>\n",
       "      <th>Vaccine Side Effects</th>\n",
       "      <th>Conspiracy</th>\n",
       "      <th>Vaccine Efficacy</th>\n",
       "      <th>Case Reporting</th>\n",
       "      <th>Home Remedies</th>\n",
       "      <th>Bio-weapon</th>\n",
       "      <th>Vaccine ingredients</th>\n",
       "      <th>Government</th>\n",
       "    </tr>\n",
       "  </thead>\n",
       "  <tbody>\n",
       "    <tr>\n",
       "      <th>labels</th>\n",
       "      <td>19</td>\n",
       "      <td>14</td>\n",
       "      <td>7</td>\n",
       "      <td>6</td>\n",
       "      <td>6</td>\n",
       "      <td>5</td>\n",
       "      <td>3</td>\n",
       "      <td>3</td>\n",
       "    </tr>\n",
       "  </tbody>\n",
       "</table>\n",
       "</div>"
      ],
      "text/plain": [
       "        Vaccine Side Effects  Conspiracy  Vaccine Efficacy  Case Reporting  \\\n",
       "labels                    19          14                 7               6   \n",
       "\n",
       "        Home Remedies  Bio-weapon  Vaccine ingredients  Government  \n",
       "labels              6           5                    3           3  "
      ]
     },
     "execution_count": 22,
     "metadata": {},
     "output_type": "execute_result"
    }
   ],
   "source": [
    "df_counts.to_frame().head(8).T"
   ]
  },
  {
   "cell_type": "markdown",
   "id": "f73b9ba2",
   "metadata": {},
   "source": [
    "## create an identifier to split if row has label or not"
   ]
  },
  {
   "cell_type": "code",
   "execution_count": 23,
   "id": "9f3fb899-28be-4ee0-b9c5-3305cff1aeb8",
   "metadata": {},
   "outputs": [],
   "source": [
    "df[\"labels\"] = df[\"labels\"].fillna(\"\")"
   ]
  },
  {
   "cell_type": "code",
   "execution_count": 24,
   "id": "727a89f0",
   "metadata": {},
   "outputs": [],
   "source": [
    "df[\"split\"] = \"unlabeled\"\n",
    "mask = df[\"labels\"].apply(lambda x: len(x)) > 0\n",
    "df.loc[mask, \"split\"] = \"labeled\""
   ]
  },
  {
   "cell_type": "code",
   "execution_count": 25,
   "id": "25fb86a9",
   "metadata": {},
   "outputs": [
    {
     "data": {
      "text/plain": [
       "unlabeled    65\n",
       "labeled      60\n",
       "Name: split, dtype: int64"
      ]
     },
     "execution_count": 25,
     "metadata": {},
     "output_type": "execute_result"
    }
   ],
   "source": [
    "df[\"split\"].value_counts()"
   ]
  },
  {
   "cell_type": "code",
   "execution_count": 26,
   "id": "076ae4bb",
   "metadata": {},
   "outputs": [
    {
     "data": {
      "text/plain": [
       "Index(['date', 'attachments', 'textTranslated', 'detectedLanguage',\n",
       "       'likeCount', 'countries', 'authorId', 'url', 'platform', 'commentCount',\n",
       "       'socialMediaPostType', 'shareCount', 'createdAt', 'submittedLanguage',\n",
       "       'themeIds', 'issueIds', 'text', 'updatedAt', 'id', 'index', 'type',\n",
       "       'issueName', 'themeName', 'manuarl_issueName', 'manual_themeName',\n",
       "       'manual_themeName2', 'misconception_id', 'tweet_id', 'label', 'labels',\n",
       "       'split'],\n",
       "      dtype='object')"
      ]
     },
     "execution_count": 26,
     "metadata": {},
     "output_type": "execute_result"
    }
   ],
   "source": [
    "df.columns"
   ]
  },
  {
   "cell_type": "markdown",
   "id": "8df61265",
   "metadata": {},
   "source": [
    "### drop duplicates"
   ]
  },
  {
   "cell_type": "code",
   "execution_count": 27,
   "id": "4d197242",
   "metadata": {},
   "outputs": [
    {
     "name": "stdout",
     "output_type": "stream",
     "text": [
      "Removed 0.00% duplicates.\n"
     ]
    }
   ],
   "source": [
    "len_before = len(df)\n",
    "df = df.drop_duplicates(subset = \"text\")\n",
    "print(f\"Removed {(len_before - len(df))/len_before:.2%} duplicates.\")"
   ]
  },
  {
   "cell_type": "markdown",
   "id": "42a22f73",
   "metadata": {},
   "source": [
    "# Create training sets"
   ]
  },
  {
   "cell_type": "code",
   "execution_count": 28,
   "id": "51de7120",
   "metadata": {},
   "outputs": [],
   "source": [
    "from sklearn.preprocessing import MultiLabelBinarizer"
   ]
  },
  {
   "cell_type": "markdown",
   "id": "ba6c313c",
   "metadata": {},
   "source": [
    "MultiLabelBinarizer takes a list of label names and creates a vector with zeros for absent labels and ones for present labels. We can test this by fitting MultiLabelBinarizer on all_labels to learn the mapping from label name to ID"
   ]
  },
  {
   "cell_type": "code",
   "execution_count": 29,
   "id": "bdcece45-aa92-4541-8169-1fd0e78bb08b",
   "metadata": {},
   "outputs": [],
   "source": [
    "all_labels = list(df[\"themeName\"].unique())"
   ]
  },
  {
   "cell_type": "code",
   "execution_count": 30,
   "id": "b4e5d633-a9b9-4d9c-a975-5e4a0b9c5ca3",
   "metadata": {},
   "outputs": [],
   "source": [
    "for theme in list(df[\"manual_themeName\"].unique()):\n",
    "    if theme not in all_labels:\n",
    "        all_labels.append(theme)"
   ]
  },
  {
   "cell_type": "code",
   "execution_count": 31,
   "id": "9b8fd322",
   "metadata": {},
   "outputs": [],
   "source": [
    "all_labels = [x for x in all_labels if str(x) != 'nan']"
   ]
  },
  {
   "cell_type": "code",
   "execution_count": 32,
   "id": "957496cd",
   "metadata": {},
   "outputs": [
    {
     "data": {
      "text/plain": [
       "array([[1, 0, 0, 0, 0, 0, 0, 0, 0, 0, 0, 0, 0, 0, 0, 0, 1, 0],\n",
       "       [0, 0, 0, 0, 0, 0, 1, 0, 0, 0, 0, 0, 0, 0, 0, 0, 0, 0]])"
      ]
     },
     "execution_count": 32,
     "metadata": {},
     "output_type": "execute_result"
    }
   ],
   "source": [
    "mlb = MultiLabelBinarizer()\n",
    "mlb.fit([all_labels])\n",
    "mlb.transform([[\"Bio-weapon\", \"Vaccine Side Effects\"], [\"Home Remedies\"]])"
   ]
  },
  {
   "cell_type": "markdown",
   "id": "2bacab6b-80e2-48b4-9438-71fa062d38e6",
   "metadata": {},
   "source": [
    "### Create splits iteratively "
   ]
  },
  {
   "cell_type": "code",
   "execution_count": 33,
   "id": "e065189c",
   "metadata": {},
   "outputs": [],
   "source": [
    "from skmultilearn.model_selection import iterative_train_test_split\n",
    "\n",
    "def balanced_split(df, test_size=0.5):\n",
    "    ind = np.expand_dims(np.arange(len(df)), axis=1)\n",
    "    labels = mlb.transform(df[\"labels\"])\n",
    "    ind_train, _, ind_test, _ = iterative_train_test_split(ind, labels,\n",
    "                                                           test_size)\n",
    "    return df.iloc[ind_train[:, 0]], df.iloc[ind_test[:,0]]"
   ]
  },
  {
   "cell_type": "code",
   "execution_count": 34,
   "id": "2163d903-fe4d-4ce4-9bde-0c7f27401527",
   "metadata": {},
   "outputs": [
    {
     "name": "stderr",
     "output_type": "stream",
     "text": [
      "/opt/conda/lib/python3.8/site-packages/sklearn/preprocessing/_label.py:895: UserWarning: unknown class(es) ['Bio-Weapon', 'Vaccine ingredient', 'Vaccine ingredients'] will be ignored\n",
      "  warnings.warn(\n",
      "/opt/conda/lib/python3.8/site-packages/sklearn/preprocessing/_label.py:895: UserWarning: unknown class(es) ['Bio-Weapon', 'Vaccine ingredients'] will be ignored\n",
      "  warnings.warn(\n"
     ]
    }
   ],
   "source": [
    "from sklearn.model_selection import train_test_split\n",
    "\n",
    "df_clean = df[[\"text\", \"labels\", \"split\"]].reset_index(drop=True).copy()\n",
    "\n",
    "# unsupervised set\n",
    "df_unsup = df_clean.loc[df_clean[\"split\"] == \"unlabeled\", [\"text\", \"labels\"]]\n",
    "\n",
    "# supervised set\n",
    "df_sup = df_clean.loc[df_clean[\"split\"] == \"labeled\", [\"text\", \"labels\"]]\n",
    "\n",
    "np.random.seed(0)\n",
    "df_train, df_tmp = balanced_split(df_sup, test_size=0.5)\n",
    "df_valid, df_test = balanced_split(df_tmp, test_size=0.5)"
   ]
  },
  {
   "cell_type": "markdown",
   "id": "477f4b87-9c05-4cd3-a913-0588ea1bd618",
   "metadata": {},
   "source": [
    "### Create a dataset so all these splits are in one"
   ]
  },
  {
   "cell_type": "code",
   "execution_count": 35,
   "id": "998db16c-101d-4db7-b0b9-bcadbacb8b50",
   "metadata": {},
   "outputs": [],
   "source": [
    "from datasets import Dataset, DatasetDict\n",
    "\n",
    "ds = DatasetDict({\n",
    "    \"train\": Dataset.from_pandas(df_train.reset_index(drop=True)),\n",
    "    \"valid\": Dataset.from_pandas(df_valid.reset_index(drop=True)),\n",
    "    \"test\": Dataset.from_pandas(df_test.reset_index(drop=True)),\n",
    "    \"unsup\": Dataset.from_pandas(df_unsup.reset_index(drop=True))})\n"
   ]
  },
  {
   "cell_type": "markdown",
   "id": "9077fd4a-f440-4098-82e9-300797821cf0",
   "metadata": {},
   "source": [
    "### Create training slides to investigate what's the right balance of supervised to unsupervised data needed"
   ]
  },
  {
   "cell_type": "code",
   "execution_count": 36,
   "id": "a2a0f33a-2a7e-4366-9a8e-09eb8b19c66e",
   "metadata": {},
   "outputs": [
    {
     "name": "stderr",
     "output_type": "stream",
     "text": [
      "/opt/conda/lib/python3.8/site-packages/sklearn/preprocessing/_label.py:895: UserWarning: unknown class(es) ['Vaccine ingredient', 'Vaccine ingredients'] will be ignored\n",
      "  warnings.warn(\n"
     ]
    }
   ],
   "source": [
    "np.random.seed(0)\n",
    "all_indices = np.expand_dims(list(range(len(ds[\"train\"]))), axis=1)\n",
    "indices_pool = all_indices\n",
    "labels = mlb.transform(ds[\"train\"][\"labels\"])\n",
    "train_samples = [8, 16, 32]\n",
    "train_slices, last_k = [], 0\n",
    "\n",
    "for i, k in enumerate(train_samples):\n",
    "    # Split off samples necessary to fill the gap to the next split size\n",
    "    indices_pool, labels, new_slice, _ = iterative_train_test_split(\n",
    "        indices_pool, labels, (k-last_k)/len(labels))\n",
    "    last_k = k\n",
    "    if i==0: train_slices.append(new_slice)\n",
    "    else: train_slices.append(np.concatenate((train_slices[-1], new_slice)))"
   ]
  },
  {
   "cell_type": "code",
   "execution_count": 37,
   "id": "7040d0c8-283d-43e7-8ff8-e7df6226a928",
   "metadata": {},
   "outputs": [
    {
     "data": {
      "text/plain": [
       "(None, None)"
      ]
     },
     "execution_count": 37,
     "metadata": {},
     "output_type": "execute_result"
    }
   ],
   "source": [
    "# Add full dataset as last slice\n",
    "train_slices.append(all_indices), train_samples.append(len(ds[\"train\"]))\n"
   ]
  },
  {
   "cell_type": "code",
   "execution_count": 38,
   "id": "1e9625d3-7e24-432c-92ae-e955de93715b",
   "metadata": {},
   "outputs": [],
   "source": [
    "train_slices = [np.squeeze(train_slice) for train_slice in train_slices]"
   ]
  },
  {
   "cell_type": "code",
   "execution_count": 39,
   "id": "c226a558-4c46-473c-ba81-c688e774b573",
   "metadata": {},
   "outputs": [
    {
     "data": {
      "text/plain": [
       "[array([ 0,  2,  4,  6, 11, 14, 16, 18]),\n",
       " array([ 0,  2,  4,  6, 11, 14, 16, 18,  1,  3,  7, 12, 15, 19, 26, 27]),\n",
       " array([ 0,  2,  4,  6, 11, 14, 16, 18,  1,  3,  7, 12, 15, 19, 26, 27,  5,\n",
       "         8,  9, 10, 13, 17, 20, 21, 22, 23, 24, 25, 28, 29]),\n",
       " array([ 0,  1,  2,  3,  4,  5,  6,  7,  8,  9, 10, 11, 12, 13, 14, 15, 16,\n",
       "        17, 18, 19, 20, 21, 22, 23, 24, 25, 26, 27, 28, 29])]"
      ]
     },
     "execution_count": 39,
     "metadata": {},
     "output_type": "execute_result"
    }
   ],
   "source": [
    "train_slices"
   ]
  },
  {
   "cell_type": "code",
   "execution_count": 40,
   "id": "29bec2ac-2a5d-4e06-a81a-5eff1bf373a1",
   "metadata": {},
   "outputs": [
    {
     "name": "stdout",
     "output_type": "stream",
     "text": [
      "Target split sizes:\n",
      "[8, 16, 32, 30]\n",
      "Actual split sizes:\n",
      "[8, 16, 30, 30]\n"
     ]
    }
   ],
   "source": [
    "print(\"Target split sizes:\")\n",
    "print(train_samples)\n",
    "print(\"Actual split sizes:\")\n",
    "print([len(x) for x in train_slices])"
   ]
  },
  {
   "cell_type": "markdown",
   "id": "a8ad876b-2259-4979-91ff-de7e21385da1",
   "metadata": {},
   "source": [
    "## Create Naive Bayesline"
   ]
  },
  {
   "cell_type": "code",
   "execution_count": 41,
   "id": "e46ba9c2-a1a0-4b58-8ff2-69f811aef1c4",
   "metadata": {
    "tags": []
   },
   "outputs": [
    {
     "data": {
      "application/vnd.jupyter.widget-view+json": {
       "model_id": "",
       "version_major": 2,
       "version_minor": 0
      },
      "text/plain": [
       "Map:   0%|          | 0/30 [00:00<?, ? examples/s]"
      ]
     },
     "metadata": {},
     "output_type": "display_data"
    },
    {
     "data": {
      "application/vnd.jupyter.widget-view+json": {
       "model_id": "",
       "version_major": 2,
       "version_minor": 0
      },
      "text/plain": [
       "Map:   0%|          | 0/18 [00:00<?, ? examples/s]"
      ]
     },
     "metadata": {},
     "output_type": "display_data"
    },
    {
     "name": "stderr",
     "output_type": "stream",
     "text": [
      "/opt/conda/lib/python3.8/site-packages/sklearn/preprocessing/_label.py:895: UserWarning: unknown class(es) ['Vaccine ingredients'] will be ignored\n",
      "  warnings.warn(\n"
     ]
    },
    {
     "data": {
      "application/vnd.jupyter.widget-view+json": {
       "model_id": "",
       "version_major": 2,
       "version_minor": 0
      },
      "text/plain": [
       "Map:   0%|          | 0/12 [00:00<?, ? examples/s]"
      ]
     },
     "metadata": {},
     "output_type": "display_data"
    },
    {
     "data": {
      "application/vnd.jupyter.widget-view+json": {
       "model_id": "",
       "version_major": 2,
       "version_minor": 0
      },
      "text/plain": [
       "Map:   0%|          | 0/65 [00:00<?, ? examples/s]"
      ]
     },
     "metadata": {},
     "output_type": "display_data"
    }
   ],
   "source": [
    "def prepare_labels(batch):\n",
    "    batch[\"label_ids\"] = mlb.transform(batch[\"labels\"])\n",
    "    return batch\n",
    "\n",
    "ds = ds.map(prepare_labels, batched=True)"
   ]
  },
  {
   "cell_type": "code",
   "execution_count": 42,
   "id": "9e2c15db-7896-4bb2-a48a-cb0fb5e322f9",
   "metadata": {
    "tags": []
   },
   "outputs": [],
   "source": [
    "from collections import defaultdict\n",
    "\n",
    "macro_scores, micro_scores = defaultdict(list), defaultdict(list)\n"
   ]
  },
  {
   "cell_type": "markdown",
   "id": "de25a51b-009b-480c-a7ad-977f2e74049e",
   "metadata": {},
   "source": [
    "### Train baseline"
   ]
  },
  {
   "cell_type": "code",
   "execution_count": 43,
   "id": "46437d17-2a2c-4838-867c-e460bef1887b",
   "metadata": {},
   "outputs": [],
   "source": [
    "from sklearn.naive_bayes import MultinomialNB\n",
    "from sklearn.metrics import classification_report\n",
    "from skmultilearn.problem_transform import BinaryRelevance\n",
    "from sklearn.feature_extraction.text import CountVectorizer\n",
    "\n",
    "for train_slice in train_slices:\n",
    "    # Get training slice and test data\n",
    "    ds_train_sample = ds[\"train\"].select(train_slice)\n",
    "    y_train = np.array(ds_train_sample[\"label_ids\"])\n",
    "    y_test = np.array(ds[\"test\"][\"label_ids\"])\n",
    "    # Use a simple count vectorizer to encode our texts as token counts\n",
    "    count_vect = CountVectorizer()\n",
    "    X_train_counts = count_vect.fit_transform(ds_train_sample[\"text\"])\n",
    "    X_test_counts = count_vect.transform(ds[\"test\"][\"text\"])\n",
    "    # Create and train our model!\n",
    "    classifier = BinaryRelevance(classifier=MultinomialNB())\n",
    "    classifier.fit(X_train_counts, y_train)\n",
    "    # Generate predictions and evaluate\n",
    "    y_pred_test = classifier.predict(X_test_counts)\n",
    "    clf_report = classification_report(\n",
    "        y_test, y_pred_test, target_names=mlb.classes_, zero_division=0,\n",
    "        output_dict=True)\n",
    "    # Store metrics\n",
    "    macro_scores[\"Naive Bayes\"].append(clf_report[\"macro avg\"][\"f1-score\"])\n",
    "    micro_scores[\"Naive Bayes\"].append(clf_report[\"micro avg\"][\"f1-score\"])"
   ]
  },
  {
   "cell_type": "code",
   "execution_count": 44,
   "id": "97556df2-bf64-4a89-a4e9-db089aa7b5a2",
   "metadata": {},
   "outputs": [],
   "source": [
    "import matplotlib.pyplot as plt\n",
    "\n",
    "def plot_metrics(micro_scores, macro_scores, sample_sizes, current_model):\n",
    "    fig, (ax0, ax1) = plt.subplots(1, 2, figsize=(10, 4), sharey=True)\n",
    "\n",
    "    for run in micro_scores.keys():\n",
    "        if run == current_model:\n",
    "            ax0.plot(sample_sizes, micro_scores[run], label=run, linewidth=2)\n",
    "            ax1.plot(sample_sizes, macro_scores[run], label=run, linewidth=2)\n",
    "        else:\n",
    "            ax0.plot(sample_sizes, micro_scores[run], label=run,\n",
    "                     linestyle=\"dashed\")\n",
    "            ax1.plot(sample_sizes, macro_scores[run], label=run,\n",
    "                     linestyle=\"dashed\")\n",
    "\n",
    "    ax0.set_title(\"Micro F1 scores\")\n",
    "    ax1.set_title(\"Macro F1 scores\")\n",
    "    ax0.set_ylabel(\"Test set F1 score\")\n",
    "    ax0.legend(loc=\"lower right\")\n",
    "    for ax in [ax0, ax1]:\n",
    "        ax.set_xlabel(\"Number of training samples\")\n",
    "        ax.set_xscale(\"log\")\n",
    "        ax.set_xticks(sample_sizes)\n",
    "        ax.set_xticklabels(sample_sizes)\n",
    "        ax.minorticks_off()\n",
    "    plt.tight_layout()\n",
    "    plt.show()"
   ]
  },
  {
   "cell_type": "markdown",
   "id": "fce53618-8b96-40f9-9043-02542938ccb2",
   "metadata": {},
   "source": [
    "## Plot baseline"
   ]
  },
  {
   "cell_type": "code",
   "execution_count": 231,
   "id": "0f9faf2e-5115-4877-88c1-cac028df7b03",
   "metadata": {},
   "outputs": [
    {
     "data": {
      "image/png": "[encoded data removed]",
      "text/plain": [
       "<Figure size 1000x400 with 2 Axes>"
      ]
     },
     "metadata": {},
     "output_type": "display_data"
    }
   ],
   "source": [
    "plot_metrics(micro_scores, macro_scores, train_samples, \"Naive Bayes\")\n"
   ]
  },
  {
   "cell_type": "markdown",
   "id": "5c03a5b9-29fc-485f-b86c-b1a22ab730c1",
   "metadata": {},
   "source": [
    "Note that we plot the number of samples on a logarithmic scale. From the figure we can see that the micro and macro F1-scores both improve as we increase the number of training samples. With so few samples to train on, the results are also slightly noisy since each slice can have a different class distribution. Nevertheless, what’s important here is the trend, so let’s now see how these results fare against transformer-based approaches!"
   ]
  },
  {
   "cell_type": "markdown",
   "id": "f8a64639-9845-411d-abf2-abbfe3fd22ce",
   "metadata": {},
   "source": [
    "# Use embeddings as a lookup table"
   ]
  },
  {
   "cell_type": "code",
   "execution_count": 45,
   "id": "17bc47d7-f9d9-475f-b529-51ead5e53743",
   "metadata": {},
   "outputs": [],
   "source": [
    "import torch\n",
    "from transformers import AutoTokenizer, AutoModel"
   ]
  },
  {
   "cell_type": "code",
   "execution_count": 46,
   "id": "29693341-2c61-43e8-aea7-2ea1565b660e",
   "metadata": {},
   "outputs": [
    {
     "name": "stderr",
     "output_type": "stream",
     "text": [
      "Some weights of the model checkpoint at miguelvictor/python-gpt2-large were not used when initializing GPT2Model: ['lm_head.weight']\n",
      "- This IS expected if you are initializing GPT2Model from the checkpoint of a model trained on another task or with another architecture (e.g. initializing a BertForSequenceClassification model from a BertForPreTraining model).\n",
      "- This IS NOT expected if you are initializing GPT2Model from the checkpoint of a model that you expect to be exactly identical (initializing a BertForSequenceClassification model from a BertForSequenceClassification model).\n"
     ]
    }
   ],
   "source": [
    "model_ckpt = \"miguelvictor/python-gpt2-large\"\n",
    "tokenizer = AutoTokenizer.from_pretrained(model_ckpt)\n",
    "model = AutoModel.from_pretrained(model_ckpt)\n",
    "\n",
    "def mean_pooling(model_output, attention_mask):\n",
    "    # Extract the token embeddings\n",
    "    token_embeddings = model_output[0]\n",
    "    # Compute the attention mask\n",
    "    input_mask_expanded = (attention_mask\n",
    "                           .unsqueeze(-1)\n",
    "                           .expand(token_embeddings.size())\n",
    "                           .float())\n",
    "    # Sum the embeddings, but ignore masked tokens\n",
    "    sum_embeddings = torch.sum(token_embeddings * input_mask_expanded, 1)\n",
    "    sum_mask = torch.clamp(input_mask_expanded.sum(1), min=1e-9)\n",
    "    # Return the average as a single vector\n",
    "    return sum_embeddings / sum_mask\n",
    "\n",
    "def embed_text(examples):\n",
    "    inputs = tokenizer(examples[\"text\"], padding=True, truncation=True,\n",
    "                       max_length=128, return_tensors=\"pt\")\n",
    "    with torch.no_grad():\n",
    "        model_output = model(**inputs)\n",
    "    pooled_embeds = mean_pooling(model_output, inputs[\"attention_mask\"])\n",
    "    return {\"embedding\": pooled_embeds.cpu().numpy()}"
   ]
  },
  {
   "cell_type": "markdown",
   "id": "31e42be7-0369-4fc0-9594-45cc3a74a7e8",
   "metadata": {},
   "source": [
    "### Get embedding for each split"
   ]
  },
  {
   "cell_type": "code",
   "execution_count": 17,
   "id": "2e4acb23-d457-442c-b0a4-b30cd49f63c2",
   "metadata": {},
   "outputs": [],
   "source": [
    "tokenizer.pad_token = tokenizer.eos_token\n"
   ]
  },
  {
   "cell_type": "code",
   "execution_count": 20,
   "id": "8c116b63-2457-4e0e-a26e-f9ec9e94d32e",
   "metadata": {},
   "outputs": [],
   "source": [
    "train = df[df[\"split\"] == \"labeled\"]"
   ]
  },
  {
   "cell_type": "code",
   "execution_count": 234,
   "id": "970337ff-cc87-43c8-8ae0-3536ee648e4f",
   "metadata": {},
   "outputs": [
    {
     "data": {
      "application/vnd.jupyter.widget-view+json": {
       "model_id": "",
       "version_major": 2,
       "version_minor": 0
      },
      "text/plain": [
       "Map:   0%|          | 0/30 [00:00<?, ? examples/s]"
      ]
     },
     "metadata": {},
     "output_type": "display_data"
    },
    {
     "data": {
      "application/vnd.jupyter.widget-view+json": {
       "model_id": "",
       "version_major": 2,
       "version_minor": 0
      },
      "text/plain": [
       "Map:   0%|          | 0/18 [00:00<?, ? examples/s]"
      ]
     },
     "metadata": {},
     "output_type": "display_data"
    },
    {
     "data": {
      "application/vnd.jupyter.widget-view+json": {
       "model_id": "",
       "version_major": 2,
       "version_minor": 0
      },
      "text/plain": [
       "Map:   0%|          | 0/12 [00:00<?, ? examples/s]"
      ]
     },
     "metadata": {},
     "output_type": "display_data"
    }
   ],
   "source": [
    "tokenizer.pad_token = tokenizer.eos_token\n",
    "embs_train = ds[\"train\"].map(embed_text, batched=True, batch_size=16)\n",
    "embs_valid = ds[\"valid\"].map(embed_text, batched=True, batch_size=16)\n",
    "embs_test = ds[\"test\"].map(embed_text, batched=True, batch_size=16)"
   ]
  },
  {
   "cell_type": "markdown",
   "id": "fccf75a9-bc4f-422e-9163-37e898050804",
   "metadata": {},
   "source": [
    "## Write to pickle to save"
   ]
  },
  {
   "cell_type": "code",
   "execution_count": 1,
   "id": "fe3e061b-6e8e-4d7a-bf22-1f53cbaf64ca",
   "metadata": {},
   "outputs": [],
   "source": [
    "import pickle"
   ]
  },
  {
   "cell_type": "code",
   "execution_count": 236,
   "id": "23a6e1e8-9254-48d9-93bf-0927659bd488",
   "metadata": {},
   "outputs": [],
   "source": [
    "train_file = open(\"amp_embs_train\", \"ab\")\n",
    "valid_file = open(\"amp_embs_valid\", \"ab\")\n",
    "test_file = open(\"amp_embs_test\", \"ab\")"
   ]
  },
  {
   "cell_type": "code",
   "execution_count": 237,
   "id": "bd77fc78-5a54-4ead-9cb8-6ddfe82be3c4",
   "metadata": {},
   "outputs": [],
   "source": [
    "pickle.dump(embs_train, train_file)\n",
    "pickle.dump(embs_valid, valid_file)\n",
    "pickle.dump(embs_test, test_file)"
   ]
  },
  {
   "cell_type": "markdown",
   "id": "7212cc03-aeed-4532-b7d5-44ea319dcf1f",
   "metadata": {},
   "source": [
    "### For when we want to load data back in"
   ]
  },
  {
   "cell_type": "code",
   "execution_count": 2,
   "id": "b8f09ee4-87d9-489d-ab5c-2afbf4eefb08",
   "metadata": {},
   "outputs": [],
   "source": [
    "train_file = open(\"amp_embs_train\", \"rb\")\n",
    "valid_file = open(\"amp_embs_valid\", \"rb\")\n",
    "test_file = open(\"amp_embs_test\", \"rb\")\n"
   ]
  },
  {
   "cell_type": "code",
   "execution_count": 3,
   "id": "bb67f479-1b48-467e-8584-fdfd54fa6561",
   "metadata": {},
   "outputs": [],
   "source": [
    "embs_train = pickle.load(train_file)\n",
    "embs_valid = pickle.load(valid_file)\n",
    "embs_test = pickle.load(test_file)"
   ]
  },
  {
   "cell_type": "markdown",
   "id": "54d32cd6-9a21-4211-964c-5db4c3d2eb5b",
   "metadata": {
    "tags": []
   },
   "source": [
    "train_file = open(\"embs_train\", \"rb\")\n",
    "valid_file = open(\"embs_valid\", \"rb\")\n",
    "test_file = open(\"embs_test\", \"rb\")\n",
    "embs_train = pickle.load(train_file)\n",
    "embs_valid = pickle.load(valid_file)\n",
    "embs_test = pickle.load(test_file)"
   ]
  },
  {
   "cell_type": "markdown",
   "id": "bfbf764c-c718-421d-aa24-570ff70a4f03",
   "metadata": {},
   "source": [
    "## Install Faiss"
   ]
  },
  {
   "cell_type": "code",
   "execution_count": 4,
   "id": "4dbf326a-9414-449b-af52-550bb1f2b1c8",
   "metadata": {},
   "outputs": [
    {
     "name": "stdout",
     "output_type": "stream",
     "text": [
      "Requirement already satisfied: faiss-gpu in /opt/conda/lib/python3.8/site-packages (1.7.2)\n",
      "\n",
      "\u001b[1m[\u001b[0m\u001b[34;49mnotice\u001b[0m\u001b[1;39;49m]\u001b[0m\u001b[39;49m A new release of pip is available: \u001b[0m\u001b[31;49m23.1.2\u001b[0m\u001b[39;49m -> \u001b[0m\u001b[32;49m23.2.1\u001b[0m\n",
      "\u001b[1m[\u001b[0m\u001b[34;49mnotice\u001b[0m\u001b[1;39;49m]\u001b[0m\u001b[39;49m To update, run: \u001b[0m\u001b[32;49mpip install --upgrade pip\u001b[0m\n",
      "Note: you may need to restart the kernel to use updated packages.\n"
     ]
    }
   ],
   "source": [
    "pip install faiss-gpu"
   ]
  },
  {
   "cell_type": "code",
   "execution_count": 5,
   "id": "8d3ae814-e2b8-4ab6-8139-b0ca2a1aa03c",
   "metadata": {},
   "outputs": [],
   "source": [
    "import faiss"
   ]
  },
  {
   "cell_type": "markdown",
   "id": "3b70292c-40e9-4138-aeeb-c4d6807da3ca",
   "metadata": {},
   "source": [
    "### Add embedding index"
   ]
  },
  {
   "cell_type": "code",
   "execution_count": 6,
   "id": "f7fbcfb3-ddd2-4d8e-8f0c-1bbe5dba043b",
   "metadata": {},
   "outputs": [
    {
     "data": {
      "application/vnd.jupyter.widget-view+json": {
       "model_id": "b0be5624b4c4470382e8f79a9933a332",
       "version_major": 2,
       "version_minor": 0
      },
      "text/plain": [
       "  0%|          | 0/1 [00:00<?, ?it/s]"
      ]
     },
     "metadata": {},
     "output_type": "display_data"
    },
    {
     "data": {
      "text/plain": [
       "Dataset({\n",
       "    features: ['text', 'labels', 'label_ids', 'embedding'],\n",
       "    num_rows: 30\n",
       "})"
      ]
     },
     "execution_count": 6,
     "metadata": {},
     "output_type": "execute_result"
    }
   ],
   "source": [
    "embs_train.add_faiss_index(\"embedding\")"
   ]
  },
  {
   "cell_type": "markdown",
   "id": "7d37681e-2a6f-47ae-8d32-fec9500b0496",
   "metadata": {},
   "source": [
    "## Perform nearest neighbor lookup"
   ]
  },
  {
   "cell_type": "markdown",
   "id": "ad680073-931d-4ed6-98af-6a4ee859a17c",
   "metadata": {},
   "source": [
    "We need to specify the query embedding as well as the number of nearest neighbors to retrieve. Let’s give it a spin and have a look at the documents that are closest to an example:"
   ]
  },
  {
   "cell_type": "code",
   "execution_count": 9,
   "id": "3ea120aa-57c8-4644-9a1d-73d761f9be72",
   "metadata": {},
   "outputs": [
    {
     "name": "stdout",
     "output_type": "stream",
     "text": [
      "QUERY LABELS: ['Case Reporting']\n",
      "QUERY TEXT:\n",
      "rumors of a new outbreak of covid in tanzania ummy makes a statement we are processing information [...]\n",
      "\n",
      "==================================================\n",
      "Retrieved documents:\n",
      "==================================================\n",
      "TEXT:\n",
      "hi alai im a practitioner at a certain govt hospital in kisumu please hide my identity over the past 3weeks i have diagonised dozen of patients with similar symptoms akin to that of covid 19 but has m [...]\n",
      "SCORE: 121.60\n",
      "LABELS: ['Variants', 'Case Reporting']\n",
      "==================================================\n",
      "TEXT:\n",
      "thekeksociety nobel prize winner found dead after exposing hiv in the covid vaccines [...]\n",
      "SCORE: 124.68\n",
      "LABELS: ['Vaccine Side Effects', 'Conspiracy', 'Vaccine ingredient']\n",
      "==================================================\n",
      "TEXT:\n",
      "in uganda they were injecting people with water for covid vaccine [...]\n",
      "SCORE: 126.18\n",
      "LABELS: ['Conspiracy']\n"
     ]
    }
   ],
   "source": [
    "i, k = 0, 3 # Select the first query and 3 nearest neighbors\n",
    "rn, nl = \"\\r\\n\\r\\n\", \"\\n\" # Used to remove newlines in text for compact display\n",
    "\n",
    "query =  np.array(embs_valid[i][\"embedding\"], dtype=np.float32)\n",
    "scores, samples = embs_train.get_nearest_examples(\"embedding\", query, k=k)\n",
    "\n",
    "print(f\"QUERY LABELS: {embs_valid[i]['labels']}\")\n",
    "print(f\"QUERY TEXT:\\n{embs_valid[i]['text'][:200].replace(rn, nl)} [...]\\n\")\n",
    "print(\"=\"*50)\n",
    "print(f\"Retrieved documents:\")\n",
    "for score, label, text in zip(scores, samples[\"labels\"], samples[\"text\"]):\n",
    "    print(\"=\"*50)\n",
    "    print(f\"TEXT:\\n{text[:200].replace(rn, nl)} [...]\")\n",
    "    print(f\"SCORE: {score:.2f}\")\n",
    "    print(f\"LABELS: {label}\")"
   ]
  },
  {
   "cell_type": "markdown",
   "id": "758d2d76-c76d-4a7c-9707-e32fc3052f0d",
   "metadata": {},
   "source": [
    "## Find what's the best k value"
   ]
  },
  {
   "cell_type": "code",
   "execution_count": 47,
   "id": "aa64e0df-e918-4a62-bf81-1abdbc7bf49f",
   "metadata": {},
   "outputs": [],
   "source": [
    "def get_sample_preds(sample, m):\n",
    "    return (np.sum(sample[\"label_ids\"], axis=0) >= m).astype(int)\n",
    "\n",
    "def find_best_k_m(ds_train, valid_queries, valid_labels, max_k=17):\n",
    "    max_k = min(len(ds_train), max_k)\n",
    "    perf_micro = np.zeros((max_k, max_k))\n",
    "    perf_macro = np.zeros((max_k, max_k))\n",
    "    for k in range(1, max_k):\n",
    "        for m in range(1, k + 1):\n",
    "            _, samples = ds_train.get_nearest_examples_batch(\"embedding\",\n",
    "                                                             valid_queries, k=k)\n",
    "            y_pred = np.array([get_sample_preds(s, m) for s in samples])\n",
    "            clf_report = classification_report(valid_labels, y_pred,\n",
    "                target_names=mlb.classes_, zero_division=0, output_dict=True)\n",
    "            perf_micro[k, m] = clf_report[\"micro avg\"][\"f1-score\"]\n",
    "            perf_macro[k, m] = clf_report[\"macro avg\"][\"f1-score\"]\n",
    "    return perf_micro, perf_macro"
   ]
  },
  {
   "cell_type": "code",
   "execution_count": 48,
   "id": "1e4d7735-80f7-47af-83c6-055357386d24",
   "metadata": {},
   "outputs": [],
   "source": [
    "valid_labels = np.array(embs_valid[\"label_ids\"])\n",
    "valid_queries = np.array(embs_valid[\"embedding\"], dtype=np.float32)\n",
    "perf_micro, perf_macro = find_best_k_m(embs_train, valid_queries, valid_labels)\n"
   ]
  },
  {
   "cell_type": "markdown",
   "id": "9caf1424-5e41-4243-9bc2-223c07e1a855",
   "metadata": {},
   "source": [
    "k = number of neighbors\n",
    "m = assign all labels that occurred at least m times (m < k)"
   ]
  },
  {
   "cell_type": "code",
   "execution_count": 42,
   "id": "b556fc14-68ec-42bf-bb00-5f3decb7aaba",
   "metadata": {},
   "outputs": [
    {
     "data": {
      "image/png": "[encoded data removed]",
      "text/plain": [
       "<Figure size 1000x350 with 2 Axes>"
      ]
     },
     "metadata": {},
     "output_type": "display_data"
    }
   ],
   "source": [
    "fig, (ax0, ax1) = plt.subplots(1, 2, figsize=(10, 3.5), sharey=True)\n",
    "ax0.imshow(perf_micro)\n",
    "ax1.imshow(perf_macro)\n",
    "\n",
    "ax0.set_title(\"micro scores\")\n",
    "ax0.set_ylabel(\"k\")\n",
    "ax1.set_title(\"macro scores\")\n",
    "for ax in [ax0, ax1]:\n",
    "    ax.set_xlim([0.5, 17 - 0.5])\n",
    "    ax.set_ylim([17 - 0.5, 0.5])\n",
    "    ax.set_xlabel(\"m\")\n",
    "plt.show()"
   ]
  },
  {
   "cell_type": "code",
   "execution_count": 43,
   "id": "09cab2a0-e06a-4020-b072-abe6cd970c4d",
   "metadata": {},
   "outputs": [
    {
     "name": "stdout",
     "output_type": "stream",
     "text": [
      "Best k: 4, best m: 2 The perfomance is best when we choose and, or in other words when we retrieve the 4 nearest neighbors and then assign the labels that occurred at least 2 times.\n"
     ]
    }
   ],
   "source": [
    "k, m = np.unravel_index(perf_micro.argmax(), perf_micro.shape)\n",
    "print(f\"Best k: {k}, best m: {m} The perfomance is best when we choose and, or in other words when we retrieve the 4 nearest neighbors and then assign the labels that occurred at least 2 times.\")"
   ]
  },
  {
   "cell_type": "markdown",
   "id": "e4408d3a-5b00-490c-9bdf-354afd39c8e1",
   "metadata": {},
   "source": [
    "## Remove the fiass embedding so we can compare to NB"
   ]
  },
  {
   "cell_type": "code",
   "execution_count": 38,
   "id": "3ba1bd4e-e194-4110-9c21-b872f15fcb8f",
   "metadata": {},
   "outputs": [
    {
     "data": {
      "application/vnd.jupyter.widget-view+json": {
       "model_id": "67e9e52199ec4704a581c4c4588ebc6d",
       "version_major": 2,
       "version_minor": 0
      },
      "text/plain": [
       "  0%|          | 0/1 [00:00<?, ?it/s]"
      ]
     },
     "metadata": {},
     "output_type": "display_data"
    },
    {
     "data": {
      "application/vnd.jupyter.widget-view+json": {
       "model_id": "b82a079c119f4aa4b653553212107a12",
       "version_major": 2,
       "version_minor": 0
      },
      "text/plain": [
       "  0%|          | 0/1 [00:00<?, ?it/s]"
      ]
     },
     "metadata": {},
     "output_type": "display_data"
    },
    {
     "data": {
      "application/vnd.jupyter.widget-view+json": {
       "model_id": "e929ad31d5374bc5bdd61415037fde10",
       "version_major": 2,
       "version_minor": 0
      },
      "text/plain": [
       "  0%|          | 0/1 [00:00<?, ?it/s]"
      ]
     },
     "metadata": {},
     "output_type": "display_data"
    },
    {
     "data": {
      "application/vnd.jupyter.widget-view+json": {
       "model_id": "fd8b8a1f6c6c46ac86713e1ae669771e",
       "version_major": 2,
       "version_minor": 0
      },
      "text/plain": [
       "  0%|          | 0/1 [00:00<?, ?it/s]"
      ]
     },
     "metadata": {},
     "output_type": "display_data"
    }
   ],
   "source": [
    "embs_train.drop_index(\"embedding\")\n",
    "test_labels = np.array(embs_test[\"label_ids\"])\n",
    "test_queries = np.array(embs_test[\"embedding\"], dtype=np.float32)\n",
    "\n",
    "for train_slice in train_slices:\n",
    "    # Create a Faiss index from training slice\n",
    "    embs_train_tmp = embs_train.select(train_slice)\n",
    "    embs_train_tmp.add_faiss_index(\"embedding\")\n",
    "    # Get best k, m values with validation set\n",
    "    perf_micro, _ = find_best_k_m(embs_train_tmp, valid_queries, valid_labels)\n",
    "    k, m = np.unravel_index(perf_micro.argmax(), perf_micro.shape)\n",
    "    # Get predictions on test set\n",
    "    _, samples = embs_train_tmp.get_nearest_examples_batch(\"embedding\",\n",
    "                                                           test_queries,\n",
    "                                                           k=int(k))\n",
    "    y_pred = np.array([get_sample_preds(s, m) for s in samples])\n",
    "    # Evaluate predictions\n",
    "    clf_report = classification_report(test_labels, y_pred,\n",
    "        target_names=mlb.classes_, zero_division=0, output_dict=True,)\n",
    "    macro_scores[\"Embedding\"].append(clf_report[\"macro avg\"][\"f1-score\"])\n",
    "    micro_scores[\"Embedding\"].append(clf_report[\"micro avg\"][\"f1-score\"])"
   ]
  },
  {
   "cell_type": "code",
   "execution_count": 42,
   "id": "ee03d194-665d-4e2e-a362-1b68d4ef1e2d",
   "metadata": {},
   "outputs": [
    {
     "data": {
      "image/png": "[encoded data removed]",
      "text/plain": [
       "<Figure size 1000x400 with 2 Axes>"
      ]
     },
     "metadata": {},
     "output_type": "display_data"
    }
   ],
   "source": [
    "plot_metrics(micro_scores, macro_scores, train_samples, \"Embedding\")\n"
   ]
  },
  {
   "cell_type": "markdown",
   "id": "155043fb-0975-4b49-a769-8c05341a4b82",
   "metadata": {},
   "source": [
    "## Run embedding preds on all the data"
   ]
  },
  {
   "cell_type": "code",
   "execution_count": null,
   "id": "4a582314-38f6-4ada-8b90-b52bee14f310",
   "metadata": {},
   "outputs": [],
   "source": [
    "for train_slice in train_slices:\n",
    "    # Create a Faiss index from training slice\n",
    "    embs_train_tmp = embs_train.select(train_slice)\n",
    "    embs_train_tmp.add_faiss_index(\"embedding\")\n",
    "    # Get best k, m values with validation set\n",
    "    perf_micro, _ = find_best_k_m(embs_train_tmp, valid_queries, valid_labels)\n",
    "    k, m = np.unravel_index(perf_micro.argmax(), perf_micro.shape)\n",
    "    # Get predictions on test set\n",
    "    _, samples = embs_train_tmp.get_nearest_examples_batch(\"embedding\",\n",
    "                                                           test_queries,\n",
    "                                                           k=int(k))\n",
    "    y_pred = np.array([get_sample_preds(s, m) for s in samples])\n",
    "    # Evaluate predictions\n",
    "    clf_report = classification_report(test_labels, y_pred,\n",
    "        target_names=mlb.classes_, zero_division=0, output_dict=True,)\n",
    "    macro_scores[\"Embedding\"].append(clf_report[\"macro avg\"][\"f1-score\"])\n",
    "    micro_scores[\"Embedding\"].append(clf_report[\"micro avg\"][\"f1-score\"])"
   ]
  },
  {
   "cell_type": "code",
   "execution_count": 44,
   "id": "fba1ed4b-43eb-4578-98d8-3140e9fcfd97",
   "metadata": {},
   "outputs": [
    {
     "data": {
      "text/plain": [
       "Dataset({\n",
       "    features: ['text', 'labels', 'label_ids', 'embedding'],\n",
       "    num_rows: 30\n",
       "})"
      ]
     },
     "execution_count": 44,
     "metadata": {},
     "output_type": "execute_result"
    }
   ],
   "source": [
    "embs_train"
   ]
  },
  {
   "cell_type": "code",
   "execution_count": 46,
   "id": "25318998-4c50-4978-b29a-e35c88166aee",
   "metadata": {},
   "outputs": [
    {
     "data": {
      "text/plain": [
       "array([ 0,  2,  4,  6, 11, 14, 16, 18])"
      ]
     },
     "execution_count": 46,
     "metadata": {},
     "output_type": "execute_result"
    }
   ],
   "source": []
  },
  {
   "cell_type": "code",
   "execution_count": 47,
   "id": "c4ee1175-e6ff-40bd-b438-bb9dde6b548a",
   "metadata": {},
   "outputs": [],
   "source": [
    "embs_train_tmp = embs_train.select(train_slices[0])"
   ]
  },
  {
   "cell_type": "code",
   "execution_count": 48,
   "id": "5615d2af-bd8b-4645-a5dd-1d46e3b74b34",
   "metadata": {},
   "outputs": [
    {
     "data": {
      "application/vnd.jupyter.widget-view+json": {
       "model_id": "b46b3d34954b4582a8888923d793b1a7",
       "version_major": 2,
       "version_minor": 0
      },
      "text/plain": [
       "  0%|          | 0/1 [00:00<?, ?it/s]"
      ]
     },
     "metadata": {},
     "output_type": "display_data"
    },
    {
     "data": {
      "text/plain": [
       "Dataset({\n",
       "    features: ['text', 'labels', 'label_ids', 'embedding'],\n",
       "    num_rows: 8\n",
       "})"
      ]
     },
     "execution_count": 48,
     "metadata": {},
     "output_type": "execute_result"
    }
   ],
   "source": [
    "embs_train_tmp.add_faiss_index(\"embedding\")"
   ]
  },
  {
   "cell_type": "code",
   "execution_count": 49,
   "id": "211226c4-17c0-4734-ae7b-6d253cd40966",
   "metadata": {},
   "outputs": [],
   "source": [
    "perf_micro, _ = find_best_k_m(embs_train_tmp, valid_queries, valid_labels)\n",
    "k, m = np.unravel_index(perf_micro.argmax(), perf_micro.shape)"
   ]
  },
  {
   "cell_type": "code",
   "execution_count": 57,
   "id": "780e1efe-5429-4e34-b67d-65833c343eac",
   "metadata": {},
   "outputs": [],
   "source": [
    "_, samples = embs_train_tmp.get_nearest_examples_batch(\"embedding\",\n",
    "                                                           test_queries,\n",
    "                                                           k=int(4))"
   ]
  },
  {
   "cell_type": "code",
   "execution_count": 58,
   "id": "3d22b3da-89cf-4149-b18e-aff9916c161a",
   "metadata": {},
   "outputs": [],
   "source": [
    "y_pred = np.array([get_sample_preds(s, 2) for s in samples])"
   ]
  },
  {
   "cell_type": "code",
   "execution_count": 59,
   "id": "64f54992-790b-414f-97b2-1ae6c7ee1184",
   "metadata": {},
   "outputs": [
    {
     "data": {
      "text/plain": [
       "array([[0, 0, 0, 0, 0, 0, 0, 0, 0, 0, 0, 0, 0, 0, 0, 0, 1, 0],\n",
       "       [0, 0, 0, 0, 0, 0, 0, 0, 0, 0, 0, 0, 0, 0, 0, 0, 1, 0],\n",
       "       [0, 0, 0, 0, 0, 0, 0, 0, 0, 0, 0, 0, 0, 0, 0, 0, 1, 0],\n",
       "       [0, 0, 0, 0, 0, 0, 0, 0, 0, 0, 0, 0, 0, 0, 0, 0, 1, 0],\n",
       "       [0, 0, 1, 0, 0, 0, 0, 0, 0, 0, 0, 0, 0, 0, 0, 0, 1, 0],\n",
       "       [0, 0, 0, 0, 0, 0, 0, 0, 0, 0, 0, 0, 0, 0, 0, 0, 1, 0],\n",
       "       [0, 0, 1, 0, 0, 0, 0, 0, 0, 0, 0, 0, 0, 0, 0, 0, 0, 0],\n",
       "       [0, 0, 0, 0, 0, 0, 0, 0, 0, 0, 0, 0, 0, 0, 0, 0, 1, 0],\n",
       "       [0, 0, 0, 0, 0, 0, 0, 0, 0, 0, 0, 0, 0, 0, 0, 0, 1, 0],\n",
       "       [0, 0, 0, 0, 0, 0, 0, 0, 0, 0, 0, 0, 0, 0, 0, 0, 1, 0],\n",
       "       [0, 0, 0, 0, 0, 0, 0, 0, 0, 0, 0, 0, 0, 0, 0, 0, 1, 0],\n",
       "       [0, 0, 0, 0, 0, 0, 0, 0, 0, 0, 0, 0, 0, 0, 0, 0, 1, 0]])"
      ]
     },
     "execution_count": 59,
     "metadata": {},
     "output_type": "execute_result"
    }
   ],
   "source": [
    "y_pred"
   ]
  },
  {
   "cell_type": "code",
   "execution_count": null,
   "id": "4712830f-ca16-4397-a042-50e98a8c7ac9",
   "metadata": {},
   "outputs": [],
   "source": []
  }
 ],
 "metadata": {
  "kernelspec": {
   "display_name": "Python 3 (ipykernel)",
   "language": "python",
   "name": "python3"
  },
  "language_info": {
   "codemirror_mode": {
    "name": "ipython",
    "version": 3
   },
   "file_extension": ".py",
   "mimetype": "text/x-python",
   "name": "python",
   "nbconvert_exporter": "python",
   "pygments_lexer": "ipython3",
   "version": "3.8.8"
  }
 },
 "nbformat": 4,
 "nbformat_minor": 5
}
