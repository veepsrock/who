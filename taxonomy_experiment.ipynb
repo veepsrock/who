{
 "cells": [
  {
   "cell_type": "markdown",
   "metadata": {
    "application/vnd.databricks.v1+cell": {
     "cellMetadata": {},
     "inputWidgets": {},
     "nuid": "bf0e5a90-7b4f-4e85-a1e1-bc65f79412c8",
     "showTitle": false,
     "title": ""
    }
   },
   "source": [
    "# Zero shot classification\n",
    "\n",
    "## [DeBerta-v3-base-mnli-fever-anli](https://huggingface.co/MoritzLaurer/DeBERTa-v3-base-mnli-fever-anli?candidateLabels=covid-19%2C+vaccine+efficacy%2C+vaccine+side+effects%2C+measles%2C+cholera%2C+home+remedies%2C+conspiracy&multiClass=true&text=actor+jamie+foxx+reportedly+par+lyzed+and+bl+nd+due+to+covid+19+vaccine+american+actor+jamie+foxx+has+reportedly+s+ffered+partial+par+lysis+following+a+covid+19+vaccine+complication+the+vaccine+according+to+hollywood+journalist+a+j+benza+resulted+in+a+bl+d+clot+in+his+brain+that+led+to+him+being+partially+par+lyzed+and+bl+nd+in+addition+to+a+series+of+other+complications+benza+claims+the+news+was+confirmed+by+a+source+close+to+foxx+jamie+had+a+bl+d+clot+in+his+brain+after+he+got+the+sh+t+he+did+not+want+the+sh+t+but+the+movie+he+was+on+he+was+pressured+to+get+it+confessed+the+journalist+who+formally+worked+as+a+columnist+for+the+new+york+daily+news+during+an+appearance+on+dr+drew+pinsky+s+online+show+ask+dr+drew+the+bl+d+clot+in+the+brain+caused+him+at+that+point+to+be+partially+par+lyzed+and+bl+nd+benza+alleged+as+he+insisted+his+insider+was+someone+in+the+room+with+first+hand+knowledge+of+foxx+s+hospitalization+foxx+was+admitted+to+the+hospital+after+s+ffering+a+medical+complication+on+thursday+april+11+according+to+his+daughter+corinne+foxx+luckily+due+to+quick+action+and+great+care+he+is+already+on+his+way+to+recovery+we+know+how+beloved+he+is+and+appreciate+your+prayers+the+family+asks+for+privacy+during+this+time+she+said+the+55+year+old+s+medical+woes+began+while+filming+his+latest+movie+back+in+action+the+movie+also+starring+cameron+diaz+is+said+to+have+moved+forward+with+production+without+foxx+using+a+body+double+in+his+place)"
   ]
  },
  {
   "cell_type": "code",
   "execution_count": 0,
   "metadata": {
    "application/vnd.databricks.v1+cell": {
     "cellMetadata": {
      "byteLimit": 2048000,
      "rowLimit": 10000
     },
     "inputWidgets": {},
     "nuid": "5ac1aa69-ef93-48ee-b405-8c68c85ca50d",
     "showTitle": false,
     "title": ""
    }
   },
   "outputs": [],
   "source": [
    "import mlflow\n",
    "from mlflow.entities.run import Run\n",
    "from mlflow.tracking.client import MlflowClient, ModelVersion\n",
    "from mlflow.utils import mlflow_tags\n",
    "import pandas as pd\n",
    "import re\n",
    "import json\n",
    "import os\n",
    "import sys\n",
    "import numpy as np\n",
    "import matplotlib.pyplot as plt\n",
    "import pickle\n",
    "from sklearn.preprocessing import MultiLabelBinarizer\n",
    "from sklearn.metrics import f1_score, precision_score, recall_score, jaccard_score\n",
    "from collections import defaultdict\n",
    "# load functions\n",
    "with open('project_config.json','r') as fp: \n",
    "    project_config = json.load(fp)\n",
    " \n",
    "module_path = os.path.join(project_config['project_module_relative_path'])\n",
    "sys.path.append(module_path)\n",
    " \n",
    "from data_processing import *\n",
    "\n",
    "pd.set_option(\"display.max_columns\" , 50)"
   ]
  },
  {
   "cell_type": "code",
   "execution_count": 0,
   "metadata": {
    "application/vnd.databricks.v1+cell": {
     "cellMetadata": {
      "byteLimit": 2048000,
      "rowLimit": 10000
     },
     "inputWidgets": {},
     "nuid": "2326e18c-0d2d-4e04-805e-fc263aa02344",
     "showTitle": false,
     "title": ""
    }
   },
   "outputs": [],
   "source": [
    "from transformers import pipeline\n",
    "classifier = pipeline(\"zero-shot-classification\", model=\"MoritzLaurer/DeBERTa-v3-base-mnli-fever-anli\")"
   ]
  },
  {
   "cell_type": "markdown",
   "metadata": {
    "application/vnd.databricks.v1+cell": {
     "cellMetadata": {},
     "inputWidgets": {},
     "nuid": "970586c7-1340-4262-9a62-ac022edae176",
     "showTitle": false,
     "title": ""
    }
   },
   "source": [
    "### Read in data"
   ]
  },
  {
   "cell_type": "code",
   "execution_count": 0,
   "metadata": {
    "application/vnd.databricks.v1+cell": {
     "cellMetadata": {
      "byteLimit": 2048000,
      "rowLimit": 10000
     },
     "inputWidgets": {},
     "nuid": "ec368de5-3a87-4491-b43b-6392c15b2620",
     "showTitle": false,
     "title": ""
    }
   },
   "outputs": [],
   "source": [
    "# read in data export\n",
    "df = pd.read_pickle(\"./model_training_data_vax.pkl\")\n",
    "df=df[df[\"split\"]== \"labeled\"]\n",
    "df[\"text\"] = df[\"text\"].fillna(df[\"textTranslated.en\"])\n",
    "df.dropna(subset = \"text\", inplace = True)"
   ]
  },
  {
   "cell_type": "code",
   "execution_count": 0,
   "metadata": {
    "application/vnd.databricks.v1+cell": {
     "cellMetadata": {
      "byteLimit": 2048000,
      "rowLimit": 10000
     },
     "inputWidgets": {},
     "nuid": "be8b9be7-7f2f-4be8-9f1c-62b9692e5757",
     "showTitle": false,
     "title": ""
    }
   },
   "outputs": [],
   "source": [
    "def map_themes(themes, theme_dict):\n",
    "    if isinstance(themes, list):\n",
    "        big_themes = []\n",
    "        for theme in themes:\n",
    "            if theme is not None:\n",
    "                for key, values in theme_dict.items():\n",
    "                    if theme in values:\n",
    "                        big_themes.append(key)\n",
    "\n",
    "                        \n",
    "                        break\n",
    "        return big_themes if big_themes else None\n",
    "    return None"
   ]
  },
  {
   "cell_type": "markdown",
   "metadata": {
    "application/vnd.databricks.v1+cell": {
     "cellMetadata": {},
     "inputWidgets": {},
     "nuid": "35242810-e307-475d-9574-3e2b88688002",
     "showTitle": false,
     "title": ""
    }
   },
   "source": [
    "## Write function to classify text and return a df"
   ]
  },
  {
   "cell_type": "code",
   "execution_count": 0,
   "metadata": {
    "application/vnd.databricks.v1+cell": {
     "cellMetadata": {
      "byteLimit": 2048000,
      "rowLimit": 10000
     },
     "inputWidgets": {},
     "nuid": "c7e51564-b11d-4874-b979-2bbb97ce0a78",
     "showTitle": false,
     "title": ""
    }
   },
   "outputs": [],
   "source": [
    "def classify_themes(df, theme_labels):\n",
    "    result_list = []\n",
    "    for index, row in df.iterrows():\n",
    "        text_sequence = row['text']\n",
    "        result = classifier(text_sequence, theme_labels, multi_label = True)\n",
    "        result['themeIds'] = result['labels']\n",
    "        result['themeConfidence'] = result['scores']\n",
    "        result[\"id\"] = row[\"id\"]\n",
    "        result[\"text\"] = row[\"text\"]\n",
    "        result_list.append(result)\n",
    "    result_df = pd.DataFrame(result_list)[['id', 'text', 'themeIds', 'themeConfidence']]\n",
    "    result_df= pd.merge(result_df, df[[\"id\", \"themeIdsReviewedParent\"]], how = \"left\", on = \"id\")\n",
    "    return result_df"
   ]
  },
  {
   "cell_type": "code",
   "execution_count": 0,
   "metadata": {
    "application/vnd.databricks.v1+cell": {
     "cellMetadata": {
      "byteLimit": 2048000,
      "rowLimit": 10000
     },
     "inputWidgets": {},
     "nuid": "0a377212-e406-4cc8-ae5c-6e8b2867f446",
     "showTitle": false,
     "title": ""
    }
   },
   "outputs": [],
   "source": [
    "theme_labels = df['themeIdsParent'].explode().unique().tolist()\n",
    "theme_labels = [x for x in theme_labels if x is not None]"
   ]
  },
  {
   "cell_type": "code",
   "execution_count": 0,
   "metadata": {
    "application/vnd.databricks.v1+cell": {
     "cellMetadata": {
      "byteLimit": 2048000,
      "rowLimit": 10000
     },
     "inputWidgets": {},
     "nuid": "200e013a-91cd-4441-85c9-195d8e66737f",
     "showTitle": false,
     "title": ""
    }
   },
   "outputs": [],
   "source": [
    "def mlb_transform(exp_type, df, theme_dict):\n",
    "    if \"vax\" in exp_type:\n",
    "        themes = ['prevention-treatment-approved', 'prevention-treatment-alternative', 'illness-cause', 'intervention-capacity', 'conspiracy-corruption', 'vaccines']\n",
    "    else:\n",
    "        themes = ['prevention-treatment-approved', 'prevention-treatment-alternative', 'illness-cause', 'intervention-capacity', 'conspiracy-corruption']\n",
    "\n",
    "    mlb = MultiLabelBinarizer()\n",
    "    mlb.fit([themes])\n",
    "\n",
    "    if exp_type == \"simplified\" or exp_type == \"simplified_vax\":\n",
    "        pred_col=\"themeIdsParent\"\n",
    "    else:\n",
    "        df[\"themeIds\"] = df[\"themeIds\"].apply(lambda x: map_themes(x, theme_dict))\n",
    "        pred_col = \"themeIds\"\n",
    "\n",
    "    df.dropna(subset=[pred_col, \"themeIdsReviewedParent\"], inplace = True)\n",
    "\n",
    "    \n",
    "    y_pred = mlb.transform(df[pred_col])\n",
    "    y_true = mlb.transform(df[\"themeIdsReviewedParent\"])\n",
    "\n",
    "    # get scores\n",
    "    macro_score = f1_score(y_true, y_pred, average='macro')\n",
    "    micro_score = f1_score(y_true, y_pred, average='micro')\n",
    "    precision = precision_score(y_true, y_pred, average='weighted')\n",
    "    recall = recall_score(y_true, y_pred, average='weighted')\n",
    "    class_names = mlb.classes_\n",
    "    jaccard_scores = jaccard_score(y_true,y_pred, average =None)\n",
    "\n",
    "    return macro_score, micro_score, precision, recall, class_names, jaccard_scores"
   ]
  },
  {
   "cell_type": "code",
   "execution_count": 0,
   "metadata": {
    "application/vnd.databricks.v1+cell": {
     "cellMetadata": {
      "byteLimit": 2048000,
      "rowLimit": 10000
     },
     "inputWidgets": {},
     "nuid": "998f3a42-cf21-42d0-89d6-504ac16ac1c0",
     "showTitle": false,
     "title": ""
    }
   },
   "outputs": [],
   "source": [
    "# get theme threshold\n",
    "def filter_threshold(df, threshold):\n",
    "    for index, row in df.iterrows():\n",
    "        confidences = row[\"themeConfidence\"]\n",
    "        theme_ids = row[\"themeIds\"]\n",
    "\n",
    "        # Ensure lengths are the same\n",
    "        min_len = min(len(confidences), len(theme_ids))\n",
    "        filtered_confidences = [confidences[i] if confidences[i] > threshold else None for i in range(min_len)]\n",
    "        filtered_theme_ids = [theme_ids[i] if confidences[i] > threshold else None for i in range(min_len)]\n",
    "        df.at[index, \"themeConfidence\"] = filtered_confidences\n",
    "        df.at[index, \"themeIds\"] = filtered_theme_ids\n",
    "\n",
    "    return df"
   ]
  },
  {
   "cell_type": "code",
   "execution_count": 0,
   "metadata": {
    "application/vnd.databricks.v1+cell": {
     "cellMetadata": {
      "byteLimit": 2048000,
      "rowLimit": 10000
     },
     "inputWidgets": {},
     "nuid": "fcd58372-7520-4a3e-b878-f44bb781ff1e",
     "showTitle": false,
     "title": ""
    }
   },
   "outputs": [],
   "source": [
    "def filter_rows_with_empty_column(df, column_name):\n",
    "    filtered_df = df[df.apply(lambda row: len(row[column_name]) == 0, axis=1)]\n",
    "    return filtered_df"
   ]
  },
  {
   "cell_type": "markdown",
   "metadata": {
    "application/vnd.databricks.v1+cell": {
     "cellMetadata": {},
     "inputWidgets": {},
     "nuid": "faa40786-5ba9-4a51-8294-e2fb27afabe0",
     "showTitle": false,
     "title": ""
    }
   },
   "source": [
    "# Write Experiment"
   ]
  },
  {
   "cell_type": "code",
   "execution_count": 0,
   "metadata": {
    "application/vnd.databricks.v1+cell": {
     "cellMetadata": {
      "byteLimit": 2048000,
      "rowLimit": 10000
     },
     "inputWidgets": {},
     "nuid": "68b95718-8971-4899-a021-711bbf326526",
     "showTitle": false,
     "title": ""
    }
   },
   "outputs": [],
   "source": [
    "def run_taxonomy_experiment(exp_type, theme_labels, theme_dict):\n",
    "    # set up experiment\n",
    "    mlflow_client = MlflowClient()\n",
    "    exp_name =\"/Users/vpeng@rockfound.org/taxonomy_experiment\"\n",
    "    exp = mlflow_client.get_experiment_by_name(exp_name)\n",
    "    mlflow.set_experiment(exp_name)\n",
    "    run_name = \"simplified_taxonomy_run\"\n",
    "    parent_run = mlflow.start_run(run_name = run_name, nested = False)\n",
    "\n",
    "    # get themes\n",
    "    if exp_type == \"simplified\" or exp_type == \"simplified_vax\":\n",
    "        themes_df = df\n",
    "    else:\n",
    "        themes_df = classify_themes(df, theme_labels)\n",
    "        # filter themes\n",
    "        themes_df = filter_threshold(themes_df, 0.79)\n",
    "\n",
    "    # get scores\n",
    "    macro_score, micro_score, precision, recall, class_names, jaccard_scores = mlb_transform(exp_type, themes_df, theme_dict)\n",
    "    jaccard_dict = dict(zip(class_names, jaccard_scores))\n",
    "    true_values = themes_df[\"themeIdsReviewedParent\"].explode().value_counts(normalize = True).to_dict()\n",
    "    true_dict = {key + \"-true\": value for key, value in true_values.items()}\n",
    "\n",
    "    # run experiment\n",
    "    metrics = {\"macro_f1\": macro_score, \"micro_f1\": micro_score, \"precision\": precision, \"recall\": recall}\n",
    "    metrics.update(jaccard_dict, **true_dict)\n",
    "    mlflow.log_params({\"experiment_type\": exp_type})\n",
    "    mlflow.log_metrics(metrics)    \n",
    "    \n",
    "    # end run\n",
    "    mlflow.end_run()"
   ]
  },
  {
   "cell_type": "code",
   "execution_count": 0,
   "metadata": {
    "application/vnd.databricks.v1+cell": {
     "cellMetadata": {
      "byteLimit": 2048000,
      "rowLimit": 10000
     },
     "inputWidgets": {},
     "nuid": "09613b77-e855-40b4-93da-99eb48c7e738",
     "showTitle": false,
     "title": ""
    }
   },
   "outputs": [],
   "source": []
  },
  {
   "cell_type": "code",
   "execution_count": 0,
   "metadata": {
    "application/vnd.databricks.v1+cell": {
     "cellMetadata": {},
     "inputWidgets": {},
     "nuid": "21fedeb2-9d06-47e8-9cf8-d14cc2a214b7",
     "showTitle": false,
     "title": ""
    }
   },
   "outputs": [],
   "source": [
    "theme_dict = {\n",
    "    \"conspiracy-corruption\": [\"bioweapon, conspiracy, corruption, media-bias, medical-exploitation\"],\n",
    "    \"illness-cause\": [\"stigmatization, case-reporting, symptoms-severity, variants\"],\n",
    "    \"intervention-capacity\":[\"public health capacity\"],\n",
    "    \"prevention-treatment-alternative\": [\"alternative cures, religious practices\"],\n",
    "    \"prevention-treatment-approved\": [\"prevention, collective prevention, individual treatment, vaccine efficacy, vaccine side effects\"]\n",
    "}"
   ]
  },
  {
   "cell_type": "code",
   "execution_count": 0,
   "metadata": {
    "application/vnd.databricks.v1+cell": {
     "cellMetadata": {
      "byteLimit": 2048000,
      "rowLimit": 10000
     },
     "inputWidgets": {},
     "nuid": "dda84c5d-a674-4a6e-84b6-27607cba0000",
     "showTitle": false,
     "title": ""
    }
   },
   "outputs": [],
   "source": [
    "mlflow.end_run()\n",
    "run_taxonomy_experiment(\"simplified\", theme_labels, theme_dict)"
   ]
  },
  {
   "cell_type": "code",
   "execution_count": 0,
   "metadata": {
    "application/vnd.databricks.v1+cell": {
     "cellMetadata": {
      "byteLimit": 2048000,
      "rowLimit": 10000
     },
     "inputWidgets": {},
     "nuid": "1fd5d96d-8848-48dc-9a76-d376e30de15b",
     "showTitle": false,
     "title": ""
    }
   },
   "outputs": [],
   "source": [
    "theme_labels"
   ]
  },
  {
   "cell_type": "code",
   "execution_count": 0,
   "metadata": {
    "application/vnd.databricks.v1+cell": {
     "cellMetadata": {
      "byteLimit": 2048000,
      "rowLimit": 10000
     },
     "inputWidgets": {},
     "nuid": "99059277-25d8-4332-84c4-8a49aeacb30c",
     "showTitle": false,
     "title": ""
    }
   },
   "outputs": [],
   "source": [
    "mlflow.end_run()\n",
    "run_taxonomy_experiment(\"simplified_vax\", theme_labels, theme_dict_vax)"
   ]
  },
  {
   "cell_type": "markdown",
   "metadata": {
    "application/vnd.databricks.v1+cell": {
     "cellMetadata": {},
     "inputWidgets": {},
     "nuid": "fcb10dde-1cf3-4f7b-b40b-7ad5e47e5498",
     "showTitle": false,
     "title": ""
    }
   },
   "source": [
    "# For when you need to troubleshoot"
   ]
  },
  {
   "cell_type": "code",
   "execution_count": 0,
   "metadata": {
    "application/vnd.databricks.v1+cell": {
     "cellMetadata": {
      "byteLimit": 2048000,
      "rowLimit": 10000
     },
     "inputWidgets": {},
     "nuid": "6c21b3d7-f9eb-4d72-b4dc-c0d85af5565f",
     "showTitle": false,
     "title": ""
    }
   },
   "outputs": [],
   "source": [
    "# read in data export\n",
    "df = pd.read_pickle(\"./model_training_data.pkl\")\n",
    "df=df[df[\"split\"]== \"labeled\"]\n",
    "df[\"text\"] = df[\"text\"].fillna(df[\"textTranslated.en\"])\n",
    "df.dropna(subset = \"text\", inplace = True)\n",
    "print(df.shape)"
   ]
  },
  {
   "cell_type": "code",
   "execution_count": 0,
   "metadata": {
    "application/vnd.databricks.v1+cell": {
     "cellMetadata": {
      "byteLimit": 2048000,
      "rowLimit": 10000
     },
     "inputWidgets": {},
     "nuid": "6899b7c1-23c4-473c-b2e0-fdfbd2661890",
     "showTitle": false,
     "title": ""
    }
   },
   "outputs": [],
   "source": [
    "#themes_df = df\n",
    "themes = ['prevention-treatment-approved', 'prevention-treatment-alternative', 'illness-cause', 'intervention-capacity', 'conspiracy-corruption']"
   ]
  },
  {
   "cell_type": "code",
   "execution_count": 0,
   "metadata": {
    "application/vnd.databricks.v1+cell": {
     "cellMetadata": {
      "byteLimit": 2048000,
      "rowLimit": 10000
     },
     "inputWidgets": {},
     "nuid": "137826bc-ad54-4289-83d1-ba4033162814",
     "showTitle": false,
     "title": ""
    }
   },
   "outputs": [],
   "source": [
    "mlb = MultiLabelBinarizer()\n",
    "mlb.fit([themes])"
   ]
  },
  {
   "cell_type": "code",
   "execution_count": 0,
   "metadata": {
    "application/vnd.databricks.v1+cell": {
     "cellMetadata": {
      "byteLimit": 2048000,
      "rowLimit": 10000
     },
     "inputWidgets": {},
     "nuid": "32f1d5ea-1036-4c26-9291-d51575824d16",
     "showTitle": false,
     "title": ""
    }
   },
   "outputs": [],
   "source": [
    "y_pred = mlb.transform(df[pred_col])\n",
    "y_true = mlb.transform(df[\"themeIdsReviewedParent\"])"
   ]
  },
  {
   "cell_type": "code",
   "execution_count": 0,
   "metadata": {
    "application/vnd.databricks.v1+cell": {
     "cellMetadata": {
      "byteLimit": 2048000,
      "rowLimit": 10000
     },
     "inputWidgets": {},
     "nuid": "f9098f47-2bfa-4930-bdc4-203ebb3f8c7a",
     "showTitle": false,
     "title": ""
    }
   },
   "outputs": [],
   "source": [
    "macro_score, micro_score, precision, recall, class_names, jaccard_scores = mlb_transform(\"simplified\", df, theme_dict)"
   ]
  },
  {
   "cell_type": "markdown",
   "metadata": {
    "application/vnd.databricks.v1+cell": {
     "cellMetadata": {},
     "inputWidgets": {},
     "nuid": "9092aadc-f37b-4aae-b5c5-6955e4539e49",
     "showTitle": false,
     "title": ""
    }
   },
   "source": [
    "# Run experiment with child themes"
   ]
  },
  {
   "cell_type": "code",
   "execution_count": 0,
   "metadata": {
    "application/vnd.databricks.v1+cell": {
     "cellMetadata": {
      "byteLimit": 2048000,
      "rowLimit": 10000
     },
     "inputWidgets": {},
     "nuid": "58c5d6f9-53d4-40fb-bafb-b91e2c774f86",
     "showTitle": false,
     "title": ""
    }
   },
   "outputs": [],
   "source": [
    "child_labels = [\"alternative cures, religious practices\", \"bioweapon, conspiracy, corruption, media-bias, medical-exploitation\", \"stigmatization, case-reporting, symptoms-severity, variants\", \"public health capacity\", \"prevention, collective prevention, individual treatment, vaccine efficacy, vaccine side effects\"]"
   ]
  },
  {
   "cell_type": "code",
   "execution_count": 0,
   "metadata": {
    "application/vnd.databricks.v1+cell": {
     "cellMetadata": {
      "byteLimit": 2048000,
      "rowLimit": 10000
     },
     "inputWidgets": {},
     "nuid": "6c20ede9-0973-40b4-b241-b5d8ae18c8e3",
     "showTitle": false,
     "title": ""
    }
   },
   "outputs": [],
   "source": [
    "#no_predictions = filter_rows_with_empty_column(test2, \"themeIds\")"
   ]
  },
  {
   "cell_type": "code",
   "execution_count": 0,
   "metadata": {
    "application/vnd.databricks.v1+cell": {
     "cellMetadata": {
      "byteLimit": 2048000,
      "rowLimit": 10000
     },
     "inputWidgets": {},
     "nuid": "104bd827-6ed6-42d7-9491-dcaef718c20f",
     "showTitle": false,
     "title": ""
    }
   },
   "outputs": [],
   "source": [
    "mlflow.end_run()\n",
    "run_taxonomy_experiment(\"child_labels\", child_labels, theme_dict)"
   ]
  },
  {
   "cell_type": "markdown",
   "metadata": {
    "application/vnd.databricks.v1+cell": {
     "cellMetadata": {},
     "inputWidgets": {},
     "nuid": "b01592dc-6bc0-4249-8f00-ffd237a9bb5b",
     "showTitle": false,
     "title": ""
    }
   },
   "source": [
    "#### Child themes - Vaccines"
   ]
  },
  {
   "cell_type": "code",
   "execution_count": 0,
   "metadata": {
    "application/vnd.databricks.v1+cell": {
     "cellMetadata": {
      "byteLimit": 2048000,
      "rowLimit": 10000
     },
     "inputWidgets": {},
     "nuid": "0701fe6d-5ba9-405a-a823-f8555d2fb93d",
     "showTitle": false,
     "title": ""
    }
   },
   "outputs": [],
   "source": [
    "child_labels_vax = [\"alternative cures, religious practices\", \"bioweapon, conspiracy, corruption, media-bias, medical-exploitation\", \"stigmatization, case-reporting, symptoms-severity, variants\", \"public health capacity\", \"prevention, collective prevention, individual treatment\", \"vaccine efficacy, vaccine side effects\"]\n",
    "\n",
    "theme_dict_vax = {\n",
    "    \"conspiracy-corruption\": [\"bioweapon, conspiracy, corruption, media-bias, medical-exploitation\"],\n",
    "    \"illness-cause\": [\"stigmatization, case-reporting, symptoms-severity, variants\"],\n",
    "    \"intervention-capacity\":[\"public health capacity\"],\n",
    "    \"prevention-treatment-alternative\": [\"alternative cures, religious practices\"],\n",
    "    \"prevention-treatment-approved\": [\"prevention, collective prevention, individual treatment\"],\n",
    "    \"vaccines\": [\"vaccine efficacy, vaccine side effects\"]\n",
    "}"
   ]
  },
  {
   "cell_type": "code",
   "execution_count": 0,
   "metadata": {
    "application/vnd.databricks.v1+cell": {
     "cellMetadata": {
      "byteLimit": 2048000,
      "rowLimit": 10000
     },
     "inputWidgets": {},
     "nuid": "9071e6f2-6bd0-43f5-9662-f228ec52388d",
     "showTitle": false,
     "title": ""
    }
   },
   "outputs": [],
   "source": [
    "mlflow.end_run()\n",
    "run_taxonomy_experiment(\"child_labels_vax\", child_labels_vax, theme_dict_vax)"
   ]
  },
  {
   "cell_type": "markdown",
   "metadata": {
    "application/vnd.databricks.v1+cell": {
     "cellMetadata": {},
     "inputWidgets": {},
     "nuid": "f0f5ab47-e99e-4e3f-af53-4e776489fe10",
     "showTitle": false,
     "title": ""
    }
   },
   "source": [
    "# Run experiment with extra words"
   ]
  },
  {
   "cell_type": "code",
   "execution_count": 0,
   "metadata": {
    "application/vnd.databricks.v1+cell": {
     "cellMetadata": {
      "byteLimit": 2048000,
      "rowLimit": 10000
     },
     "inputWidgets": {},
     "nuid": "98706d95-31dd-4906-8651-ac361c20aabc",
     "showTitle": false,
     "title": ""
    }
   },
   "outputs": [],
   "source": [
    "extra_labels = [\"alternative cures, herbal remedies, home remedies, healers and healing, religious belief, religious leader, cultural practices\", \"biological weapon, chemical agent, nefarious plots, economic exploitation, profiteering, extortion, media slant and bias, fake news, medical exploitation, experimental treatments, expired medicine, guinea pigs\", \"stigmatization, case reporting, symptoms severity, disease variants, disease genetic modifications\", \"capacity of public health system (hospitals, doctors, governments, aid)\", \"collective prevention, lockdowns, travel bans, travel restrictions, individual prevention, non-pharmaceutical interventions, quarantine, face masks, hand washing, vaccine side effects, vaccine efficacy vaccines\"]"
   ]
  },
  {
   "cell_type": "code",
   "execution_count": 0,
   "metadata": {
    "application/vnd.databricks.v1+cell": {
     "cellMetadata": {
      "byteLimit": 2048000,
      "rowLimit": 10000
     },
     "inputWidgets": {},
     "nuid": "3bf4ea77-e526-473e-b805-01c3d5f84803",
     "showTitle": false,
     "title": ""
    }
   },
   "outputs": [],
   "source": [
    "theme_dict_extra = {\n",
    "    \"conspiracy-corruption\": \"biological weapon, chemical agent, nefarious plots, economic exploitation, profiteering, extortion, media slant and bias, fake news, medical exploitation, experimental treatments, expired medicine, guinea pigs\",\n",
    "    \"illness-cause\": \"stigmatization, case reporting, symptoms severity, disease variants, disease genetic modifications\",\n",
    "    \"intervention-capacity\":\"capacity of public health system (hospitals, doctors, governments, aid)\",\n",
    "    \"prevention-treatment-alternative\": \"alternative cures, herbal remedies, home remedies, healers and healing, religious belief, religious leader, cultural practices\",\n",
    "    \"prevention-treatment-approved\": \"collective prevention, lockdowns, travel bans, travel restrictions, individual prevention, non-pharmaceutical interventions, quarantine, face masks, hand washing, vaccine side effects, vaccine efficacy vaccines\"\n",
    "}"
   ]
  },
  {
   "cell_type": "code",
   "execution_count": 0,
   "metadata": {
    "application/vnd.databricks.v1+cell": {
     "cellMetadata": {
      "byteLimit": 2048000,
      "rowLimit": 10000
     },
     "inputWidgets": {},
     "nuid": "0ed4291b-81a7-4188-abe1-529f64cfa46b",
     "showTitle": false,
     "title": ""
    }
   },
   "outputs": [],
   "source": [
    "mlflow.end_run()\n",
    "run_taxonomy_experiment(\"extra_labels\", extra_labels, theme_dict_extra)"
   ]
  },
  {
   "cell_type": "markdown",
   "metadata": {
    "application/vnd.databricks.v1+cell": {
     "cellMetadata": {},
     "inputWidgets": {},
     "nuid": "8d456aaa-a0d7-45b8-a99f-a00551197ed3",
     "showTitle": false,
     "title": ""
    }
   },
   "source": [
    "# Run experiment with new key words"
   ]
  },
  {
   "cell_type": "code",
   "execution_count": 0,
   "metadata": {
    "application/vnd.databricks.v1+cell": {
     "cellMetadata": {
      "byteLimit": 2048000,
      "rowLimit": 10000
     },
     "inputWidgets": {},
     "nuid": "765b4963-4392-4a44-8c18-d68bf81ed1d3",
     "showTitle": false,
     "title": ""
    }
   },
   "outputs": [],
   "source": [
    "key_words = [\"herbal remedies, home remedies, healers, religious practices, religious beliefs\", \"conspiracy, corruption, bioweapon, exploitation, exhortion, profiteering, fake news, bias\", \"case reporting, disease symptoms, disease transmission, disease severity, disease lethality, disease variants, stigmatization\",\"hospital capacity, government capacity, interventions restrictions, lockdowns\", \"disease treatment, medicine, vaccines, vaccine safety, vaccine side effects, vaccine efficacy\"]"
   ]
  },
  {
   "cell_type": "code",
   "execution_count": 0,
   "metadata": {
    "application/vnd.databricks.v1+cell": {
     "cellMetadata": {
      "byteLimit": 2048000,
      "rowLimit": 10000
     },
     "inputWidgets": {},
     "nuid": "177201c5-75a7-4913-949e-4c0a556a5e23",
     "showTitle": false,
     "title": ""
    }
   },
   "outputs": [],
   "source": [
    "theme_dict_key = {\n",
    "    \"prevention-treatment-alternative\": \"herbal remedies, home remedies, healers, religious practices, religious beliefs\",\n",
    "    \"conspiracy-corruption\": \"conspiracy, corruption, bioweapon, exploitation, exhortion, profiteering, fake news, bias\",\n",
    "    \"illness-cause\": \"case reporting, disease symptoms, disease transmission, disease severity, disease lethality, disease variants, stigmatization\",\n",
    "    \"intervention-capacity\":\"hospital capacity, government capacity, interventions restrictions, lockdowns\",\n",
    "    \"prevention-treatment-approved\": \"disease treatment, medicine, vaccines, vaccine safety, vaccine side effects, vaccine efficacy\"\n",
    "}"
   ]
  },
  {
   "cell_type": "code",
   "execution_count": 0,
   "metadata": {
    "application/vnd.databricks.v1+cell": {
     "cellMetadata": {
      "byteLimit": 2048000,
      "rowLimit": 10000
     },
     "inputWidgets": {},
     "nuid": "1a675296-93e6-4a2d-94ad-ff6a9676babf",
     "showTitle": false,
     "title": ""
    }
   },
   "outputs": [],
   "source": [
    "mlflow.end_run()\n",
    "run_taxonomy_experiment(\"new_key_words\", key_words, theme_dict_key)"
   ]
  },
  {
   "cell_type": "markdown",
   "metadata": {
    "application/vnd.databricks.v1+cell": {
     "cellMetadata": {},
     "inputWidgets": {},
     "nuid": "c56b15aa-c245-4c00-ae85-d51731ce307f",
     "showTitle": false,
     "title": ""
    }
   },
   "source": [
    "#### New key words - vax"
   ]
  },
  {
   "cell_type": "code",
   "execution_count": 0,
   "metadata": {
    "application/vnd.databricks.v1+cell": {
     "cellMetadata": {
      "byteLimit": 2048000,
      "rowLimit": 10000
     },
     "inputWidgets": {},
     "nuid": "1cc4f505-c79b-4fd1-b504-6b09f5f612a5",
     "showTitle": false,
     "title": ""
    }
   },
   "outputs": [],
   "source": [
    "key_words_vax = [\"herbal remedies, home remedies, healers, religious practices, religious beliefs\", \"conspiracy, corruption, bioweapon, exploitation, exhortion, profiteering, fake news, bias\", \"case reporting, disease symptoms, disease transmission, disease severity, disease lethality, disease variants, stigmatization\",\"hospital capacity, government capacity, interventions restrictions, lockdowns\", \"disease treatment, medicine\", \"vaccines, vaccine safety, vaccine side effects, vaccine efficacy\"]\n",
    "\n",
    "theme_dict_key_vax = {\n",
    "    \"prevention-treatment-alternative\": \"herbal remedies, home remedies, healers, religious practices, religious beliefs\",\n",
    "    \"conspiracy-corruption\": \"conspiracy, corruption, bioweapon, exploitation, exhortion, profiteering, fake news, bias\",\n",
    "    \"illness-cause\": \"case reporting, disease symptoms, disease transmission, disease severity, disease lethality, disease variants, stigmatization\",\n",
    "    \"intervention-capacity\":\"hospital capacity, government capacity, interventions restrictions, lockdowns\",\n",
    "    \"prevention-treatment-approved\": \"disease treatment, medicine\",\n",
    "    \"vaccines\": \"vaccines, vaccine safety, vaccine side effects, vaccine efficacy\"\n",
    "}"
   ]
  },
  {
   "cell_type": "code",
   "execution_count": 0,
   "metadata": {
    "application/vnd.databricks.v1+cell": {
     "cellMetadata": {
      "byteLimit": 2048000,
      "rowLimit": 10000
     },
     "inputWidgets": {},
     "nuid": "bcb94689-2d39-4597-a661-7cdd8b727ffc",
     "showTitle": false,
     "title": ""
    }
   },
   "outputs": [],
   "source": [
    "mlflow.end_run()\n",
    "run_taxonomy_experiment(\"new_key_words_vax\", key_words_vax, theme_dict_key_vax)"
   ]
  },
  {
   "cell_type": "markdown",
   "metadata": {
    "application/vnd.databricks.v1+cell": {
     "cellMetadata": {},
     "inputWidgets": {},
     "nuid": "7736440f-eb22-4691-922c-718d6e000572",
     "showTitle": false,
     "title": ""
    }
   },
   "source": [
    "# Run experiment with NLP"
   ]
  },
  {
   "cell_type": "code",
   "execution_count": 0,
   "metadata": {
    "application/vnd.databricks.v1+cell": {
     "cellMetadata": {
      "byteLimit": 2048000,
      "rowLimit": 10000
     },
     "inputWidgets": {},
     "nuid": "638583a6-f9b5-4927-9fa2-6dbd21b59426",
     "showTitle": false,
     "title": ""
    }
   },
   "outputs": [],
   "source": [
    "nlp_words = [\"Discussion of herbal remedies, alternative cures, religious practices, healers, and other home cures for disease prevention and treatment\", \"Discussion of conspiracy, corruption, exploitation, profiteering, fake news, bias and other expressions of distrust in public health\", \"Discussion of disease outbreaks, symptions, severity, tranmissions, variants and stigmatization\", \"Discussion of hospital capacity, government capacity, interventions, restrictions, lockdowns, and general ability of the public health system to meet needs\", \"Discussion of medical treatment for diseases including medicine and procedures proscribed by a medical professional. Discussion of vaccines including vaccine safet, side effects, and efficacy.\"]"
   ]
  },
  {
   "cell_type": "code",
   "execution_count": 0,
   "metadata": {
    "application/vnd.databricks.v1+cell": {
     "cellMetadata": {
      "byteLimit": 2048000,
      "rowLimit": 10000
     },
     "inputWidgets": {},
     "nuid": "9bf88658-542e-48ad-802f-a08505b8496e",
     "showTitle": false,
     "title": ""
    }
   },
   "outputs": [],
   "source": [
    "theme_dict_nlp = {\n",
    "    \"prevention-treatment-alternative\": \"Discussion of herbal remedies, alternative cures, religious practices, healers, and other home cures for disease prevention and treatment\",\n",
    "    \"conspiracy-corruption\": \"Discussion of conspiracy, corruption, exploitation, profiteering, fake news, bias and other expressions of distrust in public health\",\n",
    "    \"illness-cause\": \"Discussion of disease outbreaks, symptions, severity, tranmissions, variants and stigmatization\",\n",
    "    \"intervention-capacity\":\"Discussion of hospital capacity, government capacity, interventions, restrictions, lockdowns, and general ability of the public health system to meet needs\",\n",
    "    \"prevention-treatment-approved\": \"Discussion of medical treatment for diseases including medicine and procedures proscribed by a medical professional. Discussion of vaccines including vaccine safet, side effects, and efficacy\"\n",
    "}"
   ]
  },
  {
   "cell_type": "code",
   "execution_count": 0,
   "metadata": {
    "application/vnd.databricks.v1+cell": {
     "cellMetadata": {
      "byteLimit": 2048000,
      "rowLimit": 10000
     },
     "inputWidgets": {},
     "nuid": "2285d155-af7f-477e-b5ae-53fffbf6736b",
     "showTitle": false,
     "title": ""
    }
   },
   "outputs": [],
   "source": [
    "mlflow.end_run()\n",
    "run_taxonomy_experiment(\"nlp_words\", nlp_words, theme_dict_nlp)"
   ]
  },
  {
   "cell_type": "markdown",
   "metadata": {
    "application/vnd.databricks.v1+cell": {
     "cellMetadata": {},
     "inputWidgets": {},
     "nuid": "7fd1cd3e-b7c7-468b-b463-5852b50ca4cf",
     "showTitle": false,
     "title": ""
    }
   },
   "source": [
    "#### Try with NLP Vax"
   ]
  },
  {
   "cell_type": "code",
   "execution_count": 0,
   "metadata": {
    "application/vnd.databricks.v1+cell": {
     "cellMetadata": {
      "byteLimit": 2048000,
      "rowLimit": 10000
     },
     "inputWidgets": {},
     "nuid": "a3d9ad79-4461-45b3-857a-f9c86293fac5",
     "showTitle": false,
     "title": ""
    }
   },
   "outputs": [],
   "source": [
    "nlp_words_vax = [\"Discussion of herbal remedies, alternative cures, religious practices, healers, and other home cures for disease prevention and treatment\", \"Discussion of conspiracy, corruption, exploitation, profiteering, fake news, bias and other expressions of distrust in public health\", \"Discussion of disease outbreaks, symptions, severity, tranmissions, variants and stigmatization\", \"Discussion of hospital capacity, government capacity, interventions, restrictions, lockdowns, and general ability of the public health system to meet needs\", \"Discussion of medical treatment for diseases including medicine and procedures proscribed by a medical professional\", \"Discussion of vaccines including vaccine safet, side effects, and efficacy\"]"
   ]
  },
  {
   "cell_type": "code",
   "execution_count": 0,
   "metadata": {
    "application/vnd.databricks.v1+cell": {
     "cellMetadata": {
      "byteLimit": 2048000,
      "rowLimit": 10000
     },
     "inputWidgets": {},
     "nuid": "2a6209b3-9648-42ef-af5b-ce9375f59bcf",
     "showTitle": false,
     "title": ""
    }
   },
   "outputs": [],
   "source": [
    "theme_dict_nlp_vax = {\n",
    "    \"prevention-treatment-alternative\": \"Discussion of herbal remedies, alternative cures, religious practices, healers, and other home cures for disease prevention and treatment\",\n",
    "    \"conspiracy-corruption\": \"Discussion of conspiracy, corruption, exploitation, profiteering, fake news, bias and other expressions of distrust in public health\",\n",
    "    \"illness-cause\": \"Discussion of disease outbreaks, symptions, severity, tranmissions, variants and stigmatization\",\n",
    "    \"intervention-capacity\":\"Discussion of hospital capacity, government capacity, interventions, restrictions, lockdowns, and general ability of the public health system to meet needs\",\n",
    "    \"prevention-treatment-approved\": \"Discussion of medical treatment for diseases including medicine and procedures proscribed by a medical professional\",\n",
    "    \"vaccines\": \"Discussion of vaccines including vaccine safet, side effects, and efficacy\"\n",
    "}"
   ]
  },
  {
   "cell_type": "code",
   "execution_count": 0,
   "metadata": {
    "application/vnd.databricks.v1+cell": {
     "cellMetadata": {
      "byteLimit": 2048000,
      "rowLimit": 10000
     },
     "inputWidgets": {},
     "nuid": "a44615e8-e21c-4101-a413-7cb3516ce7cb",
     "showTitle": false,
     "title": ""
    }
   },
   "outputs": [],
   "source": [
    "mlflow.end_run()\n",
    "run_taxonomy_experiment(\"nlp_words_vax\", nlp_words_vax, theme_dict_nlp_vax)"
   ]
  },
  {
   "cell_type": "code",
   "execution_count": 0,
   "metadata": {
    "application/vnd.databricks.v1+cell": {
     "cellMetadata": {},
     "inputWidgets": {},
     "nuid": "a1bc9c25-f8ee-49b6-9b2d-05f61189a7c1",
     "showTitle": false,
     "title": ""
    }
   },
   "outputs": [],
   "source": []
  }
 ],
 "metadata": {
  "application/vnd.databricks.v1+notebook": {
   "dashboards": [],
   "language": "python",
   "notebookMetadata": {
    "pythonIndentUnit": 4
   },
   "notebookName": "taxonomy_experiment",
   "widgets": {}
  },
  "kernelspec": {
   "display_name": "Python 3 (ipykernel)",
   "language": "python",
   "name": "python3"
  },
  "language_info": {
   "codemirror_mode": {
    "name": "ipython",
    "version": 3
   },
   "file_extension": ".py",
   "mimetype": "text/x-python",
   "name": "python",
   "nbconvert_exporter": "python",
   "pygments_lexer": "ipython3",
   "version": "3.8.8"
  }
 },
 "nbformat": 4,
 "nbformat_minor": 0
}
