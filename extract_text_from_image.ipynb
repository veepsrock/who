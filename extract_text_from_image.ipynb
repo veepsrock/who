{
 "cells": [
  {
   "cell_type": "code",
   "execution_count": 0,
   "metadata": {
    "application/vnd.databricks.v1+cell": {
     "cellMetadata": {},
     "inputWidgets": {},
     "nuid": "8c3abff2-68ec-423c-a9f2-0b9f6efc66bc",
     "showTitle": false,
     "title": ""
    }
   },
   "outputs": [],
   "source": [
    "pip install easyocr"
   ]
  },
  {
   "cell_type": "markdown",
   "metadata": {
    "application/vnd.databricks.v1+cell": {
     "cellMetadata": {},
     "inputWidgets": {},
     "nuid": "7e1f49ea-e59c-4213-b167-e2bae73d3b4e",
     "showTitle": false,
     "title": ""
    }
   },
   "source": [
    "## Import libraries"
   ]
  },
  {
   "cell_type": "code",
   "execution_count": 0,
   "metadata": {
    "application/vnd.databricks.v1+cell": {
     "cellMetadata": {},
     "inputWidgets": {},
     "nuid": "c109e6ce-8d0e-4613-bc3e-48eab0d41cc2",
     "showTitle": false,
     "title": ""
    }
   },
   "outputs": [],
   "source": [
    "import easyocr as ocr\n",
    "from PIL import Image\n",
    "import numpy as np\n",
    "import requests\n",
    "from io import BytesIO"
   ]
  },
  {
   "cell_type": "markdown",
   "metadata": {
    "application/vnd.databricks.v1+cell": {
     "cellMetadata": {},
     "inputWidgets": {},
     "nuid": "da7c967c-963e-4774-a93f-0c582321c7ef",
     "showTitle": false,
     "title": ""
    }
   },
   "source": [
    "### Load model"
   ]
  },
  {
   "cell_type": "code",
   "execution_count": 0,
   "metadata": {
    "application/vnd.databricks.v1+cell": {
     "cellMetadata": {},
     "inputWidgets": {},
     "nuid": "4574139c-a676-4d26-9574-2f0c6a4bda88",
     "showTitle": false,
     "title": ""
    }
   },
   "outputs": [],
   "source": [
    "# load in ocr model\n",
    "def load_model():\n",
    "    reader = ocr.Reader(['en'], model_storage_directory='.')\n",
    "    return reader\n",
    "\n",
    "reader = load_model()"
   ]
  },
  {
   "cell_type": "markdown",
   "metadata": {
    "application/vnd.databricks.v1+cell": {
     "cellMetadata": {},
     "inputWidgets": {},
     "nuid": "4c18ef7f-ea43-430e-b671-d8ffe1df05f3",
     "showTitle": false,
     "title": ""
    }
   },
   "source": [
    "### Function to format text result"
   ]
  },
  {
   "cell_type": "code",
   "execution_count": 0,
   "metadata": {
    "application/vnd.databricks.v1+cell": {
     "cellMetadata": {},
     "inputWidgets": {},
     "nuid": "6d6cc344-89d4-4bc1-9875-f56fd5687c3c",
     "showTitle": false,
     "title": ""
    }
   },
   "outputs": [],
   "source": [
    "def extract_text(input_image):\n",
    "    result = reader.readtext(np.array(input_image))\n",
    "\n",
    "    # format text\n",
    "    result_text = []\n",
    "\n",
    "    for text in result:\n",
    "        result_text.append(text[1])\n",
    "    \n",
    "    img_text = ' '.join(map(str,result_text))\n",
    "    \n",
    "    return img_text"
   ]
  },
  {
   "cell_type": "markdown",
   "metadata": {
    "application/vnd.databricks.v1+cell": {
     "cellMetadata": {},
     "inputWidgets": {},
     "nuid": "a2e1758f-cbc0-45df-a60d-a30fae544fe5",
     "showTitle": false,
     "title": ""
    }
   },
   "source": [
    "### Load image from URL"
   ]
  },
  {
   "cell_type": "code",
   "execution_count": 0,
   "metadata": {
    "application/vnd.databricks.v1+cell": {
     "cellMetadata": {},
     "inputWidgets": {},
     "nuid": "af7f74f8-f00d-4190-960c-340c40aa50ac",
     "showTitle": false,
     "title": ""
    }
   },
   "outputs": [],
   "source": [
    "# request URL response\n",
    "url = \"https://www.forbesindia.com/media/images/2023/May/img_207565_mayaangelou.jpg\"\n",
    "response = requests.get(url)\n",
    "\n",
    "# open image content\n",
    "img = Image.open(BytesIO(response.content))"
   ]
  },
  {
   "cell_type": "code",
   "execution_count": 0,
   "metadata": {
    "application/vnd.databricks.v1+cell": {
     "cellMetadata": {},
     "inputWidgets": {},
     "nuid": "44ce4e10-1b7a-40fe-bcfb-60fdfb2b30bf",
     "showTitle": false,
     "title": ""
    }
   },
   "outputs": [],
   "source": [
    "# display image\n",
    "img"
   ]
  },
  {
   "cell_type": "code",
   "execution_count": 0,
   "metadata": {
    "application/vnd.databricks.v1+cell": {
     "cellMetadata": {},
     "inputWidgets": {},
     "nuid": "f5513926-e1ff-47e4-a41c-205fe10a6352",
     "showTitle": false,
     "title": ""
    }
   },
   "outputs": [],
   "source": [
    "extract_text(img)"
   ]
  },
  {
   "cell_type": "markdown",
   "metadata": {
    "application/vnd.databricks.v1+cell": {
     "cellMetadata": {},
     "inputWidgets": {},
     "nuid": "e2641aca-4510-4445-8c19-b017e0534776",
     "showTitle": false,
     "title": ""
    }
   },
   "source": [
    "### Load image from file"
   ]
  },
  {
   "cell_type": "code",
   "execution_count": 0,
   "metadata": {
    "application/vnd.databricks.v1+cell": {
     "cellMetadata": {},
     "inputWidgets": {},
     "nuid": "61a23a3c-3215-443c-b83f-af7da0fd6ac1",
     "showTitle": false,
     "title": ""
    }
   },
   "outputs": [],
   "source": [
    "# img file path\n",
    "img_file = \"assets/quote.jpeg\"\n",
    "\n",
    "# load image\n",
    "img = Image.open(img_file)"
   ]
  },
  {
   "cell_type": "code",
   "execution_count": 0,
   "metadata": {
    "application/vnd.databricks.v1+cell": {
     "cellMetadata": {},
     "inputWidgets": {},
     "nuid": "33a5ddfc-cbc5-465a-98d6-d9cdca28ad3c",
     "showTitle": false,
     "title": ""
    }
   },
   "outputs": [],
   "source": [
    "# display image\n",
    "img"
   ]
  },
  {
   "cell_type": "code",
   "execution_count": 0,
   "metadata": {
    "application/vnd.databricks.v1+cell": {
     "cellMetadata": {},
     "inputWidgets": {},
     "nuid": "6ec11896-5ebe-4520-83ca-4addb4ae8057",
     "showTitle": false,
     "title": ""
    }
   },
   "outputs": [],
   "source": [
    "extract_text(img)"
   ]
  },
  {
   "cell_type": "code",
   "execution_count": 0,
   "metadata": {
    "application/vnd.databricks.v1+cell": {
     "cellMetadata": {},
     "inputWidgets": {},
     "nuid": "b46834e8-4dc1-4033-bcca-e2b7c3ac92d6",
     "showTitle": false,
     "title": ""
    }
   },
   "outputs": [],
   "source": [
    "results = reader.readtext(np.array(img))"
   ]
  },
  {
   "cell_type": "markdown",
   "metadata": {
    "application/vnd.databricks.v1+cell": {
     "cellMetadata": {},
     "inputWidgets": {},
     "nuid": "bf86c515-a5ba-4ad2-8cbb-b5a05bb1678f",
     "showTitle": false,
     "title": ""
    }
   },
   "source": [
    "### filter results with margin"
   ]
  },
  {
   "cell_type": "code",
   "execution_count": 0,
   "metadata": {
    "application/vnd.databricks.v1+cell": {
     "cellMetadata": {},
     "inputWidgets": {},
     "nuid": "ec0ebaec-0d7a-4bef-9f2f-1aec8b36d27d",
     "showTitle": false,
     "title": ""
    }
   },
   "outputs": [],
   "source": [
    "# get image dimensions\n",
    "image_width, image_height = img.size"
   ]
  },
  {
   "cell_type": "code",
   "execution_count": 0,
   "metadata": {
    "application/vnd.databricks.v1+cell": {
     "cellMetadata": {},
     "inputWidgets": {},
     "nuid": "bc11f66d-9221-442f-8ce9-8015dd674172",
     "showTitle": false,
     "title": ""
    }
   },
   "outputs": [],
   "source": [
    "percentage = 0.80  # Percentage of the center region (e.g., 75%)\n",
    "\n",
    "# Calculate the margin based on the image size and percentage\n",
    "margin_x = int(image_width * (1 - percentage) / 2)\n",
    "margin_y = int(image_height * (1 - percentage) / 2)\n",
    "\n",
    "filtered_results = []\n",
    "for result in results:\n",
    "    bbox = result[0]\n",
    "    bbox_width = bbox[2][0] - bbox[0][0]\n",
    "    bbox_height = bbox[2][1] - bbox[0][1]\n",
    "    center_x = (bbox[0][0] + bbox[2][0]) / 2\n",
    "    center_y = (bbox[0][1] + bbox[2][1]) / 2\n",
    "    \n",
    "    if (\n",
    "        center_x > margin_x and center_x < (image_width - margin_x) and\n",
    "        center_y > margin_y and center_y < (image_height - margin_y) and\n",
    "        bbox_width > margin_x and bbox_height > margin_y\n",
    "    ):\n",
    "        filtered_results.append(result)\n"
   ]
  },
  {
   "cell_type": "code",
   "execution_count": 0,
   "metadata": {
    "application/vnd.databricks.v1+cell": {
     "cellMetadata": {},
     "inputWidgets": {},
     "nuid": "5598806c-c6a0-4d17-a9db-5d2c419fbf53",
     "showTitle": false,
     "title": ""
    }
   },
   "outputs": [],
   "source": [
    "result_text = []\n",
    "for text in filtered_results:\n",
    "    result_text.append(text[1])"
   ]
  },
  {
   "cell_type": "code",
   "execution_count": 0,
   "metadata": {
    "application/vnd.databricks.v1+cell": {
     "cellMetadata": {},
     "inputWidgets": {},
     "nuid": "94823ee4-24fd-4d17-90fc-0dda35e1240a",
     "showTitle": false,
     "title": ""
    }
   },
   "outputs": [],
   "source": [
    "result_text"
   ]
  },
  {
   "cell_type": "code",
   "execution_count": 0,
   "metadata": {
    "application/vnd.databricks.v1+cell": {
     "cellMetadata": {},
     "inputWidgets": {},
     "nuid": "2a8f23c4-ebf4-445c-a955-9e1ab22e11b3",
     "showTitle": false,
     "title": ""
    }
   },
   "outputs": [],
   "source": []
  },
  {
   "cell_type": "markdown",
   "metadata": {
    "application/vnd.databricks.v1+cell": {
     "cellMetadata": {},
     "inputWidgets": {},
     "nuid": "9e98312f-e4b4-48e0-95a8-67b2902410b4",
     "showTitle": false,
     "title": ""
    }
   },
   "source": [
    "margin = 350  # Margin in pixels\n",
    "\n",
    "filtered_results = []\n",
    "for result in results:\n",
    "    # Extract the coordinates of the bounding box\n",
    "    bbox = result[0]\n",
    "    \n",
    "    # Check if the bounding box is within the margin\n",
    "    if bbox[0][0] > margin and bbox[0][1] > margin and bbox[2][0] < (image_width - margin) and bbox[2][1] < (image_height - margin):\n",
    "        filtered_results.append(result)"
   ]
  }
 ],
 "metadata": {
  "application/vnd.databricks.v1+notebook": {
   "dashboards": [],
   "language": "python",
   "notebookMetadata": {},
   "notebookName": "extract_text_from_image",
   "widgets": {}
  },
  "kernelspec": {
   "display_name": "Python 3 (ipykernel)",
   "language": "python",
   "name": "python3"
  },
  "language_info": {
   "codemirror_mode": {
    "name": "ipython",
    "version": 3
   },
   "file_extension": ".py",
   "mimetype": "text/x-python",
   "name": "python",
   "nbconvert_exporter": "python",
   "pygments_lexer": "ipython3",
   "version": "3.8.8"
  }
 },
 "nbformat": 4,
 "nbformat_minor": 0
}
