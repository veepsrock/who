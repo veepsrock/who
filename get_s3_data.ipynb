{
 "cells": [
  {
   "cell_type": "markdown",
   "id": "2898fd17-9b19-440e-b4a0-c504c067e04f",
   "metadata": {},
   "source": [
    "# Getting WHO data"
   ]
  },
  {
   "cell_type": "code",
   "execution_count": 1,
   "id": "8a0734e4-0e9e-47ef-904e-4ef4e21c14db",
   "metadata": {},
   "outputs": [
    {
     "name": "stdout",
     "output_type": "stream",
     "text": [
      "Requirement already satisfied: boto3 in /opt/conda/lib/python3.8/site-packages (1.24.47)\n",
      "Requirement already satisfied: botocore<1.28.0,>=1.27.47 in /opt/conda/lib/python3.8/site-packages (from boto3) (1.27.47)\n",
      "Requirement already satisfied: jmespath<2.0.0,>=0.7.1 in /opt/conda/lib/python3.8/site-packages (from boto3) (1.0.1)\n",
      "Requirement already satisfied: s3transfer<0.7.0,>=0.6.0 in /opt/conda/lib/python3.8/site-packages (from boto3) (0.6.0)\n",
      "Requirement already satisfied: python-dateutil<3.0.0,>=2.1 in /opt/conda/lib/python3.8/site-packages (from botocore<1.28.0,>=1.27.47->boto3) (2.8.1)\n",
      "Requirement already satisfied: urllib3<1.27,>=1.25.4 in /opt/conda/lib/python3.8/site-packages (from botocore<1.28.0,>=1.27.47->boto3) (1.26.4)\n",
      "Requirement already satisfied: six>=1.5 in /opt/conda/lib/python3.8/site-packages (from python-dateutil<3.0.0,>=2.1->botocore<1.28.0,>=1.27.47->boto3) (1.15.0)\n",
      "\u001b[33mWARNING: You are using pip version 21.1.1; however, version 23.2.1 is available.\n",
      "You should consider upgrading via the '/opt/conda/bin/python -m pip install --upgrade pip' command.\u001b[0m\n",
      "Note: you may need to restart the kernel to use updated packages.\n"
     ]
    }
   ],
   "source": [
    "pip install boto3"
   ]
  },
  {
   "cell_type": "code",
   "execution_count": 2,
   "id": "ae6c6107-be77-41dc-9fec-f4efc316a2f3",
   "metadata": {},
   "outputs": [],
   "source": [
    "import boto3"
   ]
  },
  {
   "cell_type": "code",
   "execution_count": 3,
   "id": "d67ef680-a1bf-4976-b1ff-5e04a2d568a8",
   "metadata": {},
   "outputs": [],
   "source": [
    "import pandas as pd\n",
    "import os"
   ]
  },
  {
   "cell_type": "code",
   "execution_count": 5,
   "id": "c2336fb6-2a97-43f0-8fb0-a5a81dc0613d",
   "metadata": {},
   "outputs": [],
   "source": [
    "s3 = boto3.resource(\n",
    "    service_name='s3',\n",
    "    region_name='us-east-1',\n",
    "    aws_access_key_id=os.environ['root_aws_access_key_id'],\n",
    "    aws_secret_access_key=os.environ['root_aws_secret_access_key']\n",
    ")\n"
   ]
  },
  {
   "cell_type": "code",
   "execution_count": 6,
   "id": "02c77cd2-00f0-4ca8-9dac-9292cfc6ce47",
   "metadata": {},
   "outputs": [
    {
     "name": "stdout",
     "output_type": "stream",
     "text": [
      "s3.ObjectSummary(bucket_name='rootwise-csv-export', key='evidence.csv')\n",
      "s3.ObjectSummary(bucket_name='rootwise-csv-export', key='issues.csv')\n",
      "s3.ObjectSummary(bucket_name='rootwise-csv-export', key='themes.csv')\n"
     ]
    }
   ],
   "source": [
    "for obj in s3.Bucket('rootwise-csv-export').objects.all():\n",
    "    print(obj)"
   ]
  },
  {
   "cell_type": "code",
   "execution_count": 12,
   "id": "19dae01c-1263-4baa-8672-3fcc61484adb",
   "metadata": {},
   "outputs": [],
   "source": [
    "obj = s3.Bucket('rootwise-csv-export').Object('evidence.csv').get()"
   ]
  },
  {
   "cell_type": "code",
   "execution_count": 14,
   "id": "f609093c-fffb-4ce3-b756-d5cbac34b55f",
   "metadata": {},
   "outputs": [],
   "source": [
    "df = pd.read_csv(obj['Body'], index_col = 0)"
   ]
  },
  {
   "cell_type": "code",
   "execution_count": 17,
   "id": "ba4d76ec-bf64-41ae-81ef-7c619d835a0c",
   "metadata": {},
   "outputs": [],
   "source": [
    "objects = [\"evidence.csv\", \"issues.csv\", \"themes.csv\"]"
   ]
  },
  {
   "cell_type": "code",
   "execution_count": 18,
   "id": "1172ab0c-8bd6-497e-b063-c02a7dcb0db1",
   "metadata": {},
   "outputs": [],
   "source": [
    "for object in objects:\n",
    "    obj = s3.Bucket('rootwise-csv-export').Object(object).get()\n",
    "    df = pd.read_csv(obj['Body'], index_col = 0)\n",
    "    df.reset_index(inplace = True)\n",
    "    df.to_csv(object, index = False)"
   ]
  },
  {
   "cell_type": "code",
   "execution_count": null,
   "id": "8cf4256d-87ab-480e-81c9-72ebc2d5a5ed",
   "metadata": {},
   "outputs": [],
   "source": []
  }
 ],
 "metadata": {
  "kernelspec": {
   "display_name": "Python 3 (ipykernel)",
   "language": "python",
   "name": "python3"
  },
  "language_info": {
   "codemirror_mode": {
    "name": "ipython",
    "version": 3
   },
   "file_extension": ".py",
   "mimetype": "text/x-python",
   "name": "python",
   "nbconvert_exporter": "python",
   "pygments_lexer": "ipython3",
   "version": "3.8.8"
  }
 },
 "nbformat": 4,
 "nbformat_minor": 5
}
