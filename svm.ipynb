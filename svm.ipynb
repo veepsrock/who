{
 "cells": [
  {
   "cell_type": "code",
   "execution_count": 66,
   "id": "7f8882bb",
   "metadata": {},
   "outputs": [],
   "source": [
    "import pandas as pd\n",
    "import json\n",
    "import requests"
   ]
  },
  {
   "cell_type": "code",
   "execution_count": 67,
   "id": "167a714d",
   "metadata": {},
   "outputs": [],
   "source": [
    "from sklearn.preprocessing import StandardScaler\n",
    "from sklearn.feature_extraction.text import TfidfVectorizer\n",
    "from sklearn.pipeline import Pipeline, FeatureUnion\n",
    "from sklearn.svm import SVC\n",
    "from sklearn.model_selection import train_test_split, GridSearchCV, cross_val_score\n",
    "from sklearn.ensemble import RandomForestClassifier, BaggingClassifier, AdaBoostClassifier\n",
    "from sklearn.metrics import confusion_matrix\n",
    "from nltk.corpus import stopwords\n",
    "from sklearn.feature_extraction import text "
   ]
  },
  {
   "cell_type": "markdown",
   "id": "cdb2ede5",
   "metadata": {},
   "source": [
    "## Read in data"
   ]
  },
  {
   "cell_type": "code",
   "execution_count": 68,
   "id": "b457063c",
   "metadata": {},
   "outputs": [
    {
     "data": {
      "text/plain": [
       "7"
      ]
     },
     "execution_count": 68,
     "metadata": {},
     "output_type": "execute_result"
    }
   ],
   "source": [
    "# read in data \n",
    "amp = pd.read_csv(\"amp_viv.csv\")\n",
    "\n",
    "# fill NAs with manual labels\n",
    "amp['issueName'] = amp['issueName'].fillna(amp['manuarl_issueName'])\n",
    "\n",
    "# check NA values\n",
    "amp['issueName'].isna().sum()"
   ]
  },
  {
   "cell_type": "code",
   "execution_count": 69,
   "id": "c61dad75",
   "metadata": {},
   "outputs": [
    {
     "data": {
      "text/plain": [
       "Index(['date', 'attachments', 'textTranslated', 'detectedLanguage',\n",
       "       'likeCount', 'countries', 'authorId', 'url', 'platform', 'commentCount',\n",
       "       'socialMediaPostType', 'shareCount', 'createdAt', 'submittedLanguage',\n",
       "       'themeIds', 'issueIds', 'text', 'updatedAt', 'id', 'index', 'type',\n",
       "       'issueName', 'themeName', 'manuarl_issueName', 'manual_themeName',\n",
       "       'Unnamed: 25', 'Unnamed: 26'],\n",
       "      dtype='object')"
      ]
     },
     "execution_count": 69,
     "metadata": {},
     "output_type": "execute_result"
    }
   ],
   "source": [
    "amp.columns"
   ]
  },
  {
   "cell_type": "code",
   "execution_count": 70,
   "id": "f5c62368",
   "metadata": {},
   "outputs": [],
   "source": [
    "# read in covidlies data\n",
    "cl = pd.read_csv(\"https://raw.githubusercontent.com/ucinlp/covid19-data/master/covid_lies.csv\")"
   ]
  },
  {
   "cell_type": "code",
   "execution_count": 9,
   "id": "21b6817f",
   "metadata": {},
   "outputs": [
    {
     "data": {
      "text/plain": [
       "3     286\n",
       "25    192\n",
       "10    188\n",
       "15    145\n",
       "2     100\n",
       "     ... \n",
       "13     99\n",
       "6      99\n",
       "4      99\n",
       "39     98\n",
       "38     90\n",
       "Name: misconception_id, Length: 62, dtype: int64"
      ]
     },
     "execution_count": 9,
     "metadata": {},
     "output_type": "execute_result"
    }
   ],
   "source": [
    "cl[\"misconception_id\"].value_counts()"
   ]
  },
  {
   "cell_type": "code",
   "execution_count": 6,
   "id": "00a85809",
   "metadata": {},
   "outputs": [],
   "source": [
    "cl.rename(columns={\"misconception\": \"text\" }, inplace = True)\n",
    "cl[\"issueName\"] = \"\"\n",
    "cl[\"themeName\"] = \"\""
   ]
  },
  {
   "cell_type": "markdown",
   "id": "0e1aa2cf",
   "metadata": {},
   "source": [
    "### read in misconception labels"
   ]
  },
  {
   "cell_type": "code",
   "execution_count": 72,
   "id": "1d308a91",
   "metadata": {
    "scrolled": true
   },
   "outputs": [],
   "source": [
    "# function to read in json file from url\n",
    "def read_jsonl_from_url(url):\n",
    "    try:\n",
    "        response = requests.get(url)\n",
    "        response.raise_for_status()  # Check for successful response (status code 200)\n",
    "\n",
    "        json_list = []\n",
    "        for line in response.iter_lines():\n",
    "            # Decode each line from bytes to string\n",
    "            line = line.decode(\"utf-8\")\n",
    "            if line.strip():  # Check if the line is not empty\n",
    "                # Parse each line as a JSON object and add it to the list\n",
    "                json_list.append(json.loads(line))\n",
    "        \n",
    "        return json_list\n",
    "    except requests.exceptions.RequestException as e:\n",
    "        print(\"Error occurred while fetching data:\", e)\n",
    "        return None\n",
    "    except json.JSONDecodeError as e:\n",
    "        print(\"Error occurred while parsing JSON data:\", e)\n",
    "        return None"
   ]
  },
  {
   "cell_type": "code",
   "execution_count": 73,
   "id": "b2e1cdd5",
   "metadata": {},
   "outputs": [],
   "source": [
    "# read in data file\n",
    "url = \"https://raw.githubusercontent.com/ucinlp/covid19-data/master/misconceptions.jsonl\"\n",
    "mis_data = read_jsonl_from_url(url)"
   ]
  },
  {
   "cell_type": "code",
   "execution_count": 74,
   "id": "7c381e94",
   "metadata": {},
   "outputs": [],
   "source": [
    "# convert to dataframe\n",
    "mis_df = pd.DataFrame(mis_data)\n",
    "\n",
    "# unlist cateogry column\n",
    "mis_df[\"category\"] = mis_df[\"category\"].apply(lambda x: \"\".join(x))"
   ]
  },
  {
   "cell_type": "code",
   "execution_count": 88,
   "id": "68b4e75c",
   "metadata": {},
   "outputs": [
    {
     "data": {
      "text/plain": [
       "Medical Misinformation    41\n",
       "Miscellaneous              9\n",
       "Government                 6\n",
       "Conspiracy Theories        2\n",
       "Combative Efforts          2\n",
       "Statistics                 1\n",
       "Accidental leakage         1\n",
       "Name: category, dtype: int64"
      ]
     },
     "execution_count": 88,
     "metadata": {},
     "output_type": "execute_result"
    }
   ],
   "source": [
    "mis_df[\"category\"].value_counts()"
   ]
  },
  {
   "cell_type": "markdown",
   "id": "f9639483",
   "metadata": {},
   "source": [
    "### Combine misinformation labels with covid lies data"
   ]
  },
  {
   "cell_type": "code",
   "execution_count": 38,
   "id": "a3e03828",
   "metadata": {},
   "outputs": [],
   "source": [
    "mis_cl = cl.merge(mis_df, how = \"left\", left_on = \"misconception_id\", right_on = \"id\")"
   ]
  },
  {
   "cell_type": "code",
   "execution_count": 41,
   "id": "3df44c8c",
   "metadata": {},
   "outputs": [
    {
     "data": {
      "text/plain": [
       "Medical Misinformation    4309\n",
       "Miscellaneous              899\n",
       "Government                 599\n",
       "Conspiracy Theories        385\n",
       "Combative Efforts          200\n",
       "Accidental leakage         100\n",
       "Statistics                  99\n",
       "Name: category, dtype: int64"
      ]
     },
     "execution_count": 41,
     "metadata": {},
     "output_type": "execute_result"
    }
   ],
   "source": [
    "mis_cl[\"category\"].value_counts()"
   ]
  },
  {
   "cell_type": "markdown",
   "id": "77771856",
   "metadata": {},
   "source": [
    "## Combine datasets"
   ]
  },
  {
   "cell_type": "code",
   "execution_count": 44,
   "id": "e64a7ecb",
   "metadata": {},
   "outputs": [],
   "source": [
    "df = pd.concat([amp[[\"text\", \"issueName\", \"themeName\"]], cl[[\"text\", \"issueName\", \"themeName\"]]])"
   ]
  },
  {
   "cell_type": "code",
   "execution_count": 45,
   "id": "1492992c",
   "metadata": {},
   "outputs": [
    {
     "data": {
      "text/plain": [
       "(6653, 3)"
      ]
     },
     "execution_count": 45,
     "metadata": {},
     "output_type": "execute_result"
    }
   ],
   "source": [
    "df.shape"
   ]
  },
  {
   "cell_type": "markdown",
   "id": "48099412",
   "metadata": {},
   "source": [
    "## Build model to predict issue"
   ]
  },
  {
   "cell_type": "code",
   "execution_count": 57,
   "id": "126bbff9",
   "metadata": {},
   "outputs": [],
   "source": [
    "#amp.dropna(subset = [\"themeName\"], inplace = True)"
   ]
  },
  {
   "cell_type": "code",
   "execution_count": 47,
   "id": "41a3ef29",
   "metadata": {},
   "outputs": [],
   "source": [
    "# Set X and Y variables\n",
    "X = mis_cl[\"text\"]\n",
    "y = mis_cl[\"category\"]"
   ]
  },
  {
   "cell_type": "code",
   "execution_count": 48,
   "id": "c9ee7140",
   "metadata": {},
   "outputs": [],
   "source": [
    "# Split into train and test set\n",
    "X_train, X_test, y_train, y_test= train_test_split(X, y,\n",
    "                                                    stratify = y,\n",
    "                                                   random_state = 42)"
   ]
  },
  {
   "cell_type": "code",
   "execution_count": 52,
   "id": "1f2307d8",
   "metadata": {},
   "outputs": [],
   "source": [
    "# for future if we want to add more stop words\n",
    "# ('tvec', TfidfVectorizer(ngram_range = (1,2), stop_words = text.ENGLISH_STOP_WORDS.union(additional_stop_words)))\n",
    "\n",
    "\n",
    "# set up pipeline\n",
    "pipe = Pipeline([\n",
    "            ('tvec', TfidfVectorizer(ngram_range = (1,5), stop_words = list(text.ENGLISH_STOP_WORDS))),\n",
    "            (\"bag\", BaggingClassifier(random_state = 42))\n",
    "\n",
    "])\n",
    "\n",
    "# param options\n",
    "params = {\n",
    "    \"bag__n_estimators\": [100], # default is 10\n",
    "   # \"bag__max_features\": [ 1, 5, 10 , 30] # default is 1\n",
    "}\n",
    "\n",
    "# run gridsearch\n",
    "gs = GridSearchCV(pipe, params, cv=5, n_jobs= 3)"
   ]
  },
  {
   "cell_type": "code",
   "execution_count": 53,
   "id": "11cb8491",
   "metadata": {},
   "outputs": [
    {
     "data": {
      "text/html": [
       "<style>#sk-container-id-1 {color: black;background-color: white;}#sk-container-id-1 pre{padding: 0;}#sk-container-id-1 div.sk-toggleable {background-color: white;}#sk-container-id-1 label.sk-toggleable__label {cursor: pointer;display: block;width: 100%;margin-bottom: 0;padding: 0.3em;box-sizing: border-box;text-align: center;}#sk-container-id-1 label.sk-toggleable__label-arrow:before {content: \"▸\";float: left;margin-right: 0.25em;color: #696969;}#sk-container-id-1 label.sk-toggleable__label-arrow:hover:before {color: black;}#sk-container-id-1 div.sk-estimator:hover label.sk-toggleable__label-arrow:before {color: black;}#sk-container-id-1 div.sk-toggleable__content {max-height: 0;max-width: 0;overflow: hidden;text-align: left;background-color: #f0f8ff;}#sk-container-id-1 div.sk-toggleable__content pre {margin: 0.2em;color: black;border-radius: 0.25em;background-color: #f0f8ff;}#sk-container-id-1 input.sk-toggleable__control:checked~div.sk-toggleable__content {max-height: 200px;max-width: 100%;overflow: auto;}#sk-container-id-1 input.sk-toggleable__control:checked~label.sk-toggleable__label-arrow:before {content: \"▾\";}#sk-container-id-1 div.sk-estimator input.sk-toggleable__control:checked~label.sk-toggleable__label {background-color: #d4ebff;}#sk-container-id-1 div.sk-label input.sk-toggleable__control:checked~label.sk-toggleable__label {background-color: #d4ebff;}#sk-container-id-1 input.sk-hidden--visually {border: 0;clip: rect(1px 1px 1px 1px);clip: rect(1px, 1px, 1px, 1px);height: 1px;margin: -1px;overflow: hidden;padding: 0;position: absolute;width: 1px;}#sk-container-id-1 div.sk-estimator {font-family: monospace;background-color: #f0f8ff;border: 1px dotted black;border-radius: 0.25em;box-sizing: border-box;margin-bottom: 0.5em;}#sk-container-id-1 div.sk-estimator:hover {background-color: #d4ebff;}#sk-container-id-1 div.sk-parallel-item::after {content: \"\";width: 100%;border-bottom: 1px solid gray;flex-grow: 1;}#sk-container-id-1 div.sk-label:hover label.sk-toggleable__label {background-color: #d4ebff;}#sk-container-id-1 div.sk-serial::before {content: \"\";position: absolute;border-left: 1px solid gray;box-sizing: border-box;top: 0;bottom: 0;left: 50%;z-index: 0;}#sk-container-id-1 div.sk-serial {display: flex;flex-direction: column;align-items: center;background-color: white;padding-right: 0.2em;padding-left: 0.2em;position: relative;}#sk-container-id-1 div.sk-item {position: relative;z-index: 1;}#sk-container-id-1 div.sk-parallel {display: flex;align-items: stretch;justify-content: center;background-color: white;position: relative;}#sk-container-id-1 div.sk-item::before, #sk-container-id-1 div.sk-parallel-item::before {content: \"\";position: absolute;border-left: 1px solid gray;box-sizing: border-box;top: 0;bottom: 0;left: 50%;z-index: -1;}#sk-container-id-1 div.sk-parallel-item {display: flex;flex-direction: column;z-index: 1;position: relative;background-color: white;}#sk-container-id-1 div.sk-parallel-item:first-child::after {align-self: flex-end;width: 50%;}#sk-container-id-1 div.sk-parallel-item:last-child::after {align-self: flex-start;width: 50%;}#sk-container-id-1 div.sk-parallel-item:only-child::after {width: 0;}#sk-container-id-1 div.sk-dashed-wrapped {border: 1px dashed gray;margin: 0 0.4em 0.5em 0.4em;box-sizing: border-box;padding-bottom: 0.4em;background-color: white;}#sk-container-id-1 div.sk-label label {font-family: monospace;font-weight: bold;display: inline-block;line-height: 1.2em;}#sk-container-id-1 div.sk-label-container {text-align: center;}#sk-container-id-1 div.sk-container {/* jupyter's `normalize.less` sets `[hidden] { display: none; }` but bootstrap.min.css set `[hidden] { display: none !important; }` so we also need the `!important` here to be able to override the default hidden behavior on the sphinx rendered scikit-learn.org. See: https://github.com/scikit-learn/scikit-learn/issues/21755 */display: inline-block !important;position: relative;}#sk-container-id-1 div.sk-text-repr-fallback {display: none;}</style><div id=\"sk-container-id-1\" class=\"sk-top-container\"><div class=\"sk-text-repr-fallback\"><pre>GridSearchCV(cv=5,\n",
       "             estimator=Pipeline(steps=[(&#x27;tvec&#x27;,\n",
       "                                        TfidfVectorizer(ngram_range=(1, 5),\n",
       "                                                        stop_words=[&#x27;someone&#x27;,\n",
       "                                                                    &#x27;sixty&#x27;,\n",
       "                                                                    &#x27;each&#x27;,\n",
       "                                                                    &#x27;however&#x27;,\n",
       "                                                                    &#x27;over&#x27;,\n",
       "                                                                    &#x27;found&#x27;,\n",
       "                                                                    &#x27;up&#x27;,\n",
       "                                                                    &#x27;besides&#x27;,\n",
       "                                                                    &#x27;himself&#x27;,\n",
       "                                                                    &#x27;an&#x27;, &#x27;me&#x27;,\n",
       "                                                                    &#x27;never&#x27;,\n",
       "                                                                    &#x27;go&#x27;, &#x27;nor&#x27;,\n",
       "                                                                    &#x27;describe&#x27;,\n",
       "                                                                    &#x27;whom&#x27;,\n",
       "                                                                    &#x27;than&#x27;,\n",
       "                                                                    &#x27;six&#x27;,\n",
       "                                                                    &#x27;whatever&#x27;,\n",
       "                                                                    &#x27;their&#x27;,\n",
       "                                                                    &#x27;mill&#x27;,\n",
       "                                                                    &#x27;hereafter&#x27;,\n",
       "                                                                    &#x27;several&#x27;,\n",
       "                                                                    &#x27;two&#x27;,\n",
       "                                                                    &#x27;for&#x27;,\n",
       "                                                                    &#x27;wherever&#x27;,\n",
       "                                                                    &#x27;or&#x27;,\n",
       "                                                                    &#x27;amount&#x27;,\n",
       "                                                                    &#x27;cant&#x27;,\n",
       "                                                                    &#x27;twelve&#x27;, ...])),\n",
       "                                       (&#x27;bag&#x27;,\n",
       "                                        BaggingClassifier(random_state=42))]),\n",
       "             n_jobs=3, param_grid={&#x27;bag__n_estimators&#x27;: [100]})</pre><b>In a Jupyter environment, please rerun this cell to show the HTML representation or trust the notebook. <br />On GitHub, the HTML representation is unable to render, please try loading this page with nbviewer.org.</b></div><div class=\"sk-container\" hidden><div class=\"sk-item sk-dashed-wrapped\"><div class=\"sk-label-container\"><div class=\"sk-label sk-toggleable\"><input class=\"sk-toggleable__control sk-hidden--visually\" id=\"sk-estimator-id-1\" type=\"checkbox\" ><label for=\"sk-estimator-id-1\" class=\"sk-toggleable__label sk-toggleable__label-arrow\">GridSearchCV</label><div class=\"sk-toggleable__content\"><pre>GridSearchCV(cv=5,\n",
       "             estimator=Pipeline(steps=[(&#x27;tvec&#x27;,\n",
       "                                        TfidfVectorizer(ngram_range=(1, 5),\n",
       "                                                        stop_words=[&#x27;someone&#x27;,\n",
       "                                                                    &#x27;sixty&#x27;,\n",
       "                                                                    &#x27;each&#x27;,\n",
       "                                                                    &#x27;however&#x27;,\n",
       "                                                                    &#x27;over&#x27;,\n",
       "                                                                    &#x27;found&#x27;,\n",
       "                                                                    &#x27;up&#x27;,\n",
       "                                                                    &#x27;besides&#x27;,\n",
       "                                                                    &#x27;himself&#x27;,\n",
       "                                                                    &#x27;an&#x27;, &#x27;me&#x27;,\n",
       "                                                                    &#x27;never&#x27;,\n",
       "                                                                    &#x27;go&#x27;, &#x27;nor&#x27;,\n",
       "                                                                    &#x27;describe&#x27;,\n",
       "                                                                    &#x27;whom&#x27;,\n",
       "                                                                    &#x27;than&#x27;,\n",
       "                                                                    &#x27;six&#x27;,\n",
       "                                                                    &#x27;whatever&#x27;,\n",
       "                                                                    &#x27;their&#x27;,\n",
       "                                                                    &#x27;mill&#x27;,\n",
       "                                                                    &#x27;hereafter&#x27;,\n",
       "                                                                    &#x27;several&#x27;,\n",
       "                                                                    &#x27;two&#x27;,\n",
       "                                                                    &#x27;for&#x27;,\n",
       "                                                                    &#x27;wherever&#x27;,\n",
       "                                                                    &#x27;or&#x27;,\n",
       "                                                                    &#x27;amount&#x27;,\n",
       "                                                                    &#x27;cant&#x27;,\n",
       "                                                                    &#x27;twelve&#x27;, ...])),\n",
       "                                       (&#x27;bag&#x27;,\n",
       "                                        BaggingClassifier(random_state=42))]),\n",
       "             n_jobs=3, param_grid={&#x27;bag__n_estimators&#x27;: [100]})</pre></div></div></div><div class=\"sk-parallel\"><div class=\"sk-parallel-item\"><div class=\"sk-item\"><div class=\"sk-label-container\"><div class=\"sk-label sk-toggleable\"><input class=\"sk-toggleable__control sk-hidden--visually\" id=\"sk-estimator-id-2\" type=\"checkbox\" ><label for=\"sk-estimator-id-2\" class=\"sk-toggleable__label sk-toggleable__label-arrow\">estimator: Pipeline</label><div class=\"sk-toggleable__content\"><pre>Pipeline(steps=[(&#x27;tvec&#x27;,\n",
       "                 TfidfVectorizer(ngram_range=(1, 5),\n",
       "                                 stop_words=[&#x27;someone&#x27;, &#x27;sixty&#x27;, &#x27;each&#x27;,\n",
       "                                             &#x27;however&#x27;, &#x27;over&#x27;, &#x27;found&#x27;, &#x27;up&#x27;,\n",
       "                                             &#x27;besides&#x27;, &#x27;himself&#x27;, &#x27;an&#x27;, &#x27;me&#x27;,\n",
       "                                             &#x27;never&#x27;, &#x27;go&#x27;, &#x27;nor&#x27;, &#x27;describe&#x27;,\n",
       "                                             &#x27;whom&#x27;, &#x27;than&#x27;, &#x27;six&#x27;, &#x27;whatever&#x27;,\n",
       "                                             &#x27;their&#x27;, &#x27;mill&#x27;, &#x27;hereafter&#x27;,\n",
       "                                             &#x27;several&#x27;, &#x27;two&#x27;, &#x27;for&#x27;,\n",
       "                                             &#x27;wherever&#x27;, &#x27;or&#x27;, &#x27;amount&#x27;, &#x27;cant&#x27;,\n",
       "                                             &#x27;twelve&#x27;, ...])),\n",
       "                (&#x27;bag&#x27;, BaggingClassifier(random_state=42))])</pre></div></div></div><div class=\"sk-serial\"><div class=\"sk-item\"><div class=\"sk-serial\"><div class=\"sk-item\"><div class=\"sk-estimator sk-toggleable\"><input class=\"sk-toggleable__control sk-hidden--visually\" id=\"sk-estimator-id-3\" type=\"checkbox\" ><label for=\"sk-estimator-id-3\" class=\"sk-toggleable__label sk-toggleable__label-arrow\">TfidfVectorizer</label><div class=\"sk-toggleable__content\"><pre>TfidfVectorizer(ngram_range=(1, 5),\n",
       "                stop_words=[&#x27;someone&#x27;, &#x27;sixty&#x27;, &#x27;each&#x27;, &#x27;however&#x27;, &#x27;over&#x27;,\n",
       "                            &#x27;found&#x27;, &#x27;up&#x27;, &#x27;besides&#x27;, &#x27;himself&#x27;, &#x27;an&#x27;, &#x27;me&#x27;,\n",
       "                            &#x27;never&#x27;, &#x27;go&#x27;, &#x27;nor&#x27;, &#x27;describe&#x27;, &#x27;whom&#x27;, &#x27;than&#x27;,\n",
       "                            &#x27;six&#x27;, &#x27;whatever&#x27;, &#x27;their&#x27;, &#x27;mill&#x27;, &#x27;hereafter&#x27;,\n",
       "                            &#x27;several&#x27;, &#x27;two&#x27;, &#x27;for&#x27;, &#x27;wherever&#x27;, &#x27;or&#x27;, &#x27;amount&#x27;,\n",
       "                            &#x27;cant&#x27;, &#x27;twelve&#x27;, ...])</pre></div></div></div><div class=\"sk-item\"><div class=\"sk-estimator sk-toggleable\"><input class=\"sk-toggleable__control sk-hidden--visually\" id=\"sk-estimator-id-4\" type=\"checkbox\" ><label for=\"sk-estimator-id-4\" class=\"sk-toggleable__label sk-toggleable__label-arrow\">BaggingClassifier</label><div class=\"sk-toggleable__content\"><pre>BaggingClassifier(random_state=42)</pre></div></div></div></div></div></div></div></div></div></div></div></div>"
      ],
      "text/plain": [
       "GridSearchCV(cv=5,\n",
       "             estimator=Pipeline(steps=[('tvec',\n",
       "                                        TfidfVectorizer(ngram_range=(1, 5),\n",
       "                                                        stop_words=['someone',\n",
       "                                                                    'sixty',\n",
       "                                                                    'each',\n",
       "                                                                    'however',\n",
       "                                                                    'over',\n",
       "                                                                    'found',\n",
       "                                                                    'up',\n",
       "                                                                    'besides',\n",
       "                                                                    'himself',\n",
       "                                                                    'an', 'me',\n",
       "                                                                    'never',\n",
       "                                                                    'go', 'nor',\n",
       "                                                                    'describe',\n",
       "                                                                    'whom',\n",
       "                                                                    'than',\n",
       "                                                                    'six',\n",
       "                                                                    'whatever',\n",
       "                                                                    'their',\n",
       "                                                                    'mill',\n",
       "                                                                    'hereafter',\n",
       "                                                                    'several',\n",
       "                                                                    'two',\n",
       "                                                                    'for',\n",
       "                                                                    'wherever',\n",
       "                                                                    'or',\n",
       "                                                                    'amount',\n",
       "                                                                    'cant',\n",
       "                                                                    'twelve', ...])),\n",
       "                                       ('bag',\n",
       "                                        BaggingClassifier(random_state=42))]),\n",
       "             n_jobs=3, param_grid={'bag__n_estimators': [100]})"
      ]
     },
     "execution_count": 53,
     "metadata": {},
     "output_type": "execute_result"
    }
   ],
   "source": [
    "# run model\n",
    "gs.fit(X_train, y_train)"
   ]
  },
  {
   "cell_type": "code",
   "execution_count": 54,
   "id": "c1a031f3",
   "metadata": {},
   "outputs": [],
   "source": [
    "model = gs.best_estimator_\n"
   ]
  },
  {
   "cell_type": "code",
   "execution_count": 55,
   "id": "3cc6c49c",
   "metadata": {},
   "outputs": [
    {
     "data": {
      "text/plain": [
       "1.0"
      ]
     },
     "execution_count": 55,
     "metadata": {},
     "output_type": "execute_result"
    }
   ],
   "source": [
    "model.score(X_test, y_test)\n"
   ]
  },
  {
   "cell_type": "markdown",
   "id": "628a5b1f",
   "metadata": {},
   "source": [
    "### Predict on amp data"
   ]
  },
  {
   "cell_type": "code",
   "execution_count": 56,
   "id": "6f50586b",
   "metadata": {},
   "outputs": [],
   "source": [
    "X_new = amp[\"text\"]"
   ]
  },
  {
   "cell_type": "code",
   "execution_count": 57,
   "id": "89ddf39a",
   "metadata": {},
   "outputs": [],
   "source": [
    "amp[\"predictedCategory\"] = model.predict(X_new)"
   ]
  },
  {
   "cell_type": "code",
   "execution_count": 59,
   "id": "0d13c202",
   "metadata": {},
   "outputs": [
    {
     "data": {
      "text/plain": [
       "Medical Misinformation    57\n",
       "Government                 3\n",
       "Miscellaneous              1\n",
       "Accidental leakage         1\n",
       "Name: predictedCategory, dtype: int64"
      ]
     },
     "execution_count": 59,
     "metadata": {},
     "output_type": "execute_result"
    }
   ],
   "source": [
    "amp[\"predictedCategory\"].value_counts()"
   ]
  },
  {
   "cell_type": "code",
   "execution_count": 58,
   "id": "d2569c52",
   "metadata": {},
   "outputs": [
    {
     "data": {
      "text/html": [
       "<div>\n",
       "<style scoped>\n",
       "    .dataframe tbody tr th:only-of-type {\n",
       "        vertical-align: middle;\n",
       "    }\n",
       "\n",
       "    .dataframe tbody tr th {\n",
       "        vertical-align: top;\n",
       "    }\n",
       "\n",
       "    .dataframe thead th {\n",
       "        text-align: right;\n",
       "    }\n",
       "</style>\n",
       "<table border=\"1\" class=\"dataframe\">\n",
       "  <thead>\n",
       "    <tr style=\"text-align: right;\">\n",
       "      <th></th>\n",
       "      <th>date</th>\n",
       "      <th>attachments</th>\n",
       "      <th>textTranslated</th>\n",
       "      <th>detectedLanguage</th>\n",
       "      <th>likeCount</th>\n",
       "      <th>countries</th>\n",
       "      <th>authorId</th>\n",
       "      <th>url</th>\n",
       "      <th>platform</th>\n",
       "      <th>commentCount</th>\n",
       "      <th>...</th>\n",
       "      <th>id</th>\n",
       "      <th>index</th>\n",
       "      <th>type</th>\n",
       "      <th>issueName</th>\n",
       "      <th>themeName</th>\n",
       "      <th>manuarl_issueName</th>\n",
       "      <th>manual_themeName</th>\n",
       "      <th>Unnamed: 25</th>\n",
       "      <th>Unnamed: 26</th>\n",
       "      <th>predictedCategory</th>\n",
       "    </tr>\n",
       "  </thead>\n",
       "  <tbody>\n",
       "    <tr>\n",
       "      <th>0</th>\n",
       "      <td>2023-06-08</td>\n",
       "      <td>NaN</td>\n",
       "      <td>[object Object]</td>\n",
       "      <td>en</td>\n",
       "      <td>15.0</td>\n",
       "      <td>KE</td>\n",
       "      <td>rhysoneill@gmail.com</td>\n",
       "      <td>https://www.facebook.com/CitizenTVKe/posts/pfb...</td>\n",
       "      <td>Facebook</td>\n",
       "      <td>4.0</td>\n",
       "      <td>...</td>\n",
       "      <td>d5172bb6-80a2-4f6d-b4f2-0c1be243aab1</td>\n",
       "      <td>prod-evidence-v1</td>\n",
       "      <td>_doc</td>\n",
       "      <td>COVID-19</td>\n",
       "      <td>Bio-weapon</td>\n",
       "      <td>NaN</td>\n",
       "      <td>NaN</td>\n",
       "      <td>NaN</td>\n",
       "      <td>NaN</td>\n",
       "      <td>Medical Misinformation</td>\n",
       "    </tr>\n",
       "    <tr>\n",
       "      <th>1</th>\n",
       "      <td>2023-06-08</td>\n",
       "      <td>NaN</td>\n",
       "      <td>[object Object]</td>\n",
       "      <td>en</td>\n",
       "      <td>19.0</td>\n",
       "      <td>KE</td>\n",
       "      <td>rhysoneill@gmail.com</td>\n",
       "      <td>https://www.facebook.com/CitizenTVKe/posts/pfb...</td>\n",
       "      <td>Facebook</td>\n",
       "      <td>5.0</td>\n",
       "      <td>...</td>\n",
       "      <td>c59961c7-bc4d-4549-8ff9-c29700709b85</td>\n",
       "      <td>prod-evidence-v1</td>\n",
       "      <td>_doc</td>\n",
       "      <td>COVID-19</td>\n",
       "      <td>Bio-weapon</td>\n",
       "      <td>NaN</td>\n",
       "      <td>NaN</td>\n",
       "      <td>NaN</td>\n",
       "      <td>NaN</td>\n",
       "      <td>Medical Misinformation</td>\n",
       "    </tr>\n",
       "    <tr>\n",
       "      <th>2</th>\n",
       "      <td>2023-06-08</td>\n",
       "      <td>NaN</td>\n",
       "      <td>[object Object]</td>\n",
       "      <td>en</td>\n",
       "      <td>3.0</td>\n",
       "      <td>KE</td>\n",
       "      <td>rhysoneill@gmail.com</td>\n",
       "      <td>https://www.facebook.com/CitizenTVKe/posts/pfb...</td>\n",
       "      <td>Facebook</td>\n",
       "      <td>NaN</td>\n",
       "      <td>...</td>\n",
       "      <td>7b2a7e36-5ab2-4369-906e-f5d7b0269362</td>\n",
       "      <td>prod-evidence-v1</td>\n",
       "      <td>_doc</td>\n",
       "      <td>COVID-19</td>\n",
       "      <td>Bio-weapon</td>\n",
       "      <td>NaN</td>\n",
       "      <td>NaN</td>\n",
       "      <td>NaN</td>\n",
       "      <td>NaN</td>\n",
       "      <td>Medical Misinformation</td>\n",
       "    </tr>\n",
       "    <tr>\n",
       "      <th>3</th>\n",
       "      <td>2023-05-14</td>\n",
       "      <td>2023/06/08/evidence/766cd12b-1428-454f-ac14-00...</td>\n",
       "      <td>[object Object]</td>\n",
       "      <td>en</td>\n",
       "      <td>43.0</td>\n",
       "      <td>TZ</td>\n",
       "      <td>rhysoneill@gmail.com</td>\n",
       "      <td>https://www.youtube.com/watch?v=Pz0hvkLYP1c</td>\n",
       "      <td>YouTube</td>\n",
       "      <td>14.0</td>\n",
       "      <td>...</td>\n",
       "      <td>766cd12b-1428-454f-ac14-008dfae4442d</td>\n",
       "      <td>prod-evidence-v1</td>\n",
       "      <td>_doc</td>\n",
       "      <td>COVID-19</td>\n",
       "      <td>Case Reporting</td>\n",
       "      <td>NaN</td>\n",
       "      <td>NaN</td>\n",
       "      <td>NaN</td>\n",
       "      <td>NaN</td>\n",
       "      <td>Medical Misinformation</td>\n",
       "    </tr>\n",
       "    <tr>\n",
       "      <th>4</th>\n",
       "      <td>2023-06-26</td>\n",
       "      <td>NaN</td>\n",
       "      <td>[object Object]</td>\n",
       "      <td>sw</td>\n",
       "      <td>NaN</td>\n",
       "      <td>TZ</td>\n",
       "      <td>rhysoneill@gmail.com</td>\n",
       "      <td>http://twitter.com/TotolaMamNtilie/statuses/16...</td>\n",
       "      <td>Twitter</td>\n",
       "      <td>NaN</td>\n",
       "      <td>...</td>\n",
       "      <td>a5dd6cc0-b55a-4598-8eec-e49fd5a16245</td>\n",
       "      <td>prod-evidence-v1</td>\n",
       "      <td>_doc</td>\n",
       "      <td>NaN</td>\n",
       "      <td>Case Reporting</td>\n",
       "      <td>NaN</td>\n",
       "      <td>NaN</td>\n",
       "      <td>NaN</td>\n",
       "      <td>NaN</td>\n",
       "      <td>Medical Misinformation</td>\n",
       "    </tr>\n",
       "  </tbody>\n",
       "</table>\n",
       "<p>5 rows × 28 columns</p>\n",
       "</div>"
      ],
      "text/plain": [
       "         date                                        attachments  \\\n",
       "0  2023-06-08                                                NaN   \n",
       "1  2023-06-08                                                NaN   \n",
       "2  2023-06-08                                                NaN   \n",
       "3  2023-05-14  2023/06/08/evidence/766cd12b-1428-454f-ac14-00...   \n",
       "4  2023-06-26                                                NaN   \n",
       "\n",
       "    textTranslated detectedLanguage  likeCount countries  \\\n",
       "0  [object Object]               en       15.0        KE   \n",
       "1  [object Object]               en       19.0        KE   \n",
       "2  [object Object]               en        3.0        KE   \n",
       "3  [object Object]               en       43.0        TZ   \n",
       "4  [object Object]               sw        NaN        TZ   \n",
       "\n",
       "               authorId                                                url  \\\n",
       "0  rhysoneill@gmail.com  https://www.facebook.com/CitizenTVKe/posts/pfb...   \n",
       "1  rhysoneill@gmail.com  https://www.facebook.com/CitizenTVKe/posts/pfb...   \n",
       "2  rhysoneill@gmail.com  https://www.facebook.com/CitizenTVKe/posts/pfb...   \n",
       "3  rhysoneill@gmail.com        https://www.youtube.com/watch?v=Pz0hvkLYP1c   \n",
       "4  rhysoneill@gmail.com  http://twitter.com/TotolaMamNtilie/statuses/16...   \n",
       "\n",
       "   platform  commentCount  ...                                    id  \\\n",
       "0  Facebook           4.0  ...  d5172bb6-80a2-4f6d-b4f2-0c1be243aab1   \n",
       "1  Facebook           5.0  ...  c59961c7-bc4d-4549-8ff9-c29700709b85   \n",
       "2  Facebook           NaN  ...  7b2a7e36-5ab2-4369-906e-f5d7b0269362   \n",
       "3   YouTube          14.0  ...  766cd12b-1428-454f-ac14-008dfae4442d   \n",
       "4   Twitter           NaN  ...  a5dd6cc0-b55a-4598-8eec-e49fd5a16245   \n",
       "\n",
       "              index  type issueName       themeName manuarl_issueName  \\\n",
       "0  prod-evidence-v1  _doc  COVID-19      Bio-weapon               NaN   \n",
       "1  prod-evidence-v1  _doc  COVID-19      Bio-weapon               NaN   \n",
       "2  prod-evidence-v1  _doc  COVID-19      Bio-weapon               NaN   \n",
       "3  prod-evidence-v1  _doc  COVID-19  Case Reporting               NaN   \n",
       "4  prod-evidence-v1  _doc       NaN  Case Reporting               NaN   \n",
       "\n",
       "  manual_themeName Unnamed: 25 Unnamed: 26       predictedCategory  \n",
       "0              NaN         NaN         NaN  Medical Misinformation  \n",
       "1              NaN         NaN         NaN  Medical Misinformation  \n",
       "2              NaN         NaN         NaN  Medical Misinformation  \n",
       "3              NaN         NaN         NaN  Medical Misinformation  \n",
       "4              NaN         NaN         NaN  Medical Misinformation  \n",
       "\n",
       "[5 rows x 28 columns]"
      ]
     },
     "execution_count": 58,
     "metadata": {},
     "output_type": "execute_result"
    }
   ],
   "source": [
    "amp.head()"
   ]
  },
  {
   "cell_type": "markdown",
   "id": "98a2f020",
   "metadata": {},
   "source": [
    "### Randomly sample 100 Covid lies data to label"
   ]
  },
  {
   "cell_type": "code",
   "execution_count": 126,
   "id": "956908e5",
   "metadata": {},
   "outputs": [
    {
     "data": {
      "text/plain": [
       "(6591, 4)"
      ]
     },
     "execution_count": 126,
     "metadata": {},
     "output_type": "execute_result"
    }
   ],
   "source": [
    "cl.shape"
   ]
  },
  {
   "cell_type": "code",
   "execution_count": 127,
   "id": "1219002b",
   "metadata": {},
   "outputs": [],
   "source": [
    "random = cl.sample(n=6000, random_state = 42)"
   ]
  },
  {
   "cell_type": "code",
   "execution_count": 128,
   "id": "d32f166b",
   "metadata": {},
   "outputs": [
    {
     "data": {
      "text/plain": [
       "(6000, 4)"
      ]
     },
     "execution_count": 128,
     "metadata": {},
     "output_type": "execute_result"
    }
   ],
   "source": [
    "random.shape"
   ]
  },
  {
   "cell_type": "code",
   "execution_count": 132,
   "id": "9d970289",
   "metadata": {},
   "outputs": [],
   "source": [
    "cl_list = list(cl[\"misconception\"].unique())"
   ]
  },
  {
   "cell_type": "code",
   "execution_count": 133,
   "id": "45bf87d3",
   "metadata": {},
   "outputs": [
    {
     "data": {
      "text/plain": [
       "63"
      ]
     },
     "execution_count": 133,
     "metadata": {},
     "output_type": "execute_result"
    }
   ],
   "source": [
    "len(cl_list)"
   ]
  },
  {
   "cell_type": "code",
   "execution_count": 129,
   "id": "04588f2b",
   "metadata": {},
   "outputs": [],
   "source": [
    "random_df = random.drop_duplicates(subset = [\"misconception\"])"
   ]
  },
  {
   "cell_type": "code",
   "execution_count": 130,
   "id": "f65478f4",
   "metadata": {},
   "outputs": [
    {
     "data": {
      "text/plain": [
       "(63, 4)"
      ]
     },
     "execution_count": 130,
     "metadata": {},
     "output_type": "execute_result"
    }
   ],
   "source": [
    "random_df.shape"
   ]
  },
  {
   "cell_type": "code",
   "execution_count": 134,
   "id": "a450a08f",
   "metadata": {},
   "outputs": [],
   "source": [
    "random_df.to_csv(\"covid_lies_sample.csv\", index = False)"
   ]
  },
  {
   "cell_type": "code",
   "execution_count": null,
   "id": "daf9873c",
   "metadata": {},
   "outputs": [],
   "source": []
  }
 ],
 "metadata": {
  "kernelspec": {
   "display_name": "Python 3 (ipykernel)",
   "language": "python",
   "name": "python3"
  },
  "language_info": {
   "codemirror_mode": {
    "name": "ipython",
    "version": 3
   },
   "file_extension": ".py",
   "mimetype": "text/x-python",
   "name": "python",
   "nbconvert_exporter": "python",
   "pygments_lexer": "ipython3",
   "version": "3.8.8"
  }
 },
 "nbformat": 4,
 "nbformat_minor": 5
}
