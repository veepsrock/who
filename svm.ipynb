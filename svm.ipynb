{
 "cells": [
  {
   "cell_type": "code",
   "execution_count": 0,
   "metadata": {
    "application/vnd.databricks.v1+cell": {
     "cellMetadata": {},
     "inputWidgets": {},
     "nuid": "fa03c2bb-fa3c-400c-80c3-6a98681c575a",
     "showTitle": false,
     "title": ""
    }
   },
   "outputs": [],
   "source": [
    "import pandas as pd\n",
    "import json\n",
    "import requests"
   ]
  },
  {
   "cell_type": "code",
   "execution_count": 0,
   "metadata": {
    "application/vnd.databricks.v1+cell": {
     "cellMetadata": {},
     "inputWidgets": {},
     "nuid": "004f5252-9e17-44fe-a475-144d76eab908",
     "showTitle": false,
     "title": ""
    }
   },
   "outputs": [],
   "source": [
    "from sklearn.preprocessing import StandardScaler\n",
    "from sklearn.feature_extraction.text import TfidfVectorizer\n",
    "from sklearn.pipeline import Pipeline, FeatureUnion\n",
    "from sklearn.svm import SVC\n",
    "from sklearn.model_selection import train_test_split, GridSearchCV, cross_val_score\n",
    "from sklearn.ensemble import RandomForestClassifier, BaggingClassifier, AdaBoostClassifier\n",
    "from sklearn.metrics import confusion_matrix\n",
    "from nltk.corpus import stopwords\n",
    "from sklearn.feature_extraction import text "
   ]
  },
  {
   "cell_type": "markdown",
   "metadata": {
    "application/vnd.databricks.v1+cell": {
     "cellMetadata": {},
     "inputWidgets": {},
     "nuid": "b9a846a1-1b7d-4fad-8306-249f87025a9e",
     "showTitle": false,
     "title": ""
    }
   },
   "source": [
    "## Read in data"
   ]
  },
  {
   "cell_type": "code",
   "execution_count": 0,
   "metadata": {
    "application/vnd.databricks.v1+cell": {
     "cellMetadata": {},
     "inputWidgets": {},
     "nuid": "0cb61504-a554-46e0-8bab-ec5787702894",
     "showTitle": false,
     "title": ""
    }
   },
   "outputs": [],
   "source": [
    "# read in data \n",
    "amp = pd.read_csv(\"amp_viv.csv\")\n",
    "\n",
    "# fill NAs with manual labels\n",
    "amp['issueName'] = amp['issueName'].fillna(amp['manuarl_issueName'])\n",
    "\n",
    "# check NA values\n",
    "amp['issueName'].isna().sum()"
   ]
  },
  {
   "cell_type": "code",
   "execution_count": 0,
   "metadata": {
    "application/vnd.databricks.v1+cell": {
     "cellMetadata": {},
     "inputWidgets": {},
     "nuid": "122232ae-25b1-4520-8518-e41f60835a48",
     "showTitle": false,
     "title": ""
    }
   },
   "outputs": [],
   "source": [
    "amp.columns"
   ]
  },
  {
   "cell_type": "code",
   "execution_count": 0,
   "metadata": {
    "application/vnd.databricks.v1+cell": {
     "cellMetadata": {},
     "inputWidgets": {},
     "nuid": "67e0cb8e-bdc9-43de-903b-cc97bfd37cc7",
     "showTitle": false,
     "title": ""
    }
   },
   "outputs": [],
   "source": [
    "# read in covidlies data\n",
    "cl = pd.read_csv(\"https://raw.githubusercontent.com/ucinlp/covid19-data/master/covid_lies.csv\")"
   ]
  },
  {
   "cell_type": "code",
   "execution_count": 0,
   "metadata": {
    "application/vnd.databricks.v1+cell": {
     "cellMetadata": {},
     "inputWidgets": {},
     "nuid": "13875418-9587-464d-92da-5bdaed37004d",
     "showTitle": false,
     "title": ""
    }
   },
   "outputs": [],
   "source": [
    "cl[\"misconception_id\"].value_counts()"
   ]
  },
  {
   "cell_type": "code",
   "execution_count": 0,
   "metadata": {
    "application/vnd.databricks.v1+cell": {
     "cellMetadata": {},
     "inputWidgets": {},
     "nuid": "def00bc5-e4cf-45c2-adbf-45e28342855a",
     "showTitle": false,
     "title": ""
    }
   },
   "outputs": [],
   "source": [
    "cl.rename(columns={\"misconception\": \"text\" }, inplace = True)\n",
    "cl[\"issueName\"] = \"\"\n",
    "cl[\"themeName\"] = \"\""
   ]
  },
  {
   "cell_type": "markdown",
   "metadata": {
    "application/vnd.databricks.v1+cell": {
     "cellMetadata": {},
     "inputWidgets": {},
     "nuid": "ced1d1e1-fe0e-4490-844a-cbaae904645d",
     "showTitle": false,
     "title": ""
    }
   },
   "source": [
    "### read in misconception labels"
   ]
  },
  {
   "cell_type": "code",
   "execution_count": 0,
   "metadata": {
    "application/vnd.databricks.v1+cell": {
     "cellMetadata": {},
     "inputWidgets": {},
     "nuid": "db5d21cb-3a7e-4ecf-886d-f90485a7eb30",
     "showTitle": false,
     "title": ""
    },
    "scrolled": true
   },
   "outputs": [],
   "source": [
    "# function to read in json file from url\n",
    "def read_jsonl_from_url(url):\n",
    "    try:\n",
    "        response = requests.get(url)\n",
    "        response.raise_for_status()  # Check for successful response (status code 200)\n",
    "\n",
    "        json_list = []\n",
    "        for line in response.iter_lines():\n",
    "            # Decode each line from bytes to string\n",
    "            line = line.decode(\"utf-8\")\n",
    "            if line.strip():  # Check if the line is not empty\n",
    "                # Parse each line as a JSON object and add it to the list\n",
    "                json_list.append(json.loads(line))\n",
    "        \n",
    "        return json_list\n",
    "    except requests.exceptions.RequestException as e:\n",
    "        print(\"Error occurred while fetching data:\", e)\n",
    "        return None\n",
    "    except json.JSONDecodeError as e:\n",
    "        print(\"Error occurred while parsing JSON data:\", e)\n",
    "        return None"
   ]
  },
  {
   "cell_type": "code",
   "execution_count": 0,
   "metadata": {
    "application/vnd.databricks.v1+cell": {
     "cellMetadata": {},
     "inputWidgets": {},
     "nuid": "d343fa53-b2bd-408e-80b1-bfa255c0afe8",
     "showTitle": false,
     "title": ""
    }
   },
   "outputs": [],
   "source": [
    "# read in data file\n",
    "url = \"https://raw.githubusercontent.com/ucinlp/covid19-data/master/misconceptions.jsonl\"\n",
    "mis_data = read_jsonl_from_url(url)"
   ]
  },
  {
   "cell_type": "code",
   "execution_count": 0,
   "metadata": {
    "application/vnd.databricks.v1+cell": {
     "cellMetadata": {},
     "inputWidgets": {},
     "nuid": "3c9f131f-59b2-40ff-a025-5f556d929716",
     "showTitle": false,
     "title": ""
    }
   },
   "outputs": [],
   "source": [
    "# convert to dataframe\n",
    "mis_df = pd.DataFrame(mis_data)\n",
    "\n",
    "# unlist cateogry column\n",
    "mis_df[\"category\"] = mis_df[\"category\"].apply(lambda x: \"\".join(x))"
   ]
  },
  {
   "cell_type": "code",
   "execution_count": 0,
   "metadata": {
    "application/vnd.databricks.v1+cell": {
     "cellMetadata": {},
     "inputWidgets": {},
     "nuid": "12b9f3aa-9fa8-4309-baa7-fc76afeb9e2d",
     "showTitle": false,
     "title": ""
    }
   },
   "outputs": [],
   "source": [
    "mis_df[\"category\"].value_counts()"
   ]
  },
  {
   "cell_type": "markdown",
   "metadata": {
    "application/vnd.databricks.v1+cell": {
     "cellMetadata": {},
     "inputWidgets": {},
     "nuid": "2aae511c-1645-437e-9acb-c9046e7f5ce9",
     "showTitle": false,
     "title": ""
    }
   },
   "source": [
    "### Combine misinformation labels with covid lies data"
   ]
  },
  {
   "cell_type": "code",
   "execution_count": 0,
   "metadata": {
    "application/vnd.databricks.v1+cell": {
     "cellMetadata": {},
     "inputWidgets": {},
     "nuid": "159fca75-81ff-4fb1-952a-dd7abf42220e",
     "showTitle": false,
     "title": ""
    }
   },
   "outputs": [],
   "source": [
    "mis_cl = cl.merge(mis_df, how = \"left\", left_on = \"misconception_id\", right_on = \"id\")"
   ]
  },
  {
   "cell_type": "code",
   "execution_count": 0,
   "metadata": {
    "application/vnd.databricks.v1+cell": {
     "cellMetadata": {},
     "inputWidgets": {},
     "nuid": "9b79085c-ac63-443f-9720-a57f6429b1ce",
     "showTitle": false,
     "title": ""
    }
   },
   "outputs": [],
   "source": [
    "mis_cl[\"category\"].value_counts()"
   ]
  },
  {
   "cell_type": "markdown",
   "metadata": {
    "application/vnd.databricks.v1+cell": {
     "cellMetadata": {},
     "inputWidgets": {},
     "nuid": "8361be13-5243-4551-af85-935c35529d8e",
     "showTitle": false,
     "title": ""
    }
   },
   "source": [
    "## Combine datasets"
   ]
  },
  {
   "cell_type": "code",
   "execution_count": 0,
   "metadata": {
    "application/vnd.databricks.v1+cell": {
     "cellMetadata": {},
     "inputWidgets": {},
     "nuid": "4ed04e92-5c45-4031-8979-ebd4ddcbff18",
     "showTitle": false,
     "title": ""
    }
   },
   "outputs": [],
   "source": [
    "df = pd.concat([amp[[\"text\", \"issueName\", \"themeName\"]], cl[[\"text\", \"issueName\", \"themeName\"]]])"
   ]
  },
  {
   "cell_type": "code",
   "execution_count": 0,
   "metadata": {
    "application/vnd.databricks.v1+cell": {
     "cellMetadata": {},
     "inputWidgets": {},
     "nuid": "3bd1e5ab-3550-4565-8ed2-a8ca2ac6783a",
     "showTitle": false,
     "title": ""
    }
   },
   "outputs": [],
   "source": [
    "df.shape"
   ]
  },
  {
   "cell_type": "markdown",
   "metadata": {
    "application/vnd.databricks.v1+cell": {
     "cellMetadata": {},
     "inputWidgets": {},
     "nuid": "7e1cb50a-1310-44ce-b9b4-2634b1f6336f",
     "showTitle": false,
     "title": ""
    }
   },
   "source": [
    "## Build model to predict issue"
   ]
  },
  {
   "cell_type": "code",
   "execution_count": 0,
   "metadata": {
    "application/vnd.databricks.v1+cell": {
     "cellMetadata": {},
     "inputWidgets": {},
     "nuid": "4f443978-b5ef-4859-85b2-814b31cbd6c1",
     "showTitle": false,
     "title": ""
    }
   },
   "outputs": [],
   "source": [
    "#amp.dropna(subset = [\"themeName\"], inplace = True)"
   ]
  },
  {
   "cell_type": "code",
   "execution_count": 0,
   "metadata": {
    "application/vnd.databricks.v1+cell": {
     "cellMetadata": {},
     "inputWidgets": {},
     "nuid": "14c48520-5483-43d1-817d-112ebade8a9c",
     "showTitle": false,
     "title": ""
    }
   },
   "outputs": [],
   "source": [
    "# Set X and Y variables\n",
    "X = mis_cl[\"text\"]\n",
    "y = mis_cl[\"category\"]"
   ]
  },
  {
   "cell_type": "code",
   "execution_count": 0,
   "metadata": {
    "application/vnd.databricks.v1+cell": {
     "cellMetadata": {},
     "inputWidgets": {},
     "nuid": "66b82e6c-afc5-4e91-b975-6a147ddc761b",
     "showTitle": false,
     "title": ""
    }
   },
   "outputs": [],
   "source": [
    "# Split into train and test set\n",
    "X_train, X_test, y_train, y_test= train_test_split(X, y,\n",
    "                                                    stratify = y,\n",
    "                                                   random_state = 42)"
   ]
  },
  {
   "cell_type": "code",
   "execution_count": 0,
   "metadata": {
    "application/vnd.databricks.v1+cell": {
     "cellMetadata": {},
     "inputWidgets": {},
     "nuid": "4bfa0794-9637-4f29-93ac-f29f33fc473e",
     "showTitle": false,
     "title": ""
    }
   },
   "outputs": [],
   "source": [
    "# for future if we want to add more stop words\n",
    "# ('tvec', TfidfVectorizer(ngram_range = (1,2), stop_words = text.ENGLISH_STOP_WORDS.union(additional_stop_words)))\n",
    "\n",
    "\n",
    "# set up pipeline\n",
    "pipe = Pipeline([\n",
    "            ('tvec', TfidfVectorizer(ngram_range = (1,5), stop_words = list(text.ENGLISH_STOP_WORDS))),\n",
    "            (\"bag\", BaggingClassifier(random_state = 42))\n",
    "\n",
    "])\n",
    "\n",
    "# param options\n",
    "params = {\n",
    "    \"bag__n_estimators\": [100], # default is 10\n",
    "   # \"bag__max_features\": [ 1, 5, 10 , 30] # default is 1\n",
    "}\n",
    "\n",
    "# run gridsearch\n",
    "gs = GridSearchCV(pipe, params, cv=5, n_jobs= 3)"
   ]
  },
  {
   "cell_type": "code",
   "execution_count": 0,
   "metadata": {
    "application/vnd.databricks.v1+cell": {
     "cellMetadata": {},
     "inputWidgets": {},
     "nuid": "89359e5a-9e4b-4665-918b-56800d54c1e1",
     "showTitle": false,
     "title": ""
    }
   },
   "outputs": [],
   "source": [
    "# run model\n",
    "gs.fit(X_train, y_train)"
   ]
  },
  {
   "cell_type": "code",
   "execution_count": 0,
   "metadata": {
    "application/vnd.databricks.v1+cell": {
     "cellMetadata": {},
     "inputWidgets": {},
     "nuid": "eb83e9c0-1033-43e3-8bdc-f0698fb7ee6d",
     "showTitle": false,
     "title": ""
    }
   },
   "outputs": [],
   "source": [
    "model = gs.best_estimator_\n"
   ]
  },
  {
   "cell_type": "code",
   "execution_count": 0,
   "metadata": {
    "application/vnd.databricks.v1+cell": {
     "cellMetadata": {},
     "inputWidgets": {},
     "nuid": "c15c3ca2-8edf-45f5-a745-57f9de7a54a8",
     "showTitle": false,
     "title": ""
    }
   },
   "outputs": [],
   "source": [
    "model.score(X_test, y_test)\n"
   ]
  },
  {
   "cell_type": "markdown",
   "metadata": {
    "application/vnd.databricks.v1+cell": {
     "cellMetadata": {},
     "inputWidgets": {},
     "nuid": "25d01cc0-b6dc-4be2-902a-f36e6480f2da",
     "showTitle": false,
     "title": ""
    }
   },
   "source": [
    "### Predict on amp data"
   ]
  },
  {
   "cell_type": "code",
   "execution_count": 0,
   "metadata": {
    "application/vnd.databricks.v1+cell": {
     "cellMetadata": {},
     "inputWidgets": {},
     "nuid": "3bab878f-c2d1-4715-a6fc-074a4a609137",
     "showTitle": false,
     "title": ""
    }
   },
   "outputs": [],
   "source": [
    "X_new = amp[\"text\"]"
   ]
  },
  {
   "cell_type": "code",
   "execution_count": 0,
   "metadata": {
    "application/vnd.databricks.v1+cell": {
     "cellMetadata": {},
     "inputWidgets": {},
     "nuid": "6d982d00-6016-43c8-9ad3-866b208e24c5",
     "showTitle": false,
     "title": ""
    }
   },
   "outputs": [],
   "source": [
    "amp[\"predictedCategory\"] = model.predict(X_new)"
   ]
  },
  {
   "cell_type": "code",
   "execution_count": 0,
   "metadata": {
    "application/vnd.databricks.v1+cell": {
     "cellMetadata": {},
     "inputWidgets": {},
     "nuid": "91836acd-1579-4fe8-98ec-0984d415b58f",
     "showTitle": false,
     "title": ""
    }
   },
   "outputs": [],
   "source": [
    "amp[\"predictedCategory\"].value_counts()"
   ]
  },
  {
   "cell_type": "code",
   "execution_count": 0,
   "metadata": {
    "application/vnd.databricks.v1+cell": {
     "cellMetadata": {},
     "inputWidgets": {},
     "nuid": "72145c35-1f76-49aa-994b-b03fd5a11f0b",
     "showTitle": false,
     "title": ""
    }
   },
   "outputs": [],
   "source": [
    "amp.head()"
   ]
  },
  {
   "cell_type": "markdown",
   "metadata": {
    "application/vnd.databricks.v1+cell": {
     "cellMetadata": {},
     "inputWidgets": {},
     "nuid": "301b4b10-f9a1-447f-95d2-9f05db99ae36",
     "showTitle": false,
     "title": ""
    }
   },
   "source": [
    "### Randomly sample 100 Covid lies data to label"
   ]
  },
  {
   "cell_type": "code",
   "execution_count": 0,
   "metadata": {
    "application/vnd.databricks.v1+cell": {
     "cellMetadata": {},
     "inputWidgets": {},
     "nuid": "08a5823f-f291-4373-8ade-34ca62e044d0",
     "showTitle": false,
     "title": ""
    }
   },
   "outputs": [],
   "source": [
    "cl.shape"
   ]
  },
  {
   "cell_type": "code",
   "execution_count": 0,
   "metadata": {
    "application/vnd.databricks.v1+cell": {
     "cellMetadata": {},
     "inputWidgets": {},
     "nuid": "5d73c71c-9b83-47ab-ba91-e087bbe090c6",
     "showTitle": false,
     "title": ""
    }
   },
   "outputs": [],
   "source": [
    "random = cl.sample(n=6000, random_state = 42)"
   ]
  },
  {
   "cell_type": "code",
   "execution_count": 0,
   "metadata": {
    "application/vnd.databricks.v1+cell": {
     "cellMetadata": {},
     "inputWidgets": {},
     "nuid": "c45befed-0281-433c-a82b-395f8d3dee50",
     "showTitle": false,
     "title": ""
    }
   },
   "outputs": [],
   "source": [
    "random.shape"
   ]
  },
  {
   "cell_type": "code",
   "execution_count": 0,
   "metadata": {
    "application/vnd.databricks.v1+cell": {
     "cellMetadata": {},
     "inputWidgets": {},
     "nuid": "3e4b2254-4b0d-45ae-b134-55b13fbeedc8",
     "showTitle": false,
     "title": ""
    }
   },
   "outputs": [],
   "source": [
    "cl_list = list(cl[\"misconception\"].unique())"
   ]
  },
  {
   "cell_type": "code",
   "execution_count": 0,
   "metadata": {
    "application/vnd.databricks.v1+cell": {
     "cellMetadata": {},
     "inputWidgets": {},
     "nuid": "f01351f7-9df8-4152-b6e1-b2985fb56638",
     "showTitle": false,
     "title": ""
    }
   },
   "outputs": [],
   "source": [
    "len(cl_list)"
   ]
  },
  {
   "cell_type": "code",
   "execution_count": 0,
   "metadata": {
    "application/vnd.databricks.v1+cell": {
     "cellMetadata": {},
     "inputWidgets": {},
     "nuid": "3192d333-5b7a-40c0-85fe-2c306633b26f",
     "showTitle": false,
     "title": ""
    }
   },
   "outputs": [],
   "source": [
    "random_df = random.drop_duplicates(subset = [\"misconception\"])"
   ]
  },
  {
   "cell_type": "code",
   "execution_count": 0,
   "metadata": {
    "application/vnd.databricks.v1+cell": {
     "cellMetadata": {},
     "inputWidgets": {},
     "nuid": "498a2f86-21dc-472c-8e3f-665f4660f990",
     "showTitle": false,
     "title": ""
    }
   },
   "outputs": [],
   "source": [
    "random_df.shape"
   ]
  },
  {
   "cell_type": "code",
   "execution_count": 0,
   "metadata": {
    "application/vnd.databricks.v1+cell": {
     "cellMetadata": {},
     "inputWidgets": {},
     "nuid": "3d5a5182-99f5-4536-adc2-119c702aa600",
     "showTitle": false,
     "title": ""
    }
   },
   "outputs": [],
   "source": [
    "random_df.to_csv(\"covid_lies_sample.csv\", index = False)"
   ]
  },
  {
   "cell_type": "code",
   "execution_count": 0,
   "metadata": {
    "application/vnd.databricks.v1+cell": {
     "cellMetadata": {},
     "inputWidgets": {},
     "nuid": "490f602d-bdce-43d2-87ba-e061367d15d4",
     "showTitle": false,
     "title": ""
    }
   },
   "outputs": [],
   "source": []
  }
 ],
 "metadata": {
  "application/vnd.databricks.v1+notebook": {
   "dashboards": [],
   "language": "python",
   "notebookMetadata": {},
   "notebookName": "svm",
   "widgets": {}
  },
  "kernelspec": {
   "display_name": "Python 3 (ipykernel)",
   "language": "python",
   "name": "python3"
  },
  "language_info": {
   "codemirror_mode": {
    "name": "ipython",
    "version": 3
   },
   "file_extension": ".py",
   "mimetype": "text/x-python",
   "name": "python",
   "nbconvert_exporter": "python",
   "pygments_lexer": "ipython3",
   "version": "3.8.8"
  }
 },
 "nbformat": 4,
 "nbformat_minor": 0
}
