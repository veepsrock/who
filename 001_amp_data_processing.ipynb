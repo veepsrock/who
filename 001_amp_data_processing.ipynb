{
 "cells": [
  {
   "cell_type": "code",
   "execution_count": 0,
   "metadata": {
    "application/vnd.databricks.v1+cell": {
     "cellMetadata": {
      "byteLimit": 2048000,
      "rowLimit": 10000
     },
     "inputWidgets": {},
     "nuid": "9632c256-3137-4427-896a-5bfd40c845be",
     "showTitle": false,
     "title": ""
    }
   },
   "outputs": [],
   "source": [
    "import pandas as pd\n",
    "import re\n",
    "import json\n",
    "import os\n",
    "import sys\n",
    "import numpy as np\n",
    "import pickle\n",
    "\n",
    "# load functions\n",
    "with open('project_config.json','r') as fp: \n",
    "    project_config = json.load(fp)\n",
    " \n",
    "module_path = os.path.join(project_config['project_module_relative_path'])\n",
    "sys.path.append(module_path)\n",
    " \n",
    "from data_processing import *"
   ]
  },
  {
   "cell_type": "markdown",
   "metadata": {
    "application/vnd.databricks.v1+cell": {
     "cellMetadata": {},
     "inputWidgets": {},
     "nuid": "79903424-e74e-48fc-a5bc-503e21319dde",
     "showTitle": false,
     "title": ""
    }
   },
   "source": [
    "### Read in files"
   ]
  },
  {
   "cell_type": "code",
   "execution_count": 0,
   "metadata": {
    "application/vnd.databricks.v1+cell": {
     "cellMetadata": {
      "byteLimit": 2048000,
      "rowLimit": 10000
     },
     "inputWidgets": {},
     "nuid": "e78ec15c-13e7-4b33-a182-9050f7c8440f",
     "showTitle": false,
     "title": ""
    }
   },
   "outputs": [],
   "source": [
    "# Create a list for each row\n",
    "json_data =[]\n",
    "\n",
    "# Read in json by each lind\n",
    "with open('./evidence-10-02-23-split.json') as f:\n",
    "    for line in f:\n",
    "        json_data.append(json.loads(line))"
   ]
  },
  {
   "cell_type": "code",
   "execution_count": 0,
   "metadata": {
    "application/vnd.databricks.v1+cell": {
     "cellMetadata": {
      "byteLimit": 2048000,
      "rowLimit": 10000
     },
     "inputWidgets": {},
     "nuid": "cf998003-6eec-49f0-8620-bb01239c2d14",
     "showTitle": false,
     "title": ""
    }
   },
   "outputs": [],
   "source": [
    "# Convert to dataframe\n",
    "df = pd.DataFrame(json_data)"
   ]
  },
  {
   "cell_type": "code",
   "execution_count": 0,
   "metadata": {
    "application/vnd.databricks.v1+cell": {
     "cellMetadata": {
      "byteLimit": 2048000,
      "rowLimit": 10000
     },
     "inputWidgets": {},
     "nuid": "b6fe36f1-422e-4000-aa52-b57ecbe545e2",
     "showTitle": false,
     "title": ""
    }
   },
   "outputs": [],
   "source": [
    "# Unpack the evidence from its json structure, so we get the text and themeIds, issueIds, id, and status all as its own column\n",
    "evidence_list = []\n",
    "for index, row in df.iterrows():\n",
    "    evidence={}\n",
    "    evidence[\"id\"] = row[\"_id\"]\n",
    "    evidence[\"status\"]= row[\"_source\"].get(\"status\", \"\")\n",
    "    text_translated = row[\"_source\"].get(\"textTranslated\", {})\n",
    "    evidence[\"text\"] = text_translated.get(\"en\", \"\")\n",
    "    evidence[\"themeIds\"] = row[\"_source\"].get(\"themeIds\", np.NaN)\n",
    "    evidence[\"issueIds\"] = row[\"_source\"].get(\"issueIds\", \"\")\n",
    "    evidence_list.append(evidence)"
   ]
  },
  {
   "cell_type": "code",
   "execution_count": 0,
   "metadata": {
    "application/vnd.databricks.v1+cell": {
     "cellMetadata": {
      "byteLimit": 2048000,
      "rowLimit": 10000
     },
     "inputWidgets": {},
     "nuid": "66b59961-9db9-49da-9c79-ffcfc53d0d62",
     "showTitle": false,
     "title": ""
    }
   },
   "outputs": [],
   "source": [
    "# convert into dataframe\n",
    "evidence=pd.DataFrame(evidence_list)"
   ]
  },
  {
   "cell_type": "markdown",
   "metadata": {
    "application/vnd.databricks.v1+cell": {
     "cellMetadata": {},
     "inputWidgets": {},
     "nuid": "ff88cf79-b699-4d97-b552-53be667d77c8",
     "showTitle": false,
     "title": ""
    }
   },
   "source": [
    "### Read in audit data"
   ]
  },
  {
   "cell_type": "code",
   "execution_count": 0,
   "metadata": {
    "application/vnd.databricks.v1+cell": {
     "cellMetadata": {
      "byteLimit": 2048000,
      "rowLimit": 10000
     },
     "inputWidgets": {},
     "nuid": "9a30c7a2-7ac9-491d-98f2-38412bba8377",
     "showTitle": false,
     "title": ""
    }
   },
   "outputs": [],
   "source": [
    "f = open('amp_audit_27oct.json')\n",
    "audit_json = json.load(f)\n",
    "audit = pd.DataFrame(audit_json)\n",
    "audit.rename(columns={\"_id\": \"id\"}, inplace = True)"
   ]
  },
  {
   "cell_type": "code",
   "execution_count": 0,
   "metadata": {
    "application/vnd.databricks.v1+cell": {
     "cellMetadata": {
      "byteLimit": 2048000,
      "rowLimit": 10000
     },
     "inputWidgets": {},
     "nuid": "1c29442a-53aa-4e16-a9f6-9f685408b58b",
     "showTitle": false,
     "title": ""
    }
   },
   "outputs": [],
   "source": [
    "# read in audit data\n",
    "audit2 = pd.read_csv(\"audit_10042023.csv\")"
   ]
  },
  {
   "cell_type": "code",
   "execution_count": 0,
   "metadata": {
    "application/vnd.databricks.v1+cell": {
     "cellMetadata": {
      "byteLimit": 2048000,
      "rowLimit": 10000
     },
     "inputWidgets": {},
     "nuid": "e613859c-dd2b-4691-8e45-98f6aff15bc4",
     "showTitle": false,
     "title": ""
    }
   },
   "outputs": [],
   "source": [
    "# clean audit columns\n",
    "cols_to_clean = [\"themeIdsReviewed\", \"themeIdsSystem\",\"themeIdsSystemFalseNegatives\", \"themeIdsSystemFalsePositives\"]\n",
    "\n",
    "for column in cols_to_clean:\n",
    "    audit2 = string_to_list_column(audit2, column)\n",
    "\n",
    "audit2.rename(columns={\"themeIdsSystem\": \"themeIds\"}, inplace = True)\n",
    "audit2[\"themeConfidence\"] = \"\""
   ]
  },
  {
   "cell_type": "code",
   "execution_count": 0,
   "metadata": {
    "application/vnd.databricks.v1+cell": {
     "cellMetadata": {
      "byteLimit": 2048000,
      "rowLimit": 10000
     },
     "inputWidgets": {},
     "nuid": "928c1c55-1af1-4cef-884b-1601c1be48eb",
     "showTitle": false,
     "title": ""
    }
   },
   "outputs": [],
   "source": [
    "audit_columns=['id',\n",
    " 'textTranslated.en',\n",
    " 'themeIdsReviewed',\n",
    " 'rawPredictions',\n",
    " 'themeIds',\n",
    " 'themeConfidence',\n",
    " 'themeIdsSystemFalseNegatives',\n",
    " 'themeIdsSystemFalsePositives'\n",
    " ]"
   ]
  },
  {
   "cell_type": "code",
   "execution_count": 0,
   "metadata": {
    "application/vnd.databricks.v1+cell": {
     "cellMetadata": {
      "byteLimit": 2048000,
      "rowLimit": 10000
     },
     "inputWidgets": {},
     "nuid": "458260bf-1de8-4a5d-a196-d534b4e8982f",
     "showTitle": false,
     "title": ""
    }
   },
   "outputs": [],
   "source": [
    "audit_all = pd.concat([audit[audit_columns], audit2[audit_columns]])"
   ]
  },
  {
   "cell_type": "code",
   "execution_count": 0,
   "metadata": {
    "application/vnd.databricks.v1+cell": {
     "cellMetadata": {
      "byteLimit": 2048000,
      "rowLimit": 10000
     },
     "inputWidgets": {},
     "nuid": "0ea90e32-d698-4058-bfdf-78fc7aee5168",
     "showTitle": false,
     "title": ""
    }
   },
   "outputs": [],
   "source": [
    "audit_all.dtypes"
   ]
  },
  {
   "cell_type": "code",
   "execution_count": 0,
   "metadata": {
    "application/vnd.databricks.v1+cell": {
     "cellMetadata": {
      "byteLimit": 2048000,
      "rowLimit": 10000
     },
     "inputWidgets": {},
     "nuid": "8fe23abb-a09c-40d6-a696-2c3c6d9b75ec",
     "showTitle": false,
     "title": ""
    }
   },
   "outputs": [],
   "source": [
    "na= audit_all[audit_all[\"themeIds\"].isna()].reset_index()"
   ]
  },
  {
   "cell_type": "code",
   "execution_count": 0,
   "metadata": {
    "application/vnd.databricks.v1+cell": {
     "cellMetadata": {
      "byteLimit": 2048000,
      "rowLimit": 10000
     },
     "inputWidgets": {},
     "nuid": "c4c99529-0771-4609-8355-ac5b5145f1b3",
     "showTitle": false,
     "title": ""
    }
   },
   "outputs": [],
   "source": [
    "na"
   ]
  },
  {
   "cell_type": "code",
   "execution_count": 0,
   "metadata": {
    "application/vnd.databricks.v1+cell": {
     "cellMetadata": {
      "byteLimit": 2048000,
      "rowLimit": 10000
     },
     "inputWidgets": {},
     "nuid": "09a29cda-782e-4649-94eb-eb0c7201dd34",
     "showTitle": false,
     "title": ""
    }
   },
   "outputs": [],
   "source": [
    "evidence.columns"
   ]
  },
  {
   "cell_type": "code",
   "execution_count": 0,
   "metadata": {
    "application/vnd.databricks.v1+cell": {
     "cellMetadata": {
      "byteLimit": 2048000,
      "rowLimit": 10000
     },
     "inputWidgets": {},
     "nuid": "04fc31dd-6eeb-4be9-9db6-8691c618df94",
     "showTitle": false,
     "title": ""
    }
   },
   "outputs": [],
   "source": [
    "# merge with new data\n",
    "amp = pd.merge(evidence, audit_all, how = \"outer\", on = \"id\")"
   ]
  },
  {
   "cell_type": "code",
   "execution_count": 0,
   "metadata": {
    "application/vnd.databricks.v1+cell": {
     "cellMetadata": {
      "byteLimit": 2048000,
      "rowLimit": 10000
     },
     "inputWidgets": {},
     "nuid": "2f6555ce-9f40-400b-8040-d07c4b63a342",
     "showTitle": false,
     "title": ""
    }
   },
   "outputs": [],
   "source": [
    "amp[\"themeIds\"] = amp['themeIds_x'].fillna(amp['themeIds_y'])"
   ]
  },
  {
   "cell_type": "code",
   "execution_count": 0,
   "metadata": {
    "application/vnd.databricks.v1+cell": {
     "cellMetadata": {
      "byteLimit": 2048000,
      "rowLimit": 10000
     },
     "inputWidgets": {},
     "nuid": "0d97df24-3e0b-4dd3-8bba-36ac14180a72",
     "showTitle": false,
     "title": ""
    }
   },
   "outputs": [],
   "source": [
    "amp.shape"
   ]
  },
  {
   "cell_type": "code",
   "execution_count": 0,
   "metadata": {
    "application/vnd.databricks.v1+cell": {
     "cellMetadata": {
      "byteLimit": 2048000,
      "rowLimit": 10000
     },
     "inputWidgets": {},
     "nuid": "16ce4f5f-e194-4f1c-a66d-332fac5034fd",
     "showTitle": false,
     "title": ""
    }
   },
   "outputs": [],
   "source": [
    "amp.head()"
   ]
  },
  {
   "cell_type": "markdown",
   "metadata": {
    "application/vnd.databricks.v1+cell": {
     "cellMetadata": {},
     "inputWidgets": {},
     "nuid": "aa6cdcd4-e46f-458f-8c49-6f9e72b76a58",
     "showTitle": false,
     "title": ""
    }
   },
   "source": [
    "# Create a label cutoff"
   ]
  },
  {
   "cell_type": "code",
   "execution_count": 0,
   "metadata": {
    "application/vnd.databricks.v1+cell": {
     "cellMetadata": {
      "byteLimit": 2048000,
      "rowLimit": 10000
     },
     "inputWidgets": {},
     "nuid": "141be274-489c-481c-8f69-ff83bda98865",
     "showTitle": false,
     "title": ""
    }
   },
   "outputs": [],
   "source": [
    "amp[\"themeIds\"] = amp['themeIds'].apply(lambda themes: [theme for theme in themes if theme != 'rfi'] if isinstance(themes, list) else themes)\n",
    "amp[\"themeIdsReviewed\"] = amp['themeIdsReviewed'].apply(lambda themes: [theme for theme in themes if theme != 'rfi'] if isinstance(themes, list) else themes)\n",
    "amp[\"themeIds2\"]=amp[\"themeIds\"].apply(lambda x: x[:2] if isinstance(x, list) else x)\n"
   ]
  },
  {
   "cell_type": "markdown",
   "metadata": {
    "application/vnd.databricks.v1+cell": {
     "cellMetadata": {},
     "inputWidgets": {},
     "nuid": "3d904078-1904-4ea1-889a-d6b4da6a5c0a",
     "showTitle": false,
     "title": ""
    }
   },
   "source": [
    "# Get labeled split"
   ]
  },
  {
   "cell_type": "code",
   "execution_count": 0,
   "metadata": {
    "application/vnd.databricks.v1+cell": {
     "cellMetadata": {
      "byteLimit": 2048000,
      "rowLimit": 10000
     },
     "inputWidgets": {},
     "nuid": "dd2449de-c895-42c3-8e13-191fbf586857",
     "showTitle": false,
     "title": ""
    }
   },
   "outputs": [],
   "source": [
    "amp[\"themeIdsReviewed\"] = amp[\"themeIdsReviewed\"].fillna(\"\")\n",
    "amp[\"split\"] = \"unlabeled\"\n",
    "mask = amp[\"themeIdsReviewed\"].apply(lambda x: len(x)) > 0\n",
    "amp.loc[mask, \"split\"] = \"labeled\""
   ]
  },
  {
   "cell_type": "code",
   "execution_count": 0,
   "metadata": {
    "application/vnd.databricks.v1+cell": {
     "cellMetadata": {
      "byteLimit": 2048000,
      "rowLimit": 10000
     },
     "inputWidgets": {},
     "nuid": "10d464fa-fc57-4844-b0d9-333c4d00281d",
     "showTitle": false,
     "title": ""
    }
   },
   "outputs": [],
   "source": [
    "amp[\"split\"].value_counts()"
   ]
  },
  {
   "cell_type": "markdown",
   "metadata": {
    "application/vnd.databricks.v1+cell": {
     "cellMetadata": {},
     "inputWidgets": {},
     "nuid": "c11a5308-0cb7-4afa-9b91-7c3b868e2c05",
     "showTitle": false,
     "title": ""
    }
   },
   "source": [
    "# Get parent themes"
   ]
  },
  {
   "cell_type": "code",
   "execution_count": 0,
   "metadata": {
    "application/vnd.databricks.v1+cell": {
     "cellMetadata": {
      "byteLimit": 2048000,
      "rowLimit": 10000
     },
     "inputWidgets": {},
     "nuid": "4ea0ee8e-02b5-4b53-b8b9-3b53ce315e6a",
     "showTitle": false,
     "title": ""
    }
   },
   "outputs": [],
   "source": [
    "amp['themeIdsReviewedParent'] = amp['themeIdsReviewed'].apply(map_themes)\n",
    "amp['themeIdsParent'] = amp['themeIds'].apply(map_themes)\n",
    "amp['themeIdsParent2'] = amp['themeIds2'].apply(map_themes)"
   ]
  },
  {
   "cell_type": "code",
   "execution_count": 0,
   "metadata": {
    "application/vnd.databricks.v1+cell": {
     "cellMetadata": {
      "byteLimit": 2048000,
      "rowLimit": 10000
     },
     "inputWidgets": {},
     "nuid": "897a939e-e28a-47e8-8a24-0a27f4e30024",
     "showTitle": false,
     "title": ""
    }
   },
   "outputs": [],
   "source": [
    "amp[\"themeIdsReviewedParent\"].explode().value_counts()"
   ]
  },
  {
   "cell_type": "code",
   "execution_count": 0,
   "metadata": {
    "application/vnd.databricks.v1+cell": {
     "cellMetadata": {
      "byteLimit": 2048000,
      "rowLimit": 10000
     },
     "inputWidgets": {},
     "nuid": "d4ba0143-c6e2-47e0-8267-d06159d6e81d",
     "showTitle": false,
     "title": ""
    }
   },
   "outputs": [],
   "source": [
    "# write to picklea\n",
    "amp.to_pickle(\"./model_training_data_vax.pkl\")  \n",
    "audit_all.to_pickle(\"./audit_model_training_data_vax.pkl\")  "
   ]
  },
  {
   "cell_type": "markdown",
   "metadata": {
    "application/vnd.databricks.v1+cell": {
     "cellMetadata": {},
     "inputWidgets": {},
     "nuid": "6e5b0f70-9197-44b4-ac03-5ced2aadbe6e",
     "showTitle": false,
     "title": ""
    }
   },
   "source": [
    "## Quick EDA"
   ]
  },
  {
   "cell_type": "code",
   "execution_count": 0,
   "metadata": {
    "application/vnd.databricks.v1+cell": {
     "cellMetadata": {
      "byteLimit": 2048000,
      "rowLimit": 10000
     },
     "inputWidgets": {},
     "nuid": "21336812-3e16-4d01-acee-b72a897b8aec",
     "showTitle": false,
     "title": ""
    }
   },
   "outputs": [],
   "source": [
    "amp[\"themeIdsReviewedParent\"]"
   ]
  },
  {
   "cell_type": "code",
   "execution_count": 0,
   "metadata": {
    "application/vnd.databricks.v1+cell": {
     "cellMetadata": {
      "byteLimit": 2048000,
      "rowLimit": 10000
     },
     "inputWidgets": {},
     "nuid": "d01a6c65-eca7-45a5-b9e9-4955c57fd2c1",
     "showTitle": false,
     "title": ""
    }
   },
   "outputs": [],
   "source": [
    "cc  = amp[amp['themeIdsReviewedParent'].apply(lambda x: x is not None and 'conspiracy-corruption' in x)]"
   ]
  },
  {
   "cell_type": "code",
   "execution_count": 0,
   "metadata": {
    "application/vnd.databricks.v1+cell": {
     "cellMetadata": {
      "byteLimit": 2048000,
      "rowLimit": 10000
     },
     "inputWidgets": {},
     "nuid": "21fe7d80-3a70-46cc-9fae-0f180f30d779",
     "showTitle": false,
     "title": ""
    }
   },
   "outputs": [],
   "source": [
    "cc.dropna(subset = \"text\", inplace = True)"
   ]
  },
  {
   "cell_type": "code",
   "execution_count": 0,
   "metadata": {
    "application/vnd.databricks.v1+cell": {
     "cellMetadata": {
      "byteLimit": 2048000,
      "rowLimit": 10000
     },
     "inputWidgets": {},
     "nuid": "0c4ace07-e880-4509-91fb-633a3ee03f42",
     "showTitle": false,
     "title": ""
    }
   },
   "outputs": [],
   "source": [
    "cc[\"textTranslated.en\"]"
   ]
  },
  {
   "cell_type": "code",
   "execution_count": 0,
   "metadata": {
    "application/vnd.databricks.v1+cell": {
     "cellMetadata": {
      "byteLimit": 2048000,
      "rowLimit": 10000
     },
     "inputWidgets": {},
     "nuid": "ca90d187-2e97-4db1-93ae-84a4e1e0fbd3",
     "showTitle": false,
     "title": ""
    }
   },
   "outputs": [],
   "source": [
    "#Vectorization libraries \n",
    "from nltk.tokenize import word_tokenize \n",
    "from sklearn.feature_extraction import text\n",
    "from sklearn.feature_extraction.text import CountVectorizer, TfidfVectorizer\n",
    "from sklearn.feature_extraction.text import ENGLISH_STOP_WORDS"
   ]
  },
  {
   "cell_type": "code",
   "execution_count": 0,
   "metadata": {
    "application/vnd.databricks.v1+cell": {
     "cellMetadata": {
      "byteLimit": 2048000,
      "rowLimit": 10000
     },
     "inputWidgets": {},
     "nuid": "43165b29-c6e5-46bc-bfaf-6ed8be827bd8",
     "showTitle": false,
     "title": ""
    }
   },
   "outputs": [],
   "source": [
    "#From the eda, remove popular words that are not that significant \n",
    "common_words = [\"feel\", \"like\", \"just\", \"im\", \"know\", \"need\", \"tl\", \n",
    "               \"dr\", \"tldr\",\"amp\", \"nbsp\", \"really\", \"mom\", \"mum\"\n",
    "               , \"parent\", \"nparent\", \"nmom\", \"dad\", \"father\", \n",
    "                \"brother\", \"ex\", \"nex\", \"sister\", \"ns\", \"mother\"\n",
    "               \"because\", \"wife\", \"girlfriend\", \"husband\", \"boyfriend\", \"gf\", \"bf\", \"ive\", \"ve\", \"don\"\n",
    "               \"his\", \"she\", \"shes\", \"hes\", \"https\", \"www\", \"com\", \"spotify\", \"youtube\", \"user\", \"covid\", \"19\", \"rt\"]\n",
    "\n",
    "time_words = [\"time\", \"today\", \"tomorrow\", \"yesterday\", \"morning\", \n",
    "              \"afternoon\", \"night\", \"day\", \"week\", \"weekend\", \"month\",\n",
    "             \"year\", \"days\", \"weeks\", \"weekends\", \"months\", \"years\", \n",
    "              \"monday\", \"tuesday\", \"wednesday\", \"thursday\", \"friday\", \n",
    "              \"saturday\", \"sunday\", \"mon\", \"tues\", \"wed\", \"thurs\", \"fri\",\n",
    "              \"sat\", \"sun\", \"january\", \"february\", \"march\", \"april\", \"may\",\n",
    "              \"june\", \"july\", \"august\", \"september\", \"october\", \"november\",\n",
    "              \"decemebr\", \"jan\", \"feb\", \"mar\", \"april\", \"may\", \"jun\", \"jul\",\n",
    "              \"aug\", \"sep\", \"oct\", \"nov\", \"dec\"]\n",
    "        \n",
    "\n",
    "#add both lists together\n",
    "additional_stop_words = common_words + time_words\n",
    "\n",
    "english_stop_words = text.ENGLISH_STOP_WORDS\n",
    "combined_stop_words = english_stop_words.union(additional_stop_words)\n",
    "\n",
    "stop_words_list = list(combined_stop_words)\n"
   ]
  },
  {
   "cell_type": "code",
   "execution_count": 0,
   "metadata": {
    "application/vnd.databricks.v1+cell": {
     "cellMetadata": {
      "byteLimit": 2048000,
      "rowLimit": 10000
     },
     "inputWidgets": {},
     "nuid": "6cbb5d8a-f839-4644-b7fb-c27072a433a1",
     "showTitle": false,
     "title": ""
    }
   },
   "outputs": [],
   "source": [
    "cvec = CountVectorizer(stop_words=stop_words_list, min_df=0.0001, ngram_range=(1, 1), max_df=1.0)"
   ]
  },
  {
   "cell_type": "code",
   "execution_count": 0,
   "metadata": {
    "application/vnd.databricks.v1+cell": {
     "cellMetadata": {
      "byteLimit": 2048000,
      "rowLimit": 10000
     },
     "inputWidgets": {},
     "nuid": "dd4e1b49-7cab-4496-ab97-8f9668457e1d",
     "showTitle": false,
     "title": ""
    }
   },
   "outputs": [],
   "source": [
    "term_mat = cvec.fit_transform(cc[\"textTranslated.en\"])"
   ]
  },
  {
   "cell_type": "code",
   "execution_count": 0,
   "metadata": {
    "application/vnd.databricks.v1+cell": {
     "cellMetadata": {
      "byteLimit": 2048000,
      "rowLimit": 10000
     },
     "inputWidgets": {},
     "nuid": "c70d9c62-28cb-4e5b-8b69-3d94d0d047f5",
     "showTitle": false,
     "title": ""
    }
   },
   "outputs": [],
   "source": [
    "term_df = pd.DataFrame(term_mat.toarray(), columns=cvec.get_feature_names_out())\n"
   ]
  },
  {
   "cell_type": "code",
   "execution_count": 0,
   "metadata": {
    "application/vnd.databricks.v1+cell": {
     "cellMetadata": {
      "byteLimit": 2048000,
      "rowLimit": 10000
     },
     "inputWidgets": {},
     "nuid": "ee7595f9-f3d6-4ec6-bab6-a9c0832eec23",
     "showTitle": false,
     "title": ""
    }
   },
   "outputs": [],
   "source": [
    "term_df.columns"
   ]
  },
  {
   "cell_type": "code",
   "execution_count": 0,
   "metadata": {
    "application/vnd.databricks.v1+cell": {
     "cellMetadata": {
      "byteLimit": 2048000,
      "rowLimit": 10000
     },
     "inputWidgets": {},
     "nuid": "0fb37769-0335-4460-a285-cb86bd5a3929",
     "showTitle": false,
     "title": ""
    }
   },
   "outputs": [],
   "source": [
    "#Dataframe for the 30 most frequently used terms\n",
    "top_terms = term_df.mean().T.sort_values(0, ascending = False).head(30)"
   ]
  },
  {
   "cell_type": "code",
   "execution_count": 0,
   "metadata": {
    "application/vnd.databricks.v1+cell": {
     "cellMetadata": {
      "byteLimit": 2048000,
      "rowLimit": 10000
     },
     "inputWidgets": {},
     "nuid": "09d7f91c-0453-4e81-87ba-817edcec84dd",
     "showTitle": false,
     "title": ""
    }
   },
   "outputs": [],
   "source": [
    "top_terms"
   ]
  },
  {
   "cell_type": "code",
   "execution_count": 0,
   "metadata": {
    "application/vnd.databricks.v1+cell": {
     "cellMetadata": {
      "byteLimit": 2048000,
      "rowLimit": 10000
     },
     "inputWidgets": {},
     "nuid": "e4f25b6f-eb93-47a0-9eff-1f59b6e118dd",
     "showTitle": false,
     "title": ""
    }
   },
   "outputs": [],
   "source": [
    "ill  = amp[amp['themeIdsReviewedParent'].apply(lambda x: x is not None and 'illness-cause' in x)]"
   ]
  },
  {
   "cell_type": "code",
   "execution_count": 0,
   "metadata": {
    "application/vnd.databricks.v1+cell": {
     "cellMetadata": {
      "byteLimit": 2048000,
      "rowLimit": 10000
     },
     "inputWidgets": {},
     "nuid": "c065fa94-91e8-48e2-9016-3faba2cf2138",
     "showTitle": false,
     "title": ""
    }
   },
   "outputs": [],
   "source": [
    "term_mat2 = cvec.fit_transform(ill[\"textTranslated.en\"])"
   ]
  },
  {
   "cell_type": "code",
   "execution_count": 0,
   "metadata": {
    "application/vnd.databricks.v1+cell": {
     "cellMetadata": {
      "byteLimit": 2048000,
      "rowLimit": 10000
     },
     "inputWidgets": {},
     "nuid": "a4250fdb-7e02-4c31-bc5c-1f22c06b41af",
     "showTitle": false,
     "title": ""
    }
   },
   "outputs": [],
   "source": [
    "term_df2 = pd.DataFrame(term_mat2.toarray(), columns=cvec.get_feature_names_out())\n"
   ]
  },
  {
   "cell_type": "code",
   "execution_count": 0,
   "metadata": {
    "application/vnd.databricks.v1+cell": {
     "cellMetadata": {
      "byteLimit": 2048000,
      "rowLimit": 10000
     },
     "inputWidgets": {},
     "nuid": "e3f7a666-ec38-4e02-8540-759e19ccd6a9",
     "showTitle": false,
     "title": ""
    }
   },
   "outputs": [],
   "source": [
    "term_df2.mean().T.sort_values(0, ascending = False).head(30)"
   ]
  },
  {
   "cell_type": "code",
   "execution_count": 0,
   "metadata": {
    "application/vnd.databricks.v1+cell": {
     "cellMetadata": {
      "byteLimit": 2048000,
      "rowLimit": 10000
     },
     "inputWidgets": {},
     "nuid": "741669eb-570c-4f94-bfae-37bea25f7f1b",
     "showTitle": false,
     "title": ""
    }
   },
   "outputs": [],
   "source": [
    "ill"
   ]
  },
  {
   "cell_type": "code",
   "execution_count": 0,
   "metadata": {
    "application/vnd.databricks.v1+cell": {
     "cellMetadata": {},
     "inputWidgets": {},
     "nuid": "712016ff-37c5-4b74-be06-65a6b0d6a0e2",
     "showTitle": false,
     "title": ""
    }
   },
   "outputs": [],
   "source": []
  }
 ],
 "metadata": {
  "application/vnd.databricks.v1+notebook": {
   "dashboards": [],
   "language": "python",
   "notebookMetadata": {
    "pythonIndentUnit": 4
   },
   "notebookName": "001_amp_data_processing",
   "widgets": {}
  },
  "kernelspec": {
   "display_name": "Python 3 (ipykernel)",
   "language": "python",
   "name": "python3"
  },
  "language_info": {
   "codemirror_mode": {
    "name": "ipython",
    "version": 3
   },
   "file_extension": ".py",
   "mimetype": "text/x-python",
   "name": "python",
   "nbconvert_exporter": "python",
   "pygments_lexer": "ipython3",
   "version": "3.8.8"
  }
 },
 "nbformat": 4,
 "nbformat_minor": 0
}
