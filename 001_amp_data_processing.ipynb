{
 "cells": [
  {
   "cell_type": "code",
   "execution_count": 0,
   "metadata": {
    "application/vnd.databricks.v1+cell": {
     "cellMetadata": {
      "byteLimit": 2048000,
      "rowLimit": 10000
     },
     "inputWidgets": {},
     "nuid": "9632c256-3137-4427-896a-5bfd40c845be",
     "showTitle": false,
     "title": ""
    }
   },
   "outputs": [],
   "source": [
    "import pandas as pd\n",
    "import re\n",
    "import json\n",
    "import os\n",
    "import sys\n",
    "import numpy as np\n",
    "import pickle\n",
    "\n",
    "# load functions\n",
    "with open('project_config.json','r') as fp: \n",
    "    project_config = json.load(fp)\n",
    " \n",
    "module_path = os.path.join(project_config['project_module_relative_path'])\n",
    "sys.path.append(module_path)\n",
    " \n",
    "from data_processing import *"
   ]
  },
  {
   "cell_type": "markdown",
   "metadata": {
    "application/vnd.databricks.v1+cell": {
     "cellMetadata": {},
     "inputWidgets": {},
     "nuid": "79903424-e74e-48fc-a5bc-503e21319dde",
     "showTitle": false,
     "title": ""
    }
   },
   "source": [
    "### Read in files"
   ]
  },
  {
   "cell_type": "code",
   "execution_count": 0,
   "metadata": {
    "application/vnd.databricks.v1+cell": {
     "cellMetadata": {
      "byteLimit": 2048000,
      "rowLimit": 10000
     },
     "inputWidgets": {},
     "nuid": "e78ec15c-13e7-4b33-a182-9050f7c8440f",
     "showTitle": false,
     "title": ""
    }
   },
   "outputs": [],
   "source": [
    "# Create a list for each row\n",
    "json_data =[]\n",
    "\n",
    "# Read in json by each lind\n",
    "with open('./evidence-10-02-23-split.json') as f:\n",
    "    for line in f:\n",
    "        json_data.append(json.loads(line))"
   ]
  },
  {
   "cell_type": "code",
   "execution_count": 0,
   "metadata": {
    "application/vnd.databricks.v1+cell": {
     "cellMetadata": {
      "byteLimit": 2048000,
      "rowLimit": 10000
     },
     "inputWidgets": {},
     "nuid": "cf998003-6eec-49f0-8620-bb01239c2d14",
     "showTitle": false,
     "title": ""
    }
   },
   "outputs": [],
   "source": [
    "# Convert to dataframe\n",
    "df = pd.DataFrame(json_data)"
   ]
  },
  {
   "cell_type": "code",
   "execution_count": 0,
   "metadata": {
    "application/vnd.databricks.v1+cell": {
     "cellMetadata": {
      "byteLimit": 2048000,
      "rowLimit": 10000
     },
     "inputWidgets": {},
     "nuid": "b6fe36f1-422e-4000-aa52-b57ecbe545e2",
     "showTitle": false,
     "title": ""
    }
   },
   "outputs": [],
   "source": [
    "# Unpack the evidence from its json structure, so we get the text and themeIds, issueIds, id, and status all as its own column\n",
    "evidence_list = []\n",
    "for index, row in df.iterrows():\n",
    "    evidence={}\n",
    "    evidence[\"id\"] = row[\"_id\"]\n",
    "    evidence[\"status\"]= row[\"_source\"].get(\"status\", \"\")\n",
    "    text_translated = row[\"_source\"].get(\"textTranslated\", {})\n",
    "    evidence[\"text\"] = text_translated.get(\"en\", \"\")\n",
    "    evidence[\"themeIds\"] = row[\"_source\"].get(\"themeIds\", np.NaN)\n",
    "    evidence[\"issueIds\"] = row[\"_source\"].get(\"issueIds\", \"\")\n",
    "    evidence_list.append(evidence)"
   ]
  },
  {
   "cell_type": "code",
   "execution_count": 0,
   "metadata": {
    "application/vnd.databricks.v1+cell": {
     "cellMetadata": {
      "byteLimit": 2048000,
      "rowLimit": 10000
     },
     "inputWidgets": {},
     "nuid": "66b59961-9db9-49da-9c79-ffcfc53d0d62",
     "showTitle": false,
     "title": ""
    }
   },
   "outputs": [],
   "source": [
    "# convert into dataframe\n",
    "evidence=pd.DataFrame(evidence_list)"
   ]
  },
  {
   "cell_type": "code",
   "execution_count": 0,
   "metadata": {
    "application/vnd.databricks.v1+cell": {
     "cellMetadata": {
      "byteLimit": 2048000,
      "rowLimit": 10000
     },
     "inputWidgets": {},
     "nuid": "8c3584b9-70bc-4394-a743-097d04092654",
     "showTitle": false,
     "title": ""
    }
   },
   "outputs": [],
   "source": [
    "evidence.head()"
   ]
  },
  {
   "cell_type": "markdown",
   "metadata": {
    "application/vnd.databricks.v1+cell": {
     "cellMetadata": {},
     "inputWidgets": {},
     "nuid": "ff88cf79-b699-4d97-b552-53be667d77c8",
     "showTitle": false,
     "title": ""
    }
   },
   "source": [
    "### Read in audit data"
   ]
  },
  {
   "cell_type": "code",
   "execution_count": 0,
   "metadata": {
    "application/vnd.databricks.v1+cell": {
     "cellMetadata": {
      "byteLimit": 2048000,
      "rowLimit": 10000
     },
     "inputWidgets": {},
     "nuid": "9a30c7a2-7ac9-491d-98f2-38412bba8377",
     "showTitle": false,
     "title": ""
    }
   },
   "outputs": [],
   "source": [
    "f = open('amp_audit_27oct.json')\n",
    "audit_json = json.load(f)\n",
    "audit = pd.DataFrame(audit_json)\n",
    "audit.rename(columns={\"_id\": \"id\"}, inplace = True)"
   ]
  },
  {
   "cell_type": "code",
   "execution_count": 0,
   "metadata": {
    "application/vnd.databricks.v1+cell": {
     "cellMetadata": {
      "byteLimit": 2048000,
      "rowLimit": 10000
     },
     "inputWidgets": {},
     "nuid": "1c29442a-53aa-4e16-a9f6-9f685408b58b",
     "showTitle": false,
     "title": ""
    }
   },
   "outputs": [],
   "source": [
    "# read in audit data\n",
    "audit2 = pd.read_csv(\"audit_10042023.csv\")"
   ]
  },
  {
   "cell_type": "code",
   "execution_count": 0,
   "metadata": {
    "application/vnd.databricks.v1+cell": {
     "cellMetadata": {
      "byteLimit": 2048000,
      "rowLimit": 10000
     },
     "inputWidgets": {},
     "nuid": "e613859c-dd2b-4691-8e45-98f6aff15bc4",
     "showTitle": false,
     "title": ""
    }
   },
   "outputs": [],
   "source": [
    "# clean audit columns\n",
    "cols_to_clean = [\"themeIdsReviewed\", \"themeIdsSystem\",\"themeIdsSystemFalseNegatives\", \"themeIdsSystemFalsePositives\"]\n",
    "\n",
    "for column in cols_to_clean:\n",
    "    audit2 = string_to_list_column(audit2, column)\n",
    "\n",
    "audit2.rename(columns={\"themeIdsSystem\": \"themeIds\"}, inplace = True)\n",
    "audit2[\"themeConfidence\"] = \"\""
   ]
  },
  {
   "cell_type": "code",
   "execution_count": 0,
   "metadata": {
    "application/vnd.databricks.v1+cell": {
     "cellMetadata": {
      "byteLimit": 2048000,
      "rowLimit": 10000
     },
     "inputWidgets": {},
     "nuid": "928c1c55-1af1-4cef-884b-1601c1be48eb",
     "showTitle": false,
     "title": ""
    }
   },
   "outputs": [],
   "source": [
    "audit_columns=['id',\n",
    " 'textTranslated.en',\n",
    " 'themeIdsReviewed',\n",
    " 'rawPredictions',\n",
    " 'themeIds',\n",
    " 'themeConfidence',\n",
    " 'themeIdsSystemFalseNegatives',\n",
    " 'themeIdsSystemFalsePositives'\n",
    " ]"
   ]
  },
  {
   "cell_type": "code",
   "execution_count": 0,
   "metadata": {
    "application/vnd.databricks.v1+cell": {
     "cellMetadata": {
      "byteLimit": 2048000,
      "rowLimit": 10000
     },
     "inputWidgets": {},
     "nuid": "458260bf-1de8-4a5d-a196-d534b4e8982f",
     "showTitle": false,
     "title": ""
    }
   },
   "outputs": [],
   "source": [
    "audit_all = pd.concat([audit[audit_columns], audit2[audit_columns]])"
   ]
  },
  {
   "cell_type": "code",
   "execution_count": 0,
   "metadata": {
    "application/vnd.databricks.v1+cell": {
     "cellMetadata": {
      "byteLimit": 2048000,
      "rowLimit": 10000
     },
     "inputWidgets": {},
     "nuid": "0ea90e32-d698-4058-bfdf-78fc7aee5168",
     "showTitle": false,
     "title": ""
    }
   },
   "outputs": [],
   "source": [
    "audit_all.dtypes"
   ]
  },
  {
   "cell_type": "code",
   "execution_count": 0,
   "metadata": {
    "application/vnd.databricks.v1+cell": {
     "cellMetadata": {
      "byteLimit": 2048000,
      "rowLimit": 10000
     },
     "inputWidgets": {},
     "nuid": "8fe23abb-a09c-40d6-a696-2c3c6d9b75ec",
     "showTitle": false,
     "title": ""
    }
   },
   "outputs": [],
   "source": [
    "audit_all.shape"
   ]
  },
  {
   "cell_type": "code",
   "execution_count": 0,
   "metadata": {
    "application/vnd.databricks.v1+cell": {
     "cellMetadata": {
      "byteLimit": 2048000,
      "rowLimit": 10000
     },
     "inputWidgets": {},
     "nuid": "09a29cda-782e-4649-94eb-eb0c7201dd34",
     "showTitle": false,
     "title": ""
    }
   },
   "outputs": [],
   "source": [
    "evidence.columns"
   ]
  },
  {
   "cell_type": "code",
   "execution_count": 0,
   "metadata": {
    "application/vnd.databricks.v1+cell": {
     "cellMetadata": {
      "byteLimit": 2048000,
      "rowLimit": 10000
     },
     "inputWidgets": {},
     "nuid": "04fc31dd-6eeb-4be9-9db6-8691c618df94",
     "showTitle": false,
     "title": ""
    }
   },
   "outputs": [],
   "source": [
    "# merge with new data\n",
    "amp = pd.merge(evidence, audit_all, how = \"outer\", on = \"id\")"
   ]
  },
  {
   "cell_type": "code",
   "execution_count": 0,
   "metadata": {
    "application/vnd.databricks.v1+cell": {
     "cellMetadata": {
      "byteLimit": 2048000,
      "rowLimit": 10000
     },
     "inputWidgets": {},
     "nuid": "2f6555ce-9f40-400b-8040-d07c4b63a342",
     "showTitle": false,
     "title": ""
    }
   },
   "outputs": [],
   "source": [
    "amp[\"themeIds\"] = amp['themeIds_x'].fillna(amp['themeIds_y'])"
   ]
  },
  {
   "cell_type": "code",
   "execution_count": 0,
   "metadata": {
    "application/vnd.databricks.v1+cell": {
     "cellMetadata": {
      "byteLimit": 2048000,
      "rowLimit": 10000
     },
     "inputWidgets": {},
     "nuid": "0d97df24-3e0b-4dd3-8bba-36ac14180a72",
     "showTitle": false,
     "title": ""
    }
   },
   "outputs": [],
   "source": [
    "amp.shape"
   ]
  },
  {
   "cell_type": "code",
   "execution_count": 0,
   "metadata": {
    "application/vnd.databricks.v1+cell": {
     "cellMetadata": {
      "byteLimit": 2048000,
      "rowLimit": 10000
     },
     "inputWidgets": {},
     "nuid": "16ce4f5f-e194-4f1c-a66d-332fac5034fd",
     "showTitle": false,
     "title": ""
    }
   },
   "outputs": [],
   "source": [
    "amp.head()"
   ]
  },
  {
   "cell_type": "markdown",
   "metadata": {
    "application/vnd.databricks.v1+cell": {
     "cellMetadata": {},
     "inputWidgets": {},
     "nuid": "3d904078-1904-4ea1-889a-d6b4da6a5c0a",
     "showTitle": false,
     "title": ""
    }
   },
   "source": [
    "# Get labeled split"
   ]
  },
  {
   "cell_type": "code",
   "execution_count": 0,
   "metadata": {
    "application/vnd.databricks.v1+cell": {
     "cellMetadata": {
      "byteLimit": 2048000,
      "rowLimit": 10000
     },
     "inputWidgets": {},
     "nuid": "dd2449de-c895-42c3-8e13-191fbf586857",
     "showTitle": false,
     "title": ""
    }
   },
   "outputs": [],
   "source": [
    "amp[\"themeIds\"] = amp['themeIds'].apply(lambda themes: [theme for theme in themes if theme != 'rfi'] if isinstance(themes, list) else themes)\n",
    "#amp[\"themeIds\"]=amp[\"themeIds\"].apply(lambda x: x[:2] if isinstance(x, list) else x)\n",
    "amp[\"themeIdsReviewed\"] = amp[\"themeIdsReviewed\"].fillna(\"\")\n",
    "amp[\"split\"] = \"unlabeled\"\n",
    "mask = amp[\"themeIdsReviewed\"].apply(lambda x: len(x)) > 0\n",
    "amp.loc[mask, \"split\"] = \"labeled\""
   ]
  },
  {
   "cell_type": "code",
   "execution_count": 0,
   "metadata": {
    "application/vnd.databricks.v1+cell": {
     "cellMetadata": {
      "byteLimit": 2048000,
      "rowLimit": 10000
     },
     "inputWidgets": {},
     "nuid": "10d464fa-fc57-4844-b0d9-333c4d00281d",
     "showTitle": false,
     "title": ""
    }
   },
   "outputs": [],
   "source": [
    "amp[\"split\"].value_counts()"
   ]
  },
  {
   "cell_type": "markdown",
   "metadata": {
    "application/vnd.databricks.v1+cell": {
     "cellMetadata": {},
     "inputWidgets": {},
     "nuid": "c11a5308-0cb7-4afa-9b91-7c3b868e2c05",
     "showTitle": false,
     "title": ""
    }
   },
   "source": [
    "# Get parent themes"
   ]
  },
  {
   "cell_type": "code",
   "execution_count": 0,
   "metadata": {
    "application/vnd.databricks.v1+cell": {
     "cellMetadata": {
      "byteLimit": 2048000,
      "rowLimit": 10000
     },
     "inputWidgets": {},
     "nuid": "4ea0ee8e-02b5-4b53-b8b9-3b53ce315e6a",
     "showTitle": false,
     "title": ""
    }
   },
   "outputs": [],
   "source": [
    "amp['themeIdsReviewedParent'] = amp['themeIdsReviewed'].apply(map_themes)\n",
    "amp['themeIdsParent'] = amp['themeIds'].apply(map_themes)"
   ]
  },
  {
   "cell_type": "code",
   "execution_count": 0,
   "metadata": {
    "application/vnd.databricks.v1+cell": {
     "cellMetadata": {
      "byteLimit": 2048000,
      "rowLimit": 10000
     },
     "inputWidgets": {},
     "nuid": "d4ba0143-c6e2-47e0-8267-d06159d6e81d",
     "showTitle": false,
     "title": ""
    }
   },
   "outputs": [],
   "source": [
    "# write to picklea\n",
    "amp.to_pickle(\"./model_training_data.pkl\")  \n",
    "audit_all.to_pickle(\"./audit_model_training_data.pkl\")  "
   ]
  },
  {
   "cell_type": "code",
   "execution_count": 0,
   "metadata": {
    "application/vnd.databricks.v1+cell": {
     "cellMetadata": {},
     "inputWidgets": {},
     "nuid": "341d1411-d7d3-49c9-b61a-182b1095d88f",
     "showTitle": false,
     "title": ""
    }
   },
   "outputs": [],
   "source": []
  }
 ],
 "metadata": {
  "application/vnd.databricks.v1+notebook": {
   "dashboards": [],
   "language": "python",
   "notebookMetadata": {
    "pythonIndentUnit": 4
   },
   "notebookName": "001_amp_data_processing",
   "widgets": {}
  },
  "kernelspec": {
   "display_name": "Python 3 (ipykernel)",
   "language": "python",
   "name": "python3"
  },
  "language_info": {
   "codemirror_mode": {
    "name": "ipython",
    "version": 3
   },
   "file_extension": ".py",
   "mimetype": "text/x-python",
   "name": "python",
   "nbconvert_exporter": "python",
   "pygments_lexer": "ipython3",
   "version": "3.8.8"
  }
 },
 "nbformat": 4,
 "nbformat_minor": 0
}
