{
 "cells": [
  {
   "cell_type": "code",
   "execution_count": 0,
   "metadata": {
    "application/vnd.databricks.v1+cell": {
     "cellMetadata": {
      "byteLimit": 2048000,
      "rowLimit": 10000
     },
     "inputWidgets": {},
     "nuid": "9632c256-3137-4427-896a-5bfd40c845be",
     "showTitle": false,
     "title": ""
    }
   },
   "outputs": [],
   "source": [
    "import pandas as pd\n",
    "import re\n",
    "import json\n",
    "import os\n",
    "import sys\n",
    "import numpy as np\n",
    "\n",
    "# load functions\n",
    "with open('project_config.json','r') as fp: \n",
    "    project_config = json.load(fp)\n",
    " \n",
    "module_path = os.path.join(project_config['project_module_relative_path'])\n",
    "sys.path.append(module_path)\n",
    " \n",
    "from data_processing import *"
   ]
  },
  {
   "cell_type": "markdown",
   "metadata": {
    "application/vnd.databricks.v1+cell": {
     "cellMetadata": {},
     "inputWidgets": {},
     "nuid": "79903424-e74e-48fc-a5bc-503e21319dde",
     "showTitle": false,
     "title": ""
    }
   },
   "source": [
    "### Read in files"
   ]
  },
  {
   "cell_type": "code",
   "execution_count": 0,
   "metadata": {
    "application/vnd.databricks.v1+cell": {
     "cellMetadata": {
      "byteLimit": 2048000,
      "rowLimit": 10000
     },
     "inputWidgets": {},
     "nuid": "e78ec15c-13e7-4b33-a182-9050f7c8440f",
     "showTitle": false,
     "title": ""
    }
   },
   "outputs": [],
   "source": [
    "# Create a list for each row\n",
    "json_data =[]\n",
    "\n",
    "# Read in json by each lind\n",
    "with open('./evidence-10-02-23-split.json') as f:\n",
    "    for line in f:\n",
    "        json_data.append(json.loads(line))"
   ]
  },
  {
   "cell_type": "code",
   "execution_count": 0,
   "metadata": {
    "application/vnd.databricks.v1+cell": {
     "cellMetadata": {
      "byteLimit": 2048000,
      "rowLimit": 10000
     },
     "inputWidgets": {},
     "nuid": "cf998003-6eec-49f0-8620-bb01239c2d14",
     "showTitle": false,
     "title": ""
    }
   },
   "outputs": [],
   "source": [
    "# Convert to dataframe\n",
    "df = pd.DataFrame(json_data)"
   ]
  },
  {
   "cell_type": "code",
   "execution_count": 0,
   "metadata": {
    "application/vnd.databricks.v1+cell": {
     "cellMetadata": {
      "byteLimit": 2048000,
      "rowLimit": 10000
     },
     "inputWidgets": {},
     "nuid": "b6fe36f1-422e-4000-aa52-b57ecbe545e2",
     "showTitle": false,
     "title": ""
    }
   },
   "outputs": [],
   "source": [
    "# Unpack the evidence from its json structure, so we get the text and themeIds, issueIds, id, and status all as its own column\n",
    "evidence_list = []\n",
    "for index, row in df.iterrows():\n",
    "    evidence={}\n",
    "    evidence[\"id\"] = row[\"_id\"]\n",
    "    evidence[\"status\"]= row[\"_source\"].get(\"status\", \"\")\n",
    "    text_translated = row[\"_source\"].get(\"textTranslated\", {})\n",
    "    evidence[\"text\"] = text_translated.get(\"en\", \"\")\n",
    "    evidence[\"themeIds\"] = row[\"_source\"].get(\"themeIds\", np.NaN)\n",
    "    evidence[\"issueIds\"] = row[\"_source\"].get(\"issueIds\", \"\")\n",
    "    evidence_list.append(evidence)"
   ]
  },
  {
   "cell_type": "code",
   "execution_count": 0,
   "metadata": {
    "application/vnd.databricks.v1+cell": {
     "cellMetadata": {
      "byteLimit": 2048000,
      "rowLimit": 10000
     },
     "inputWidgets": {},
     "nuid": "66b59961-9db9-49da-9c79-ffcfc53d0d62",
     "showTitle": false,
     "title": ""
    }
   },
   "outputs": [],
   "source": [
    "# convert into dataframe\n",
    "evidence=pd.DataFrame(evidence_list)"
   ]
  },
  {
   "cell_type": "code",
   "execution_count": 0,
   "metadata": {
    "application/vnd.databricks.v1+cell": {
     "cellMetadata": {
      "byteLimit": 2048000,
      "rowLimit": 10000
     },
     "inputWidgets": {},
     "nuid": "1c29442a-53aa-4e16-a9f6-9f685408b58b",
     "showTitle": false,
     "title": ""
    }
   },
   "outputs": [],
   "source": [
    "# read in audit data\n",
    "audit = pd.read_csv(\"amp_audit.csv\")"
   ]
  },
  {
   "cell_type": "code",
   "execution_count": 0,
   "metadata": {
    "application/vnd.databricks.v1+cell": {
     "cellMetadata": {
      "byteLimit": 2048000,
      "rowLimit": 10000
     },
     "inputWidgets": {},
     "nuid": "e613859c-dd2b-4691-8e45-98f6aff15bc4",
     "showTitle": false,
     "title": ""
    }
   },
   "outputs": [],
   "source": [
    "# clean audit columns\n",
    "cols_to_clean = [\"themeIdsReviewed\", \"themeIdsSystemFalseNegatives\", \"themeIdsSystemFalsePositives\"]\n",
    "\n",
    "for column in cols_to_clean:\n",
    "    audit = string_to_list_column(audit, column)"
   ]
  },
  {
   "cell_type": "code",
   "execution_count": 0,
   "metadata": {
    "application/vnd.databricks.v1+cell": {
     "cellMetadata": {
      "byteLimit": 2048000,
      "rowLimit": 10000
     },
     "inputWidgets": {},
     "nuid": "04fc31dd-6eeb-4be9-9db6-8691c618df94",
     "showTitle": false,
     "title": ""
    }
   },
   "outputs": [],
   "source": [
    "# merge with new data\n",
    "amp = pd.merge(evidence, audit, how = \"left\", on = \"id\")"
   ]
  },
  {
   "cell_type": "code",
   "execution_count": 0,
   "metadata": {
    "application/vnd.databricks.v1+cell": {
     "cellMetadata": {
      "byteLimit": 2048000,
      "rowLimit": 10000
     },
     "inputWidgets": {},
     "nuid": "d4ba0143-c6e2-47e0-8267-d06159d6e81d",
     "showTitle": false,
     "title": ""
    }
   },
   "outputs": [],
   "source": [
    "# write to csv\n",
    "amp.to_csv(\"model_training_data.csv\", index = False)"
   ]
  },
  {
   "cell_type": "markdown",
   "metadata": {
    "application/vnd.databricks.v1+cell": {
     "cellMetadata": {},
     "inputWidgets": {},
     "nuid": "a0711618-6c28-48ea-a222-5ad9f7419874",
     "showTitle": false,
     "title": ""
    }
   },
   "source": [
    "# Old processing"
   ]
  },
  {
   "cell_type": "code",
   "execution_count": 0,
   "metadata": {
    "application/vnd.databricks.v1+cell": {
     "cellMetadata": {
      "byteLimit": 2048000,
      "rowLimit": 10000
     },
     "inputWidgets": {},
     "nuid": "8ae42337-0683-4705-b176-cead6e4245f0",
     "showTitle": false,
     "title": ""
    }
   },
   "outputs": [],
   "source": [
    "evidence = pd.read_csv(\"evidence-09-22-23.csv\")\n",
    "evidence.columns  = evidence.columns.str.replace('[#,@,&]', '')\n",
    "\n",
    "themes = pd.read_csv(\"themes.csv\")\n",
    "themes.columns  = themes.columns.str.replace('[#,@,&]', '')\n",
    "themes.rename(columns = {\"id\": \"themeIds\", \"nameTranslated.en\": \"themeName\"}, inplace = True)"
   ]
  },
  {
   "cell_type": "code",
   "execution_count": 0,
   "metadata": {
    "application/vnd.databricks.v1+cell": {
     "cellMetadata": {
      "byteLimit": 2048000,
      "rowLimit": 10000
     },
     "inputWidgets": {},
     "nuid": "952d4fa1-760d-4e64-9d83-bb8f5e90a965",
     "showTitle": false,
     "title": ""
    }
   },
   "outputs": [],
   "source": [
    "evidence['textTranslated']"
   ]
  },
  {
   "cell_type": "markdown",
   "metadata": {
    "application/vnd.databricks.v1+cell": {
     "cellMetadata": {},
     "inputWidgets": {},
     "nuid": "ab3536bf-3131-4831-bcf9-dd67f7514c24",
     "showTitle": false,
     "title": ""
    }
   },
   "source": [
    "#### Clean up datatype for evidence column. They are all being read in as one string instead of a list"
   ]
  },
  {
   "cell_type": "code",
   "execution_count": 0,
   "metadata": {
    "application/vnd.databricks.v1+cell": {
     "cellMetadata": {
      "byteLimit": 2048000,
      "rowLimit": 10000
     },
     "inputWidgets": {},
     "nuid": "843548c7-e0c7-472b-a965-ef9a70001b88",
     "showTitle": false,
     "title": ""
    }
   },
   "outputs": [],
   "source": [
    "# drop na values\n",
    "df=evidence\n",
    "\n",
    "cols_to_clean = [\"themeIds\"]\n",
    "\n",
    "for column in cols_to_clean:\n",
    "    df = string_to_list_column(df, column)"
   ]
  },
  {
   "cell_type": "code",
   "execution_count": 0,
   "metadata": {
    "application/vnd.databricks.v1+cell": {
     "cellMetadata": {
      "byteLimit": 2048000,
      "rowLimit": 10000
     },
     "inputWidgets": {},
     "nuid": "a5c463d4-bc4e-4f20-89e9-6c62a069edc1",
     "showTitle": false,
     "title": ""
    }
   },
   "outputs": [],
   "source": [
    "df['textTranslated'].apply(lambda x: json.loads(x)[0]['en'] if x else None)"
   ]
  },
  {
   "cell_type": "code",
   "execution_count": 0,
   "metadata": {
    "application/vnd.databricks.v1+cell": {
     "cellMetadata": {
      "byteLimit": 2048000,
      "rowLimit": 10000
     },
     "inputWidgets": {},
     "nuid": "0cdf8228-c977-4dd6-a569-726f667070bf",
     "showTitle": false,
     "title": ""
    }
   },
   "outputs": [],
   "source": [
    "df[\"textTranslated\"]= df[\"textTranslated\"].apply(lambda x: x if not isinstance(x, str) else x.strip('\"'))"
   ]
  },
  {
   "cell_type": "code",
   "execution_count": 0,
   "metadata": {
    "application/vnd.databricks.v1+cell": {
     "cellMetadata": {
      "byteLimit": 2048000,
      "rowLimit": 10000
     },
     "inputWidgets": {},
     "nuid": "58611166-40ed-4683-b577-57bc3699edac",
     "showTitle": false,
     "title": ""
    }
   },
   "outputs": [],
   "source": [
    "df[\"textTranslated\"][0]"
   ]
  },
  {
   "cell_type": "markdown",
   "metadata": {
    "application/vnd.databricks.v1+cell": {
     "cellMetadata": {
      "byteLimit": 2048000,
      "rowLimit": 10000
     },
     "inputWidgets": {},
     "nuid": "0f6a9c46-90ee-48d0-9c76-a7b30f521aba",
     "showTitle": false,
     "title": ""
    }
   },
   "source": [
    "## Get theme names into dataframe"
   ]
  },
  {
   "cell_type": "code",
   "execution_count": 0,
   "metadata": {
    "application/vnd.databricks.v1+cell": {
     "cellMetadata": {
      "byteLimit": 2048000,
      "rowLimit": 10000
     },
     "inputWidgets": {},
     "nuid": "d8379d1a-9d55-446d-bd2c-ba385027d8d0",
     "showTitle": false,
     "title": ""
    }
   },
   "outputs": [],
   "source": [
    "theme_dict = dict(zip(themes['themeIds'], themes['themeName']))"
   ]
  },
  {
   "cell_type": "code",
   "execution_count": 0,
   "metadata": {
    "application/vnd.databricks.v1+cell": {
     "cellMetadata": {
      "byteLimit": 2048000,
      "rowLimit": 10000
     },
     "inputWidgets": {},
     "nuid": "a73926a5-8940-451e-b787-acddbd71ded4",
     "showTitle": false,
     "title": ""
    }
   },
   "outputs": [],
   "source": [
    "# Replace theme names with IDs in df\n",
    "def replace_theme_ids(theme_ids):\n",
    "    return [theme_dict[theme_id] for theme_id in theme_ids if theme_id in theme_dict]\n"
   ]
  },
  {
   "cell_type": "code",
   "execution_count": 0,
   "metadata": {
    "application/vnd.databricks.v1+cell": {
     "cellMetadata": {
      "byteLimit": 2048000,
      "rowLimit": 10000
     },
     "inputWidgets": {},
     "nuid": "2dcc3be5-00f3-4c8e-8a45-88626e3bd04e",
     "showTitle": false,
     "title": ""
    }
   },
   "outputs": [],
   "source": [
    "df['themeIds'] = df['themeIds'].apply(lambda x: [theme_dict.get(i, 'default_value') for i in x if not pd.isna(i)])"
   ]
  },
  {
   "cell_type": "markdown",
   "metadata": {
    "application/vnd.databricks.v1+cell": {
     "cellMetadata": {},
     "inputWidgets": {},
     "nuid": "9520dac3-dcfa-4988-aad6-66b4b36d1a4a",
     "showTitle": false,
     "title": ""
    }
   },
   "source": [
    "### Clean text column"
   ]
  },
  {
   "cell_type": "code",
   "execution_count": 0,
   "metadata": {
    "application/vnd.databricks.v1+cell": {
     "cellMetadata": {},
     "inputWidgets": {},
     "nuid": "af8969e5-f9a4-4c16-99d4-65e8c5dd991c",
     "showTitle": false,
     "title": ""
    }
   },
   "outputs": [],
   "source": [
    "df.head()"
   ]
  },
  {
   "cell_type": "code",
   "execution_count": 0,
   "metadata": {
    "application/vnd.databricks.v1+cell": {
     "cellMetadata": {},
     "inputWidgets": {},
     "nuid": "f5f43b91-5c7c-4697-a389-8540ce0fd31b",
     "showTitle": false,
     "title": ""
    }
   },
   "outputs": [],
   "source": [
    "df[\"textTranslated\"][0]"
   ]
  },
  {
   "cell_type": "code",
   "execution_count": 0,
   "metadata": {
    "application/vnd.databricks.v1+cell": {
     "cellMetadata": {
      "byteLimit": 2048000,
      "rowLimit": 10000
     },
     "inputWidgets": {},
     "nuid": "19dc8d4c-40e5-4d82-b297-f6ac201a6b10",
     "showTitle": false,
     "title": ""
    }
   },
   "outputs": [],
   "source": [
    "df = clean_text(df, \"text\")"
   ]
  },
  {
   "cell_type": "code",
   "execution_count": 0,
   "metadata": {
    "application/vnd.databricks.v1+cell": {
     "cellMetadata": {
      "byteLimit": 2048000,
      "rowLimit": 10000
     },
     "inputWidgets": {},
     "nuid": "bf6f1d03-bf7c-4504-823b-4dd54bd50acd",
     "showTitle": false,
     "title": ""
    }
   },
   "outputs": [],
   "source": [
    "df.to_csv(\"amp.csv\", index = False)"
   ]
  }
 ],
 "metadata": {
  "application/vnd.databricks.v1+notebook": {
   "dashboards": [],
   "language": "python",
   "notebookMetadata": {
    "pythonIndentUnit": 4
   },
   "notebookName": "001_amp_data_processing",
   "widgets": {}
  },
  "kernelspec": {
   "display_name": "Python 3 (ipykernel)",
   "language": "python",
   "name": "python3"
  },
  "language_info": {
   "codemirror_mode": {
    "name": "ipython",
    "version": 3
   },
   "file_extension": ".py",
   "mimetype": "text/x-python",
   "name": "python",
   "nbconvert_exporter": "python",
   "pygments_lexer": "ipython3",
   "version": "3.8.8"
  }
 },
 "nbformat": 4,
 "nbformat_minor": 0
}
