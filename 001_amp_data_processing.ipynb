{
 "cells": [
  {
   "cell_type": "code",
   "execution_count": 0,
   "metadata": {
    "application/vnd.databricks.v1+cell": {
     "cellMetadata": {
      "byteLimit": 2048000,
      "rowLimit": 10000
     },
     "inputWidgets": {},
     "nuid": "9632c256-3137-4427-896a-5bfd40c845be",
     "showTitle": false,
     "title": ""
    }
   },
   "outputs": [],
   "source": [
    "import pandas as pd\n",
    "import re\n",
    "import json\n",
    "import os\n",
    "import sys\n",
    "import numpy as np\n",
    "import pickle\n",
    "\n",
    "# load functions\n",
    "with open('project_config.json','r') as fp: \n",
    "    project_config = json.load(fp)\n",
    " \n",
    "module_path = os.path.join(project_config['project_module_relative_path'])\n",
    "sys.path.append(module_path)\n",
    " \n",
    "from data_processing import *"
   ]
  },
  {
   "cell_type": "markdown",
   "metadata": {
    "application/vnd.databricks.v1+cell": {
     "cellMetadata": {},
     "inputWidgets": {},
     "nuid": "79903424-e74e-48fc-a5bc-503e21319dde",
     "showTitle": false,
     "title": ""
    }
   },
   "source": [
    "### Read in files"
   ]
  },
  {
   "cell_type": "code",
   "execution_count": 0,
   "metadata": {
    "application/vnd.databricks.v1+cell": {
     "cellMetadata": {
      "byteLimit": 2048000,
      "rowLimit": 10000
     },
     "inputWidgets": {},
     "nuid": "e78ec15c-13e7-4b33-a182-9050f7c8440f",
     "showTitle": false,
     "title": ""
    }
   },
   "outputs": [],
   "source": [
    "# Create a list for each row\n",
    "json_data =[]\n",
    "\n",
    "# Read in json by each lind\n",
    "with open('./evidence-10-02-23-split.json') as f:\n",
    "    for line in f:\n",
    "        json_data.append(json.loads(line))"
   ]
  },
  {
   "cell_type": "code",
   "execution_count": 0,
   "metadata": {
    "application/vnd.databricks.v1+cell": {
     "cellMetadata": {
      "byteLimit": 2048000,
      "rowLimit": 10000
     },
     "inputWidgets": {},
     "nuid": "cf998003-6eec-49f0-8620-bb01239c2d14",
     "showTitle": false,
     "title": ""
    }
   },
   "outputs": [],
   "source": [
    "# Convert to dataframe\n",
    "df = pd.DataFrame(json_data)"
   ]
  },
  {
   "cell_type": "code",
   "execution_count": 0,
   "metadata": {
    "application/vnd.databricks.v1+cell": {
     "cellMetadata": {
      "byteLimit": 2048000,
      "rowLimit": 10000
     },
     "inputWidgets": {},
     "nuid": "b6fe36f1-422e-4000-aa52-b57ecbe545e2",
     "showTitle": false,
     "title": ""
    }
   },
   "outputs": [],
   "source": [
    "# Unpack the evidence from its json structure, so we get the text and themeIds, issueIds, id, and status all as its own column\n",
    "evidence_list = []\n",
    "for index, row in df.iterrows():\n",
    "    evidence={}\n",
    "    evidence[\"id\"] = row[\"_id\"]\n",
    "    evidence[\"status\"]= row[\"_source\"].get(\"status\", \"\")\n",
    "    text_translated = row[\"_source\"].get(\"textTranslated\", {})\n",
    "    evidence[\"text\"] = text_translated.get(\"en\", \"\")\n",
    "    evidence[\"themeIds\"] = row[\"_source\"].get(\"themeIds\", np.NaN)\n",
    "    evidence[\"issueIds\"] = row[\"_source\"].get(\"issueIds\", \"\")\n",
    "    evidence_list.append(evidence)"
   ]
  },
  {
   "cell_type": "code",
   "execution_count": 0,
   "metadata": {
    "application/vnd.databricks.v1+cell": {
     "cellMetadata": {
      "byteLimit": 2048000,
      "rowLimit": 10000
     },
     "inputWidgets": {},
     "nuid": "66b59961-9db9-49da-9c79-ffcfc53d0d62",
     "showTitle": false,
     "title": ""
    }
   },
   "outputs": [],
   "source": [
    "# convert into dataframe\n",
    "evidence=pd.DataFrame(evidence_list)"
   ]
  },
  {
   "cell_type": "code",
   "execution_count": 0,
   "metadata": {
    "application/vnd.databricks.v1+cell": {
     "cellMetadata": {
      "byteLimit": 2048000,
      "rowLimit": 10000
     },
     "inputWidgets": {},
     "nuid": "8c3584b9-70bc-4394-a743-097d04092654",
     "showTitle": false,
     "title": ""
    }
   },
   "outputs": [],
   "source": [
    "evidence.head()"
   ]
  },
  {
   "cell_type": "code",
   "execution_count": 0,
   "metadata": {
    "application/vnd.databricks.v1+cell": {
     "cellMetadata": {
      "byteLimit": 2048000,
      "rowLimit": 10000
     },
     "inputWidgets": {},
     "nuid": "1c29442a-53aa-4e16-a9f6-9f685408b58b",
     "showTitle": false,
     "title": ""
    }
   },
   "outputs": [],
   "source": [
    "# read in audit data\n",
    "audit = pd.read_csv(\"audit_10042023.csv\")"
   ]
  },
  {
   "cell_type": "code",
   "execution_count": 0,
   "metadata": {
    "application/vnd.databricks.v1+cell": {
     "cellMetadata": {
      "byteLimit": 2048000,
      "rowLimit": 10000
     },
     "inputWidgets": {},
     "nuid": "d818ca0b-e1f3-4bc3-8355-e7d4a148a2c0",
     "showTitle": false,
     "title": ""
    }
   },
   "outputs": [],
   "source": [
    "audit.head()"
   ]
  },
  {
   "cell_type": "code",
   "execution_count": 0,
   "metadata": {
    "application/vnd.databricks.v1+cell": {
     "cellMetadata": {
      "byteLimit": 2048000,
      "rowLimit": 10000
     },
     "inputWidgets": {},
     "nuid": "e613859c-dd2b-4691-8e45-98f6aff15bc4",
     "showTitle": false,
     "title": ""
    }
   },
   "outputs": [],
   "source": [
    "# clean audit columns\n",
    "cols_to_clean = [\"themeIdsReviewed\", \"themeIdsSystem\",\"themeIdsSystemFalseNegatives\", \"themeIdsSystemFalsePositives\"]\n",
    "\n",
    "for column in cols_to_clean:\n",
    "    audit = string_to_list_column(audit, column)"
   ]
  },
  {
   "cell_type": "code",
   "execution_count": 0,
   "metadata": {
    "application/vnd.databricks.v1+cell": {
     "cellMetadata": {
      "byteLimit": 2048000,
      "rowLimit": 10000
     },
     "inputWidgets": {},
     "nuid": "04fc31dd-6eeb-4be9-9db6-8691c618df94",
     "showTitle": false,
     "title": ""
    }
   },
   "outputs": [],
   "source": [
    "# merge with new data\n",
    "amp = pd.merge(evidence, audit, how = \"left\", on = \"id\")"
   ]
  },
  {
   "cell_type": "code",
   "execution_count": 0,
   "metadata": {
    "application/vnd.databricks.v1+cell": {
     "cellMetadata": {
      "byteLimit": 2048000,
      "rowLimit": 10000
     },
     "inputWidgets": {},
     "nuid": "d4ba0143-c6e2-47e0-8267-d06159d6e81d",
     "showTitle": false,
     "title": ""
    }
   },
   "outputs": [],
   "source": [
    "# write to pickle\n",
    "amp.to_pickle(\"./model_training_data.pkl\")  \n",
    "audit.to_pickle(\"./audit_model_training_data.pkl\")  "
   ]
  }
 ],
 "metadata": {
  "application/vnd.databricks.v1+notebook": {
   "dashboards": [],
   "language": "python",
   "notebookMetadata": {
    "pythonIndentUnit": 4
   },
   "notebookName": "001_amp_data_processing",
   "widgets": {}
  },
  "kernelspec": {
   "display_name": "Python 3 (ipykernel)",
   "language": "python",
   "name": "python3"
  },
  "language_info": {
   "codemirror_mode": {
    "name": "ipython",
    "version": 3
   },
   "file_extension": ".py",
   "mimetype": "text/x-python",
   "name": "python",
   "nbconvert_exporter": "python",
   "pygments_lexer": "ipython3",
   "version": "3.8.8"
  }
 },
 "nbformat": 4,
 "nbformat_minor": 0
}
